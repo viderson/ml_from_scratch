{
 "cells": [
  {
   "cell_type": "markdown",
   "id": "ff6a129d",
   "metadata": {},
   "source": [
    "\n",
    "## Knn\n",
    "How the algorithm works\n",
    "\n",
    "**We calculate the euclidean distance between a new sample and all points**\n",
    "\n",
    "**We determine the label of the sample based on the majority vote**\n",
    "\n",
    "## Key Points:\n",
    "\n",
    "### Euclidean Distance\n",
    "**Euclidean distance is defined as the distance between two points**\n",
    "\n",
    "**Where it's represented by this equation :\n",
    "$$\\sqrt{\\sum\\limits_{i = 0}^{m-1} (x - y)^2}$$**\n"
   ]
  },
  {
   "cell_type": "markdown",
   "id": "ad89fa38",
   "metadata": {},
   "source": []
  }
 ],
 "metadata": {
  "language_info": {
   "name": "python"
  }
 },
 "nbformat": 4,
 "nbformat_minor": 5
}
