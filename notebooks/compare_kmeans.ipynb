{
 "cells": [
  {
   "cell_type": "markdown",
   "id": "38b2432a",
   "metadata": {},
   "source": [
    "# K-Means Clustering\n",
    "\n",
    "**K-Means is an unsupervised learning algorithm that partitions data into a fixed number of clusters by minimizing the distance between data points and cluster centers.**\n",
    "\n",
    "---\n",
    "\n",
    "## 🔹 Step 1: Initialization  \n",
    "- **Randomly pick $k$ points from the dataset as initial cluster centroids.**\n",
    "- **These centroids serve as the starting reference for each cluster.**\n",
    "\n",
    "---\n",
    "\n",
    "## 🔹 Step 2: Cluster Assignment  \n",
    "- **Each point is assigned to the cluster whose centroid is closest (typically using Euclidean distance).**  \n",
    "- **We denote the index of the closest centroid to a point $x^{(i)}$ as $c^{(i)}$.**\n",
    "\n",
    "---\n",
    "\n",
    "## 🔹 Step 3: Centroid Update  \n",
    "- **For each cluster, we recompute its centroid by taking the average of all data points assigned to it.**\n",
    "- **This new mean becomes the updated center for the cluster.**\n",
    "\n",
    "---\n",
    "\n",
    "## 🎯 Optimization Objective  \n",
    "\n",
    "**The algorithm minimizes the total within-cluster variance, or distortion cost, given by:**\n",
    "\n",
    "$$\n",
    "J = \\sum_{i=1}^{m} \\left\\| x^{(i)} - \\mu_{c^{(i)}} \\right\\|^2\n",
    "$$\n",
    "\n",
    "Where:  \n",
    "- $m$ is the total number of data points,  \n",
    "- $x^{(i)}$ is the $i$-th data point,  \n",
    "- $\\mu_{c^{(i)}}$ is the centroid of the cluster assigned to $x^{(i)}$.\n",
    "\n",
    "---\n",
    "\n",
    "## 🔁 Iteration & Convergence  \n",
    "- **Steps 2 and 3 are repeated until convergence, either when centroids stabilize or a predefined iteration limit is reached.**\n",
    "\n",
    "\n"
   ]
  },
  {
   "cell_type": "code",
   "execution_count": 9,
   "id": "b61c26bc",
   "metadata": {},
   "outputs": [],
   "source": [
    "import numpy as np\n",
    "import pandas as pd\n",
    "import matplotlib.pyplot as plt\n",
    "import plotly.express as px\n",
    "import seaborn as sns"
   ]
  },
  {
   "cell_type": "code",
   "execution_count": 10,
   "id": "f12b6b18",
   "metadata": {},
   "outputs": [
    {
     "data": {
      "text/html": [
       "<div>\n",
       "<style scoped>\n",
       "    .dataframe tbody tr th:only-of-type {\n",
       "        vertical-align: middle;\n",
       "    }\n",
       "\n",
       "    .dataframe tbody tr th {\n",
       "        vertical-align: top;\n",
       "    }\n",
       "\n",
       "    .dataframe thead th {\n",
       "        text-align: right;\n",
       "    }\n",
       "</style>\n",
       "<table border=\"1\" class=\"dataframe\">\n",
       "  <thead>\n",
       "    <tr style=\"text-align: right;\">\n",
       "      <th></th>\n",
       "      <th>SepalLengthCm</th>\n",
       "      <th>SepalWidthCm</th>\n",
       "      <th>PetalLengthCm</th>\n",
       "      <th>PetalWidthCm</th>\n",
       "      <th>Species</th>\n",
       "    </tr>\n",
       "  </thead>\n",
       "  <tbody>\n",
       "    <tr>\n",
       "      <th>0</th>\n",
       "      <td>5.1</td>\n",
       "      <td>3.5</td>\n",
       "      <td>1.4</td>\n",
       "      <td>0.2</td>\n",
       "      <td>Iris-setosa</td>\n",
       "    </tr>\n",
       "    <tr>\n",
       "      <th>1</th>\n",
       "      <td>4.9</td>\n",
       "      <td>3.0</td>\n",
       "      <td>1.4</td>\n",
       "      <td>0.2</td>\n",
       "      <td>Iris-setosa</td>\n",
       "    </tr>\n",
       "    <tr>\n",
       "      <th>2</th>\n",
       "      <td>4.7</td>\n",
       "      <td>3.2</td>\n",
       "      <td>1.3</td>\n",
       "      <td>0.2</td>\n",
       "      <td>Iris-setosa</td>\n",
       "    </tr>\n",
       "    <tr>\n",
       "      <th>3</th>\n",
       "      <td>4.6</td>\n",
       "      <td>3.1</td>\n",
       "      <td>1.5</td>\n",
       "      <td>0.2</td>\n",
       "      <td>Iris-setosa</td>\n",
       "    </tr>\n",
       "    <tr>\n",
       "      <th>4</th>\n",
       "      <td>5.0</td>\n",
       "      <td>3.6</td>\n",
       "      <td>1.4</td>\n",
       "      <td>0.2</td>\n",
       "      <td>Iris-setosa</td>\n",
       "    </tr>\n",
       "    <tr>\n",
       "      <th>...</th>\n",
       "      <td>...</td>\n",
       "      <td>...</td>\n",
       "      <td>...</td>\n",
       "      <td>...</td>\n",
       "      <td>...</td>\n",
       "    </tr>\n",
       "    <tr>\n",
       "      <th>145</th>\n",
       "      <td>6.7</td>\n",
       "      <td>3.0</td>\n",
       "      <td>5.2</td>\n",
       "      <td>2.3</td>\n",
       "      <td>Iris-virginica</td>\n",
       "    </tr>\n",
       "    <tr>\n",
       "      <th>146</th>\n",
       "      <td>6.3</td>\n",
       "      <td>2.5</td>\n",
       "      <td>5.0</td>\n",
       "      <td>1.9</td>\n",
       "      <td>Iris-virginica</td>\n",
       "    </tr>\n",
       "    <tr>\n",
       "      <th>147</th>\n",
       "      <td>6.5</td>\n",
       "      <td>3.0</td>\n",
       "      <td>5.2</td>\n",
       "      <td>2.0</td>\n",
       "      <td>Iris-virginica</td>\n",
       "    </tr>\n",
       "    <tr>\n",
       "      <th>148</th>\n",
       "      <td>6.2</td>\n",
       "      <td>3.4</td>\n",
       "      <td>5.4</td>\n",
       "      <td>2.3</td>\n",
       "      <td>Iris-virginica</td>\n",
       "    </tr>\n",
       "    <tr>\n",
       "      <th>149</th>\n",
       "      <td>5.9</td>\n",
       "      <td>3.0</td>\n",
       "      <td>5.1</td>\n",
       "      <td>1.8</td>\n",
       "      <td>Iris-virginica</td>\n",
       "    </tr>\n",
       "  </tbody>\n",
       "</table>\n",
       "<p>150 rows × 5 columns</p>\n",
       "</div>"
      ],
      "text/plain": [
       "     SepalLengthCm  SepalWidthCm  PetalLengthCm  PetalWidthCm         Species\n",
       "0              5.1           3.5            1.4           0.2     Iris-setosa\n",
       "1              4.9           3.0            1.4           0.2     Iris-setosa\n",
       "2              4.7           3.2            1.3           0.2     Iris-setosa\n",
       "3              4.6           3.1            1.5           0.2     Iris-setosa\n",
       "4              5.0           3.6            1.4           0.2     Iris-setosa\n",
       "..             ...           ...            ...           ...             ...\n",
       "145            6.7           3.0            5.2           2.3  Iris-virginica\n",
       "146            6.3           2.5            5.0           1.9  Iris-virginica\n",
       "147            6.5           3.0            5.2           2.0  Iris-virginica\n",
       "148            6.2           3.4            5.4           2.3  Iris-virginica\n",
       "149            5.9           3.0            5.1           1.8  Iris-virginica\n",
       "\n",
       "[150 rows x 5 columns]"
      ]
     },
     "execution_count": 10,
     "metadata": {},
     "output_type": "execute_result"
    }
   ],
   "source": [
    "df = pd.read_csv(\"../data/iris.csv\")\n",
    "df.drop('Id',inplace=True,axis=1)\n",
    "df"
   ]
  },
  {
   "cell_type": "code",
   "execution_count": null,
   "id": "2d34e12e",
   "metadata": {},
   "outputs": [],
   "source": [
    "X = df.iloc[:, :-1].to_numpy() \n",
    "y = df.iloc[:, -1].to_numpy()   "
   ]
  },
  {
   "cell_type": "markdown",
   "id": "cc870ed7",
   "metadata": {},
   "source": [
    "<a id=\"4\"></a>\n",
    "<h1 style='background:#00EFFF;border:0; color:black;\n",
    "    box-shadow: 10px 10px 5px 0px rgba(0,0,0,0.75);\n",
    "    transform: rotateX(10deg);\n",
    "    '\n",
    "\n",
    "# Comparing"
   ]
  },
  {
   "cell_type": "code",
   "execution_count": 71,
   "id": "dc706440",
   "metadata": {},
   "outputs": [],
   "source": [
    "import numpy as np\n",
    "import plotly.graph_objects as go\n",
    "from plotly.subplots import make_subplots\n",
    "from sklearn.cluster import KMeans as SklearnKMeans\n",
    "from mlfs.kmeans import KMeans as CustomKMeans  \n",
    "\n",
    "def compare_kmeans_plot(X, n_clusters=3, max_iter=10):\n",
    "    \"\"\"\n",
    "    Compare clustering results of custom and sklearn KMeans using Plotly subplots.\n",
    "\n",
    "    Parameters\n",
    "    ----------\n",
    "    X : np.ndarray\n",
    "        Feature matrix (2D, for visualization).\n",
    "    n_clusters : int\n",
    "        Number of clusters to form.\n",
    "    max_iter : int\n",
    "        Maximum number of iterations for both models.\n",
    "    \"\"\"\n",
    "\n",
    "    # === Custom KMeans ===\n",
    "    custom_model = CustomKMeans(n_clusters=n_clusters, iterations=max_iter)\n",
    "    centroids_custom, labels_custom = custom_model.fit(X)\n",
    "\n",
    "    # === Sklearn KMeans ===\n",
    "    sklearn_model = SklearnKMeans(n_clusters=n_clusters, n_init=10, max_iter=max_iter, random_state=42)\n",
    "    labels_sklearn = sklearn_model.fit_predict(X)\n",
    "    centroids_sklearn = sklearn_model.cluster_centers_\n",
    "\n",
    "    # === Plotting ===\n",
    "    fig = make_subplots(rows=1, cols=2, subplot_titles=[\"Custom KMeans\", \"Sklearn KMeans\"])\n",
    "\n",
    "    for cid in np.unique(labels_custom):\n",
    "        fig.add_trace(go.Scatter(\n",
    "            x=X[labels_custom == cid, 0], y=X[labels_custom == cid, 1],\n",
    "            mode='markers', name=f'Custom Cluster {cid}', legendgroup=f'c{cid}'\n",
    "        ), row=1, col=1)\n",
    "\n",
    "    fig.add_trace(go.Scatter(\n",
    "        x=centroids_custom[:, 0], y=centroids_custom[:, 1],\n",
    "        mode='markers', marker=dict(symbol='x', size=12, color='lime'),\n",
    "        name='Custom Centroids', legendgroup='centroids'\n",
    "    ), row=1, col=1)\n",
    "\n",
    "    for cid in np.unique(labels_sklearn):\n",
    "        fig.add_trace(go.Scatter(\n",
    "            x=X[labels_sklearn == cid, 0], y=X[labels_sklearn == cid, 1],\n",
    "            mode='markers', name=f'Sklearn Cluster {cid}', legendgroup=f's{cid}', showlegend=False\n",
    "        ), row=1, col=2)\n",
    "\n",
    "    fig.add_trace(go.Scatter(\n",
    "        x=centroids_sklearn[:, 0], y=centroids_sklearn[:, 1],\n",
    "        mode='markers', marker=dict(symbol='x', size=12, color='lightblue'),\n",
    "        name='Sklearn Centroids', legendgroup='centroids', showlegend=False\n",
    "    ), row=1, col=2)\n",
    "\n",
    "    fig.update_layout(\n",
    "        template=\"plotly_dark\",\n",
    "        width=1000,\n",
    "        height=500,\n",
    "        title=\"Comparison of Custom vs Sklearn KMeans\"\n",
    "    )\n",
    "\n",
    "    fig.show()\n"
   ]
  },
  {
   "cell_type": "code",
   "execution_count": 72,
   "id": "394b5bfa",
   "metadata": {},
   "outputs": [
    {
     "data": {
      "application/vnd.plotly.v1+json": {
       "config": {
        "plotlyServerURL": "https://plot.ly"
       },
       "data": [
        {
         "legendgroup": "c0",
         "mode": "markers",
         "name": "Custom Cluster 0",
         "type": "scatter",
         "x": {
          "bdata": "HD2ZQCHe+7/6m5dEJpsAwCRXG2LZFfi/9Ka3peorCMB07x7B4WwPwFajn5GQSAbAjolyl+GNAMByE/nwv/8EwMOONeV36xbAi22pLoDRDsBAwJRPYVL6vy7D5xwvaBDAZEzEDyugGcA0HPTV6W7+vwTorNlGR/6/nCdQ/JHf8b+a0GAl+pkHwBCjWGeXxgnASHyurdW/HcCJwcSqMeYRwMgATMFq/hzAQ3UpM7HNHcBnJLwCzJAGwGZFG5XQKhTAMdtieQuCAsA0UV4IAhT4v2A307StkhTAbPMt2xyE8L90meoZppwVwHrYqp667QLALqe4FhhvFsAqdUSiJ6MPwPzdsF65cgHA9Gp65nvoA8BA+JRJFY78v/CDaQxNqwzAqH5PKR2FAcBSFjuk74AcwGhNdv8l1f+/Ef5cy7sNG8AqdXT4CyoDwHhAe9KN5xLAbf3B+6seBMD+CtwXNUL6v6/9zGPSfe2/6qqz78NlAsAM5F4r16oAwPP8PioqTQfA1juheJZqCcBIQIjzqp0FwLjaJqa8SRDAEXkAen6i/b8KQ6+pcYERwOlHCHfWAwbArknQ3c7LCsDBhZdViLoBwCgQ5Frdueq/UuLw4zbLCMA47pkR414SwJcNJvmMRRrAeQOnHq+XBcBIuNgaKTbzv/MjKglmpxDA4wKi9AJuE8DyFnklZ2P4v0QRcCE9lhPAZF/vnPdjDsDe18IFVGsEwKy0p874rALASAjGuAYMAsB6M5+6Yr/8vyzcbiMp3gvAkPPSPlmNBcAkmu4P9J8VwCS2O5oJPuK/RZT1/uNiCcDMcPhkXXXwv67MLDroUwzARZ6cHkQaD8Dqcf5l7kUAwDyP83/BdwjATnPlaflW7L8=",
          "dtype": "f8"
         },
         "xaxis": "x",
         "y": {
          "bdata": "igp3S5o6C0DAzi/P4pjKPz6wOc4K8RBAEJogL088GECCmSZ2P+ztP6BtrFXs6fU/OIqYPx4gEEBgAZyPRvgKQJAVWHcoQeY/PEk5XHLFA0AwMhGPqB7oPz/JYOMcWABAioHsu1pK9D8hS6a+jmMDQLltsI+ErAlA6sqP+/xECUC9Z+6wu70MQJb+fItlphhASFXcEu+/B0Bp+4I6ka8YQEp1t05sXwxADrqmpOJPFED4MxFBtiHeP+B9SZh0Ffc/wVCK4NcyCUDwtuGeD3vVv+C6cpesrBNA9p2aXamjBEBGxrbHfrAPQNosusL2lPw/+hiRtksG8L9yToDcr6MNQHolo8W6sgNAFqE8n8Pu/D/7gnfunrwRQLwvMsWjifq/IudrGZXa/T+9yRt/f18PQGwMcoSmwuw/salEcUfRCUCrosPfdG/3P9rUrojURPc/gM2GdX/Lkz+S7Rdz0sALQGwDDvVMRuY/Gk5/O3msAkBQZXTZbVPkPzBvbu1Q3Ps/jIDQEgTcCkDZUMVhKAIDQDj0i940yQVAjlMnCN04CUD0ybAWZ4UTQF74P8XrmxVATF8OXzJGC0AbTwEICEzyP03DxEImzgZA7tcPAc3XFUDW7HJpxU4DQG5NH1uhG/k/Yr95d46vBMC2Xb03ctoGQG5CP/O+3xNAOIwuGYkHAMAIlUptbUfcP3Rv/V0iOfA/eWcvIKK2/T+cTL9pfgbTvxrYSxozMwBAKY2fe7riE0ARqooXouTwP68OaTGhIgVAYD4uGvL647/wDgSCV8AXQMOH85yAqAZAJ+KH0uMd+j/3MPKUu1QGQECgyC8bQr8/r1KENukaDEAXfjkZOSUFQFZsORztLA5AK8Boh8rmAUA=",
          "dtype": "f8"
         },
         "yaxis": "y"
        },
        {
         "legendgroup": "c1",
         "mode": "markers",
         "name": "Custom Cluster 1",
         "type": "scatter",
         "x": {
          "bdata": "JA4fUn/k9L+U79UN6gcHQGxIAyjUsgDA0iWYvu2PBkAYInYa+68AQJ3bJiWkv+W/2s4AfcYy9L9s9BmQDj0OQHgI1WC0Nfu/GiEz10Za7r8b6G0hMaz9v55Iz7iatvQ/dBrekt2T+j/U6bzh90zgP0jittnuq/S/EEnyd8qZ0z9Mer8Sce7Rv4BDhoedOxNA4mPeeLq05r/WtozwhaDjv/4vbjZGLwJAhFt5lEWJ+z+KVn+7ifP3P5AppMUqTKs/xPwESPBH8j8azLLDMjoKQJYjdUul7Ou/3GtmGo28G0CEyjUzBMjpP2kuPgGL2BJAersHaXuZAcAMNdhfiMLmP87bVoxSCvA/C7gwg6jNDUDwj0DJVMEKQF4GiYD+3/0/WOZX0vrI0j/0uWgu2L/5v9ejAObwt+S/XJq6p5WJGUAx42fPYbL0P12FpcimlBZA7LufLCTP1D/kXtkg+p7Xv/qjRq9ijua/G+DErj0OAcCob1UGVfz+v/jFJXv5p+Q/AolUP+k+AcAZpcqaWR7qv9BtPvckENO/xUI9EJC+E0Cg3+mpWTegvzAe/sazUArAb6zcpD41EEC+sP1+cHb8P06tABYm1PK/GCMo9N1/6T8EEVbNi1cDQIdcg8r1euS/u6fblF5z8T+0QaeFFhTqP6gUQJMJ2uG/zr3p3k+B479oUDBBMzTRv6s0G02gyRJAoMMrfq3d4D8qIfzzzmH1P8S8rrGu++Y/gPq+Sq5JgD9wiW/IVl7eP/oF2rRu/Ow/RxRw2sKM+z/hDpvMfBcEQCBGtgf+s9k/4EAJ2LiSvL8pJDhcpbf2P1AMVMnoQrs/iDjXrGoY1j8WmbyNdWDzv0Fv5cB20fU/MMXGPvtN/7/Ycx7VCETJPwLzd59C8/a/0LkpBnuVxb9LM25bhUUGwMi54txucAZAKiEM8YlJ9j+MLfDejEEFQKEYitLmMeO/8hULynmQ+D/6+tqT2s8KQCPWfaXAYg9A9nRSMSVT6L+4yZQ2QHL7P3aBq5+um/g/zNqL//c+B0A4NWEEzs7Evzcg6YZvzApA6w1EoW4iF0CI5qsYHZIPQCLcwkRYZAZApEF5EuHMEEBcDeDuIw0CQHA+Ft+TRgJAspcXebaU8z8=",
          "dtype": "f8"
         },
         "xaxis": "x",
         "y": {
          "bdata": "xAfa0aNiHEAEF8f2kG4SQIhM0b6lqBlArkbEoo+dFUBsMRXVSI0UQO6zm2/I4R9AYMg3cowVFUB8/WQW75sQQK8eSYJ5whtAlD8LYI6bFkDUqbCOmAAXQEFX+YGsoRBA6BEjdGsoGkDcr3CahYUIQNCKsvUOvBFAkW9F2V09GUD4BxJcuCYWQAlyFf2i6B9Aglb1f5CIEUAXh25Zv/oXQDwOQ2AP3hxABp90pXa8DEDqQyIvRvsaQEMAhvmIpA1AodUQAmg9FEANiDphBWcUQO5FAwmZUiBAtvwMGvKoGkBJR9YnniwhQFQTxwK/Uw5AHDUR2rvoGkAJWS/H0WsZQKy+Vw50iSFAyGfqqY3EF0DAI5s4gVQPQL55EdHnRxhAXdV8++gLCkBO2ATP9QcYQApd6ECC7Q5ARINr+5aUHkA4qz7GKzwVQDBn0XONRhpA0hFwNVX0EkBzYyoOy+wMQAzXyoc+PQtAW6nW96jaGkBXtfGrMTkaQCzXDzNo4QxA2drRGnT9GEBLx1a9JBkdQADhPU03qwlAjfZE9w/GDEBMz2GgiXAdQGB4FhiIXCJAFk7Qris9HUCuv8cPs5ULQAqkrhhsKCJA4NMlCWh+EUB5ipa0qkMOQDahjBkk1xFAV6I2b8avDkAfrLZpeMsZQAPDl6N6Zw9AWhYC8+ssC0BqTHMTV0EiQG4eUPpGFiJA11UX1etyB0C6xe+1BMIfQHhwAdw1UhVABGcCyl1iDEByAfLUg+gIQGLyjpmbfxVA3MhSSaB6HkD9obJj7W8aQPyPvFtG9xVALiZKwJjaIUDGOdu9CWUKQCv4s+JUxxJAudMtWqgvFEAVgieqBSwUQJj2L50s/xRA3Yp9zV9TIkA8xjmL3MYRQFZVddm9WRNAKWwvhdwPEEDvyEd85eUhQJ1gEPk7hBJAuCdHOsKQF0CdjtM2LkoVQBLVgectLwpAj93J2eKjCEBYl1khNWcPQKaYM/jw1A5AL3TNEAdwD0AQmR+ITOsNQMY+emPuyAhAmkMftT9zGUD1D7Uq02MRQGgOUps1FxJAjO90GZkCIECvlAqJc2IUQKzH+0NGgRJAy+fXUtsADkAwbAX17TMRQIGs09fW/w5AkVLeAdmmGEA=",
          "dtype": "f8"
         },
         "yaxis": "y"
        },
        {
         "legendgroup": "c2",
         "mode": "markers",
         "name": "Custom Cluster 2",
         "type": "scatter",
         "x": {
          "bdata": "cElWoxHizj86AK/PtskLQHKbIMLRsxhAgkgpy8gs9j9VyoHYx7b/P2xxelFmrf4/6JxHCBZX7b+CtdeRnST8PxyKI1ni0eq/PkC4yzcDDEAAhLYMi7qqv1k27w2WUARAZhwEWYCSA0DjQaY9PugPQOZaGFIlUQpAQNAko4qy8j8q2Yh/RCsGQIDmKvKlYZY/4Nh3YAkL3z9tCnimDA0GQJ2cFo8hEATAnkHqo1Hg4T/oMGUapGDovwgj6Q8BatW/lCVOvbrHG0AAN62DK6MQQLvpTqUXGew/Qj6FiATo8D8CuFbR8lbmP4Bjzjce0/Y/eDiRQ6g05T/4aWXeZgoGQKfYH6TL3RVAOJaRkmRs8z86WYATCeMWQO3bzUAK3QpAhcD5PWAo/D/w4eAzeV63P8We6XFOUQ5A7OmryspiD0BsEapUbnz0v21gR7sRxQ1AIFB6/AOT07+zNR/xofcIQJ6/XVROruw/aLFV8ad+7j+QMFxJBCXav1Y52E2zP+S/HmSc3jR98T/mYJjz6UvyP1BamYAVQvk/6biLwpcfAUDE9tpXDYnYv5Sw06WOK9s//ARzlV4/07/JALyGU8jvv6I+cw/2NfU/H2aBioLrCkAXJ7YSPL/yP/Sk+vuQvBZA9gnitF/yCEBwEdPQ0OfwvxYdWMNs0B5AKb8eKZpuAUAGBbJweSoXQEwmTtpJaQ5AOIK9LbbuBUCy2/E16XX/PyxSRrIf5PO/IDbR8vxHA0Dw+cxh4x3Zv0dIaO/5NgFAKF5334Fm0D8MMPz5S13nPz+me1765xJA/vo4vK2R+z8lb8LzIZkOQLWlbESKMv8/rGCvPeUgAEBQA0b9VYzCPwzYG5KRJeQ/6gH65aZSEUBA633h35wEQLrxI8XdRQ5AyPAc3YDGD0DArf/x/pStv9Bl3btFmhpANI//54gCDEAAentyPRDiP9Cx2oRmZes/EHAEHxWM3T8sQ0iqL5XqPzKy9hkLGgBAM3biO/VODUCb2xgzIIoRQHw5QPGXFRBAFko67MZXDkCMzjtFw1X8P3w05Ou3++E/ZYbyR1Jr/j+M92KAUBkJQLp5SmWvoPC/GHktPRWG9D8oVij42CbbP7sWlLhG6f8/WO/aH05sCECDayjA5nL0P9Rw/yqKZQJAqIWgclmJ6j8C82jlnkIfQHwjka2se9U/jdBgq8jaFEA=",
          "dtype": "f8"
         },
         "xaxis": "x",
         "y": {
          "bdata": "fM/HhGh8BMDwDRiejNLVP6lm+MaF7vQ/2mJzdAHC/r+2c5fE7bsEQAoOZ+Ry4vg/aBkvYOCj179KkNOuL1kBQNgdy7xS770/fU/nv0pZ/D9aULii3RAAQKAj31H4HNM/6B61OV2m9z8sB26/DX8AwJSQsB7ab+M/wmrv3jPXC8B4y14TslsDQJh79WitJQbA4BRdo4yD07/sQoVjwVz5v9sDIfw2yhLAQlbMbPRF/r/y0R2jnrrtvwAhR1JDv6A/lClJz2L3/T+CxV96f4nRP5aI+hQJI/Y/S8Bj4DMq/T/EipvNLgH/Pz0AzoXzaPU/enly/ngKBUDwOMdsit/kP+bzbzNCbuq/82jkUaOoAkDiebwpezsIQBh5Zhd6VuG/hsP5j2Ow6b8As2iQn7nrP+OrN4Ex698/r/SQpfuYAMBQGMVIx8ADwOQxmdbCQ9C/ON5tyKBQwL/2BEMvL7gEQLiqp66ZzwBAWAdIr+svyT8CWslLYUEGwMDO09tVE/S/T46lmf0i8j867wFTeqH0Pyj7y9fb5ra/UJSNzrWk3T+Q7uaVCTTgP4DZicOX8Nm/TNn8qqOi9T9AaPkjYIK6vzi655LZGPC/o+QHxEXm8T/uwXvD7iUJwDgBwyyF5u0/Y/rgyOdoBUAA1LkKFWmIv3tZ5/Y7WOk/ULQ7BtwOAUDYdlc+9BsRwKrnb3XjBu0/kEyD3SNG9b9AuXDwXCP5P1jDafwVvuS/OOFvi4RuuT84S5lk5YD6vxhQf1X38wnALtMgxTco8r9eA3TKJSkFQMAZ5eS4Ls6/cA8GLZ2bwz/WRFpNsnfzPxT47BDYGMc/IrN9G7zM9D/F+m7BE5MFwBQtC2fyxA3AAIuBFiUN+z9gmDdku7rQP7p17OGHEwVAtZU10ESd/D9jH3MUMHsDQMBtSH43X+U/5XOkiX5zBkAoXg4dFYXoP0iuUVCmlgNA8Lore7pzuL/QgWUAU3MPwBoWdRhYh/0/XVOuOi07CMA+UoRgEvb7P3xJom00LdG/qKWHctCp+T94YwylWsfmP0abax8MYtM/GALrcwwk5D8YBsmDRZYDQPziiNKOk/i/HD+RbLlWCsDw4Hzvg2i0v7hUflo2Ue6/PdMSP6EiGMBJ1QFDNULyP9ZkAlUj1wJAIMqG3rz9AUDQZ/VOuwn8v7obtD+pGQHAPzHPHVTdBUA=",
          "dtype": "f8"
         },
         "yaxis": "y"
        },
        {
         "legendgroup": "centroids",
         "marker": {
          "color": "lime",
          "size": 12,
          "symbol": "x"
         },
         "mode": "markers",
         "name": "Custom Centroids",
         "type": "scatter",
         "x": {
          "bdata": "dYooqcayCcAENJ+pZfTvPz9+bXp1zv8/",
          "dtype": "f8"
         },
         "xaxis": "x",
         "y": {
          "bdata": "sEwmSuw7A0Cnmsgyc9kVQOKYdOvZvr4/",
          "dtype": "f8"
         },
         "yaxis": "y"
        },
        {
         "legendgroup": "s0",
         "mode": "markers",
         "name": "Sklearn Cluster 0",
         "showlegend": false,
         "type": "scatter",
         "x": {
          "bdata": "cElWoxHizj86AK/PtskLQHKbIMLRsxhAgkgpy8gs9j9VyoHYx7b/P2xxelFmrf4/6JxHCBZX7b+CtdeRnST8PxyKI1ni0eq/PkC4yzcDDEAAhLYMi7qqv1k27w2WUARAZhwEWYCSA0DjQaY9PugPQOZaGFIlUQpAQNAko4qy8j8q2Yh/RCsGQIDmKvKlYZY/4Nh3YAkL3z9tCnimDA0GQJ2cFo8hEATAnkHqo1Hg4T/oMGUapGDovwgj6Q8BatW/lCVOvbrHG0AAN62DK6MQQLvpTqUXGew/Qj6FiATo8D8CuFbR8lbmP4Bjzjce0/Y/+Gll3mYKBkCn2B+ky90VQDiWkZJkbPM/OlmAEwnjFkDt281ACt0KQIXA+T1gKPw/8OHgM3letz/FnulxTlEOQOzpq8rKYg9AbBGqVG589L9tYEe7EcUNQCBQevwDk9O/szUf8aH3CECev11UTq7sP2ixVfGnfu4/kDBcSQQl2r9WOdhNsz/kvx5knN40ffE/5mCY8+lL8j9QWpmAFUL5P+m4i8KXHwFAxPbaVw2J2L+UsNOljivbP/wEc5VeP9O/yQC8hlPI77+iPnMP9jX1Px9mgYqC6wpAFye2Ejy/8j/0pPr7kLwWQPYJ4rRf8ghAFh1Yw2zQHkApvx4pmm4BQAYFsnB5KhdATCZO2klpDkA4gr0ttu4FQLLb8TXpdf8/LFJGsh/k878gNtHy/EcDQPD5zGHjHdm/R0ho7/k2AUAoXnffgWbQPz+me1765xJA/vo4vK2R+z8lb8LzIZkOQLWlbESKMv8/rGCvPeUgAEBQA0b9VYzCPwzYG5KRJeQ/6gH65aZSEUBA633h35wEQLrxI8XdRQ5AyPAc3YDGD0DQZd27RZoaQDSP/+eIAgxAAHp7cj0Q4j/QsdqEZmXrPxBwBB8VjN0/LENIqi+V6j8ysvYZCxoAQDN24jv1Tg1Am9sYMyCKEUB8OUDxlxUQQBZKOuzGVw5AjM47RcNV/D98NOTrt/vhP2WG8kdSa/4/jPdigFAZCUC6eUplr6Dwvxh5LT0VhvQ/KFYo+Ngm2z+7FpS4Run/P1jv2h9ObAhAg2sowOZy9D/UcP8qimUCQKiFoHJZieo/AvNo5Z5CH0B8I5GtrHvVP43QYKvI2hRA",
          "dtype": "f8"
         },
         "xaxis": "x2",
         "y": {
          "bdata": "fM/HhGh8BMDwDRiejNLVP6lm+MaF7vQ/2mJzdAHC/r+2c5fE7bsEQAoOZ+Ry4vg/aBkvYOCj179KkNOuL1kBQNgdy7xS770/fU/nv0pZ/D9aULii3RAAQKAj31H4HNM/6B61OV2m9z8sB26/DX8AwJSQsB7ab+M/wmrv3jPXC8B4y14TslsDQJh79WitJQbA4BRdo4yD07/sQoVjwVz5v9sDIfw2yhLAQlbMbPRF/r/y0R2jnrrtvwAhR1JDv6A/lClJz2L3/T+CxV96f4nRP5aI+hQJI/Y/S8Bj4DMq/T/EipvNLgH/Pz0AzoXzaPU/8DjHbIrf5D/m828zQm7qv/No5FGjqAJA4nm8KXs7CEAYeWYXelbhv4bD+Y9jsOm/ALNokJ+56z/jqzeBMevfP6/0kKX7mADAUBjFSMfAA8DkMZnWwkPQvzjebcigUMC/9gRDLy+4BEC4qqeumc8AQFgHSK/rL8k/AlrJS2FBBsDAztPbVRP0v0+OpZn9IvI/Ou8BU3qh9D8o+8vX2+a2v1CUjc61pN0/kO7mlQk04D+A2YnDl/DZv0zZ/KqjovU/QGj5I2CCur84uueS2Rjwv6PkB8RF5vE/7sF7w+4lCcA4AcMshebtP2P64MjnaAVAe1nn9jtY6T9QtDsG3A4BQNh2Vz70GxHAqudvdeMG7T+QTIPdI0b1v0C5cPBcI/k/WMNp/BW+5L844W+LhG65PzhLmWTlgPq/GFB/VffzCcAu0yDFNyjyv8AZ5eS4Ls6/cA8GLZ2bwz/WRFpNsnfzPxT47BDYGMc/IrN9G7zM9D/F+m7BE5MFwBQtC2fyxA3AAIuBFiUN+z9gmDdku7rQP7p17OGHEwVAtZU10ESd/D/AbUh+N1/lP+VzpIl+cwZAKF4OHRWF6D9IrlFQppYDQPC6K3u6c7i/0IFlAFNzD8AaFnUYWIf9P11TrjotOwjAPlKEYBL2+z98SaJtNC3Rv6ilh3LQqfk/eGMMpVrH5j9Gm2sfDGLTPxgC63MMJOQ/GAbJg0WWA0D84ojSjpP4vxw/kWy5VgrA8OB874NotL+4VH5aNlHuvz3TEj+hIhjASdUBQzVC8j/WZAJVI9cCQCDKht68/QFA0Gf1TrsJ/L+6G7Q/qRkBwD8xzx1U3QVA",
          "dtype": "f8"
         },
         "yaxis": "y2"
        },
        {
         "legendgroup": "s1",
         "mode": "markers",
         "name": "Sklearn Cluster 1",
         "showlegend": false,
         "type": "scatter",
         "x": {
          "bdata": "HD2ZQCHe+7/6m5dEJpsAwCRXG2LZFfi/9Ka3peorCMB07x7B4WwPwFajn5GQSAbAjolyl+GNAMByE/nwv/8EwMOONeV36xbAi22pLoDRDsBAwJRPYVL6vy7D5xwvaBDAZEzEDyugGcA0HPTV6W7+vwTorNlGR/6/nCdQ/JHf8b+a0GAl+pkHwBCjWGeXxgnASHyurdW/HcCJwcSqMeYRwMgATMFq/hzAQ3UpM7HNHcBnJLwCzJAGwGZFG5XQKhTAMdtieQuCAsA0UV4IAhT4v2A307StkhTAbPMt2xyE8L90meoZppwVwHrYqp667QLALqe4FhhvFsAqdUSiJ6MPwPzdsF65cgHA9Gp65nvoA8BA+JRJFY78v/CDaQxNqwzAqH5PKR2FAcBSFjuk74AcwGhNdv8l1f+/Ef5cy7sNG8AqdXT4CyoDwHhAe9KN5xLAbf3B+6seBMD+CtwXNUL6v6/9zGPSfe2/6qqz78NlAsAM5F4r16oAwPP8PioqTQfAcBHT0NDn8L/WO6F4lmoJwEhAiPOqnQXAuNomprxJEMAReQB6fqL9vwpDr6lxgRHA6UcId9YDBsCuSdDdzssKwMGFl1WIugHAKBDkWt256r9S4vDjNssIwDjumRHjXhLAlw0m+YxFGsB5A6cer5cFwMCt//H+lK2/SLjYGik287/zIyoJZqcQwOMCovQCbhPA8hZ5JWdj+L9EEXAhPZYTwGRf75z3Yw7A3tfCBVRrBMCstKfO+KwCwEgIxrgGDALAejOfumK//L8s3G4jKd4LwJDz0j5ZjQXAJJruD/SfFcAktjuaCT7iv0WU9f7jYgnAzHD4ZF118L+uzCw66FMMwEWenB5EGg/A6nH+Ze5FAMA8j/N/wXcIwE5z5Wn5Vuy/",
          "dtype": "f8"
         },
         "xaxis": "x2",
         "y": {
          "bdata": "igp3S5o6C0DAzi/P4pjKPz6wOc4K8RBAEJogL088GECCmSZ2P+ztP6BtrFXs6fU/OIqYPx4gEEBgAZyPRvgKQJAVWHcoQeY/PEk5XHLFA0AwMhGPqB7oPz/JYOMcWABAioHsu1pK9D8hS6a+jmMDQLltsI+ErAlA6sqP+/xECUC9Z+6wu70MQJb+fItlphhASFXcEu+/B0Bp+4I6ka8YQEp1t05sXwxADrqmpOJPFED4MxFBtiHeP+B9SZh0Ffc/wVCK4NcyCUDwtuGeD3vVv+C6cpesrBNA9p2aXamjBEBGxrbHfrAPQNosusL2lPw/+hiRtksG8L9yToDcr6MNQHolo8W6sgNAFqE8n8Pu/D/7gnfunrwRQLwvMsWjifq/IudrGZXa/T+9yRt/f18PQGwMcoSmwuw/salEcUfRCUCrosPfdG/3P9rUrojURPc/gM2GdX/Lkz+S7Rdz0sALQGwDDvVMRuY/Gk5/O3msAkBQZXTZbVPkPzBvbu1Q3Ps/ANS5ChVpiL+MgNASBNwKQNlQxWEoAgNAOPSL3jTJBUCOUycI3TgJQPTJsBZnhRNAXvg/xeubFUBMXw5fMkYLQBtPAQgITPI/TcPEQibOBkDu1w8BzdcVQNbscmnFTgNAbk0fW6Eb+T9iv3l3jq8EwGMfcxQwewNAtl29N3LaBkBuQj/zvt8TQDiMLhmJBwDACJVKbW1H3D90b/1dIjnwP3lnLyCitv0/nEy/aX4G078a2EsaMzMAQCmNn3u64hNAEaqKF6Lk8D+vDmkxoSIFQGA+Lhry+uO/8A4EglfAF0DDh/OcgKgGQCfih9LjHfo/9zDylLtUBkBAoMgvG0K/P69ShDbpGgxAF345GTklBUBWbDkc7SwOQCvAaIfK5gFA",
          "dtype": "f8"
         },
         "yaxis": "y2"
        },
        {
         "legendgroup": "s2",
         "mode": "markers",
         "name": "Sklearn Cluster 2",
         "showlegend": false,
         "type": "scatter",
         "x": {
          "bdata": "JA4fUn/k9L+U79UN6gcHQGxIAyjUsgDA0iWYvu2PBkAYInYa+68AQJ3bJiWkv+W/2s4AfcYy9L9s9BmQDj0OQHgI1WC0Nfu/GiEz10Za7r8b6G0hMaz9v55Iz7iatvQ/dBrekt2T+j/U6bzh90zgP0jittnuq/S/EEnyd8qZ0z9Mer8Sce7Rv4BDhoedOxNA4mPeeLq05r/WtozwhaDjv/4vbjZGLwJAeDiRQ6g05T+EW3mURYn7P4pWf7uJ8/c/kCmkxSpMqz/E/ARI8EfyPxrMssMyOgpAliN1S6Xs67/ca2YajbwbQITKNTMEyOk/aS4+AYvYEkB6uwdpe5kBwAw12F+IwuY/zttWjFIK8D8LuDCDqM0NQPCPQMlUwQpAXgaJgP7f/T9Y5lfS+sjSP/S5aC7Yv/m/16MA5vC35L9cmrqnlYkZQDHjZ89hsvQ/XYWlyKaUFkDsu58sJM/UP+Re2SD6nte/+qNGr2KO5r8b4MSuPQ4BwKhvVQZV/P6/+MUle/mn5D8CiVQ/6T4BwBmlyppZHuq/0G0+9yQQ07/FQj0QkL4TQKDf6alZN6C/MB7+xrNQCsBvrNykPjUQQL6w/X5wdvw/Tq0AFibU8r8YIyj03X/pPwQRVs2LVwNAh1yDyvV65L+7p9uUXnPxP7RBp4UWFOo/qBRAkwna4b/OveneT4Hjv2hQMEEzNNG/qzQbTaDJEkCgwyt+rd3gPyoh/PPOYfU/xLyusa775j+A+r5KrkmAP3CJb8hWXt4/+gXatG787D9HFHDawoz7Pwww/PlLXec/4Q6bzHwXBEAgRrYH/rPZP+BACdi4kry/KSQ4XKW39j9QDFTJ6EK7P4g416xqGNY/Fpm8jXVg879Bb+XAdtH1PzDFxj77Tf+/2HMe1QhEyT8C83efQvP2v9C5KQZ7lcW/SzNuW4VFBsDIueLcbnAGQCohDPGJSfY/jC3w3oxBBUChGIrS5jHjv/IVC8p5kPg/+vrak9rPCkAj1n2lwGIPQPZ0UjElU+i/uMmUNkBy+z92gaufrpv4P8zai//3PgdAODVhBM7OxL83IOmGb8wKQOsNRKFuIhdAiOarGB2SD0Ai3MJEWGQGQKRBeRLhzBBAXA3g7iMNAkBwPhbfk0YCQLKXF3m2lPM/",
          "dtype": "f8"
         },
         "xaxis": "x2",
         "y": {
          "bdata": "xAfa0aNiHEAEF8f2kG4SQIhM0b6lqBlArkbEoo+dFUBsMRXVSI0UQO6zm2/I4R9AYMg3cowVFUB8/WQW75sQQK8eSYJ5whtAlD8LYI6bFkDUqbCOmAAXQEFX+YGsoRBA6BEjdGsoGkDcr3CahYUIQNCKsvUOvBFAkW9F2V09GUD4BxJcuCYWQAlyFf2i6B9Aglb1f5CIEUAXh25Zv/oXQDwOQ2AP3hxAenly/ngKBUAGn3SldrwMQOpDIi9G+xpAQwCG+YikDUCh1RACaD0UQA2IOmEFZxRA7kUDCZlSIEC2/Awa8qgaQElH1ieeLCFAVBPHAr9TDkAcNRHau+gaQAlZL8fRaxlArL5XDnSJIUDIZ+qpjcQXQMAjmziBVA9AvnkR0edHGEBd1Xz76AsKQE7YBM/1BxhACl3oQILtDkBEg2v7lpQeQDirPsYrPBVAMGfRc41GGkDSEXA1VfQSQHNjKg7L7AxADNfKhz49C0Bbqdb3qNoaQFe18asxORpALNcPM2jhDEDZ2tEadP0YQEvHVr0kGR1AAOE9TTerCUCN9kT3D8YMQEzPYaCJcB1AYHgWGIhcIkAWTtCuKz0dQK6/xw+zlQtACqSuGGwoIkDg0yUJaH4RQHmKlrSqQw5ANqGMGSTXEUBXojZvxq8OQB+stml4yxlAA8OXo3pnD0BaFgLz6ywLQGpMcxNXQSJAbh5Q+kYWIkDXVRfV63IHQLrF77UEwh9AeHAB3DVSFUAEZwLKXWIMQHIB8tSD6AhAYvKOmZt/FUDcyFJJoHoeQF4DdMolKQVA/aGyY+1vGkD8j7xbRvcVQC4mSsCY2iFAxjnbvQllCkAr+LPiVMcSQLnTLVqoLxRAFYInqgUsFECY9i+dLP8UQN2Kfc1fUyJAPMY5i9zGEUBWVXXZvVkTQClsL4XcDxBA78hHfOXlIUCdYBD5O4QSQLgnRzrCkBdAnY7TNi5KFUAS1YHnLS8KQI/dydniowhAWJdZITVnD0CmmDP48NQOQC90zRAHcA9AEJkfiEzrDUDGPnpj7sgIQJpDH7U/cxlA9Q+1KtNjEUBoDlKbNRcSQIzvdBmZAiBAr5QKiXNiFECsx/tDRoESQMvn11LbAA5AMGwF9e0zEUCBrNPX1v8OQJFS3gHZphhA",
          "dtype": "f8"
         },
         "yaxis": "y2"
        },
        {
         "legendgroup": "centroids",
         "marker": {
          "color": "lightblue",
          "size": 12,
          "symbol": "x"
         },
         "mode": "markers",
         "name": "Sklearn Centroids",
         "showlegend": false,
         "type": "scatter",
         "x": {
          "bdata": "hENMbIHzAEDBrCnglNAIwJpEdVaOxu8/",
          "dtype": "f8"
         },
         "xaxis": "x2",
         "y": {
          "bdata": "wIJnn/lqrz/0nF0wtX4CQEQRjWTioxVA",
          "dtype": "f8"
         },
         "yaxis": "y2"
        }
       ],
       "layout": {
        "annotations": [
         {
          "font": {
           "size": 16
          },
          "showarrow": false,
          "text": "Custom KMeans",
          "x": 0.225,
          "xanchor": "center",
          "xref": "paper",
          "y": 1,
          "yanchor": "bottom",
          "yref": "paper"
         },
         {
          "font": {
           "size": 16
          },
          "showarrow": false,
          "text": "Sklearn KMeans",
          "x": 0.775,
          "xanchor": "center",
          "xref": "paper",
          "y": 1,
          "yanchor": "bottom",
          "yref": "paper"
         }
        ],
        "height": 500,
        "template": {
         "data": {
          "bar": [
           {
            "error_x": {
             "color": "#f2f5fa"
            },
            "error_y": {
             "color": "#f2f5fa"
            },
            "marker": {
             "line": {
              "color": "rgb(17,17,17)",
              "width": 0.5
             },
             "pattern": {
              "fillmode": "overlay",
              "size": 10,
              "solidity": 0.2
             }
            },
            "type": "bar"
           }
          ],
          "barpolar": [
           {
            "marker": {
             "line": {
              "color": "rgb(17,17,17)",
              "width": 0.5
             },
             "pattern": {
              "fillmode": "overlay",
              "size": 10,
              "solidity": 0.2
             }
            },
            "type": "barpolar"
           }
          ],
          "carpet": [
           {
            "aaxis": {
             "endlinecolor": "#A2B1C6",
             "gridcolor": "#506784",
             "linecolor": "#506784",
             "minorgridcolor": "#506784",
             "startlinecolor": "#A2B1C6"
            },
            "baxis": {
             "endlinecolor": "#A2B1C6",
             "gridcolor": "#506784",
             "linecolor": "#506784",
             "minorgridcolor": "#506784",
             "startlinecolor": "#A2B1C6"
            },
            "type": "carpet"
           }
          ],
          "choropleth": [
           {
            "colorbar": {
             "outlinewidth": 0,
             "ticks": ""
            },
            "type": "choropleth"
           }
          ],
          "contour": [
           {
            "colorbar": {
             "outlinewidth": 0,
             "ticks": ""
            },
            "colorscale": [
             [
              0,
              "#0d0887"
             ],
             [
              0.1111111111111111,
              "#46039f"
             ],
             [
              0.2222222222222222,
              "#7201a8"
             ],
             [
              0.3333333333333333,
              "#9c179e"
             ],
             [
              0.4444444444444444,
              "#bd3786"
             ],
             [
              0.5555555555555556,
              "#d8576b"
             ],
             [
              0.6666666666666666,
              "#ed7953"
             ],
             [
              0.7777777777777778,
              "#fb9f3a"
             ],
             [
              0.8888888888888888,
              "#fdca26"
             ],
             [
              1,
              "#f0f921"
             ]
            ],
            "type": "contour"
           }
          ],
          "contourcarpet": [
           {
            "colorbar": {
             "outlinewidth": 0,
             "ticks": ""
            },
            "type": "contourcarpet"
           }
          ],
          "heatmap": [
           {
            "colorbar": {
             "outlinewidth": 0,
             "ticks": ""
            },
            "colorscale": [
             [
              0,
              "#0d0887"
             ],
             [
              0.1111111111111111,
              "#46039f"
             ],
             [
              0.2222222222222222,
              "#7201a8"
             ],
             [
              0.3333333333333333,
              "#9c179e"
             ],
             [
              0.4444444444444444,
              "#bd3786"
             ],
             [
              0.5555555555555556,
              "#d8576b"
             ],
             [
              0.6666666666666666,
              "#ed7953"
             ],
             [
              0.7777777777777778,
              "#fb9f3a"
             ],
             [
              0.8888888888888888,
              "#fdca26"
             ],
             [
              1,
              "#f0f921"
             ]
            ],
            "type": "heatmap"
           }
          ],
          "histogram": [
           {
            "marker": {
             "pattern": {
              "fillmode": "overlay",
              "size": 10,
              "solidity": 0.2
             }
            },
            "type": "histogram"
           }
          ],
          "histogram2d": [
           {
            "colorbar": {
             "outlinewidth": 0,
             "ticks": ""
            },
            "colorscale": [
             [
              0,
              "#0d0887"
             ],
             [
              0.1111111111111111,
              "#46039f"
             ],
             [
              0.2222222222222222,
              "#7201a8"
             ],
             [
              0.3333333333333333,
              "#9c179e"
             ],
             [
              0.4444444444444444,
              "#bd3786"
             ],
             [
              0.5555555555555556,
              "#d8576b"
             ],
             [
              0.6666666666666666,
              "#ed7953"
             ],
             [
              0.7777777777777778,
              "#fb9f3a"
             ],
             [
              0.8888888888888888,
              "#fdca26"
             ],
             [
              1,
              "#f0f921"
             ]
            ],
            "type": "histogram2d"
           }
          ],
          "histogram2dcontour": [
           {
            "colorbar": {
             "outlinewidth": 0,
             "ticks": ""
            },
            "colorscale": [
             [
              0,
              "#0d0887"
             ],
             [
              0.1111111111111111,
              "#46039f"
             ],
             [
              0.2222222222222222,
              "#7201a8"
             ],
             [
              0.3333333333333333,
              "#9c179e"
             ],
             [
              0.4444444444444444,
              "#bd3786"
             ],
             [
              0.5555555555555556,
              "#d8576b"
             ],
             [
              0.6666666666666666,
              "#ed7953"
             ],
             [
              0.7777777777777778,
              "#fb9f3a"
             ],
             [
              0.8888888888888888,
              "#fdca26"
             ],
             [
              1,
              "#f0f921"
             ]
            ],
            "type": "histogram2dcontour"
           }
          ],
          "mesh3d": [
           {
            "colorbar": {
             "outlinewidth": 0,
             "ticks": ""
            },
            "type": "mesh3d"
           }
          ],
          "parcoords": [
           {
            "line": {
             "colorbar": {
              "outlinewidth": 0,
              "ticks": ""
             }
            },
            "type": "parcoords"
           }
          ],
          "pie": [
           {
            "automargin": true,
            "type": "pie"
           }
          ],
          "scatter": [
           {
            "marker": {
             "line": {
              "color": "#283442"
             }
            },
            "type": "scatter"
           }
          ],
          "scatter3d": [
           {
            "line": {
             "colorbar": {
              "outlinewidth": 0,
              "ticks": ""
             }
            },
            "marker": {
             "colorbar": {
              "outlinewidth": 0,
              "ticks": ""
             }
            },
            "type": "scatter3d"
           }
          ],
          "scattercarpet": [
           {
            "marker": {
             "colorbar": {
              "outlinewidth": 0,
              "ticks": ""
             }
            },
            "type": "scattercarpet"
           }
          ],
          "scattergeo": [
           {
            "marker": {
             "colorbar": {
              "outlinewidth": 0,
              "ticks": ""
             }
            },
            "type": "scattergeo"
           }
          ],
          "scattergl": [
           {
            "marker": {
             "line": {
              "color": "#283442"
             }
            },
            "type": "scattergl"
           }
          ],
          "scattermap": [
           {
            "marker": {
             "colorbar": {
              "outlinewidth": 0,
              "ticks": ""
             }
            },
            "type": "scattermap"
           }
          ],
          "scattermapbox": [
           {
            "marker": {
             "colorbar": {
              "outlinewidth": 0,
              "ticks": ""
             }
            },
            "type": "scattermapbox"
           }
          ],
          "scatterpolar": [
           {
            "marker": {
             "colorbar": {
              "outlinewidth": 0,
              "ticks": ""
             }
            },
            "type": "scatterpolar"
           }
          ],
          "scatterpolargl": [
           {
            "marker": {
             "colorbar": {
              "outlinewidth": 0,
              "ticks": ""
             }
            },
            "type": "scatterpolargl"
           }
          ],
          "scatterternary": [
           {
            "marker": {
             "colorbar": {
              "outlinewidth": 0,
              "ticks": ""
             }
            },
            "type": "scatterternary"
           }
          ],
          "surface": [
           {
            "colorbar": {
             "outlinewidth": 0,
             "ticks": ""
            },
            "colorscale": [
             [
              0,
              "#0d0887"
             ],
             [
              0.1111111111111111,
              "#46039f"
             ],
             [
              0.2222222222222222,
              "#7201a8"
             ],
             [
              0.3333333333333333,
              "#9c179e"
             ],
             [
              0.4444444444444444,
              "#bd3786"
             ],
             [
              0.5555555555555556,
              "#d8576b"
             ],
             [
              0.6666666666666666,
              "#ed7953"
             ],
             [
              0.7777777777777778,
              "#fb9f3a"
             ],
             [
              0.8888888888888888,
              "#fdca26"
             ],
             [
              1,
              "#f0f921"
             ]
            ],
            "type": "surface"
           }
          ],
          "table": [
           {
            "cells": {
             "fill": {
              "color": "#506784"
             },
             "line": {
              "color": "rgb(17,17,17)"
             }
            },
            "header": {
             "fill": {
              "color": "#2a3f5f"
             },
             "line": {
              "color": "rgb(17,17,17)"
             }
            },
            "type": "table"
           }
          ]
         },
         "layout": {
          "annotationdefaults": {
           "arrowcolor": "#f2f5fa",
           "arrowhead": 0,
           "arrowwidth": 1
          },
          "autotypenumbers": "strict",
          "coloraxis": {
           "colorbar": {
            "outlinewidth": 0,
            "ticks": ""
           }
          },
          "colorscale": {
           "diverging": [
            [
             0,
             "#8e0152"
            ],
            [
             0.1,
             "#c51b7d"
            ],
            [
             0.2,
             "#de77ae"
            ],
            [
             0.3,
             "#f1b6da"
            ],
            [
             0.4,
             "#fde0ef"
            ],
            [
             0.5,
             "#f7f7f7"
            ],
            [
             0.6,
             "#e6f5d0"
            ],
            [
             0.7,
             "#b8e186"
            ],
            [
             0.8,
             "#7fbc41"
            ],
            [
             0.9,
             "#4d9221"
            ],
            [
             1,
             "#276419"
            ]
           ],
           "sequential": [
            [
             0,
             "#0d0887"
            ],
            [
             0.1111111111111111,
             "#46039f"
            ],
            [
             0.2222222222222222,
             "#7201a8"
            ],
            [
             0.3333333333333333,
             "#9c179e"
            ],
            [
             0.4444444444444444,
             "#bd3786"
            ],
            [
             0.5555555555555556,
             "#d8576b"
            ],
            [
             0.6666666666666666,
             "#ed7953"
            ],
            [
             0.7777777777777778,
             "#fb9f3a"
            ],
            [
             0.8888888888888888,
             "#fdca26"
            ],
            [
             1,
             "#f0f921"
            ]
           ],
           "sequentialminus": [
            [
             0,
             "#0d0887"
            ],
            [
             0.1111111111111111,
             "#46039f"
            ],
            [
             0.2222222222222222,
             "#7201a8"
            ],
            [
             0.3333333333333333,
             "#9c179e"
            ],
            [
             0.4444444444444444,
             "#bd3786"
            ],
            [
             0.5555555555555556,
             "#d8576b"
            ],
            [
             0.6666666666666666,
             "#ed7953"
            ],
            [
             0.7777777777777778,
             "#fb9f3a"
            ],
            [
             0.8888888888888888,
             "#fdca26"
            ],
            [
             1,
             "#f0f921"
            ]
           ]
          },
          "colorway": [
           "#636efa",
           "#EF553B",
           "#00cc96",
           "#ab63fa",
           "#FFA15A",
           "#19d3f3",
           "#FF6692",
           "#B6E880",
           "#FF97FF",
           "#FECB52"
          ],
          "font": {
           "color": "#f2f5fa"
          },
          "geo": {
           "bgcolor": "rgb(17,17,17)",
           "lakecolor": "rgb(17,17,17)",
           "landcolor": "rgb(17,17,17)",
           "showlakes": true,
           "showland": true,
           "subunitcolor": "#506784"
          },
          "hoverlabel": {
           "align": "left"
          },
          "hovermode": "closest",
          "mapbox": {
           "style": "dark"
          },
          "paper_bgcolor": "rgb(17,17,17)",
          "plot_bgcolor": "rgb(17,17,17)",
          "polar": {
           "angularaxis": {
            "gridcolor": "#506784",
            "linecolor": "#506784",
            "ticks": ""
           },
           "bgcolor": "rgb(17,17,17)",
           "radialaxis": {
            "gridcolor": "#506784",
            "linecolor": "#506784",
            "ticks": ""
           }
          },
          "scene": {
           "xaxis": {
            "backgroundcolor": "rgb(17,17,17)",
            "gridcolor": "#506784",
            "gridwidth": 2,
            "linecolor": "#506784",
            "showbackground": true,
            "ticks": "",
            "zerolinecolor": "#C8D4E3"
           },
           "yaxis": {
            "backgroundcolor": "rgb(17,17,17)",
            "gridcolor": "#506784",
            "gridwidth": 2,
            "linecolor": "#506784",
            "showbackground": true,
            "ticks": "",
            "zerolinecolor": "#C8D4E3"
           },
           "zaxis": {
            "backgroundcolor": "rgb(17,17,17)",
            "gridcolor": "#506784",
            "gridwidth": 2,
            "linecolor": "#506784",
            "showbackground": true,
            "ticks": "",
            "zerolinecolor": "#C8D4E3"
           }
          },
          "shapedefaults": {
           "line": {
            "color": "#f2f5fa"
           }
          },
          "sliderdefaults": {
           "bgcolor": "#C8D4E3",
           "bordercolor": "rgb(17,17,17)",
           "borderwidth": 1,
           "tickwidth": 0
          },
          "ternary": {
           "aaxis": {
            "gridcolor": "#506784",
            "linecolor": "#506784",
            "ticks": ""
           },
           "baxis": {
            "gridcolor": "#506784",
            "linecolor": "#506784",
            "ticks": ""
           },
           "bgcolor": "rgb(17,17,17)",
           "caxis": {
            "gridcolor": "#506784",
            "linecolor": "#506784",
            "ticks": ""
           }
          },
          "title": {
           "x": 0.05
          },
          "updatemenudefaults": {
           "bgcolor": "#506784",
           "borderwidth": 0
          },
          "xaxis": {
           "automargin": true,
           "gridcolor": "#283442",
           "linecolor": "#506784",
           "ticks": "",
           "title": {
            "standoff": 15
           },
           "zerolinecolor": "#283442",
           "zerolinewidth": 2
          },
          "yaxis": {
           "automargin": true,
           "gridcolor": "#283442",
           "linecolor": "#506784",
           "ticks": "",
           "title": {
            "standoff": 15
           },
           "zerolinecolor": "#283442",
           "zerolinewidth": 2
          }
         }
        },
        "title": {
         "text": "Comparison of Custom vs Sklearn KMeans"
        },
        "width": 1000,
        "xaxis": {
         "anchor": "y",
         "domain": [
          0,
          0.45
         ]
        },
        "xaxis2": {
         "anchor": "y2",
         "domain": [
          0.55,
          1
         ]
        },
        "yaxis": {
         "anchor": "x",
         "domain": [
          0,
          1
         ]
        },
        "yaxis2": {
         "anchor": "x2",
         "domain": [
          0,
          1
         ]
        }
       }
      }
     },
     "metadata": {},
     "output_type": "display_data"
    }
   ],
   "source": [
    "compare_kmeans_plot(X, n_clusters=3)"
   ]
  },
  {
   "cell_type": "code",
   "execution_count": 68,
   "id": "2c84baa3",
   "metadata": {},
   "outputs": [
    {
     "data": {
      "application/vnd.plotly.v1+json": {
       "config": {
        "plotlyServerURL": "https://plot.ly"
       },
       "data": [
        {
         "legendgroup": "c0",
         "mode": "markers",
         "name": "Custom Cluster 0",
         "type": "scatter",
         "x": {
          "bdata": "HD2ZQCHe+7/6m5dEJpsAwCRXG2LZFfi/9Ka3peorCMB07x7B4WwPwFajn5GQSAbAjolyl+GNAMByE/nwv/8EwMOONeV36xbAi22pLoDRDsBAwJRPYVL6vy7D5xwvaBDAZEzEDyugGcA0HPTV6W7+vwTorNlGR/6/nCdQ/JHf8b+a0GAl+pkHwBCjWGeXxgnASHyurdW/HcCJwcSqMeYRwMgATMFq/hzAQ3UpM7HNHcBnJLwCzJAGwGZFG5XQKhTAMdtieQuCAsA0UV4IAhT4v2A307StkhTAbPMt2xyE8L90meoZppwVwHrYqp667QLALqe4FhhvFsAqdUSiJ6MPwPzdsF65cgHA9Gp65nvoA8BA+JRJFY78v/CDaQxNqwzAqH5PKR2FAcBSFjuk74AcwGhNdv8l1f+/Ef5cy7sNG8AqdXT4CyoDwHhAe9KN5xLAbf3B+6seBMD+CtwXNUL6v6/9zGPSfe2/6qqz78NlAsAM5F4r16oAwPP8PioqTQfA1juheJZqCcBIQIjzqp0FwLjaJqa8SRDAEXkAen6i/b8KQ6+pcYERwOlHCHfWAwbArknQ3c7LCsDBhZdViLoBwCgQ5Frdueq/UuLw4zbLCMA47pkR414SwJcNJvmMRRrAeQOnHq+XBcBIuNgaKTbzv/MjKglmpxDA4wKi9AJuE8DyFnklZ2P4v0QRcCE9lhPAZF/vnPdjDsDe18IFVGsEwKy0p874rALASAjGuAYMAsB6M5+6Yr/8vyzcbiMp3gvAkPPSPlmNBcAkmu4P9J8VwCS2O5oJPuK/RZT1/uNiCcDMcPhkXXXwv67MLDroUwzARZ6cHkQaD8Dqcf5l7kUAwDyP83/BdwjATnPlaflW7L8=",
          "dtype": "f8"
         },
         "xaxis": "x",
         "y": {
          "bdata": "igp3S5o6C0DAzi/P4pjKPz6wOc4K8RBAEJogL088GECCmSZ2P+ztP6BtrFXs6fU/OIqYPx4gEEBgAZyPRvgKQJAVWHcoQeY/PEk5XHLFA0AwMhGPqB7oPz/JYOMcWABAioHsu1pK9D8hS6a+jmMDQLltsI+ErAlA6sqP+/xECUC9Z+6wu70MQJb+fItlphhASFXcEu+/B0Bp+4I6ka8YQEp1t05sXwxADrqmpOJPFED4MxFBtiHeP+B9SZh0Ffc/wVCK4NcyCUDwtuGeD3vVv+C6cpesrBNA9p2aXamjBEBGxrbHfrAPQNosusL2lPw/+hiRtksG8L9yToDcr6MNQHolo8W6sgNAFqE8n8Pu/D/7gnfunrwRQLwvMsWjifq/IudrGZXa/T+9yRt/f18PQGwMcoSmwuw/salEcUfRCUCrosPfdG/3P9rUrojURPc/gM2GdX/Lkz+S7Rdz0sALQGwDDvVMRuY/Gk5/O3msAkBQZXTZbVPkPzBvbu1Q3Ps/jIDQEgTcCkDZUMVhKAIDQDj0i940yQVAjlMnCN04CUD0ybAWZ4UTQF74P8XrmxVATF8OXzJGC0AbTwEICEzyP03DxEImzgZA7tcPAc3XFUDW7HJpxU4DQG5NH1uhG/k/Yr95d46vBMC2Xb03ctoGQG5CP/O+3xNAOIwuGYkHAMAIlUptbUfcP3Rv/V0iOfA/eWcvIKK2/T+cTL9pfgbTvxrYSxozMwBAKY2fe7riE0ARqooXouTwP68OaTGhIgVAYD4uGvL647/wDgSCV8AXQMOH85yAqAZAJ+KH0uMd+j/3MPKUu1QGQECgyC8bQr8/r1KENukaDEAXfjkZOSUFQFZsORztLA5AK8Boh8rmAUA=",
          "dtype": "f8"
         },
         "yaxis": "y"
        },
        {
         "legendgroup": "c1",
         "mode": "markers",
         "name": "Custom Cluster 1",
         "type": "scatter",
         "x": {
          "bdata": "JA4fUn/k9L+U79UN6gcHQGxIAyjUsgDA0iWYvu2PBkAYInYa+68AQJ3bJiWkv+W/2s4AfcYy9L9s9BmQDj0OQHgI1WC0Nfu/GiEz10Za7r8b6G0hMaz9v55Iz7iatvQ/dBrekt2T+j/U6bzh90zgP0jittnuq/S/EEnyd8qZ0z9Mer8Sce7Rv4BDhoedOxNA4mPeeLq05r/WtozwhaDjv/4vbjZGLwJAhFt5lEWJ+z+KVn+7ifP3P5AppMUqTKs/xPwESPBH8j8azLLDMjoKQJYjdUul7Ou/3GtmGo28G0CEyjUzBMjpP2kuPgGL2BJAersHaXuZAcAMNdhfiMLmP87bVoxSCvA/C7gwg6jNDUDwj0DJVMEKQF4GiYD+3/0/WOZX0vrI0j/0uWgu2L/5v9ejAObwt+S/XJq6p5WJGUAx42fPYbL0P12FpcimlBZA7LufLCTP1D/kXtkg+p7Xv/qjRq9ijua/G+DErj0OAcCob1UGVfz+v/jFJXv5p+Q/AolUP+k+AcAZpcqaWR7qv9BtPvckENO/xUI9EJC+E0Cg3+mpWTegvzAe/sazUArAb6zcpD41EEC+sP1+cHb8P06tABYm1PK/GCMo9N1/6T8EEVbNi1cDQIdcg8r1euS/u6fblF5z8T+0QaeFFhTqP6gUQJMJ2uG/zr3p3k+B479oUDBBMzTRv6s0G02gyRJAoMMrfq3d4D8qIfzzzmH1P8S8rrGu++Y/gPq+Sq5JgD9wiW/IVl7eP/oF2rRu/Ow/RxRw2sKM+z/hDpvMfBcEQCBGtgf+s9k/4EAJ2LiSvL8pJDhcpbf2P1AMVMnoQrs/iDjXrGoY1j8WmbyNdWDzv0Fv5cB20fU/MMXGPvtN/7/Ycx7VCETJPwLzd59C8/a/0LkpBnuVxb9LM25bhUUGwMi54txucAZAKiEM8YlJ9j+MLfDejEEFQKEYitLmMeO/8hULynmQ+D/6+tqT2s8KQCPWfaXAYg9A9nRSMSVT6L+4yZQ2QHL7P3aBq5+um/g/zNqL//c+B0A4NWEEzs7Evzcg6YZvzApA6w1EoW4iF0CI5qsYHZIPQCLcwkRYZAZApEF5EuHMEEBcDeDuIw0CQHA+Ft+TRgJAspcXebaU8z8=",
          "dtype": "f8"
         },
         "xaxis": "x",
         "y": {
          "bdata": "xAfa0aNiHEAEF8f2kG4SQIhM0b6lqBlArkbEoo+dFUBsMRXVSI0UQO6zm2/I4R9AYMg3cowVFUB8/WQW75sQQK8eSYJ5whtAlD8LYI6bFkDUqbCOmAAXQEFX+YGsoRBA6BEjdGsoGkDcr3CahYUIQNCKsvUOvBFAkW9F2V09GUD4BxJcuCYWQAlyFf2i6B9Aglb1f5CIEUAXh25Zv/oXQDwOQ2AP3hxABp90pXa8DEDqQyIvRvsaQEMAhvmIpA1AodUQAmg9FEANiDphBWcUQO5FAwmZUiBAtvwMGvKoGkBJR9YnniwhQFQTxwK/Uw5AHDUR2rvoGkAJWS/H0WsZQKy+Vw50iSFAyGfqqY3EF0DAI5s4gVQPQL55EdHnRxhAXdV8++gLCkBO2ATP9QcYQApd6ECC7Q5ARINr+5aUHkA4qz7GKzwVQDBn0XONRhpA0hFwNVX0EkBzYyoOy+wMQAzXyoc+PQtAW6nW96jaGkBXtfGrMTkaQCzXDzNo4QxA2drRGnT9GEBLx1a9JBkdQADhPU03qwlAjfZE9w/GDEBMz2GgiXAdQGB4FhiIXCJAFk7Qris9HUCuv8cPs5ULQAqkrhhsKCJA4NMlCWh+EUB5ipa0qkMOQDahjBkk1xFAV6I2b8avDkAfrLZpeMsZQAPDl6N6Zw9AWhYC8+ssC0BqTHMTV0EiQG4eUPpGFiJA11UX1etyB0C6xe+1BMIfQHhwAdw1UhVABGcCyl1iDEByAfLUg+gIQGLyjpmbfxVA3MhSSaB6HkD9obJj7W8aQPyPvFtG9xVALiZKwJjaIUDGOdu9CWUKQCv4s+JUxxJAudMtWqgvFEAVgieqBSwUQJj2L50s/xRA3Yp9zV9TIkA8xjmL3MYRQFZVddm9WRNAKWwvhdwPEEDvyEd85eUhQJ1gEPk7hBJAuCdHOsKQF0CdjtM2LkoVQBLVgectLwpAj93J2eKjCEBYl1khNWcPQKaYM/jw1A5AL3TNEAdwD0AQmR+ITOsNQMY+emPuyAhAmkMftT9zGUD1D7Uq02MRQGgOUps1FxJAjO90GZkCIECvlAqJc2IUQKzH+0NGgRJAy+fXUtsADkAwbAX17TMRQIGs09fW/w5AkVLeAdmmGEA=",
          "dtype": "f8"
         },
         "yaxis": "y"
        },
        {
         "legendgroup": "c2",
         "mode": "markers",
         "name": "Custom Cluster 2",
         "type": "scatter",
         "x": {
          "bdata": "cElWoxHizj86AK/PtskLQHKbIMLRsxhAgkgpy8gs9j9VyoHYx7b/P2xxelFmrf4/6JxHCBZX7b+CtdeRnST8PxyKI1ni0eq/PkC4yzcDDEAAhLYMi7qqv1k27w2WUARAZhwEWYCSA0DjQaY9PugPQOZaGFIlUQpAQNAko4qy8j8q2Yh/RCsGQIDmKvKlYZY/4Nh3YAkL3z9tCnimDA0GQJ2cFo8hEATAnkHqo1Hg4T/oMGUapGDovwgj6Q8BatW/lCVOvbrHG0AAN62DK6MQQLvpTqUXGew/Qj6FiATo8D8CuFbR8lbmP4Bjzjce0/Y/eDiRQ6g05T/4aWXeZgoGQKfYH6TL3RVAOJaRkmRs8z86WYATCeMWQO3bzUAK3QpAhcD5PWAo/D/w4eAzeV63P8We6XFOUQ5A7OmryspiD0BsEapUbnz0v21gR7sRxQ1AIFB6/AOT07+zNR/xofcIQJ6/XVROruw/aLFV8ad+7j+QMFxJBCXav1Y52E2zP+S/HmSc3jR98T/mYJjz6UvyP1BamYAVQvk/6biLwpcfAUDE9tpXDYnYv5Sw06WOK9s//ARzlV4/07/JALyGU8jvv6I+cw/2NfU/H2aBioLrCkAXJ7YSPL/yP/Sk+vuQvBZA9gnitF/yCEBwEdPQ0OfwvxYdWMNs0B5AKb8eKZpuAUAGBbJweSoXQEwmTtpJaQ5AOIK9LbbuBUCy2/E16XX/PyxSRrIf5PO/IDbR8vxHA0Dw+cxh4x3Zv0dIaO/5NgFAKF5334Fm0D8MMPz5S13nPz+me1765xJA/vo4vK2R+z8lb8LzIZkOQLWlbESKMv8/rGCvPeUgAEBQA0b9VYzCPwzYG5KRJeQ/6gH65aZSEUBA633h35wEQLrxI8XdRQ5AyPAc3YDGD0DArf/x/pStv9Bl3btFmhpANI//54gCDEAAentyPRDiP9Cx2oRmZes/EHAEHxWM3T8sQ0iqL5XqPzKy9hkLGgBAM3biO/VODUCb2xgzIIoRQHw5QPGXFRBAFko67MZXDkCMzjtFw1X8P3w05Ou3++E/ZYbyR1Jr/j+M92KAUBkJQLp5SmWvoPC/GHktPRWG9D8oVij42CbbP7sWlLhG6f8/WO/aH05sCECDayjA5nL0P9Rw/yqKZQJAqIWgclmJ6j8C82jlnkIfQHwjka2se9U/jdBgq8jaFEA=",
          "dtype": "f8"
         },
         "xaxis": "x",
         "y": {
          "bdata": "fM/HhGh8BMDwDRiejNLVP6lm+MaF7vQ/2mJzdAHC/r+2c5fE7bsEQAoOZ+Ry4vg/aBkvYOCj179KkNOuL1kBQNgdy7xS770/fU/nv0pZ/D9aULii3RAAQKAj31H4HNM/6B61OV2m9z8sB26/DX8AwJSQsB7ab+M/wmrv3jPXC8B4y14TslsDQJh79WitJQbA4BRdo4yD07/sQoVjwVz5v9sDIfw2yhLAQlbMbPRF/r/y0R2jnrrtvwAhR1JDv6A/lClJz2L3/T+CxV96f4nRP5aI+hQJI/Y/S8Bj4DMq/T/EipvNLgH/Pz0AzoXzaPU/enly/ngKBUDwOMdsit/kP+bzbzNCbuq/82jkUaOoAkDiebwpezsIQBh5Zhd6VuG/hsP5j2Ow6b8As2iQn7nrP+OrN4Ex698/r/SQpfuYAMBQGMVIx8ADwOQxmdbCQ9C/ON5tyKBQwL/2BEMvL7gEQLiqp66ZzwBAWAdIr+svyT8CWslLYUEGwMDO09tVE/S/T46lmf0i8j867wFTeqH0Pyj7y9fb5ra/UJSNzrWk3T+Q7uaVCTTgP4DZicOX8Nm/TNn8qqOi9T9AaPkjYIK6vzi655LZGPC/o+QHxEXm8T/uwXvD7iUJwDgBwyyF5u0/Y/rgyOdoBUAA1LkKFWmIv3tZ5/Y7WOk/ULQ7BtwOAUDYdlc+9BsRwKrnb3XjBu0/kEyD3SNG9b9AuXDwXCP5P1jDafwVvuS/OOFvi4RuuT84S5lk5YD6vxhQf1X38wnALtMgxTco8r9eA3TKJSkFQMAZ5eS4Ls6/cA8GLZ2bwz/WRFpNsnfzPxT47BDYGMc/IrN9G7zM9D/F+m7BE5MFwBQtC2fyxA3AAIuBFiUN+z9gmDdku7rQP7p17OGHEwVAtZU10ESd/D9jH3MUMHsDQMBtSH43X+U/5XOkiX5zBkAoXg4dFYXoP0iuUVCmlgNA8Lore7pzuL/QgWUAU3MPwBoWdRhYh/0/XVOuOi07CMA+UoRgEvb7P3xJom00LdG/qKWHctCp+T94YwylWsfmP0abax8MYtM/GALrcwwk5D8YBsmDRZYDQPziiNKOk/i/HD+RbLlWCsDw4Hzvg2i0v7hUflo2Ue6/PdMSP6EiGMBJ1QFDNULyP9ZkAlUj1wJAIMqG3rz9AUDQZ/VOuwn8v7obtD+pGQHAPzHPHVTdBUA=",
          "dtype": "f8"
         },
         "yaxis": "y"
        },
        {
         "legendgroup": "centroids",
         "marker": {
          "color": "lime",
          "size": 12,
          "symbol": "x"
         },
         "mode": "markers",
         "name": "Custom Centroids",
         "type": "scatter",
         "x": {
          "bdata": "dYooqcayCcAENJ+pZfTvPz9+bXp1zv8/",
          "dtype": "f8"
         },
         "xaxis": "x",
         "y": {
          "bdata": "sEwmSuw7A0Cnmsgyc9kVQOKYdOvZvr4/",
          "dtype": "f8"
         },
         "yaxis": "y"
        },
        {
         "legendgroup": "s0",
         "mode": "markers",
         "name": "Sklearn Cluster 0",
         "showlegend": false,
         "type": "scatter",
         "x": {
          "bdata": "cElWoxHizj86AK/PtskLQHKbIMLRsxhAgkgpy8gs9j9VyoHYx7b/P2xxelFmrf4/6JxHCBZX7b+CtdeRnST8PxyKI1ni0eq/PkC4yzcDDEAAhLYMi7qqv1k27w2WUARAZhwEWYCSA0DjQaY9PugPQOZaGFIlUQpAQNAko4qy8j8q2Yh/RCsGQIDmKvKlYZY/4Nh3YAkL3z9tCnimDA0GQJ2cFo8hEATAnkHqo1Hg4T/oMGUapGDovwgj6Q8BatW/lCVOvbrHG0AAN62DK6MQQLvpTqUXGew/Qj6FiATo8D8CuFbR8lbmP4Bjzjce0/Y/+Gll3mYKBkCn2B+ky90VQDiWkZJkbPM/OlmAEwnjFkDt281ACt0KQIXA+T1gKPw/8OHgM3letz/FnulxTlEOQOzpq8rKYg9AbBGqVG589L9tYEe7EcUNQCBQevwDk9O/szUf8aH3CECev11UTq7sP2ixVfGnfu4/kDBcSQQl2r9WOdhNsz/kvx5knN40ffE/5mCY8+lL8j9QWpmAFUL5P+m4i8KXHwFAxPbaVw2J2L+UsNOljivbP/wEc5VeP9O/yQC8hlPI77+iPnMP9jX1Px9mgYqC6wpAFye2Ejy/8j/0pPr7kLwWQPYJ4rRf8ghAFh1Yw2zQHkApvx4pmm4BQAYFsnB5KhdATCZO2klpDkA4gr0ttu4FQLLb8TXpdf8/LFJGsh/k878gNtHy/EcDQPD5zGHjHdm/R0ho7/k2AUAoXnffgWbQPz+me1765xJA/vo4vK2R+z8lb8LzIZkOQLWlbESKMv8/rGCvPeUgAEBQA0b9VYzCPwzYG5KRJeQ/6gH65aZSEUBA633h35wEQLrxI8XdRQ5AyPAc3YDGD0DQZd27RZoaQDSP/+eIAgxAAHp7cj0Q4j/QsdqEZmXrPxBwBB8VjN0/LENIqi+V6j8ysvYZCxoAQDN24jv1Tg1Am9sYMyCKEUB8OUDxlxUQQBZKOuzGVw5AjM47RcNV/D98NOTrt/vhP2WG8kdSa/4/jPdigFAZCUC6eUplr6Dwvxh5LT0VhvQ/KFYo+Ngm2z+7FpS4Run/P1jv2h9ObAhAg2sowOZy9D/UcP8qimUCQKiFoHJZieo/AvNo5Z5CH0B8I5GtrHvVP43QYKvI2hRA",
          "dtype": "f8"
         },
         "xaxis": "x2",
         "y": {
          "bdata": "fM/HhGh8BMDwDRiejNLVP6lm+MaF7vQ/2mJzdAHC/r+2c5fE7bsEQAoOZ+Ry4vg/aBkvYOCj179KkNOuL1kBQNgdy7xS770/fU/nv0pZ/D9aULii3RAAQKAj31H4HNM/6B61OV2m9z8sB26/DX8AwJSQsB7ab+M/wmrv3jPXC8B4y14TslsDQJh79WitJQbA4BRdo4yD07/sQoVjwVz5v9sDIfw2yhLAQlbMbPRF/r/y0R2jnrrtvwAhR1JDv6A/lClJz2L3/T+CxV96f4nRP5aI+hQJI/Y/S8Bj4DMq/T/EipvNLgH/Pz0AzoXzaPU/8DjHbIrf5D/m828zQm7qv/No5FGjqAJA4nm8KXs7CEAYeWYXelbhv4bD+Y9jsOm/ALNokJ+56z/jqzeBMevfP6/0kKX7mADAUBjFSMfAA8DkMZnWwkPQvzjebcigUMC/9gRDLy+4BEC4qqeumc8AQFgHSK/rL8k/AlrJS2FBBsDAztPbVRP0v0+OpZn9IvI/Ou8BU3qh9D8o+8vX2+a2v1CUjc61pN0/kO7mlQk04D+A2YnDl/DZv0zZ/KqjovU/QGj5I2CCur84uueS2Rjwv6PkB8RF5vE/7sF7w+4lCcA4AcMshebtP2P64MjnaAVAe1nn9jtY6T9QtDsG3A4BQNh2Vz70GxHAqudvdeMG7T+QTIPdI0b1v0C5cPBcI/k/WMNp/BW+5L844W+LhG65PzhLmWTlgPq/GFB/VffzCcAu0yDFNyjyv8AZ5eS4Ls6/cA8GLZ2bwz/WRFpNsnfzPxT47BDYGMc/IrN9G7zM9D/F+m7BE5MFwBQtC2fyxA3AAIuBFiUN+z9gmDdku7rQP7p17OGHEwVAtZU10ESd/D/AbUh+N1/lP+VzpIl+cwZAKF4OHRWF6D9IrlFQppYDQPC6K3u6c7i/0IFlAFNzD8AaFnUYWIf9P11TrjotOwjAPlKEYBL2+z98SaJtNC3Rv6ilh3LQqfk/eGMMpVrH5j9Gm2sfDGLTPxgC63MMJOQ/GAbJg0WWA0D84ojSjpP4vxw/kWy5VgrA8OB874NotL+4VH5aNlHuvz3TEj+hIhjASdUBQzVC8j/WZAJVI9cCQCDKht68/QFA0Gf1TrsJ/L+6G7Q/qRkBwD8xzx1U3QVA",
          "dtype": "f8"
         },
         "yaxis": "y2"
        },
        {
         "legendgroup": "s1",
         "mode": "markers",
         "name": "Sklearn Cluster 1",
         "showlegend": false,
         "type": "scatter",
         "x": {
          "bdata": "HD2ZQCHe+7/6m5dEJpsAwCRXG2LZFfi/9Ka3peorCMB07x7B4WwPwFajn5GQSAbAjolyl+GNAMByE/nwv/8EwMOONeV36xbAi22pLoDRDsBAwJRPYVL6vy7D5xwvaBDAZEzEDyugGcA0HPTV6W7+vwTorNlGR/6/nCdQ/JHf8b+a0GAl+pkHwBCjWGeXxgnASHyurdW/HcCJwcSqMeYRwMgATMFq/hzAQ3UpM7HNHcBnJLwCzJAGwGZFG5XQKhTAMdtieQuCAsA0UV4IAhT4v2A307StkhTAbPMt2xyE8L90meoZppwVwHrYqp667QLALqe4FhhvFsAqdUSiJ6MPwPzdsF65cgHA9Gp65nvoA8BA+JRJFY78v/CDaQxNqwzAqH5PKR2FAcBSFjuk74AcwGhNdv8l1f+/Ef5cy7sNG8AqdXT4CyoDwHhAe9KN5xLAbf3B+6seBMD+CtwXNUL6v6/9zGPSfe2/6qqz78NlAsAM5F4r16oAwPP8PioqTQfAcBHT0NDn8L/WO6F4lmoJwEhAiPOqnQXAuNomprxJEMAReQB6fqL9vwpDr6lxgRHA6UcId9YDBsCuSdDdzssKwMGFl1WIugHAKBDkWt256r9S4vDjNssIwDjumRHjXhLAlw0m+YxFGsB5A6cer5cFwMCt//H+lK2/SLjYGik287/zIyoJZqcQwOMCovQCbhPA8hZ5JWdj+L9EEXAhPZYTwGRf75z3Yw7A3tfCBVRrBMCstKfO+KwCwEgIxrgGDALAejOfumK//L8s3G4jKd4LwJDz0j5ZjQXAJJruD/SfFcAktjuaCT7iv0WU9f7jYgnAzHD4ZF118L+uzCw66FMMwEWenB5EGg/A6nH+Ze5FAMA8j/N/wXcIwE5z5Wn5Vuy/",
          "dtype": "f8"
         },
         "xaxis": "x2",
         "y": {
          "bdata": "igp3S5o6C0DAzi/P4pjKPz6wOc4K8RBAEJogL088GECCmSZ2P+ztP6BtrFXs6fU/OIqYPx4gEEBgAZyPRvgKQJAVWHcoQeY/PEk5XHLFA0AwMhGPqB7oPz/JYOMcWABAioHsu1pK9D8hS6a+jmMDQLltsI+ErAlA6sqP+/xECUC9Z+6wu70MQJb+fItlphhASFXcEu+/B0Bp+4I6ka8YQEp1t05sXwxADrqmpOJPFED4MxFBtiHeP+B9SZh0Ffc/wVCK4NcyCUDwtuGeD3vVv+C6cpesrBNA9p2aXamjBEBGxrbHfrAPQNosusL2lPw/+hiRtksG8L9yToDcr6MNQHolo8W6sgNAFqE8n8Pu/D/7gnfunrwRQLwvMsWjifq/IudrGZXa/T+9yRt/f18PQGwMcoSmwuw/salEcUfRCUCrosPfdG/3P9rUrojURPc/gM2GdX/Lkz+S7Rdz0sALQGwDDvVMRuY/Gk5/O3msAkBQZXTZbVPkPzBvbu1Q3Ps/ANS5ChVpiL+MgNASBNwKQNlQxWEoAgNAOPSL3jTJBUCOUycI3TgJQPTJsBZnhRNAXvg/xeubFUBMXw5fMkYLQBtPAQgITPI/TcPEQibOBkDu1w8BzdcVQNbscmnFTgNAbk0fW6Eb+T9iv3l3jq8EwGMfcxQwewNAtl29N3LaBkBuQj/zvt8TQDiMLhmJBwDACJVKbW1H3D90b/1dIjnwP3lnLyCitv0/nEy/aX4G078a2EsaMzMAQCmNn3u64hNAEaqKF6Lk8D+vDmkxoSIFQGA+Lhry+uO/8A4EglfAF0DDh/OcgKgGQCfih9LjHfo/9zDylLtUBkBAoMgvG0K/P69ShDbpGgxAF345GTklBUBWbDkc7SwOQCvAaIfK5gFA",
          "dtype": "f8"
         },
         "yaxis": "y2"
        },
        {
         "legendgroup": "s2",
         "mode": "markers",
         "name": "Sklearn Cluster 2",
         "showlegend": false,
         "type": "scatter",
         "x": {
          "bdata": "JA4fUn/k9L+U79UN6gcHQGxIAyjUsgDA0iWYvu2PBkAYInYa+68AQJ3bJiWkv+W/2s4AfcYy9L9s9BmQDj0OQHgI1WC0Nfu/GiEz10Za7r8b6G0hMaz9v55Iz7iatvQ/dBrekt2T+j/U6bzh90zgP0jittnuq/S/EEnyd8qZ0z9Mer8Sce7Rv4BDhoedOxNA4mPeeLq05r/WtozwhaDjv/4vbjZGLwJAeDiRQ6g05T+EW3mURYn7P4pWf7uJ8/c/kCmkxSpMqz/E/ARI8EfyPxrMssMyOgpAliN1S6Xs67/ca2YajbwbQITKNTMEyOk/aS4+AYvYEkB6uwdpe5kBwAw12F+IwuY/zttWjFIK8D8LuDCDqM0NQPCPQMlUwQpAXgaJgP7f/T9Y5lfS+sjSP/S5aC7Yv/m/16MA5vC35L9cmrqnlYkZQDHjZ89hsvQ/XYWlyKaUFkDsu58sJM/UP+Re2SD6nte/+qNGr2KO5r8b4MSuPQ4BwKhvVQZV/P6/+MUle/mn5D8CiVQ/6T4BwBmlyppZHuq/0G0+9yQQ07/FQj0QkL4TQKDf6alZN6C/MB7+xrNQCsBvrNykPjUQQL6w/X5wdvw/Tq0AFibU8r8YIyj03X/pPwQRVs2LVwNAh1yDyvV65L+7p9uUXnPxP7RBp4UWFOo/qBRAkwna4b/OveneT4Hjv2hQMEEzNNG/qzQbTaDJEkCgwyt+rd3gPyoh/PPOYfU/xLyusa775j+A+r5KrkmAP3CJb8hWXt4/+gXatG787D9HFHDawoz7Pwww/PlLXec/4Q6bzHwXBEAgRrYH/rPZP+BACdi4kry/KSQ4XKW39j9QDFTJ6EK7P4g416xqGNY/Fpm8jXVg879Bb+XAdtH1PzDFxj77Tf+/2HMe1QhEyT8C83efQvP2v9C5KQZ7lcW/SzNuW4VFBsDIueLcbnAGQCohDPGJSfY/jC3w3oxBBUChGIrS5jHjv/IVC8p5kPg/+vrak9rPCkAj1n2lwGIPQPZ0UjElU+i/uMmUNkBy+z92gaufrpv4P8zai//3PgdAODVhBM7OxL83IOmGb8wKQOsNRKFuIhdAiOarGB2SD0Ai3MJEWGQGQKRBeRLhzBBAXA3g7iMNAkBwPhbfk0YCQLKXF3m2lPM/",
          "dtype": "f8"
         },
         "xaxis": "x2",
         "y": {
          "bdata": "xAfa0aNiHEAEF8f2kG4SQIhM0b6lqBlArkbEoo+dFUBsMRXVSI0UQO6zm2/I4R9AYMg3cowVFUB8/WQW75sQQK8eSYJ5whtAlD8LYI6bFkDUqbCOmAAXQEFX+YGsoRBA6BEjdGsoGkDcr3CahYUIQNCKsvUOvBFAkW9F2V09GUD4BxJcuCYWQAlyFf2i6B9Aglb1f5CIEUAXh25Zv/oXQDwOQ2AP3hxAenly/ngKBUAGn3SldrwMQOpDIi9G+xpAQwCG+YikDUCh1RACaD0UQA2IOmEFZxRA7kUDCZlSIEC2/Awa8qgaQElH1ieeLCFAVBPHAr9TDkAcNRHau+gaQAlZL8fRaxlArL5XDnSJIUDIZ+qpjcQXQMAjmziBVA9AvnkR0edHGEBd1Xz76AsKQE7YBM/1BxhACl3oQILtDkBEg2v7lpQeQDirPsYrPBVAMGfRc41GGkDSEXA1VfQSQHNjKg7L7AxADNfKhz49C0Bbqdb3qNoaQFe18asxORpALNcPM2jhDEDZ2tEadP0YQEvHVr0kGR1AAOE9TTerCUCN9kT3D8YMQEzPYaCJcB1AYHgWGIhcIkAWTtCuKz0dQK6/xw+zlQtACqSuGGwoIkDg0yUJaH4RQHmKlrSqQw5ANqGMGSTXEUBXojZvxq8OQB+stml4yxlAA8OXo3pnD0BaFgLz6ywLQGpMcxNXQSJAbh5Q+kYWIkDXVRfV63IHQLrF77UEwh9AeHAB3DVSFUAEZwLKXWIMQHIB8tSD6AhAYvKOmZt/FUDcyFJJoHoeQF4DdMolKQVA/aGyY+1vGkD8j7xbRvcVQC4mSsCY2iFAxjnbvQllCkAr+LPiVMcSQLnTLVqoLxRAFYInqgUsFECY9i+dLP8UQN2Kfc1fUyJAPMY5i9zGEUBWVXXZvVkTQClsL4XcDxBA78hHfOXlIUCdYBD5O4QSQLgnRzrCkBdAnY7TNi5KFUAS1YHnLS8KQI/dydniowhAWJdZITVnD0CmmDP48NQOQC90zRAHcA9AEJkfiEzrDUDGPnpj7sgIQJpDH7U/cxlA9Q+1KtNjEUBoDlKbNRcSQIzvdBmZAiBAr5QKiXNiFECsx/tDRoESQMvn11LbAA5AMGwF9e0zEUCBrNPX1v8OQJFS3gHZphhA",
          "dtype": "f8"
         },
         "yaxis": "y2"
        },
        {
         "legendgroup": "centroids",
         "marker": {
          "color": "lightblue",
          "size": 12,
          "symbol": "x"
         },
         "mode": "markers",
         "name": "Sklearn Centroids",
         "showlegend": false,
         "type": "scatter",
         "x": {
          "bdata": "hENMbIHzAEDBrCnglNAIwJpEdVaOxu8/",
          "dtype": "f8"
         },
         "xaxis": "x2",
         "y": {
          "bdata": "wIJnn/lqrz/0nF0wtX4CQEQRjWTioxVA",
          "dtype": "f8"
         },
         "yaxis": "y2"
        }
       ],
       "layout": {
        "annotations": [
         {
          "font": {
           "size": 16
          },
          "showarrow": false,
          "text": "Custom KMeans",
          "x": 0.225,
          "xanchor": "center",
          "xref": "paper",
          "y": 1,
          "yanchor": "bottom",
          "yref": "paper"
         },
         {
          "font": {
           "size": 16
          },
          "showarrow": false,
          "text": "Sklearn KMeans",
          "x": 0.775,
          "xanchor": "center",
          "xref": "paper",
          "y": 1,
          "yanchor": "bottom",
          "yref": "paper"
         }
        ],
        "height": 500,
        "template": {
         "data": {
          "bar": [
           {
            "error_x": {
             "color": "#f2f5fa"
            },
            "error_y": {
             "color": "#f2f5fa"
            },
            "marker": {
             "line": {
              "color": "rgb(17,17,17)",
              "width": 0.5
             },
             "pattern": {
              "fillmode": "overlay",
              "size": 10,
              "solidity": 0.2
             }
            },
            "type": "bar"
           }
          ],
          "barpolar": [
           {
            "marker": {
             "line": {
              "color": "rgb(17,17,17)",
              "width": 0.5
             },
             "pattern": {
              "fillmode": "overlay",
              "size": 10,
              "solidity": 0.2
             }
            },
            "type": "barpolar"
           }
          ],
          "carpet": [
           {
            "aaxis": {
             "endlinecolor": "#A2B1C6",
             "gridcolor": "#506784",
             "linecolor": "#506784",
             "minorgridcolor": "#506784",
             "startlinecolor": "#A2B1C6"
            },
            "baxis": {
             "endlinecolor": "#A2B1C6",
             "gridcolor": "#506784",
             "linecolor": "#506784",
             "minorgridcolor": "#506784",
             "startlinecolor": "#A2B1C6"
            },
            "type": "carpet"
           }
          ],
          "choropleth": [
           {
            "colorbar": {
             "outlinewidth": 0,
             "ticks": ""
            },
            "type": "choropleth"
           }
          ],
          "contour": [
           {
            "colorbar": {
             "outlinewidth": 0,
             "ticks": ""
            },
            "colorscale": [
             [
              0,
              "#0d0887"
             ],
             [
              0.1111111111111111,
              "#46039f"
             ],
             [
              0.2222222222222222,
              "#7201a8"
             ],
             [
              0.3333333333333333,
              "#9c179e"
             ],
             [
              0.4444444444444444,
              "#bd3786"
             ],
             [
              0.5555555555555556,
              "#d8576b"
             ],
             [
              0.6666666666666666,
              "#ed7953"
             ],
             [
              0.7777777777777778,
              "#fb9f3a"
             ],
             [
              0.8888888888888888,
              "#fdca26"
             ],
             [
              1,
              "#f0f921"
             ]
            ],
            "type": "contour"
           }
          ],
          "contourcarpet": [
           {
            "colorbar": {
             "outlinewidth": 0,
             "ticks": ""
            },
            "type": "contourcarpet"
           }
          ],
          "heatmap": [
           {
            "colorbar": {
             "outlinewidth": 0,
             "ticks": ""
            },
            "colorscale": [
             [
              0,
              "#0d0887"
             ],
             [
              0.1111111111111111,
              "#46039f"
             ],
             [
              0.2222222222222222,
              "#7201a8"
             ],
             [
              0.3333333333333333,
              "#9c179e"
             ],
             [
              0.4444444444444444,
              "#bd3786"
             ],
             [
              0.5555555555555556,
              "#d8576b"
             ],
             [
              0.6666666666666666,
              "#ed7953"
             ],
             [
              0.7777777777777778,
              "#fb9f3a"
             ],
             [
              0.8888888888888888,
              "#fdca26"
             ],
             [
              1,
              "#f0f921"
             ]
            ],
            "type": "heatmap"
           }
          ],
          "histogram": [
           {
            "marker": {
             "pattern": {
              "fillmode": "overlay",
              "size": 10,
              "solidity": 0.2
             }
            },
            "type": "histogram"
           }
          ],
          "histogram2d": [
           {
            "colorbar": {
             "outlinewidth": 0,
             "ticks": ""
            },
            "colorscale": [
             [
              0,
              "#0d0887"
             ],
             [
              0.1111111111111111,
              "#46039f"
             ],
             [
              0.2222222222222222,
              "#7201a8"
             ],
             [
              0.3333333333333333,
              "#9c179e"
             ],
             [
              0.4444444444444444,
              "#bd3786"
             ],
             [
              0.5555555555555556,
              "#d8576b"
             ],
             [
              0.6666666666666666,
              "#ed7953"
             ],
             [
              0.7777777777777778,
              "#fb9f3a"
             ],
             [
              0.8888888888888888,
              "#fdca26"
             ],
             [
              1,
              "#f0f921"
             ]
            ],
            "type": "histogram2d"
           }
          ],
          "histogram2dcontour": [
           {
            "colorbar": {
             "outlinewidth": 0,
             "ticks": ""
            },
            "colorscale": [
             [
              0,
              "#0d0887"
             ],
             [
              0.1111111111111111,
              "#46039f"
             ],
             [
              0.2222222222222222,
              "#7201a8"
             ],
             [
              0.3333333333333333,
              "#9c179e"
             ],
             [
              0.4444444444444444,
              "#bd3786"
             ],
             [
              0.5555555555555556,
              "#d8576b"
             ],
             [
              0.6666666666666666,
              "#ed7953"
             ],
             [
              0.7777777777777778,
              "#fb9f3a"
             ],
             [
              0.8888888888888888,
              "#fdca26"
             ],
             [
              1,
              "#f0f921"
             ]
            ],
            "type": "histogram2dcontour"
           }
          ],
          "mesh3d": [
           {
            "colorbar": {
             "outlinewidth": 0,
             "ticks": ""
            },
            "type": "mesh3d"
           }
          ],
          "parcoords": [
           {
            "line": {
             "colorbar": {
              "outlinewidth": 0,
              "ticks": ""
             }
            },
            "type": "parcoords"
           }
          ],
          "pie": [
           {
            "automargin": true,
            "type": "pie"
           }
          ],
          "scatter": [
           {
            "marker": {
             "line": {
              "color": "#283442"
             }
            },
            "type": "scatter"
           }
          ],
          "scatter3d": [
           {
            "line": {
             "colorbar": {
              "outlinewidth": 0,
              "ticks": ""
             }
            },
            "marker": {
             "colorbar": {
              "outlinewidth": 0,
              "ticks": ""
             }
            },
            "type": "scatter3d"
           }
          ],
          "scattercarpet": [
           {
            "marker": {
             "colorbar": {
              "outlinewidth": 0,
              "ticks": ""
             }
            },
            "type": "scattercarpet"
           }
          ],
          "scattergeo": [
           {
            "marker": {
             "colorbar": {
              "outlinewidth": 0,
              "ticks": ""
             }
            },
            "type": "scattergeo"
           }
          ],
          "scattergl": [
           {
            "marker": {
             "line": {
              "color": "#283442"
             }
            },
            "type": "scattergl"
           }
          ],
          "scattermap": [
           {
            "marker": {
             "colorbar": {
              "outlinewidth": 0,
              "ticks": ""
             }
            },
            "type": "scattermap"
           }
          ],
          "scattermapbox": [
           {
            "marker": {
             "colorbar": {
              "outlinewidth": 0,
              "ticks": ""
             }
            },
            "type": "scattermapbox"
           }
          ],
          "scatterpolar": [
           {
            "marker": {
             "colorbar": {
              "outlinewidth": 0,
              "ticks": ""
             }
            },
            "type": "scatterpolar"
           }
          ],
          "scatterpolargl": [
           {
            "marker": {
             "colorbar": {
              "outlinewidth": 0,
              "ticks": ""
             }
            },
            "type": "scatterpolargl"
           }
          ],
          "scatterternary": [
           {
            "marker": {
             "colorbar": {
              "outlinewidth": 0,
              "ticks": ""
             }
            },
            "type": "scatterternary"
           }
          ],
          "surface": [
           {
            "colorbar": {
             "outlinewidth": 0,
             "ticks": ""
            },
            "colorscale": [
             [
              0,
              "#0d0887"
             ],
             [
              0.1111111111111111,
              "#46039f"
             ],
             [
              0.2222222222222222,
              "#7201a8"
             ],
             [
              0.3333333333333333,
              "#9c179e"
             ],
             [
              0.4444444444444444,
              "#bd3786"
             ],
             [
              0.5555555555555556,
              "#d8576b"
             ],
             [
              0.6666666666666666,
              "#ed7953"
             ],
             [
              0.7777777777777778,
              "#fb9f3a"
             ],
             [
              0.8888888888888888,
              "#fdca26"
             ],
             [
              1,
              "#f0f921"
             ]
            ],
            "type": "surface"
           }
          ],
          "table": [
           {
            "cells": {
             "fill": {
              "color": "#506784"
             },
             "line": {
              "color": "rgb(17,17,17)"
             }
            },
            "header": {
             "fill": {
              "color": "#2a3f5f"
             },
             "line": {
              "color": "rgb(17,17,17)"
             }
            },
            "type": "table"
           }
          ]
         },
         "layout": {
          "annotationdefaults": {
           "arrowcolor": "#f2f5fa",
           "arrowhead": 0,
           "arrowwidth": 1
          },
          "autotypenumbers": "strict",
          "coloraxis": {
           "colorbar": {
            "outlinewidth": 0,
            "ticks": ""
           }
          },
          "colorscale": {
           "diverging": [
            [
             0,
             "#8e0152"
            ],
            [
             0.1,
             "#c51b7d"
            ],
            [
             0.2,
             "#de77ae"
            ],
            [
             0.3,
             "#f1b6da"
            ],
            [
             0.4,
             "#fde0ef"
            ],
            [
             0.5,
             "#f7f7f7"
            ],
            [
             0.6,
             "#e6f5d0"
            ],
            [
             0.7,
             "#b8e186"
            ],
            [
             0.8,
             "#7fbc41"
            ],
            [
             0.9,
             "#4d9221"
            ],
            [
             1,
             "#276419"
            ]
           ],
           "sequential": [
            [
             0,
             "#0d0887"
            ],
            [
             0.1111111111111111,
             "#46039f"
            ],
            [
             0.2222222222222222,
             "#7201a8"
            ],
            [
             0.3333333333333333,
             "#9c179e"
            ],
            [
             0.4444444444444444,
             "#bd3786"
            ],
            [
             0.5555555555555556,
             "#d8576b"
            ],
            [
             0.6666666666666666,
             "#ed7953"
            ],
            [
             0.7777777777777778,
             "#fb9f3a"
            ],
            [
             0.8888888888888888,
             "#fdca26"
            ],
            [
             1,
             "#f0f921"
            ]
           ],
           "sequentialminus": [
            [
             0,
             "#0d0887"
            ],
            [
             0.1111111111111111,
             "#46039f"
            ],
            [
             0.2222222222222222,
             "#7201a8"
            ],
            [
             0.3333333333333333,
             "#9c179e"
            ],
            [
             0.4444444444444444,
             "#bd3786"
            ],
            [
             0.5555555555555556,
             "#d8576b"
            ],
            [
             0.6666666666666666,
             "#ed7953"
            ],
            [
             0.7777777777777778,
             "#fb9f3a"
            ],
            [
             0.8888888888888888,
             "#fdca26"
            ],
            [
             1,
             "#f0f921"
            ]
           ]
          },
          "colorway": [
           "#636efa",
           "#EF553B",
           "#00cc96",
           "#ab63fa",
           "#FFA15A",
           "#19d3f3",
           "#FF6692",
           "#B6E880",
           "#FF97FF",
           "#FECB52"
          ],
          "font": {
           "color": "#f2f5fa"
          },
          "geo": {
           "bgcolor": "rgb(17,17,17)",
           "lakecolor": "rgb(17,17,17)",
           "landcolor": "rgb(17,17,17)",
           "showlakes": true,
           "showland": true,
           "subunitcolor": "#506784"
          },
          "hoverlabel": {
           "align": "left"
          },
          "hovermode": "closest",
          "mapbox": {
           "style": "dark"
          },
          "paper_bgcolor": "rgb(17,17,17)",
          "plot_bgcolor": "rgb(17,17,17)",
          "polar": {
           "angularaxis": {
            "gridcolor": "#506784",
            "linecolor": "#506784",
            "ticks": ""
           },
           "bgcolor": "rgb(17,17,17)",
           "radialaxis": {
            "gridcolor": "#506784",
            "linecolor": "#506784",
            "ticks": ""
           }
          },
          "scene": {
           "xaxis": {
            "backgroundcolor": "rgb(17,17,17)",
            "gridcolor": "#506784",
            "gridwidth": 2,
            "linecolor": "#506784",
            "showbackground": true,
            "ticks": "",
            "zerolinecolor": "#C8D4E3"
           },
           "yaxis": {
            "backgroundcolor": "rgb(17,17,17)",
            "gridcolor": "#506784",
            "gridwidth": 2,
            "linecolor": "#506784",
            "showbackground": true,
            "ticks": "",
            "zerolinecolor": "#C8D4E3"
           },
           "zaxis": {
            "backgroundcolor": "rgb(17,17,17)",
            "gridcolor": "#506784",
            "gridwidth": 2,
            "linecolor": "#506784",
            "showbackground": true,
            "ticks": "",
            "zerolinecolor": "#C8D4E3"
           }
          },
          "shapedefaults": {
           "line": {
            "color": "#f2f5fa"
           }
          },
          "sliderdefaults": {
           "bgcolor": "#C8D4E3",
           "bordercolor": "rgb(17,17,17)",
           "borderwidth": 1,
           "tickwidth": 0
          },
          "ternary": {
           "aaxis": {
            "gridcolor": "#506784",
            "linecolor": "#506784",
            "ticks": ""
           },
           "baxis": {
            "gridcolor": "#506784",
            "linecolor": "#506784",
            "ticks": ""
           },
           "bgcolor": "rgb(17,17,17)",
           "caxis": {
            "gridcolor": "#506784",
            "linecolor": "#506784",
            "ticks": ""
           }
          },
          "title": {
           "x": 0.05
          },
          "updatemenudefaults": {
           "bgcolor": "#506784",
           "borderwidth": 0
          },
          "xaxis": {
           "automargin": true,
           "gridcolor": "#283442",
           "linecolor": "#506784",
           "ticks": "",
           "title": {
            "standoff": 15
           },
           "zerolinecolor": "#283442",
           "zerolinewidth": 2
          },
          "yaxis": {
           "automargin": true,
           "gridcolor": "#283442",
           "linecolor": "#506784",
           "ticks": "",
           "title": {
            "standoff": 15
           },
           "zerolinecolor": "#283442",
           "zerolinewidth": 2
          }
         }
        },
        "title": {
         "text": "Comparison of Custom vs Sklearn KMeans"
        },
        "width": 1000,
        "xaxis": {
         "anchor": "y",
         "domain": [
          0,
          0.45
         ]
        },
        "xaxis2": {
         "anchor": "y2",
         "domain": [
          0.55,
          1
         ]
        },
        "yaxis": {
         "anchor": "x",
         "domain": [
          0,
          1
         ]
        },
        "yaxis2": {
         "anchor": "x2",
         "domain": [
          0,
          1
         ]
        }
       }
      }
     },
     "metadata": {},
     "output_type": "display_data"
    }
   ],
   "source": [
    "X, y = make_blobs(n_samples=300, centers=3, cluster_std=2.5, random_state=0)\n",
    "compare_kmeans_plot(X, n_clusters=3)"
   ]
  },
  {
   "cell_type": "code",
   "execution_count": 73,
   "id": "7fd5f818",
   "metadata": {},
   "outputs": [],
   "source": [
    "X = df.iloc[:, :-1].to_numpy() \n",
    "y = df.iloc[:, -1].to_numpy()   "
   ]
  },
  {
   "cell_type": "code",
   "execution_count": 43,
   "id": "e8f5a838",
   "metadata": {},
   "outputs": [],
   "source": [
    "def compare_kmeans_time_from_data(X, n_clusters=3, n_init=10, max_iter=300):\n",
    "    \"\"\"\n",
    "    Compares training and prediction time of custom vs sklearn KMeans.\n",
    "\n",
    "    Returns:\n",
    "    --------\n",
    "    pd.DataFrame\n",
    "    \"\"\"\n",
    "    import time\n",
    "    import pandas as pd\n",
    "    from mlfs.kmeans import KMeans as CustomKMeans\n",
    "    from sklearn.cluster import KMeans as SklearnKMeans\n",
    "\n",
    "    # Custom KMeans\n",
    "    custom_model = CustomKMeans(n_clusters=n_clusters, iterations=max_iter)\n",
    "    start = time.time()\n",
    "    _, _ = custom_model.fit(X)\n",
    "    fit_custom = time.time() - start\n",
    "\n",
    "    start = time.time()\n",
    "    _ = custom_model.predict(X)\n",
    "    predict_custom = time.time() - start\n",
    "\n",
    "    # Sklearn KMeans\n",
    "    sklearn_model = SklearnKMeans(n_clusters=n_clusters, n_init=n_init, max_iter=max_iter, random_state=42)\n",
    "    start = time.time()\n",
    "    sklearn_model.fit(X)\n",
    "    fit_sklearn = time.time() - start\n",
    "\n",
    "    start = time.time()\n",
    "    _ = sklearn_model.predict(X)\n",
    "    predict_sklearn = time.time() - start\n",
    "\n",
    "    return pd.DataFrame({\n",
    "        \"Model\": [\"CustomKMeans\", \"SklearnKMeans\"],\n",
    "        \"FitTime (s)\": [fit_custom, fit_sklearn],\n",
    "        \"PredictTime (s)\": [predict_custom, predict_sklearn]\n",
    "    })\n"
   ]
  },
  {
   "cell_type": "code",
   "execution_count": 44,
   "id": "bd4a3385",
   "metadata": {},
   "outputs": [
    {
     "name": "stdout",
     "output_type": "stream",
     "text": [
      "\n",
      "⏱️ Porównanie czasu:\n",
      "           Model  FitTime (s)  PredictTime (s)\n",
      "0   CustomKMeans     0.971678         0.002621\n",
      "1  SklearnKMeans     0.023500         0.000265\n"
     ]
    }
   ],
   "source": [
    "timing_df = compare_kmeans_time_from_data(X=X, n_clusters=3)\n",
    "print(\"\\n⏱️ Porównanie czasu:\")\n",
    "print(timing_df)\n"
   ]
  },
  {
   "cell_type": "code",
   "execution_count": 46,
   "id": "c91b5987",
   "metadata": {},
   "outputs": [],
   "source": [
    "from sklearn.datasets import make_blobs\n",
    "import matplotlib.pyplot as plt\n",
    "from mlfs.kmeans import KMeans as CustomKMeans\n",
    "from sklearn.cluster import KMeans as SklearnKMeans\n",
    "import time\n",
    "import pandas as pd\n",
    "def benchmark_kmeans_scalability(sample_sizes, n_clusters=3, n_features=4, max_iter=100):\n",
    "    \"\"\"\n",
    "    Benchmarks training time of CustomKMeans vs SklearnKMeans for increasing sample sizes.\n",
    "\n",
    "    Returns:\n",
    "    --------\n",
    "    pd.DataFrame\n",
    "    \"\"\"\n",
    "\n",
    "\n",
    "    records = []\n",
    "\n",
    "    for n_samples in sample_sizes:\n",
    "        X, _ = make_blobs(n_samples=n_samples, centers=n_clusters, n_features=n_features, random_state=42)\n",
    "\n",
    "        # Custom\n",
    "        custom_model = CustomKMeans(n_clusters=n_clusters, iterations=max_iter)\n",
    "        start = time.time()\n",
    "        custom_model.fit(X)\n",
    "        fit_custom = time.time() - start\n",
    "\n",
    "        # Sklearn\n",
    "        sklearn_model = SklearnKMeans(n_clusters=n_clusters, max_iter=max_iter, n_init=10, random_state=42)\n",
    "        start = time.time()\n",
    "        sklearn_model.fit(X)\n",
    "        fit_sklearn = time.time() - start\n",
    "\n",
    "        records.append({\n",
    "            \"Samples\": n_samples,\n",
    "            \"CustomKMeans\": fit_custom,\n",
    "            \"SklearnKMeans\": fit_sklearn\n",
    "        })\n",
    "\n",
    "    df = pd.DataFrame(records)\n",
    "\n",
    "    # Plot\n",
    "    plt.figure(figsize=(8, 5))\n",
    "    plt.plot(df[\"Samples\"], df[\"CustomKMeans\"], marker=\"o\", label=\"CustomKMeans\")\n",
    "    plt.plot(df[\"Samples\"], df[\"SklearnKMeans\"], marker=\"o\", label=\"SklearnKMeans\")\n",
    "    plt.title(\"KMeans Training Time vs Sample Size\")\n",
    "    plt.xlabel(\"Number of Samples\")\n",
    "    plt.ylabel(\"Fit Time (seconds)\")\n",
    "    plt.grid(True)\n",
    "    plt.legend()\n",
    "    plt.tight_layout()\n",
    "    plt.show()\n",
    "\n",
    "    return df\n"
   ]
  },
  {
   "cell_type": "code",
   "execution_count": 47,
   "id": "0bb5a912",
   "metadata": {},
   "outputs": [
    {
     "data": {
      "image/png": "[encoded data removed]",
      "text/plain": [
       "<Figure size 800x500 with 1 Axes>"
      ]
     },
     "metadata": {},
     "output_type": "display_data"
    },
    {
     "name": "stdout",
     "output_type": "stream",
     "text": [
      "\n",
      "📈 Skalowalność:\n",
      "   Samples  CustomKMeans  SklearnKMeans\n",
      "0      100      0.317271       0.020146\n",
      "1      500      1.074045       0.024346\n",
      "2     1000      2.055559       0.009569\n",
      "3     2000      4.167368       0.013336\n",
      "4     5000     10.217610       0.016262\n",
      "5    10000     21.019470       0.021227\n"
     ]
    }
   ],
   "source": [
    "sample_sizes = [100, 500, 1000, 2000, 5000, 10000]\n",
    "scalability_df = benchmark_kmeans_scalability(sample_sizes, n_clusters=3, n_features=X.shape[1])\n",
    "print(\"\\n📈 Skalowalność:\")\n",
    "print(scalability_df)\n"
   ]
  },
  {
   "cell_type": "markdown",
   "id": "73b2e8df",
   "metadata": {},
   "source": [
    "## 🔍 Comparison Summary\n",
    "\n",
    "- ⚙️ **Speed:**  \n",
    "  `scikit-learn` KMeans was significantly faster than the custom implementation.  \n",
    "  **Reason:** It is implemented in optimized low-level code (Cython/C), using efficient memory access and vectorized NumPy operations.  \n",
    "  In contrast, the custom version relies on pure Python loops, which are inherently slower for large datasets.\n",
    "\n",
    "- 📈 **Cluster Assignments:**  \n",
    "  Both implementations produced very similar cluster assignments and centroids across multiple datasets.  \n",
    "  **Reason:** Given the same initialization and convergence criteria, both aim to minimize the same distortion objective.\n",
    "\n",
    "- 🧮 **Inertia and Labels:**  \n",
    "  Final inertia values and label distributions were nearly identical between the two models.  \n",
    "  **Reason:** Despite implementation differences, the iterative optimization targets the same loss function:  \n",
    "  $$\n",
    "  J = \\sum_{i=1}^{m} \\left\\| x^{(i)} - \\mu_{c^{(i)}} \\right\\|^2\n",
    "  $$\n",
    "\n",
    "> ✅ In summary: `scikit-learn` is significantly more efficient, but the custom implementation behaves correctly and yields matching results — making it a reliable educational benchmark.\n"
   ]
  }
 ],
 "metadata": {
  "kernelspec": {
   "display_name": "Python (.venv mlfs)",
   "language": "python",
   "name": "mlfs_venv"
  },
  "language_info": {
   "codemirror_mode": {
    "name": "ipython",
    "version": 3
   },
   "file_extension": ".py",
   "mimetype": "text/x-python",
   "name": "python",
   "nbconvert_exporter": "python",
   "pygments_lexer": "ipython3",
   "version": "3.13.1"
  }
 },
 "nbformat": 4,
 "nbformat_minor": 5
}
