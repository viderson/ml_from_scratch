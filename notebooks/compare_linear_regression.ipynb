{
 "cells": [
  {
   "cell_type": "markdown",
   "id": "dfd6ebc5",
   "metadata": {},
   "source": [
    "# Linear Regression Model\n",
    "\n",
    "Linear regression is a fundamental model in machine learning used for predicting a continuous output variable based on input features. The model function for linear regression is represented as:\n",
    "\n",
    "$$f_{w,b}(x) = wx + b$$\n",
    "\n",
    "In this equation, $f_{w,b}(x)$ represents the predicted output, $w$ is the weight parameter, $b$ is the bias parameter, and $x$ is the input feature.\n",
    "\n",
    "## Model Training\n",
    "\n",
    "To train a linear regression model, we aim to find the best values for the parameters $(w, b)$ that best fit our dataset.\n",
    "\n",
    "### Forward Pass\n",
    "\n",
    "The forward pass is a step where we compute the linear regression output for the input data $X$ using the current weights and biases. It's essentially applying our model to the input data.\n",
    "\n",
    "### Cost Function\n",
    "\n",
    "The cost function is used to measure how well our model is performing. It quantifies the difference between the predicted values and the actual values in our dataset. The cost function is defined as:\n",
    "\n",
    "$$J(w,b) = \\frac{1}{2m} \\sum_{i=1}^{m}(f_{w,b}(x^{(i)}) - y^{(i)})^2$$\n",
    "\n",
    "Here, $J(w, b)$ is the cost, $m$ is the number of training examples, $x^{(i)}$ is the input data for the $i$-th example, $y^{(i)}$ is the actual output for the $i$-th example, and $w$ and $b$ are the weight and bias parameters, respectively.\n",
    "\n",
    "### Backward Pass (Gradient Computation)\n",
    "\n",
    "The backward pass computes the gradients of the cost function with respect to the weights and biases. These gradients are crucial for updating the model parameters during training. The gradient formulas are as follows:\n",
    "\n",
    "$$\n",
    "\\frac{\\partial J(w,b)}{\\partial b} = \\frac{1}{m} \\sum_{i=0}^{m-1} (f_{w,b}(X^{(i)}) - y^{(i)})\n",
    "$$\n",
    "\n",
    "$$\n",
    "\\frac{\\partial J(w,b)}{\\partial w} = \\frac{1}{m} \\sum_{i=0}^{m-1} (f_{w,b}(X^{(i)}) - y^{(i)})X^{(i)}\n",
    "$$\n",
    "\n",
    "## Training Process\n",
    "\n",
    "The training process involves iteratively updating the weights and biases to minimize the cost function. This is typically done through an optimization algorithm like gradient descent. The update equations for parameters are:\n",
    "\n",
    "$$w \\leftarrow w - \\alpha \\frac{\\partial J}{\\partial w}$$\n",
    "\n",
    "$$b \\leftarrow b - \\alpha \\frac{\\partial J}{\\partial b}$$\n",
    "\n",
    "Here, $\\alpha$ represents the learning rate, which controls the step size during parameter updates.\n",
    "\n",
    "By iteratively performing the forward pass, computing the cost, performing the backward pass, and updating the parameters, the model learns to make better predictions and fit the data.\n"
   ]
  },
  {
   "cell_type": "code",
   "execution_count": null,
   "id": "927c043f",
   "metadata": {},
   "outputs": [],
   "source": [
    "import time\n",
    "import numpy as np\n",
    "import pandas as pd\n",
    "import matplotlib.pyplot as plt\n",
    "from mlfs.linear_regression import LinearRegression as CustomLinearRegression\n",
    "from sklearn.linear_model import LinearRegression as SklearnLinearRegression"
   ]
  },
  {
   "cell_type": "code",
   "execution_count": 5,
   "id": "681aec19",
   "metadata": {},
   "outputs": [],
   "source": [
    "def generate_data(n_samples, n_features=10, noise=0.1, random_state=42):\n",
    "    rng = np.random.RandomState(random_state)\n",
    "    X = rng.randn(n_samples, n_features)\n",
    "    true_coef = rng.randn(n_features)\n",
    "    y = X.dot(true_coef) + noise * rng.randn(n_samples)\n",
    "    return X, y"
   ]
  },
  {
   "cell_type": "code",
   "execution_count": null,
   "id": "1f8bdefa",
   "metadata": {},
   "outputs": [],
   "source": [
    "def benchmark(n_samples_list, n_features=10, n_repeats=3):\n",
    "    results = []\n",
    "    for n in n_samples_list:\n",
    "        X, y = generate_data(n, n_features)\n",
    "        custom_times = {'fit': [], 'predict': []}\n",
    "        for _ in range(n_repeats):\n",
    "            model = CustomLinearRegression()\n",
    "            t0 = time.perf_counter()\n",
    "            model.fit(X, y)\n",
    "            t1 = time.perf_counter()\n",
    "            model.predict(X[:10])\n",
    "            t2 = time.perf_counter()\n",
    "            custom_times['fit'].append(t1 - t0)\n",
    "            custom_times['predict'].append(t2 - t1)\n",
    "        sklearn_times = {'fit': [], 'predict': []}\n",
    "        for _ in range(n_repeats):\n",
    "            model = SklearnLinearRegression()\n",
    "            t0 = time.perf_counter()\n",
    "            model.fit(X, y)\n",
    "            t1 = time.perf_counter()\n",
    "            model.predict(X[:10])\n",
    "            t2 = time.perf_counter()\n",
    "            sklearn_times['fit'].append(t1 - t0)\n",
    "            sklearn_times['predict'].append(t2 - t1)\n",
    "        results.append({\n",
    "            'n_samples': n,\n",
    "            'custom_fit': np.mean(custom_times['fit']),\n",
    "            'custom_predict': np.mean(custom_times['predict']),\n",
    "            'sklearn_fit': np.mean(sklearn_times['fit']),\n",
    "            'sklearn_predict': np.mean(sklearn_times['predict']),\n",
    "        })\n",
    "    return pd.DataFrame(results)\n"
   ]
  },
  {
   "cell_type": "code",
   "execution_count": null,
   "id": "0cc5ce35",
   "metadata": {},
   "outputs": [
    {
     "name": "stdout",
     "output_type": "stream",
     "text": [
      "Iteration 0: Cost = 2.809339\n",
      "Iteration 100: Cost = 0.483346\n",
      "Iteration 200: Cost = 0.106161\n",
      "Iteration 300: Cost = 0.031393\n",
      "Iteration 400: Cost = 0.013077\n",
      "Iteration 500: Cost = 0.007663\n",
      "Iteration 600: Cost = 0.005839\n",
      "Iteration 700: Cost = 0.005176\n",
      "Iteration 800: Cost = 0.004924\n",
      "Convergence reached at iteration 844\n"
     ]
    },
    {
     "data": {
      "application/vnd.plotly.v1+json": {
       "config": {
        "plotlyServerURL": "https://plot.ly"
       },
       "data": [
        {
         "hovertemplate": "x=%{x}<br>y=%{y}<extra></extra>",
         "legendgroup": "",
         "line": {
          "color": "#636efa",
          "dash": "solid"
         },
         "marker": {
          "symbol": "circle"
         },
         "mode": "lines",
         "name": "",
         "orientation": "v",
         "showlegend": false,
         "type": "scatter",
         "x": {
          "bdata": "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",
          "dtype": "i2"
         },
         "xaxis": "x",
         "y": {
          "bdata": "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",
          "dtype": "f8"
         },
         "yaxis": "y"
        }
       ],
       "layout": {
        "legend": {
         "tracegroupgap": 0
        },
        "template": {
         "data": {
          "bar": [
           {
            "error_x": {
             "color": "#f2f5fa"
            },
            "error_y": {
             "color": "#f2f5fa"
            },
            "marker": {
             "line": {
              "color": "rgb(17,17,17)",
              "width": 0.5
             },
             "pattern": {
              "fillmode": "overlay",
              "size": 10,
              "solidity": 0.2
             }
            },
            "type": "bar"
           }
          ],
          "barpolar": [
           {
            "marker": {
             "line": {
              "color": "rgb(17,17,17)",
              "width": 0.5
             },
             "pattern": {
              "fillmode": "overlay",
              "size": 10,
              "solidity": 0.2
             }
            },
            "type": "barpolar"
           }
          ],
          "carpet": [
           {
            "aaxis": {
             "endlinecolor": "#A2B1C6",
             "gridcolor": "#506784",
             "linecolor": "#506784",
             "minorgridcolor": "#506784",
             "startlinecolor": "#A2B1C6"
            },
            "baxis": {
             "endlinecolor": "#A2B1C6",
             "gridcolor": "#506784",
             "linecolor": "#506784",
             "minorgridcolor": "#506784",
             "startlinecolor": "#A2B1C6"
            },
            "type": "carpet"
           }
          ],
          "choropleth": [
           {
            "colorbar": {
             "outlinewidth": 0,
             "ticks": ""
            },
            "type": "choropleth"
           }
          ],
          "contour": [
           {
            "colorbar": {
             "outlinewidth": 0,
             "ticks": ""
            },
            "colorscale": [
             [
              0,
              "#0d0887"
             ],
             [
              0.1111111111111111,
              "#46039f"
             ],
             [
              0.2222222222222222,
              "#7201a8"
             ],
             [
              0.3333333333333333,
              "#9c179e"
             ],
             [
              0.4444444444444444,
              "#bd3786"
             ],
             [
              0.5555555555555556,
              "#d8576b"
             ],
             [
              0.6666666666666666,
              "#ed7953"
             ],
             [
              0.7777777777777778,
              "#fb9f3a"
             ],
             [
              0.8888888888888888,
              "#fdca26"
             ],
             [
              1,
              "#f0f921"
             ]
            ],
            "type": "contour"
           }
          ],
          "contourcarpet": [
           {
            "colorbar": {
             "outlinewidth": 0,
             "ticks": ""
            },
            "type": "contourcarpet"
           }
          ],
          "heatmap": [
           {
            "colorbar": {
             "outlinewidth": 0,
             "ticks": ""
            },
            "colorscale": [
             [
              0,
              "#0d0887"
             ],
             [
              0.1111111111111111,
              "#46039f"
             ],
             [
              0.2222222222222222,
              "#7201a8"
             ],
             [
              0.3333333333333333,
              "#9c179e"
             ],
             [
              0.4444444444444444,
              "#bd3786"
             ],
             [
              0.5555555555555556,
              "#d8576b"
             ],
             [
              0.6666666666666666,
              "#ed7953"
             ],
             [
              0.7777777777777778,
              "#fb9f3a"
             ],
             [
              0.8888888888888888,
              "#fdca26"
             ],
             [
              1,
              "#f0f921"
             ]
            ],
            "type": "heatmap"
           }
          ],
          "histogram": [
           {
            "marker": {
             "pattern": {
              "fillmode": "overlay",
              "size": 10,
              "solidity": 0.2
             }
            },
            "type": "histogram"
           }
          ],
          "histogram2d": [
           {
            "colorbar": {
             "outlinewidth": 0,
             "ticks": ""
            },
            "colorscale": [
             [
              0,
              "#0d0887"
             ],
             [
              0.1111111111111111,
              "#46039f"
             ],
             [
              0.2222222222222222,
              "#7201a8"
             ],
             [
              0.3333333333333333,
              "#9c179e"
             ],
             [
              0.4444444444444444,
              "#bd3786"
             ],
             [
              0.5555555555555556,
              "#d8576b"
             ],
             [
              0.6666666666666666,
              "#ed7953"
             ],
             [
              0.7777777777777778,
              "#fb9f3a"
             ],
             [
              0.8888888888888888,
              "#fdca26"
             ],
             [
              1,
              "#f0f921"
             ]
            ],
            "type": "histogram2d"
           }
          ],
          "histogram2dcontour": [
           {
            "colorbar": {
             "outlinewidth": 0,
             "ticks": ""
            },
            "colorscale": [
             [
              0,
              "#0d0887"
             ],
             [
              0.1111111111111111,
              "#46039f"
             ],
             [
              0.2222222222222222,
              "#7201a8"
             ],
             [
              0.3333333333333333,
              "#9c179e"
             ],
             [
              0.4444444444444444,
              "#bd3786"
             ],
             [
              0.5555555555555556,
              "#d8576b"
             ],
             [
              0.6666666666666666,
              "#ed7953"
             ],
             [
              0.7777777777777778,
              "#fb9f3a"
             ],
             [
              0.8888888888888888,
              "#fdca26"
             ],
             [
              1,
              "#f0f921"
             ]
            ],
            "type": "histogram2dcontour"
           }
          ],
          "mesh3d": [
           {
            "colorbar": {
             "outlinewidth": 0,
             "ticks": ""
            },
            "type": "mesh3d"
           }
          ],
          "parcoords": [
           {
            "line": {
             "colorbar": {
              "outlinewidth": 0,
              "ticks": ""
             }
            },
            "type": "parcoords"
           }
          ],
          "pie": [
           {
            "automargin": true,
            "type": "pie"
           }
          ],
          "scatter": [
           {
            "marker": {
             "line": {
              "color": "#283442"
             }
            },
            "type": "scatter"
           }
          ],
          "scatter3d": [
           {
            "line": {
             "colorbar": {
              "outlinewidth": 0,
              "ticks": ""
             }
            },
            "marker": {
             "colorbar": {
              "outlinewidth": 0,
              "ticks": ""
             }
            },
            "type": "scatter3d"
           }
          ],
          "scattercarpet": [
           {
            "marker": {
             "colorbar": {
              "outlinewidth": 0,
              "ticks": ""
             }
            },
            "type": "scattercarpet"
           }
          ],
          "scattergeo": [
           {
            "marker": {
             "colorbar": {
              "outlinewidth": 0,
              "ticks": ""
             }
            },
            "type": "scattergeo"
           }
          ],
          "scattergl": [
           {
            "marker": {
             "line": {
              "color": "#283442"
             }
            },
            "type": "scattergl"
           }
          ],
          "scattermap": [
           {
            "marker": {
             "colorbar": {
              "outlinewidth": 0,
              "ticks": ""
             }
            },
            "type": "scattermap"
           }
          ],
          "scattermapbox": [
           {
            "marker": {
             "colorbar": {
              "outlinewidth": 0,
              "ticks": ""
             }
            },
            "type": "scattermapbox"
           }
          ],
          "scatterpolar": [
           {
            "marker": {
             "colorbar": {
              "outlinewidth": 0,
              "ticks": ""
             }
            },
            "type": "scatterpolar"
           }
          ],
          "scatterpolargl": [
           {
            "marker": {
             "colorbar": {
              "outlinewidth": 0,
              "ticks": ""
             }
            },
            "type": "scatterpolargl"
           }
          ],
          "scatterternary": [
           {
            "marker": {
             "colorbar": {
              "outlinewidth": 0,
              "ticks": ""
             }
            },
            "type": "scatterternary"
           }
          ],
          "surface": [
           {
            "colorbar": {
             "outlinewidth": 0,
             "ticks": ""
            },
            "colorscale": [
             [
              0,
              "#0d0887"
             ],
             [
              0.1111111111111111,
              "#46039f"
             ],
             [
              0.2222222222222222,
              "#7201a8"
             ],
             [
              0.3333333333333333,
              "#9c179e"
             ],
             [
              0.4444444444444444,
              "#bd3786"
             ],
             [
              0.5555555555555556,
              "#d8576b"
             ],
             [
              0.6666666666666666,
              "#ed7953"
             ],
             [
              0.7777777777777778,
              "#fb9f3a"
             ],
             [
              0.8888888888888888,
              "#fdca26"
             ],
             [
              1,
              "#f0f921"
             ]
            ],
            "type": "surface"
           }
          ],
          "table": [
           {
            "cells": {
             "fill": {
              "color": "#506784"
             },
             "line": {
              "color": "rgb(17,17,17)"
             }
            },
            "header": {
             "fill": {
              "color": "#2a3f5f"
             },
             "line": {
              "color": "rgb(17,17,17)"
             }
            },
            "type": "table"
           }
          ]
         },
         "layout": {
          "annotationdefaults": {
           "arrowcolor": "#f2f5fa",
           "arrowhead": 0,
           "arrowwidth": 1
          },
          "autotypenumbers": "strict",
          "coloraxis": {
           "colorbar": {
            "outlinewidth": 0,
            "ticks": ""
           }
          },
          "colorscale": {
           "diverging": [
            [
             0,
             "#8e0152"
            ],
            [
             0.1,
             "#c51b7d"
            ],
            [
             0.2,
             "#de77ae"
            ],
            [
             0.3,
             "#f1b6da"
            ],
            [
             0.4,
             "#fde0ef"
            ],
            [
             0.5,
             "#f7f7f7"
            ],
            [
             0.6,
             "#e6f5d0"
            ],
            [
             0.7,
             "#b8e186"
            ],
            [
             0.8,
             "#7fbc41"
            ],
            [
             0.9,
             "#4d9221"
            ],
            [
             1,
             "#276419"
            ]
           ],
           "sequential": [
            [
             0,
             "#0d0887"
            ],
            [
             0.1111111111111111,
             "#46039f"
            ],
            [
             0.2222222222222222,
             "#7201a8"
            ],
            [
             0.3333333333333333,
             "#9c179e"
            ],
            [
             0.4444444444444444,
             "#bd3786"
            ],
            [
             0.5555555555555556,
             "#d8576b"
            ],
            [
             0.6666666666666666,
             "#ed7953"
            ],
            [
             0.7777777777777778,
             "#fb9f3a"
            ],
            [
             0.8888888888888888,
             "#fdca26"
            ],
            [
             1,
             "#f0f921"
            ]
           ],
           "sequentialminus": [
            [
             0,
             "#0d0887"
            ],
            [
             0.1111111111111111,
             "#46039f"
            ],
            [
             0.2222222222222222,
             "#7201a8"
            ],
            [
             0.3333333333333333,
             "#9c179e"
            ],
            [
             0.4444444444444444,
             "#bd3786"
            ],
            [
             0.5555555555555556,
             "#d8576b"
            ],
            [
             0.6666666666666666,
             "#ed7953"
            ],
            [
             0.7777777777777778,
             "#fb9f3a"
            ],
            [
             0.8888888888888888,
             "#fdca26"
            ],
            [
             1,
             "#f0f921"
            ]
           ]
          },
          "colorway": [
           "#636efa",
           "#EF553B",
           "#00cc96",
           "#ab63fa",
           "#FFA15A",
           "#19d3f3",
           "#FF6692",
           "#B6E880",
           "#FF97FF",
           "#FECB52"
          ],
          "font": {
           "color": "#f2f5fa"
          },
          "geo": {
           "bgcolor": "rgb(17,17,17)",
           "lakecolor": "rgb(17,17,17)",
           "landcolor": "rgb(17,17,17)",
           "showlakes": true,
           "showland": true,
           "subunitcolor": "#506784"
          },
          "hoverlabel": {
           "align": "left"
          },
          "hovermode": "closest",
          "mapbox": {
           "style": "dark"
          },
          "paper_bgcolor": "rgb(17,17,17)",
          "plot_bgcolor": "rgb(17,17,17)",
          "polar": {
           "angularaxis": {
            "gridcolor": "#506784",
            "linecolor": "#506784",
            "ticks": ""
           },
           "bgcolor": "rgb(17,17,17)",
           "radialaxis": {
            "gridcolor": "#506784",
            "linecolor": "#506784",
            "ticks": ""
           }
          },
          "scene": {
           "xaxis": {
            "backgroundcolor": "rgb(17,17,17)",
            "gridcolor": "#506784",
            "gridwidth": 2,
            "linecolor": "#506784",
            "showbackground": true,
            "ticks": "",
            "zerolinecolor": "#C8D4E3"
           },
           "yaxis": {
            "backgroundcolor": "rgb(17,17,17)",
            "gridcolor": "#506784",
            "gridwidth": 2,
            "linecolor": "#506784",
            "showbackground": true,
            "ticks": "",
            "zerolinecolor": "#C8D4E3"
           },
           "zaxis": {
            "backgroundcolor": "rgb(17,17,17)",
            "gridcolor": "#506784",
            "gridwidth": 2,
            "linecolor": "#506784",
            "showbackground": true,
            "ticks": "",
            "zerolinecolor": "#C8D4E3"
           }
          },
          "shapedefaults": {
           "line": {
            "color": "#f2f5fa"
           }
          },
          "sliderdefaults": {
           "bgcolor": "#C8D4E3",
           "bordercolor": "rgb(17,17,17)",
           "borderwidth": 1,
           "tickwidth": 0
          },
          "ternary": {
           "aaxis": {
            "gridcolor": "#506784",
            "linecolor": "#506784",
            "ticks": ""
           },
           "baxis": {
            "gridcolor": "#506784",
            "linecolor": "#506784",
            "ticks": ""
           },
           "bgcolor": "rgb(17,17,17)",
           "caxis": {
            "gridcolor": "#506784",
            "linecolor": "#506784",
            "ticks": ""
           }
          },
          "title": {
           "x": 0.05
          },
          "updatemenudefaults": {
           "bgcolor": "#506784",
           "borderwidth": 0
          },
          "xaxis": {
           "automargin": true,
           "gridcolor": "#283442",
           "linecolor": "#506784",
           "ticks": "",
           "title": {
            "standoff": 15
           },
           "zerolinecolor": "#283442",
           "zerolinewidth": 2
          },
          "yaxis": {
           "automargin": true,
           "gridcolor": "#283442",
           "linecolor": "#506784",
           "ticks": "",
           "title": {
            "standoff": 15
           },
           "zerolinecolor": "#283442",
           "zerolinewidth": 2
          }
         }
        },
        "title": {
         "font": {
          "color": "#41BEE9"
         },
         "text": "Cost vs Iteration"
        },
        "xaxis": {
         "anchor": "y",
         "color": "#41BEE9",
         "domain": [
          0,
          1
         ],
         "title": {
          "text": "Iterations"
         }
        },
        "yaxis": {
         "anchor": "x",
         "color": "#41BEE9",
         "domain": [
          0,
          1
         ],
         "title": {
          "text": "Cost"
         }
        }
       }
      }
     },
     "metadata": {},
     "output_type": "display_data"
    },
    {
     "name": "stdout",
     "output_type": "stream",
     "text": [
      "Iteration 0: Cost = 2.812396\n",
      "Iteration 100: Cost = 0.484861\n",
      "Iteration 200: Cost = 0.106641\n",
      "Iteration 300: Cost = 0.031535\n",
      "Iteration 400: Cost = 0.013119\n",
      "Iteration 500: Cost = 0.007677\n",
      "Iteration 600: Cost = 0.005844\n",
      "Iteration 700: Cost = 0.005177\n",
      "Iteration 800: Cost = 0.004925\n",
      "Convergence reached at iteration 844\n"
     ]
    },
    {
     "data": {
      "application/vnd.plotly.v1+json": {
       "config": {
        "plotlyServerURL": "https://plot.ly"
       },
       "data": [
        {
         "hovertemplate": "x=%{x}<br>y=%{y}<extra></extra>",
         "legendgroup": "",
         "line": {
          "color": "#636efa",
          "dash": "solid"
         },
         "marker": {
          "symbol": "circle"
         },
         "mode": "lines",
         "name": "",
         "orientation": "v",
         "showlegend": false,
         "type": "scatter",
         "x": {
          "bdata": "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",
          "dtype": "i2"
         },
         "xaxis": "x",
         "y": {
          "bdata": "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",
          "dtype": "f8"
         },
         "yaxis": "y"
        }
       ],
       "layout": {
        "legend": {
         "tracegroupgap": 0
        },
        "template": {
         "data": {
          "bar": [
           {
            "error_x": {
             "color": "#f2f5fa"
            },
            "error_y": {
             "color": "#f2f5fa"
            },
            "marker": {
             "line": {
              "color": "rgb(17,17,17)",
              "width": 0.5
             },
             "pattern": {
              "fillmode": "overlay",
              "size": 10,
              "solidity": 0.2
             }
            },
            "type": "bar"
           }
          ],
          "barpolar": [
           {
            "marker": {
             "line": {
              "color": "rgb(17,17,17)",
              "width": 0.5
             },
             "pattern": {
              "fillmode": "overlay",
              "size": 10,
              "solidity": 0.2
             }
            },
            "type": "barpolar"
           }
          ],
          "carpet": [
           {
            "aaxis": {
             "endlinecolor": "#A2B1C6",
             "gridcolor": "#506784",
             "linecolor": "#506784",
             "minorgridcolor": "#506784",
             "startlinecolor": "#A2B1C6"
            },
            "baxis": {
             "endlinecolor": "#A2B1C6",
             "gridcolor": "#506784",
             "linecolor": "#506784",
             "minorgridcolor": "#506784",
             "startlinecolor": "#A2B1C6"
            },
            "type": "carpet"
           }
          ],
          "choropleth": [
           {
            "colorbar": {
             "outlinewidth": 0,
             "ticks": ""
            },
            "type": "choropleth"
           }
          ],
          "contour": [
           {
            "colorbar": {
             "outlinewidth": 0,
             "ticks": ""
            },
            "colorscale": [
             [
              0,
              "#0d0887"
             ],
             [
              0.1111111111111111,
              "#46039f"
             ],
             [
              0.2222222222222222,
              "#7201a8"
             ],
             [
              0.3333333333333333,
              "#9c179e"
             ],
             [
              0.4444444444444444,
              "#bd3786"
             ],
             [
              0.5555555555555556,
              "#d8576b"
             ],
             [
              0.6666666666666666,
              "#ed7953"
             ],
             [
              0.7777777777777778,
              "#fb9f3a"
             ],
             [
              0.8888888888888888,
              "#fdca26"
             ],
             [
              1,
              "#f0f921"
             ]
            ],
            "type": "contour"
           }
          ],
          "contourcarpet": [
           {
            "colorbar": {
             "outlinewidth": 0,
             "ticks": ""
            },
            "type": "contourcarpet"
           }
          ],
          "heatmap": [
           {
            "colorbar": {
             "outlinewidth": 0,
             "ticks": ""
            },
            "colorscale": [
             [
              0,
              "#0d0887"
             ],
             [
              0.1111111111111111,
              "#46039f"
             ],
             [
              0.2222222222222222,
              "#7201a8"
             ],
             [
              0.3333333333333333,
              "#9c179e"
             ],
             [
              0.4444444444444444,
              "#bd3786"
             ],
             [
              0.5555555555555556,
              "#d8576b"
             ],
             [
              0.6666666666666666,
              "#ed7953"
             ],
             [
              0.7777777777777778,
              "#fb9f3a"
             ],
             [
              0.8888888888888888,
              "#fdca26"
             ],
             [
              1,
              "#f0f921"
             ]
            ],
            "type": "heatmap"
           }
          ],
          "histogram": [
           {
            "marker": {
             "pattern": {
              "fillmode": "overlay",
              "size": 10,
              "solidity": 0.2
             }
            },
            "type": "histogram"
           }
          ],
          "histogram2d": [
           {
            "colorbar": {
             "outlinewidth": 0,
             "ticks": ""
            },
            "colorscale": [
             [
              0,
              "#0d0887"
             ],
             [
              0.1111111111111111,
              "#46039f"
             ],
             [
              0.2222222222222222,
              "#7201a8"
             ],
             [
              0.3333333333333333,
              "#9c179e"
             ],
             [
              0.4444444444444444,
              "#bd3786"
             ],
             [
              0.5555555555555556,
              "#d8576b"
             ],
             [
              0.6666666666666666,
              "#ed7953"
             ],
             [
              0.7777777777777778,
              "#fb9f3a"
             ],
             [
              0.8888888888888888,
              "#fdca26"
             ],
             [
              1,
              "#f0f921"
             ]
            ],
            "type": "histogram2d"
           }
          ],
          "histogram2dcontour": [
           {
            "colorbar": {
             "outlinewidth": 0,
             "ticks": ""
            },
            "colorscale": [
             [
              0,
              "#0d0887"
             ],
             [
              0.1111111111111111,
              "#46039f"
             ],
             [
              0.2222222222222222,
              "#7201a8"
             ],
             [
              0.3333333333333333,
              "#9c179e"
             ],
             [
              0.4444444444444444,
              "#bd3786"
             ],
             [
              0.5555555555555556,
              "#d8576b"
             ],
             [
              0.6666666666666666,
              "#ed7953"
             ],
             [
              0.7777777777777778,
              "#fb9f3a"
             ],
             [
              0.8888888888888888,
              "#fdca26"
             ],
             [
              1,
              "#f0f921"
             ]
            ],
            "type": "histogram2dcontour"
           }
          ],
          "mesh3d": [
           {
            "colorbar": {
             "outlinewidth": 0,
             "ticks": ""
            },
            "type": "mesh3d"
           }
          ],
          "parcoords": [
           {
            "line": {
             "colorbar": {
              "outlinewidth": 0,
              "ticks": ""
             }
            },
            "type": "parcoords"
           }
          ],
          "pie": [
           {
            "automargin": true,
            "type": "pie"
           }
          ],
          "scatter": [
           {
            "marker": {
             "line": {
              "color": "#283442"
             }
            },
            "type": "scatter"
           }
          ],
          "scatter3d": [
           {
            "line": {
             "colorbar": {
              "outlinewidth": 0,
              "ticks": ""
             }
            },
            "marker": {
             "colorbar": {
              "outlinewidth": 0,
              "ticks": ""
             }
            },
            "type": "scatter3d"
           }
          ],
          "scattercarpet": [
           {
            "marker": {
             "colorbar": {
              "outlinewidth": 0,
              "ticks": ""
             }
            },
            "type": "scattercarpet"
           }
          ],
          "scattergeo": [
           {
            "marker": {
             "colorbar": {
              "outlinewidth": 0,
              "ticks": ""
             }
            },
            "type": "scattergeo"
           }
          ],
          "scattergl": [
           {
            "marker": {
             "line": {
              "color": "#283442"
             }
            },
            "type": "scattergl"
           }
          ],
          "scattermap": [
           {
            "marker": {
             "colorbar": {
              "outlinewidth": 0,
              "ticks": ""
             }
            },
            "type": "scattermap"
           }
          ],
          "scattermapbox": [
           {
            "marker": {
             "colorbar": {
              "outlinewidth": 0,
              "ticks": ""
             }
            },
            "type": "scattermapbox"
           }
          ],
          "scatterpolar": [
           {
            "marker": {
             "colorbar": {
              "outlinewidth": 0,
              "ticks": ""
             }
            },
            "type": "scatterpolar"
           }
          ],
          "scatterpolargl": [
           {
            "marker": {
             "colorbar": {
              "outlinewidth": 0,
              "ticks": ""
             }
            },
            "type": "scatterpolargl"
           }
          ],
          "scatterternary": [
           {
            "marker": {
             "colorbar": {
              "outlinewidth": 0,
              "ticks": ""
             }
            },
            "type": "scatterternary"
           }
          ],
          "surface": [
           {
            "colorbar": {
             "outlinewidth": 0,
             "ticks": ""
            },
            "colorscale": [
             [
              0,
              "#0d0887"
             ],
             [
              0.1111111111111111,
              "#46039f"
             ],
             [
              0.2222222222222222,
              "#7201a8"
             ],
             [
              0.3333333333333333,
              "#9c179e"
             ],
             [
              0.4444444444444444,
              "#bd3786"
             ],
             [
              0.5555555555555556,
              "#d8576b"
             ],
             [
              0.6666666666666666,
              "#ed7953"
             ],
             [
              0.7777777777777778,
              "#fb9f3a"
             ],
             [
              0.8888888888888888,
              "#fdca26"
             ],
             [
              1,
              "#f0f921"
             ]
            ],
            "type": "surface"
           }
          ],
          "table": [
           {
            "cells": {
             "fill": {
              "color": "#506784"
             },
             "line": {
              "color": "rgb(17,17,17)"
             }
            },
            "header": {
             "fill": {
              "color": "#2a3f5f"
             },
             "line": {
              "color": "rgb(17,17,17)"
             }
            },
            "type": "table"
           }
          ]
         },
         "layout": {
          "annotationdefaults": {
           "arrowcolor": "#f2f5fa",
           "arrowhead": 0,
           "arrowwidth": 1
          },
          "autotypenumbers": "strict",
          "coloraxis": {
           "colorbar": {
            "outlinewidth": 0,
            "ticks": ""
           }
          },
          "colorscale": {
           "diverging": [
            [
             0,
             "#8e0152"
            ],
            [
             0.1,
             "#c51b7d"
            ],
            [
             0.2,
             "#de77ae"
            ],
            [
             0.3,
             "#f1b6da"
            ],
            [
             0.4,
             "#fde0ef"
            ],
            [
             0.5,
             "#f7f7f7"
            ],
            [
             0.6,
             "#e6f5d0"
            ],
            [
             0.7,
             "#b8e186"
            ],
            [
             0.8,
             "#7fbc41"
            ],
            [
             0.9,
             "#4d9221"
            ],
            [
             1,
             "#276419"
            ]
           ],
           "sequential": [
            [
             0,
             "#0d0887"
            ],
            [
             0.1111111111111111,
             "#46039f"
            ],
            [
             0.2222222222222222,
             "#7201a8"
            ],
            [
             0.3333333333333333,
             "#9c179e"
            ],
            [
             0.4444444444444444,
             "#bd3786"
            ],
            [
             0.5555555555555556,
             "#d8576b"
            ],
            [
             0.6666666666666666,
             "#ed7953"
            ],
            [
             0.7777777777777778,
             "#fb9f3a"
            ],
            [
             0.8888888888888888,
             "#fdca26"
            ],
            [
             1,
             "#f0f921"
            ]
           ],
           "sequentialminus": [
            [
             0,
             "#0d0887"
            ],
            [
             0.1111111111111111,
             "#46039f"
            ],
            [
             0.2222222222222222,
             "#7201a8"
            ],
            [
             0.3333333333333333,
             "#9c179e"
            ],
            [
             0.4444444444444444,
             "#bd3786"
            ],
            [
             0.5555555555555556,
             "#d8576b"
            ],
            [
             0.6666666666666666,
             "#ed7953"
            ],
            [
             0.7777777777777778,
             "#fb9f3a"
            ],
            [
             0.8888888888888888,
             "#fdca26"
            ],
            [
             1,
             "#f0f921"
            ]
           ]
          },
          "colorway": [
           "#636efa",
           "#EF553B",
           "#00cc96",
           "#ab63fa",
           "#FFA15A",
           "#19d3f3",
           "#FF6692",
           "#B6E880",
           "#FF97FF",
           "#FECB52"
          ],
          "font": {
           "color": "#f2f5fa"
          },
          "geo": {
           "bgcolor": "rgb(17,17,17)",
           "lakecolor": "rgb(17,17,17)",
           "landcolor": "rgb(17,17,17)",
           "showlakes": true,
           "showland": true,
           "subunitcolor": "#506784"
          },
          "hoverlabel": {
           "align": "left"
          },
          "hovermode": "closest",
          "mapbox": {
           "style": "dark"
          },
          "paper_bgcolor": "rgb(17,17,17)",
          "plot_bgcolor": "rgb(17,17,17)",
          "polar": {
           "angularaxis": {
            "gridcolor": "#506784",
            "linecolor": "#506784",
            "ticks": ""
           },
           "bgcolor": "rgb(17,17,17)",
           "radialaxis": {
            "gridcolor": "#506784",
            "linecolor": "#506784",
            "ticks": ""
           }
          },
          "scene": {
           "xaxis": {
            "backgroundcolor": "rgb(17,17,17)",
            "gridcolor": "#506784",
            "gridwidth": 2,
            "linecolor": "#506784",
            "showbackground": true,
            "ticks": "",
            "zerolinecolor": "#C8D4E3"
           },
           "yaxis": {
            "backgroundcolor": "rgb(17,17,17)",
            "gridcolor": "#506784",
            "gridwidth": 2,
            "linecolor": "#506784",
            "showbackground": true,
            "ticks": "",
            "zerolinecolor": "#C8D4E3"
           },
           "zaxis": {
            "backgroundcolor": "rgb(17,17,17)",
            "gridcolor": "#506784",
            "gridwidth": 2,
            "linecolor": "#506784",
            "showbackground": true,
            "ticks": "",
            "zerolinecolor": "#C8D4E3"
           }
          },
          "shapedefaults": {
           "line": {
            "color": "#f2f5fa"
           }
          },
          "sliderdefaults": {
           "bgcolor": "#C8D4E3",
           "bordercolor": "rgb(17,17,17)",
           "borderwidth": 1,
           "tickwidth": 0
          },
          "ternary": {
           "aaxis": {
            "gridcolor": "#506784",
            "linecolor": "#506784",
            "ticks": ""
           },
           "baxis": {
            "gridcolor": "#506784",
            "linecolor": "#506784",
            "ticks": ""
           },
           "bgcolor": "rgb(17,17,17)",
           "caxis": {
            "gridcolor": "#506784",
            "linecolor": "#506784",
            "ticks": ""
           }
          },
          "title": {
           "x": 0.05
          },
          "updatemenudefaults": {
           "bgcolor": "#506784",
           "borderwidth": 0
          },
          "xaxis": {
           "automargin": true,
           "gridcolor": "#283442",
           "linecolor": "#506784",
           "ticks": "",
           "title": {
            "standoff": 15
           },
           "zerolinecolor": "#283442",
           "zerolinewidth": 2
          },
          "yaxis": {
           "automargin": true,
           "gridcolor": "#283442",
           "linecolor": "#506784",
           "ticks": "",
           "title": {
            "standoff": 15
           },
           "zerolinecolor": "#283442",
           "zerolinewidth": 2
          }
         }
        },
        "title": {
         "font": {
          "color": "#41BEE9"
         },
         "text": "Cost vs Iteration"
        },
        "xaxis": {
         "anchor": "y",
         "color": "#41BEE9",
         "domain": [
          0,
          1
         ],
         "title": {
          "text": "Iterations"
         }
        },
        "yaxis": {
         "anchor": "x",
         "color": "#41BEE9",
         "domain": [
          0,
          1
         ],
         "title": {
          "text": "Cost"
         }
        }
       }
      }
     },
     "metadata": {},
     "output_type": "display_data"
    },
    {
     "name": "stdout",
     "output_type": "stream",
     "text": [
      "Iteration 0: Cost = 2.804468\n",
      "Iteration 100: Cost = 0.482424\n",
      "Iteration 200: Cost = 0.106065\n",
      "Iteration 300: Cost = 0.031400\n",
      "Iteration 400: Cost = 0.013086\n",
      "Iteration 500: Cost = 0.007668\n",
      "Iteration 600: Cost = 0.005841\n",
      "Iteration 700: Cost = 0.005176\n",
      "Iteration 800: Cost = 0.004924\n",
      "Convergence reached at iteration 844\n"
     ]
    },
    {
     "data": {
      "application/vnd.plotly.v1+json": {
       "config": {
        "plotlyServerURL": "https://plot.ly"
       },
       "data": [
        {
         "hovertemplate": "x=%{x}<br>y=%{y}<extra></extra>",
         "legendgroup": "",
         "line": {
          "color": "#636efa",
          "dash": "solid"
         },
         "marker": {
          "symbol": "circle"
         },
         "mode": "lines",
         "name": "",
         "orientation": "v",
         "showlegend": false,
         "type": "scatter",
         "x": {
          "bdata": "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",
          "dtype": "i2"
         },
         "xaxis": "x",
         "y": {
          "bdata": "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",
          "dtype": "f8"
         },
         "yaxis": "y"
        }
       ],
       "layout": {
        "legend": {
         "tracegroupgap": 0
        },
        "template": {
         "data": {
          "bar": [
           {
            "error_x": {
             "color": "#f2f5fa"
            },
            "error_y": {
             "color": "#f2f5fa"
            },
            "marker": {
             "line": {
              "color": "rgb(17,17,17)",
              "width": 0.5
             },
             "pattern": {
              "fillmode": "overlay",
              "size": 10,
              "solidity": 0.2
             }
            },
            "type": "bar"
           }
          ],
          "barpolar": [
           {
            "marker": {
             "line": {
              "color": "rgb(17,17,17)",
              "width": 0.5
             },
             "pattern": {
              "fillmode": "overlay",
              "size": 10,
              "solidity": 0.2
             }
            },
            "type": "barpolar"
           }
          ],
          "carpet": [
           {
            "aaxis": {
             "endlinecolor": "#A2B1C6",
             "gridcolor": "#506784",
             "linecolor": "#506784",
             "minorgridcolor": "#506784",
             "startlinecolor": "#A2B1C6"
            },
            "baxis": {
             "endlinecolor": "#A2B1C6",
             "gridcolor": "#506784",
             "linecolor": "#506784",
             "minorgridcolor": "#506784",
             "startlinecolor": "#A2B1C6"
            },
            "type": "carpet"
           }
          ],
          "choropleth": [
           {
            "colorbar": {
             "outlinewidth": 0,
             "ticks": ""
            },
            "type": "choropleth"
           }
          ],
          "contour": [
           {
            "colorbar": {
             "outlinewidth": 0,
             "ticks": ""
            },
            "colorscale": [
             [
              0,
              "#0d0887"
             ],
             [
              0.1111111111111111,
              "#46039f"
             ],
             [
              0.2222222222222222,
              "#7201a8"
             ],
             [
              0.3333333333333333,
              "#9c179e"
             ],
             [
              0.4444444444444444,
              "#bd3786"
             ],
             [
              0.5555555555555556,
              "#d8576b"
             ],
             [
              0.6666666666666666,
              "#ed7953"
             ],
             [
              0.7777777777777778,
              "#fb9f3a"
             ],
             [
              0.8888888888888888,
              "#fdca26"
             ],
             [
              1,
              "#f0f921"
             ]
            ],
            "type": "contour"
           }
          ],
          "contourcarpet": [
           {
            "colorbar": {
             "outlinewidth": 0,
             "ticks": ""
            },
            "type": "contourcarpet"
           }
          ],
          "heatmap": [
           {
            "colorbar": {
             "outlinewidth": 0,
             "ticks": ""
            },
            "colorscale": [
             [
              0,
              "#0d0887"
             ],
             [
              0.1111111111111111,
              "#46039f"
             ],
             [
              0.2222222222222222,
              "#7201a8"
             ],
             [
              0.3333333333333333,
              "#9c179e"
             ],
             [
              0.4444444444444444,
              "#bd3786"
             ],
             [
              0.5555555555555556,
              "#d8576b"
             ],
             [
              0.6666666666666666,
              "#ed7953"
             ],
             [
              0.7777777777777778,
              "#fb9f3a"
             ],
             [
              0.8888888888888888,
              "#fdca26"
             ],
             [
              1,
              "#f0f921"
             ]
            ],
            "type": "heatmap"
           }
          ],
          "histogram": [
           {
            "marker": {
             "pattern": {
              "fillmode": "overlay",
              "size": 10,
              "solidity": 0.2
             }
            },
            "type": "histogram"
           }
          ],
          "histogram2d": [
           {
            "colorbar": {
             "outlinewidth": 0,
             "ticks": ""
            },
            "colorscale": [
             [
              0,
              "#0d0887"
             ],
             [
              0.1111111111111111,
              "#46039f"
             ],
             [
              0.2222222222222222,
              "#7201a8"
             ],
             [
              0.3333333333333333,
              "#9c179e"
             ],
             [
              0.4444444444444444,
              "#bd3786"
             ],
             [
              0.5555555555555556,
              "#d8576b"
             ],
             [
              0.6666666666666666,
              "#ed7953"
             ],
             [
              0.7777777777777778,
              "#fb9f3a"
             ],
             [
              0.8888888888888888,
              "#fdca26"
             ],
             [
              1,
              "#f0f921"
             ]
            ],
            "type": "histogram2d"
           }
          ],
          "histogram2dcontour": [
           {
            "colorbar": {
             "outlinewidth": 0,
             "ticks": ""
            },
            "colorscale": [
             [
              0,
              "#0d0887"
             ],
             [
              0.1111111111111111,
              "#46039f"
             ],
             [
              0.2222222222222222,
              "#7201a8"
             ],
             [
              0.3333333333333333,
              "#9c179e"
             ],
             [
              0.4444444444444444,
              "#bd3786"
             ],
             [
              0.5555555555555556,
              "#d8576b"
             ],
             [
              0.6666666666666666,
              "#ed7953"
             ],
             [
              0.7777777777777778,
              "#fb9f3a"
             ],
             [
              0.8888888888888888,
              "#fdca26"
             ],
             [
              1,
              "#f0f921"
             ]
            ],
            "type": "histogram2dcontour"
           }
          ],
          "mesh3d": [
           {
            "colorbar": {
             "outlinewidth": 0,
             "ticks": ""
            },
            "type": "mesh3d"
           }
          ],
          "parcoords": [
           {
            "line": {
             "colorbar": {
              "outlinewidth": 0,
              "ticks": ""
             }
            },
            "type": "parcoords"
           }
          ],
          "pie": [
           {
            "automargin": true,
            "type": "pie"
           }
          ],
          "scatter": [
           {
            "marker": {
             "line": {
              "color": "#283442"
             }
            },
            "type": "scatter"
           }
          ],
          "scatter3d": [
           {
            "line": {
             "colorbar": {
              "outlinewidth": 0,
              "ticks": ""
             }
            },
            "marker": {
             "colorbar": {
              "outlinewidth": 0,
              "ticks": ""
             }
            },
            "type": "scatter3d"
           }
          ],
          "scattercarpet": [
           {
            "marker": {
             "colorbar": {
              "outlinewidth": 0,
              "ticks": ""
             }
            },
            "type": "scattercarpet"
           }
          ],
          "scattergeo": [
           {
            "marker": {
             "colorbar": {
              "outlinewidth": 0,
              "ticks": ""
             }
            },
            "type": "scattergeo"
           }
          ],
          "scattergl": [
           {
            "marker": {
             "line": {
              "color": "#283442"
             }
            },
            "type": "scattergl"
           }
          ],
          "scattermap": [
           {
            "marker": {
             "colorbar": {
              "outlinewidth": 0,
              "ticks": ""
             }
            },
            "type": "scattermap"
           }
          ],
          "scattermapbox": [
           {
            "marker": {
             "colorbar": {
              "outlinewidth": 0,
              "ticks": ""
             }
            },
            "type": "scattermapbox"
           }
          ],
          "scatterpolar": [
           {
            "marker": {
             "colorbar": {
              "outlinewidth": 0,
              "ticks": ""
             }
            },
            "type": "scatterpolar"
           }
          ],
          "scatterpolargl": [
           {
            "marker": {
             "colorbar": {
              "outlinewidth": 0,
              "ticks": ""
             }
            },
            "type": "scatterpolargl"
           }
          ],
          "scatterternary": [
           {
            "marker": {
             "colorbar": {
              "outlinewidth": 0,
              "ticks": ""
             }
            },
            "type": "scatterternary"
           }
          ],
          "surface": [
           {
            "colorbar": {
             "outlinewidth": 0,
             "ticks": ""
            },
            "colorscale": [
             [
              0,
              "#0d0887"
             ],
             [
              0.1111111111111111,
              "#46039f"
             ],
             [
              0.2222222222222222,
              "#7201a8"
             ],
             [
              0.3333333333333333,
              "#9c179e"
             ],
             [
              0.4444444444444444,
              "#bd3786"
             ],
             [
              0.5555555555555556,
              "#d8576b"
             ],
             [
              0.6666666666666666,
              "#ed7953"
             ],
             [
              0.7777777777777778,
              "#fb9f3a"
             ],
             [
              0.8888888888888888,
              "#fdca26"
             ],
             [
              1,
              "#f0f921"
             ]
            ],
            "type": "surface"
           }
          ],
          "table": [
           {
            "cells": {
             "fill": {
              "color": "#506784"
             },
             "line": {
              "color": "rgb(17,17,17)"
             }
            },
            "header": {
             "fill": {
              "color": "#2a3f5f"
             },
             "line": {
              "color": "rgb(17,17,17)"
             }
            },
            "type": "table"
           }
          ]
         },
         "layout": {
          "annotationdefaults": {
           "arrowcolor": "#f2f5fa",
           "arrowhead": 0,
           "arrowwidth": 1
          },
          "autotypenumbers": "strict",
          "coloraxis": {
           "colorbar": {
            "outlinewidth": 0,
            "ticks": ""
           }
          },
          "colorscale": {
           "diverging": [
            [
             0,
             "#8e0152"
            ],
            [
             0.1,
             "#c51b7d"
            ],
            [
             0.2,
             "#de77ae"
            ],
            [
             0.3,
             "#f1b6da"
            ],
            [
             0.4,
             "#fde0ef"
            ],
            [
             0.5,
             "#f7f7f7"
            ],
            [
             0.6,
             "#e6f5d0"
            ],
            [
             0.7,
             "#b8e186"
            ],
            [
             0.8,
             "#7fbc41"
            ],
            [
             0.9,
             "#4d9221"
            ],
            [
             1,
             "#276419"
            ]
           ],
           "sequential": [
            [
             0,
             "#0d0887"
            ],
            [
             0.1111111111111111,
             "#46039f"
            ],
            [
             0.2222222222222222,
             "#7201a8"
            ],
            [
             0.3333333333333333,
             "#9c179e"
            ],
            [
             0.4444444444444444,
             "#bd3786"
            ],
            [
             0.5555555555555556,
             "#d8576b"
            ],
            [
             0.6666666666666666,
             "#ed7953"
            ],
            [
             0.7777777777777778,
             "#fb9f3a"
            ],
            [
             0.8888888888888888,
             "#fdca26"
            ],
            [
             1,
             "#f0f921"
            ]
           ],
           "sequentialminus": [
            [
             0,
             "#0d0887"
            ],
            [
             0.1111111111111111,
             "#46039f"
            ],
            [
             0.2222222222222222,
             "#7201a8"
            ],
            [
             0.3333333333333333,
             "#9c179e"
            ],
            [
             0.4444444444444444,
             "#bd3786"
            ],
            [
             0.5555555555555556,
             "#d8576b"
            ],
            [
             0.6666666666666666,
             "#ed7953"
            ],
            [
             0.7777777777777778,
             "#fb9f3a"
            ],
            [
             0.8888888888888888,
             "#fdca26"
            ],
            [
             1,
             "#f0f921"
            ]
           ]
          },
          "colorway": [
           "#636efa",
           "#EF553B",
           "#00cc96",
           "#ab63fa",
           "#FFA15A",
           "#19d3f3",
           "#FF6692",
           "#B6E880",
           "#FF97FF",
           "#FECB52"
          ],
          "font": {
           "color": "#f2f5fa"
          },
          "geo": {
           "bgcolor": "rgb(17,17,17)",
           "lakecolor": "rgb(17,17,17)",
           "landcolor": "rgb(17,17,17)",
           "showlakes": true,
           "showland": true,
           "subunitcolor": "#506784"
          },
          "hoverlabel": {
           "align": "left"
          },
          "hovermode": "closest",
          "mapbox": {
           "style": "dark"
          },
          "paper_bgcolor": "rgb(17,17,17)",
          "plot_bgcolor": "rgb(17,17,17)",
          "polar": {
           "angularaxis": {
            "gridcolor": "#506784",
            "linecolor": "#506784",
            "ticks": ""
           },
           "bgcolor": "rgb(17,17,17)",
           "radialaxis": {
            "gridcolor": "#506784",
            "linecolor": "#506784",
            "ticks": ""
           }
          },
          "scene": {
           "xaxis": {
            "backgroundcolor": "rgb(17,17,17)",
            "gridcolor": "#506784",
            "gridwidth": 2,
            "linecolor": "#506784",
            "showbackground": true,
            "ticks": "",
            "zerolinecolor": "#C8D4E3"
           },
           "yaxis": {
            "backgroundcolor": "rgb(17,17,17)",
            "gridcolor": "#506784",
            "gridwidth": 2,
            "linecolor": "#506784",
            "showbackground": true,
            "ticks": "",
            "zerolinecolor": "#C8D4E3"
           },
           "zaxis": {
            "backgroundcolor": "rgb(17,17,17)",
            "gridcolor": "#506784",
            "gridwidth": 2,
            "linecolor": "#506784",
            "showbackground": true,
            "ticks": "",
            "zerolinecolor": "#C8D4E3"
           }
          },
          "shapedefaults": {
           "line": {
            "color": "#f2f5fa"
           }
          },
          "sliderdefaults": {
           "bgcolor": "#C8D4E3",
           "bordercolor": "rgb(17,17,17)",
           "borderwidth": 1,
           "tickwidth": 0
          },
          "ternary": {
           "aaxis": {
            "gridcolor": "#506784",
            "linecolor": "#506784",
            "ticks": ""
           },
           "baxis": {
            "gridcolor": "#506784",
            "linecolor": "#506784",
            "ticks": ""
           },
           "bgcolor": "rgb(17,17,17)",
           "caxis": {
            "gridcolor": "#506784",
            "linecolor": "#506784",
            "ticks": ""
           }
          },
          "title": {
           "x": 0.05
          },
          "updatemenudefaults": {
           "bgcolor": "#506784",
           "borderwidth": 0
          },
          "xaxis": {
           "automargin": true,
           "gridcolor": "#283442",
           "linecolor": "#506784",
           "ticks": "",
           "title": {
            "standoff": 15
           },
           "zerolinecolor": "#283442",
           "zerolinewidth": 2
          },
          "yaxis": {
           "automargin": true,
           "gridcolor": "#283442",
           "linecolor": "#506784",
           "ticks": "",
           "title": {
            "standoff": 15
           },
           "zerolinecolor": "#283442",
           "zerolinewidth": 2
          }
         }
        },
        "title": {
         "font": {
          "color": "#41BEE9"
         },
         "text": "Cost vs Iteration"
        },
        "xaxis": {
         "anchor": "y",
         "color": "#41BEE9",
         "domain": [
          0,
          1
         ],
         "title": {
          "text": "Iterations"
         }
        },
        "yaxis": {
         "anchor": "x",
         "color": "#41BEE9",
         "domain": [
          0,
          1
         ],
         "title": {
          "text": "Cost"
         }
        }
       }
      }
     },
     "metadata": {},
     "output_type": "display_data"
    },
    {
     "name": "stdout",
     "output_type": "stream",
     "text": [
      "Iteration 0: Cost = 3.033319\n",
      "Iteration 100: Cost = 0.397908\n",
      "Iteration 200: Cost = 0.058539\n",
      "Iteration 300: Cost = 0.012440\n",
      "Iteration 400: Cost = 0.005850\n",
      "Iteration 500: Cost = 0.004864\n",
      "Convergence reached at iteration 567\n"
     ]
    },
    {
     "data": {
      "application/vnd.plotly.v1+json": {
       "config": {
        "plotlyServerURL": "https://plot.ly"
       },
       "data": [
        {
         "hovertemplate": "x=%{x}<br>y=%{y}<extra></extra>",
         "legendgroup": "",
         "line": {
          "color": "#636efa",
          "dash": "solid"
         },
         "marker": {
          "symbol": "circle"
         },
         "mode": "lines",
         "name": "",
         "orientation": "v",
         "showlegend": false,
         "type": "scatter",
         "x": {
          "bdata": "AAABAAIAAwAEAAUABgAHAAgACQAKAAsADAANAA4ADwAQABEAEgATABQAFQAWABcAGAAZABoAGwAcAB0AHgAfACAAIQAiACMAJAAlACYAJwAoACkAKgArACwALQAuAC8AMAAxADIAMwA0ADUANgA3ADgAOQA6ADsAPAA9AD4APwBAAEEAQgBDAEQARQBGAEcASABJAEoASwBMAE0ATgBPAFAAUQBSAFMAVABVAFYAVwBYAFkAWgBbAFwAXQBeAF8AYABhAGIAYwBkAGUAZgBnAGgAaQBqAGsAbABtAG4AbwBwAHEAcgBzAHQAdQB2AHcAeAB5AHoAewB8AH0AfgB/AIAAgQCCAIMAhACFAIYAhwCIAIkAigCLAIwAjQCOAI8AkACRAJIAkwCUAJUAlgCXAJgAmQCaAJsAnACdAJ4AnwCgAKEAogCjAKQApQCmAKcAqACpAKoAqwCsAK0ArgCvALAAsQCyALMAtAC1ALYAtwC4ALkAugC7ALwAvQC+AL8AwADBAMIAwwDEAMUAxgDHAMgAyQDKAMsAzADNAM4AzwDQANEA0gDTANQA1QDWANcA2ADZANoA2wDcAN0A3gDfAOAA4QDiAOMA5ADlAOYA5wDoAOkA6gDrAOwA7QDuAO8A8ADxAPIA8wD0APUA9gD3APgA+QD6APsA/AD9AP4A/wAAAQEBAgEDAQQBBQEGAQcBCAEJAQoBCwEMAQ0BDgEPARABEQESARMBFAEVARYBFwEYARkBGgEbARwBHQEeAR8BIAEhASIBIwEkASUBJgEnASgBKQEqASsBLAEtAS4BLwEwATEBMgEzATQBNQE2ATcBOAE5AToBOwE8AT0BPgE/AUABQQFCAUMBRAFFAUYBRwFIAUkBSgFLAUwBTQFOAU8BUAFRAVIBUwFUAVUBVgFXAVgBWQFaAVsBXAFdAV4BXwFgAWEBYgFjAWQBZQFmAWcBaAFpAWoBawFsAW0BbgFvAXABcQFyAXMBdAF1AXYBdwF4AXkBegF7AXwBfQF+AX8BgAGBAYIBgwGEAYUBhgGHAYgBiQGKAYsBjAGNAY4BjwGQAZEBkgGTAZQBlQGWAZcBmAGZAZoBmwGcAZ0BngGfAaABoQGiAaMBpAGlAaYBpwGoAakBqgGrAawBrQGuAa8BsAGxAbIBswG0AbUBtgG3AbgBuQG6AbsBvAG9Ab4BvwHAAcEBwgHDAcQBxQHGAccByAHJAcoBywHMAc0BzgHPAdAB0QHSAdMB1AHVAdYB1wHYAdkB2gHbAdwB3QHeAd8B4AHhAeIB4wHkAeUB5gHnAegB6QHqAesB7AHtAe4B7wHwAfEB8gHzAfQB9QH2AfcB+AH5AfoB+wH8Af0B/gH/AQACAQICAgMCBAIFAgYCBwIIAgkCCgILAgwCDQIOAg8CEAIRAhICEwIUAhUCFgIXAhgCGQIaAhsCHAIdAh4CHwIgAiECIgIjAiQCJQImAicCKAIpAioCKwIsAi0CLgIvAjACMQIyAjMCNAI1AjYCNwI=",
          "dtype": "i2"
         },
         "xaxis": "x",
         "y": {
          "bdata": "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",
          "dtype": "f8"
         },
         "yaxis": "y"
        }
       ],
       "layout": {
        "legend": {
         "tracegroupgap": 0
        },
        "template": {
         "data": {
          "bar": [
           {
            "error_x": {
             "color": "#f2f5fa"
            },
            "error_y": {
             "color": "#f2f5fa"
            },
            "marker": {
             "line": {
              "color": "rgb(17,17,17)",
              "width": 0.5
             },
             "pattern": {
              "fillmode": "overlay",
              "size": 10,
              "solidity": 0.2
             }
            },
            "type": "bar"
           }
          ],
          "barpolar": [
           {
            "marker": {
             "line": {
              "color": "rgb(17,17,17)",
              "width": 0.5
             },
             "pattern": {
              "fillmode": "overlay",
              "size": 10,
              "solidity": 0.2
             }
            },
            "type": "barpolar"
           }
          ],
          "carpet": [
           {
            "aaxis": {
             "endlinecolor": "#A2B1C6",
             "gridcolor": "#506784",
             "linecolor": "#506784",
             "minorgridcolor": "#506784",
             "startlinecolor": "#A2B1C6"
            },
            "baxis": {
             "endlinecolor": "#A2B1C6",
             "gridcolor": "#506784",
             "linecolor": "#506784",
             "minorgridcolor": "#506784",
             "startlinecolor": "#A2B1C6"
            },
            "type": "carpet"
           }
          ],
          "choropleth": [
           {
            "colorbar": {
             "outlinewidth": 0,
             "ticks": ""
            },
            "type": "choropleth"
           }
          ],
          "contour": [
           {
            "colorbar": {
             "outlinewidth": 0,
             "ticks": ""
            },
            "colorscale": [
             [
              0,
              "#0d0887"
             ],
             [
              0.1111111111111111,
              "#46039f"
             ],
             [
              0.2222222222222222,
              "#7201a8"
             ],
             [
              0.3333333333333333,
              "#9c179e"
             ],
             [
              0.4444444444444444,
              "#bd3786"
             ],
             [
              0.5555555555555556,
              "#d8576b"
             ],
             [
              0.6666666666666666,
              "#ed7953"
             ],
             [
              0.7777777777777778,
              "#fb9f3a"
             ],
             [
              0.8888888888888888,
              "#fdca26"
             ],
             [
              1,
              "#f0f921"
             ]
            ],
            "type": "contour"
           }
          ],
          "contourcarpet": [
           {
            "colorbar": {
             "outlinewidth": 0,
             "ticks": ""
            },
            "type": "contourcarpet"
           }
          ],
          "heatmap": [
           {
            "colorbar": {
             "outlinewidth": 0,
             "ticks": ""
            },
            "colorscale": [
             [
              0,
              "#0d0887"
             ],
             [
              0.1111111111111111,
              "#46039f"
             ],
             [
              0.2222222222222222,
              "#7201a8"
             ],
             [
              0.3333333333333333,
              "#9c179e"
             ],
             [
              0.4444444444444444,
              "#bd3786"
             ],
             [
              0.5555555555555556,
              "#d8576b"
             ],
             [
              0.6666666666666666,
              "#ed7953"
             ],
             [
              0.7777777777777778,
              "#fb9f3a"
             ],
             [
              0.8888888888888888,
              "#fdca26"
             ],
             [
              1,
              "#f0f921"
             ]
            ],
            "type": "heatmap"
           }
          ],
          "histogram": [
           {
            "marker": {
             "pattern": {
              "fillmode": "overlay",
              "size": 10,
              "solidity": 0.2
             }
            },
            "type": "histogram"
           }
          ],
          "histogram2d": [
           {
            "colorbar": {
             "outlinewidth": 0,
             "ticks": ""
            },
            "colorscale": [
             [
              0,
              "#0d0887"
             ],
             [
              0.1111111111111111,
              "#46039f"
             ],
             [
              0.2222222222222222,
              "#7201a8"
             ],
             [
              0.3333333333333333,
              "#9c179e"
             ],
             [
              0.4444444444444444,
              "#bd3786"
             ],
             [
              0.5555555555555556,
              "#d8576b"
             ],
             [
              0.6666666666666666,
              "#ed7953"
             ],
             [
              0.7777777777777778,
              "#fb9f3a"
             ],
             [
              0.8888888888888888,
              "#fdca26"
             ],
             [
              1,
              "#f0f921"
             ]
            ],
            "type": "histogram2d"
           }
          ],
          "histogram2dcontour": [
           {
            "colorbar": {
             "outlinewidth": 0,
             "ticks": ""
            },
            "colorscale": [
             [
              0,
              "#0d0887"
             ],
             [
              0.1111111111111111,
              "#46039f"
             ],
             [
              0.2222222222222222,
              "#7201a8"
             ],
             [
              0.3333333333333333,
              "#9c179e"
             ],
             [
              0.4444444444444444,
              "#bd3786"
             ],
             [
              0.5555555555555556,
              "#d8576b"
             ],
             [
              0.6666666666666666,
              "#ed7953"
             ],
             [
              0.7777777777777778,
              "#fb9f3a"
             ],
             [
              0.8888888888888888,
              "#fdca26"
             ],
             [
              1,
              "#f0f921"
             ]
            ],
            "type": "histogram2dcontour"
           }
          ],
          "mesh3d": [
           {
            "colorbar": {
             "outlinewidth": 0,
             "ticks": ""
            },
            "type": "mesh3d"
           }
          ],
          "parcoords": [
           {
            "line": {
             "colorbar": {
              "outlinewidth": 0,
              "ticks": ""
             }
            },
            "type": "parcoords"
           }
          ],
          "pie": [
           {
            "automargin": true,
            "type": "pie"
           }
          ],
          "scatter": [
           {
            "marker": {
             "line": {
              "color": "#283442"
             }
            },
            "type": "scatter"
           }
          ],
          "scatter3d": [
           {
            "line": {
             "colorbar": {
              "outlinewidth": 0,
              "ticks": ""
             }
            },
            "marker": {
             "colorbar": {
              "outlinewidth": 0,
              "ticks": ""
             }
            },
            "type": "scatter3d"
           }
          ],
          "scattercarpet": [
           {
            "marker": {
             "colorbar": {
              "outlinewidth": 0,
              "ticks": ""
             }
            },
            "type": "scattercarpet"
           }
          ],
          "scattergeo": [
           {
            "marker": {
             "colorbar": {
              "outlinewidth": 0,
              "ticks": ""
             }
            },
            "type": "scattergeo"
           }
          ],
          "scattergl": [
           {
            "marker": {
             "line": {
              "color": "#283442"
             }
            },
            "type": "scattergl"
           }
          ],
          "scattermap": [
           {
            "marker": {
             "colorbar": {
              "outlinewidth": 0,
              "ticks": ""
             }
            },
            "type": "scattermap"
           }
          ],
          "scattermapbox": [
           {
            "marker": {
             "colorbar": {
              "outlinewidth": 0,
              "ticks": ""
             }
            },
            "type": "scattermapbox"
           }
          ],
          "scatterpolar": [
           {
            "marker": {
             "colorbar": {
              "outlinewidth": 0,
              "ticks": ""
             }
            },
            "type": "scatterpolar"
           }
          ],
          "scatterpolargl": [
           {
            "marker": {
             "colorbar": {
              "outlinewidth": 0,
              "ticks": ""
             }
            },
            "type": "scatterpolargl"
           }
          ],
          "scatterternary": [
           {
            "marker": {
             "colorbar": {
              "outlinewidth": 0,
              "ticks": ""
             }
            },
            "type": "scatterternary"
           }
          ],
          "surface": [
           {
            "colorbar": {
             "outlinewidth": 0,
             "ticks": ""
            },
            "colorscale": [
             [
              0,
              "#0d0887"
             ],
             [
              0.1111111111111111,
              "#46039f"
             ],
             [
              0.2222222222222222,
              "#7201a8"
             ],
             [
              0.3333333333333333,
              "#9c179e"
             ],
             [
              0.4444444444444444,
              "#bd3786"
             ],
             [
              0.5555555555555556,
              "#d8576b"
             ],
             [
              0.6666666666666666,
              "#ed7953"
             ],
             [
              0.7777777777777778,
              "#fb9f3a"
             ],
             [
              0.8888888888888888,
              "#fdca26"
             ],
             [
              1,
              "#f0f921"
             ]
            ],
            "type": "surface"
           }
          ],
          "table": [
           {
            "cells": {
             "fill": {
              "color": "#506784"
             },
             "line": {
              "color": "rgb(17,17,17)"
             }
            },
            "header": {
             "fill": {
              "color": "#2a3f5f"
             },
             "line": {
              "color": "rgb(17,17,17)"
             }
            },
            "type": "table"
           }
          ]
         },
         "layout": {
          "annotationdefaults": {
           "arrowcolor": "#f2f5fa",
           "arrowhead": 0,
           "arrowwidth": 1
          },
          "autotypenumbers": "strict",
          "coloraxis": {
           "colorbar": {
            "outlinewidth": 0,
            "ticks": ""
           }
          },
          "colorscale": {
           "diverging": [
            [
             0,
             "#8e0152"
            ],
            [
             0.1,
             "#c51b7d"
            ],
            [
             0.2,
             "#de77ae"
            ],
            [
             0.3,
             "#f1b6da"
            ],
            [
             0.4,
             "#fde0ef"
            ],
            [
             0.5,
             "#f7f7f7"
            ],
            [
             0.6,
             "#e6f5d0"
            ],
            [
             0.7,
             "#b8e186"
            ],
            [
             0.8,
             "#7fbc41"
            ],
            [
             0.9,
             "#4d9221"
            ],
            [
             1,
             "#276419"
            ]
           ],
           "sequential": [
            [
             0,
             "#0d0887"
            ],
            [
             0.1111111111111111,
             "#46039f"
            ],
            [
             0.2222222222222222,
             "#7201a8"
            ],
            [
             0.3333333333333333,
             "#9c179e"
            ],
            [
             0.4444444444444444,
             "#bd3786"
            ],
            [
             0.5555555555555556,
             "#d8576b"
            ],
            [
             0.6666666666666666,
             "#ed7953"
            ],
            [
             0.7777777777777778,
             "#fb9f3a"
            ],
            [
             0.8888888888888888,
             "#fdca26"
            ],
            [
             1,
             "#f0f921"
            ]
           ],
           "sequentialminus": [
            [
             0,
             "#0d0887"
            ],
            [
             0.1111111111111111,
             "#46039f"
            ],
            [
             0.2222222222222222,
             "#7201a8"
            ],
            [
             0.3333333333333333,
             "#9c179e"
            ],
            [
             0.4444444444444444,
             "#bd3786"
            ],
            [
             0.5555555555555556,
             "#d8576b"
            ],
            [
             0.6666666666666666,
             "#ed7953"
            ],
            [
             0.7777777777777778,
             "#fb9f3a"
            ],
            [
             0.8888888888888888,
             "#fdca26"
            ],
            [
             1,
             "#f0f921"
            ]
           ]
          },
          "colorway": [
           "#636efa",
           "#EF553B",
           "#00cc96",
           "#ab63fa",
           "#FFA15A",
           "#19d3f3",
           "#FF6692",
           "#B6E880",
           "#FF97FF",
           "#FECB52"
          ],
          "font": {
           "color": "#f2f5fa"
          },
          "geo": {
           "bgcolor": "rgb(17,17,17)",
           "lakecolor": "rgb(17,17,17)",
           "landcolor": "rgb(17,17,17)",
           "showlakes": true,
           "showland": true,
           "subunitcolor": "#506784"
          },
          "hoverlabel": {
           "align": "left"
          },
          "hovermode": "closest",
          "mapbox": {
           "style": "dark"
          },
          "paper_bgcolor": "rgb(17,17,17)",
          "plot_bgcolor": "rgb(17,17,17)",
          "polar": {
           "angularaxis": {
            "gridcolor": "#506784",
            "linecolor": "#506784",
            "ticks": ""
           },
           "bgcolor": "rgb(17,17,17)",
           "radialaxis": {
            "gridcolor": "#506784",
            "linecolor": "#506784",
            "ticks": ""
           }
          },
          "scene": {
           "xaxis": {
            "backgroundcolor": "rgb(17,17,17)",
            "gridcolor": "#506784",
            "gridwidth": 2,
            "linecolor": "#506784",
            "showbackground": true,
            "ticks": "",
            "zerolinecolor": "#C8D4E3"
           },
           "yaxis": {
            "backgroundcolor": "rgb(17,17,17)",
            "gridcolor": "#506784",
            "gridwidth": 2,
            "linecolor": "#506784",
            "showbackground": true,
            "ticks": "",
            "zerolinecolor": "#C8D4E3"
           },
           "zaxis": {
            "backgroundcolor": "rgb(17,17,17)",
            "gridcolor": "#506784",
            "gridwidth": 2,
            "linecolor": "#506784",
            "showbackground": true,
            "ticks": "",
            "zerolinecolor": "#C8D4E3"
           }
          },
          "shapedefaults": {
           "line": {
            "color": "#f2f5fa"
           }
          },
          "sliderdefaults": {
           "bgcolor": "#C8D4E3",
           "bordercolor": "rgb(17,17,17)",
           "borderwidth": 1,
           "tickwidth": 0
          },
          "ternary": {
           "aaxis": {
            "gridcolor": "#506784",
            "linecolor": "#506784",
            "ticks": ""
           },
           "baxis": {
            "gridcolor": "#506784",
            "linecolor": "#506784",
            "ticks": ""
           },
           "bgcolor": "rgb(17,17,17)",
           "caxis": {
            "gridcolor": "#506784",
            "linecolor": "#506784",
            "ticks": ""
           }
          },
          "title": {
           "x": 0.05
          },
          "updatemenudefaults": {
           "bgcolor": "#506784",
           "borderwidth": 0
          },
          "xaxis": {
           "automargin": true,
           "gridcolor": "#283442",
           "linecolor": "#506784",
           "ticks": "",
           "title": {
            "standoff": 15
           },
           "zerolinecolor": "#283442",
           "zerolinewidth": 2
          },
          "yaxis": {
           "automargin": true,
           "gridcolor": "#283442",
           "linecolor": "#506784",
           "ticks": "",
           "title": {
            "standoff": 15
           },
           "zerolinecolor": "#283442",
           "zerolinewidth": 2
          }
         }
        },
        "title": {
         "font": {
          "color": "#41BEE9"
         },
         "text": "Cost vs Iteration"
        },
        "xaxis": {
         "anchor": "y",
         "color": "#41BEE9",
         "domain": [
          0,
          1
         ],
         "title": {
          "text": "Iterations"
         }
        },
        "yaxis": {
         "anchor": "x",
         "color": "#41BEE9",
         "domain": [
          0,
          1
         ],
         "title": {
          "text": "Cost"
         }
        }
       }
      }
     },
     "metadata": {},
     "output_type": "display_data"
    },
    {
     "name": "stdout",
     "output_type": "stream",
     "text": [
      "Iteration 0: Cost = 3.019530\n",
      "Iteration 100: Cost = 0.396068\n",
      "Iteration 200: Cost = 0.058276\n",
      "Iteration 300: Cost = 0.012401\n",
      "Iteration 400: Cost = 0.005844\n",
      "Iteration 500: Cost = 0.004863\n",
      "Convergence reached at iteration 566\n"
     ]
    },
    {
     "data": {
      "application/vnd.plotly.v1+json": {
       "config": {
        "plotlyServerURL": "https://plot.ly"
       },
       "data": [
        {
         "hovertemplate": "x=%{x}<br>y=%{y}<extra></extra>",
         "legendgroup": "",
         "line": {
          "color": "#636efa",
          "dash": "solid"
         },
         "marker": {
          "symbol": "circle"
         },
         "mode": "lines",
         "name": "",
         "orientation": "v",
         "showlegend": false,
         "type": "scatter",
         "x": {
          "bdata": "AAABAAIAAwAEAAUABgAHAAgACQAKAAsADAANAA4ADwAQABEAEgATABQAFQAWABcAGAAZABoAGwAcAB0AHgAfACAAIQAiACMAJAAlACYAJwAoACkAKgArACwALQAuAC8AMAAxADIAMwA0ADUANgA3ADgAOQA6ADsAPAA9AD4APwBAAEEAQgBDAEQARQBGAEcASABJAEoASwBMAE0ATgBPAFAAUQBSAFMAVABVAFYAVwBYAFkAWgBbAFwAXQBeAF8AYABhAGIAYwBkAGUAZgBnAGgAaQBqAGsAbABtAG4AbwBwAHEAcgBzAHQAdQB2AHcAeAB5AHoAewB8AH0AfgB/AIAAgQCCAIMAhACFAIYAhwCIAIkAigCLAIwAjQCOAI8AkACRAJIAkwCUAJUAlgCXAJgAmQCaAJsAnACdAJ4AnwCgAKEAogCjAKQApQCmAKcAqACpAKoAqwCsAK0ArgCvALAAsQCyALMAtAC1ALYAtwC4ALkAugC7ALwAvQC+AL8AwADBAMIAwwDEAMUAxgDHAMgAyQDKAMsAzADNAM4AzwDQANEA0gDTANQA1QDWANcA2ADZANoA2wDcAN0A3gDfAOAA4QDiAOMA5ADlAOYA5wDoAOkA6gDrAOwA7QDuAO8A8ADxAPIA8wD0APUA9gD3APgA+QD6APsA/AD9AP4A/wAAAQEBAgEDAQQBBQEGAQcBCAEJAQoBCwEMAQ0BDgEPARABEQESARMBFAEVARYBFwEYARkBGgEbARwBHQEeAR8BIAEhASIBIwEkASUBJgEnASgBKQEqASsBLAEtAS4BLwEwATEBMgEzATQBNQE2ATcBOAE5AToBOwE8AT0BPgE/AUABQQFCAUMBRAFFAUYBRwFIAUkBSgFLAUwBTQFOAU8BUAFRAVIBUwFUAVUBVgFXAVgBWQFaAVsBXAFdAV4BXwFgAWEBYgFjAWQBZQFmAWcBaAFpAWoBawFsAW0BbgFvAXABcQFyAXMBdAF1AXYBdwF4AXkBegF7AXwBfQF+AX8BgAGBAYIBgwGEAYUBhgGHAYgBiQGKAYsBjAGNAY4BjwGQAZEBkgGTAZQBlQGWAZcBmAGZAZoBmwGcAZ0BngGfAaABoQGiAaMBpAGlAaYBpwGoAakBqgGrAawBrQGuAa8BsAGxAbIBswG0AbUBtgG3AbgBuQG6AbsBvAG9Ab4BvwHAAcEBwgHDAcQBxQHGAccByAHJAcoBywHMAc0BzgHPAdAB0QHSAdMB1AHVAdYB1wHYAdkB2gHbAdwB3QHeAd8B4AHhAeIB4wHkAeUB5gHnAegB6QHqAesB7AHtAe4B7wHwAfEB8gHzAfQB9QH2AfcB+AH5AfoB+wH8Af0B/gH/AQACAQICAgMCBAIFAgYCBwIIAgkCCgILAgwCDQIOAg8CEAIRAhICEwIUAhUCFgIXAhgCGQIaAhsCHAIdAh4CHwIgAiECIgIjAiQCJQImAicCKAIpAioCKwIsAi0CLgIvAjACMQIyAjMCNAI1AjYC",
          "dtype": "i2"
         },
         "xaxis": "x",
         "y": {
          "bdata": "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",
          "dtype": "f8"
         },
         "yaxis": "y"
        }
       ],
       "layout": {
        "legend": {
         "tracegroupgap": 0
        },
        "template": {
         "data": {
          "bar": [
           {
            "error_x": {
             "color": "#f2f5fa"
            },
            "error_y": {
             "color": "#f2f5fa"
            },
            "marker": {
             "line": {
              "color": "rgb(17,17,17)",
              "width": 0.5
             },
             "pattern": {
              "fillmode": "overlay",
              "size": 10,
              "solidity": 0.2
             }
            },
            "type": "bar"
           }
          ],
          "barpolar": [
           {
            "marker": {
             "line": {
              "color": "rgb(17,17,17)",
              "width": 0.5
             },
             "pattern": {
              "fillmode": "overlay",
              "size": 10,
              "solidity": 0.2
             }
            },
            "type": "barpolar"
           }
          ],
          "carpet": [
           {
            "aaxis": {
             "endlinecolor": "#A2B1C6",
             "gridcolor": "#506784",
             "linecolor": "#506784",
             "minorgridcolor": "#506784",
             "startlinecolor": "#A2B1C6"
            },
            "baxis": {
             "endlinecolor": "#A2B1C6",
             "gridcolor": "#506784",
             "linecolor": "#506784",
             "minorgridcolor": "#506784",
             "startlinecolor": "#A2B1C6"
            },
            "type": "carpet"
           }
          ],
          "choropleth": [
           {
            "colorbar": {
             "outlinewidth": 0,
             "ticks": ""
            },
            "type": "choropleth"
           }
          ],
          "contour": [
           {
            "colorbar": {
             "outlinewidth": 0,
             "ticks": ""
            },
            "colorscale": [
             [
              0,
              "#0d0887"
             ],
             [
              0.1111111111111111,
              "#46039f"
             ],
             [
              0.2222222222222222,
              "#7201a8"
             ],
             [
              0.3333333333333333,
              "#9c179e"
             ],
             [
              0.4444444444444444,
              "#bd3786"
             ],
             [
              0.5555555555555556,
              "#d8576b"
             ],
             [
              0.6666666666666666,
              "#ed7953"
             ],
             [
              0.7777777777777778,
              "#fb9f3a"
             ],
             [
              0.8888888888888888,
              "#fdca26"
             ],
             [
              1,
              "#f0f921"
             ]
            ],
            "type": "contour"
           }
          ],
          "contourcarpet": [
           {
            "colorbar": {
             "outlinewidth": 0,
             "ticks": ""
            },
            "type": "contourcarpet"
           }
          ],
          "heatmap": [
           {
            "colorbar": {
             "outlinewidth": 0,
             "ticks": ""
            },
            "colorscale": [
             [
              0,
              "#0d0887"
             ],
             [
              0.1111111111111111,
              "#46039f"
             ],
             [
              0.2222222222222222,
              "#7201a8"
             ],
             [
              0.3333333333333333,
              "#9c179e"
             ],
             [
              0.4444444444444444,
              "#bd3786"
             ],
             [
              0.5555555555555556,
              "#d8576b"
             ],
             [
              0.6666666666666666,
              "#ed7953"
             ],
             [
              0.7777777777777778,
              "#fb9f3a"
             ],
             [
              0.8888888888888888,
              "#fdca26"
             ],
             [
              1,
              "#f0f921"
             ]
            ],
            "type": "heatmap"
           }
          ],
          "histogram": [
           {
            "marker": {
             "pattern": {
              "fillmode": "overlay",
              "size": 10,
              "solidity": 0.2
             }
            },
            "type": "histogram"
           }
          ],
          "histogram2d": [
           {
            "colorbar": {
             "outlinewidth": 0,
             "ticks": ""
            },
            "colorscale": [
             [
              0,
              "#0d0887"
             ],
             [
              0.1111111111111111,
              "#46039f"
             ],
             [
              0.2222222222222222,
              "#7201a8"
             ],
             [
              0.3333333333333333,
              "#9c179e"
             ],
             [
              0.4444444444444444,
              "#bd3786"
             ],
             [
              0.5555555555555556,
              "#d8576b"
             ],
             [
              0.6666666666666666,
              "#ed7953"
             ],
             [
              0.7777777777777778,
              "#fb9f3a"
             ],
             [
              0.8888888888888888,
              "#fdca26"
             ],
             [
              1,
              "#f0f921"
             ]
            ],
            "type": "histogram2d"
           }
          ],
          "histogram2dcontour": [
           {
            "colorbar": {
             "outlinewidth": 0,
             "ticks": ""
            },
            "colorscale": [
             [
              0,
              "#0d0887"
             ],
             [
              0.1111111111111111,
              "#46039f"
             ],
             [
              0.2222222222222222,
              "#7201a8"
             ],
             [
              0.3333333333333333,
              "#9c179e"
             ],
             [
              0.4444444444444444,
              "#bd3786"
             ],
             [
              0.5555555555555556,
              "#d8576b"
             ],
             [
              0.6666666666666666,
              "#ed7953"
             ],
             [
              0.7777777777777778,
              "#fb9f3a"
             ],
             [
              0.8888888888888888,
              "#fdca26"
             ],
             [
              1,
              "#f0f921"
             ]
            ],
            "type": "histogram2dcontour"
           }
          ],
          "mesh3d": [
           {
            "colorbar": {
             "outlinewidth": 0,
             "ticks": ""
            },
            "type": "mesh3d"
           }
          ],
          "parcoords": [
           {
            "line": {
             "colorbar": {
              "outlinewidth": 0,
              "ticks": ""
             }
            },
            "type": "parcoords"
           }
          ],
          "pie": [
           {
            "automargin": true,
            "type": "pie"
           }
          ],
          "scatter": [
           {
            "marker": {
             "line": {
              "color": "#283442"
             }
            },
            "type": "scatter"
           }
          ],
          "scatter3d": [
           {
            "line": {
             "colorbar": {
              "outlinewidth": 0,
              "ticks": ""
             }
            },
            "marker": {
             "colorbar": {
              "outlinewidth": 0,
              "ticks": ""
             }
            },
            "type": "scatter3d"
           }
          ],
          "scattercarpet": [
           {
            "marker": {
             "colorbar": {
              "outlinewidth": 0,
              "ticks": ""
             }
            },
            "type": "scattercarpet"
           }
          ],
          "scattergeo": [
           {
            "marker": {
             "colorbar": {
              "outlinewidth": 0,
              "ticks": ""
             }
            },
            "type": "scattergeo"
           }
          ],
          "scattergl": [
           {
            "marker": {
             "line": {
              "color": "#283442"
             }
            },
            "type": "scattergl"
           }
          ],
          "scattermap": [
           {
            "marker": {
             "colorbar": {
              "outlinewidth": 0,
              "ticks": ""
             }
            },
            "type": "scattermap"
           }
          ],
          "scattermapbox": [
           {
            "marker": {
             "colorbar": {
              "outlinewidth": 0,
              "ticks": ""
             }
            },
            "type": "scattermapbox"
           }
          ],
          "scatterpolar": [
           {
            "marker": {
             "colorbar": {
              "outlinewidth": 0,
              "ticks": ""
             }
            },
            "type": "scatterpolar"
           }
          ],
          "scatterpolargl": [
           {
            "marker": {
             "colorbar": {
              "outlinewidth": 0,
              "ticks": ""
             }
            },
            "type": "scatterpolargl"
           }
          ],
          "scatterternary": [
           {
            "marker": {
             "colorbar": {
              "outlinewidth": 0,
              "ticks": ""
             }
            },
            "type": "scatterternary"
           }
          ],
          "surface": [
           {
            "colorbar": {
             "outlinewidth": 0,
             "ticks": ""
            },
            "colorscale": [
             [
              0,
              "#0d0887"
             ],
             [
              0.1111111111111111,
              "#46039f"
             ],
             [
              0.2222222222222222,
              "#7201a8"
             ],
             [
              0.3333333333333333,
              "#9c179e"
             ],
             [
              0.4444444444444444,
              "#bd3786"
             ],
             [
              0.5555555555555556,
              "#d8576b"
             ],
             [
              0.6666666666666666,
              "#ed7953"
             ],
             [
              0.7777777777777778,
              "#fb9f3a"
             ],
             [
              0.8888888888888888,
              "#fdca26"
             ],
             [
              1,
              "#f0f921"
             ]
            ],
            "type": "surface"
           }
          ],
          "table": [
           {
            "cells": {
             "fill": {
              "color": "#506784"
             },
             "line": {
              "color": "rgb(17,17,17)"
             }
            },
            "header": {
             "fill": {
              "color": "#2a3f5f"
             },
             "line": {
              "color": "rgb(17,17,17)"
             }
            },
            "type": "table"
           }
          ]
         },
         "layout": {
          "annotationdefaults": {
           "arrowcolor": "#f2f5fa",
           "arrowhead": 0,
           "arrowwidth": 1
          },
          "autotypenumbers": "strict",
          "coloraxis": {
           "colorbar": {
            "outlinewidth": 0,
            "ticks": ""
           }
          },
          "colorscale": {
           "diverging": [
            [
             0,
             "#8e0152"
            ],
            [
             0.1,
             "#c51b7d"
            ],
            [
             0.2,
             "#de77ae"
            ],
            [
             0.3,
             "#f1b6da"
            ],
            [
             0.4,
             "#fde0ef"
            ],
            [
             0.5,
             "#f7f7f7"
            ],
            [
             0.6,
             "#e6f5d0"
            ],
            [
             0.7,
             "#b8e186"
            ],
            [
             0.8,
             "#7fbc41"
            ],
            [
             0.9,
             "#4d9221"
            ],
            [
             1,
             "#276419"
            ]
           ],
           "sequential": [
            [
             0,
             "#0d0887"
            ],
            [
             0.1111111111111111,
             "#46039f"
            ],
            [
             0.2222222222222222,
             "#7201a8"
            ],
            [
             0.3333333333333333,
             "#9c179e"
            ],
            [
             0.4444444444444444,
             "#bd3786"
            ],
            [
             0.5555555555555556,
             "#d8576b"
            ],
            [
             0.6666666666666666,
             "#ed7953"
            ],
            [
             0.7777777777777778,
             "#fb9f3a"
            ],
            [
             0.8888888888888888,
             "#fdca26"
            ],
            [
             1,
             "#f0f921"
            ]
           ],
           "sequentialminus": [
            [
             0,
             "#0d0887"
            ],
            [
             0.1111111111111111,
             "#46039f"
            ],
            [
             0.2222222222222222,
             "#7201a8"
            ],
            [
             0.3333333333333333,
             "#9c179e"
            ],
            [
             0.4444444444444444,
             "#bd3786"
            ],
            [
             0.5555555555555556,
             "#d8576b"
            ],
            [
             0.6666666666666666,
             "#ed7953"
            ],
            [
             0.7777777777777778,
             "#fb9f3a"
            ],
            [
             0.8888888888888888,
             "#fdca26"
            ],
            [
             1,
             "#f0f921"
            ]
           ]
          },
          "colorway": [
           "#636efa",
           "#EF553B",
           "#00cc96",
           "#ab63fa",
           "#FFA15A",
           "#19d3f3",
           "#FF6692",
           "#B6E880",
           "#FF97FF",
           "#FECB52"
          ],
          "font": {
           "color": "#f2f5fa"
          },
          "geo": {
           "bgcolor": "rgb(17,17,17)",
           "lakecolor": "rgb(17,17,17)",
           "landcolor": "rgb(17,17,17)",
           "showlakes": true,
           "showland": true,
           "subunitcolor": "#506784"
          },
          "hoverlabel": {
           "align": "left"
          },
          "hovermode": "closest",
          "mapbox": {
           "style": "dark"
          },
          "paper_bgcolor": "rgb(17,17,17)",
          "plot_bgcolor": "rgb(17,17,17)",
          "polar": {
           "angularaxis": {
            "gridcolor": "#506784",
            "linecolor": "#506784",
            "ticks": ""
           },
           "bgcolor": "rgb(17,17,17)",
           "radialaxis": {
            "gridcolor": "#506784",
            "linecolor": "#506784",
            "ticks": ""
           }
          },
          "scene": {
           "xaxis": {
            "backgroundcolor": "rgb(17,17,17)",
            "gridcolor": "#506784",
            "gridwidth": 2,
            "linecolor": "#506784",
            "showbackground": true,
            "ticks": "",
            "zerolinecolor": "#C8D4E3"
           },
           "yaxis": {
            "backgroundcolor": "rgb(17,17,17)",
            "gridcolor": "#506784",
            "gridwidth": 2,
            "linecolor": "#506784",
            "showbackground": true,
            "ticks": "",
            "zerolinecolor": "#C8D4E3"
           },
           "zaxis": {
            "backgroundcolor": "rgb(17,17,17)",
            "gridcolor": "#506784",
            "gridwidth": 2,
            "linecolor": "#506784",
            "showbackground": true,
            "ticks": "",
            "zerolinecolor": "#C8D4E3"
           }
          },
          "shapedefaults": {
           "line": {
            "color": "#f2f5fa"
           }
          },
          "sliderdefaults": {
           "bgcolor": "#C8D4E3",
           "bordercolor": "rgb(17,17,17)",
           "borderwidth": 1,
           "tickwidth": 0
          },
          "ternary": {
           "aaxis": {
            "gridcolor": "#506784",
            "linecolor": "#506784",
            "ticks": ""
           },
           "baxis": {
            "gridcolor": "#506784",
            "linecolor": "#506784",
            "ticks": ""
           },
           "bgcolor": "rgb(17,17,17)",
           "caxis": {
            "gridcolor": "#506784",
            "linecolor": "#506784",
            "ticks": ""
           }
          },
          "title": {
           "x": 0.05
          },
          "updatemenudefaults": {
           "bgcolor": "#506784",
           "borderwidth": 0
          },
          "xaxis": {
           "automargin": true,
           "gridcolor": "#283442",
           "linecolor": "#506784",
           "ticks": "",
           "title": {
            "standoff": 15
           },
           "zerolinecolor": "#283442",
           "zerolinewidth": 2
          },
          "yaxis": {
           "automargin": true,
           "gridcolor": "#283442",
           "linecolor": "#506784",
           "ticks": "",
           "title": {
            "standoff": 15
           },
           "zerolinecolor": "#283442",
           "zerolinewidth": 2
          }
         }
        },
        "title": {
         "font": {
          "color": "#41BEE9"
         },
         "text": "Cost vs Iteration"
        },
        "xaxis": {
         "anchor": "y",
         "color": "#41BEE9",
         "domain": [
          0,
          1
         ],
         "title": {
          "text": "Iterations"
         }
        },
        "yaxis": {
         "anchor": "x",
         "color": "#41BEE9",
         "domain": [
          0,
          1
         ],
         "title": {
          "text": "Cost"
         }
        }
       }
      }
     },
     "metadata": {},
     "output_type": "display_data"
    },
    {
     "name": "stdout",
     "output_type": "stream",
     "text": [
      "Iteration 0: Cost = 3.023329\n",
      "Iteration 100: Cost = 0.396565\n",
      "Iteration 200: Cost = 0.058345\n",
      "Iteration 300: Cost = 0.012411\n",
      "Iteration 400: Cost = 0.005845\n",
      "Iteration 500: Cost = 0.004863\n",
      "Convergence reached at iteration 567\n"
     ]
    },
    {
     "data": {
      "application/vnd.plotly.v1+json": {
       "config": {
        "plotlyServerURL": "https://plot.ly"
       },
       "data": [
        {
         "hovertemplate": "x=%{x}<br>y=%{y}<extra></extra>",
         "legendgroup": "",
         "line": {
          "color": "#636efa",
          "dash": "solid"
         },
         "marker": {
          "symbol": "circle"
         },
         "mode": "lines",
         "name": "",
         "orientation": "v",
         "showlegend": false,
         "type": "scatter",
         "x": {
          "bdata": "AAABAAIAAwAEAAUABgAHAAgACQAKAAsADAANAA4ADwAQABEAEgATABQAFQAWABcAGAAZABoAGwAcAB0AHgAfACAAIQAiACMAJAAlACYAJwAoACkAKgArACwALQAuAC8AMAAxADIAMwA0ADUANgA3ADgAOQA6ADsAPAA9AD4APwBAAEEAQgBDAEQARQBGAEcASABJAEoASwBMAE0ATgBPAFAAUQBSAFMAVABVAFYAVwBYAFkAWgBbAFwAXQBeAF8AYABhAGIAYwBkAGUAZgBnAGgAaQBqAGsAbABtAG4AbwBwAHEAcgBzAHQAdQB2AHcAeAB5AHoAewB8AH0AfgB/AIAAgQCCAIMAhACFAIYAhwCIAIkAigCLAIwAjQCOAI8AkACRAJIAkwCUAJUAlgCXAJgAmQCaAJsAnACdAJ4AnwCgAKEAogCjAKQApQCmAKcAqACpAKoAqwCsAK0ArgCvALAAsQCyALMAtAC1ALYAtwC4ALkAugC7ALwAvQC+AL8AwADBAMIAwwDEAMUAxgDHAMgAyQDKAMsAzADNAM4AzwDQANEA0gDTANQA1QDWANcA2ADZANoA2wDcAN0A3gDfAOAA4QDiAOMA5ADlAOYA5wDoAOkA6gDrAOwA7QDuAO8A8ADxAPIA8wD0APUA9gD3APgA+QD6APsA/AD9AP4A/wAAAQEBAgEDAQQBBQEGAQcBCAEJAQoBCwEMAQ0BDgEPARABEQESARMBFAEVARYBFwEYARkBGgEbARwBHQEeAR8BIAEhASIBIwEkASUBJgEnASgBKQEqASsBLAEtAS4BLwEwATEBMgEzATQBNQE2ATcBOAE5AToBOwE8AT0BPgE/AUABQQFCAUMBRAFFAUYBRwFIAUkBSgFLAUwBTQFOAU8BUAFRAVIBUwFUAVUBVgFXAVgBWQFaAVsBXAFdAV4BXwFgAWEBYgFjAWQBZQFmAWcBaAFpAWoBawFsAW0BbgFvAXABcQFyAXMBdAF1AXYBdwF4AXkBegF7AXwBfQF+AX8BgAGBAYIBgwGEAYUBhgGHAYgBiQGKAYsBjAGNAY4BjwGQAZEBkgGTAZQBlQGWAZcBmAGZAZoBmwGcAZ0BngGfAaABoQGiAaMBpAGlAaYBpwGoAakBqgGrAawBrQGuAa8BsAGxAbIBswG0AbUBtgG3AbgBuQG6AbsBvAG9Ab4BvwHAAcEBwgHDAcQBxQHGAccByAHJAcoBywHMAc0BzgHPAdAB0QHSAdMB1AHVAdYB1wHYAdkB2gHbAdwB3QHeAd8B4AHhAeIB4wHkAeUB5gHnAegB6QHqAesB7AHtAe4B7wHwAfEB8gHzAfQB9QH2AfcB+AH5AfoB+wH8Af0B/gH/AQACAQICAgMCBAIFAgYCBwIIAgkCCgILAgwCDQIOAg8CEAIRAhICEwIUAhUCFgIXAhgCGQIaAhsCHAIdAh4CHwIgAiECIgIjAiQCJQImAicCKAIpAioCKwIsAi0CLgIvAjACMQIyAjMCNAI1AjYCNwI=",
          "dtype": "i2"
         },
         "xaxis": "x",
         "y": {
          "bdata": "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",
          "dtype": "f8"
         },
         "yaxis": "y"
        }
       ],
       "layout": {
        "legend": {
         "tracegroupgap": 0
        },
        "template": {
         "data": {
          "bar": [
           {
            "error_x": {
             "color": "#f2f5fa"
            },
            "error_y": {
             "color": "#f2f5fa"
            },
            "marker": {
             "line": {
              "color": "rgb(17,17,17)",
              "width": 0.5
             },
             "pattern": {
              "fillmode": "overlay",
              "size": 10,
              "solidity": 0.2
             }
            },
            "type": "bar"
           }
          ],
          "barpolar": [
           {
            "marker": {
             "line": {
              "color": "rgb(17,17,17)",
              "width": 0.5
             },
             "pattern": {
              "fillmode": "overlay",
              "size": 10,
              "solidity": 0.2
             }
            },
            "type": "barpolar"
           }
          ],
          "carpet": [
           {
            "aaxis": {
             "endlinecolor": "#A2B1C6",
             "gridcolor": "#506784",
             "linecolor": "#506784",
             "minorgridcolor": "#506784",
             "startlinecolor": "#A2B1C6"
            },
            "baxis": {
             "endlinecolor": "#A2B1C6",
             "gridcolor": "#506784",
             "linecolor": "#506784",
             "minorgridcolor": "#506784",
             "startlinecolor": "#A2B1C6"
            },
            "type": "carpet"
           }
          ],
          "choropleth": [
           {
            "colorbar": {
             "outlinewidth": 0,
             "ticks": ""
            },
            "type": "choropleth"
           }
          ],
          "contour": [
           {
            "colorbar": {
             "outlinewidth": 0,
             "ticks": ""
            },
            "colorscale": [
             [
              0,
              "#0d0887"
             ],
             [
              0.1111111111111111,
              "#46039f"
             ],
             [
              0.2222222222222222,
              "#7201a8"
             ],
             [
              0.3333333333333333,
              "#9c179e"
             ],
             [
              0.4444444444444444,
              "#bd3786"
             ],
             [
              0.5555555555555556,
              "#d8576b"
             ],
             [
              0.6666666666666666,
              "#ed7953"
             ],
             [
              0.7777777777777778,
              "#fb9f3a"
             ],
             [
              0.8888888888888888,
              "#fdca26"
             ],
             [
              1,
              "#f0f921"
             ]
            ],
            "type": "contour"
           }
          ],
          "contourcarpet": [
           {
            "colorbar": {
             "outlinewidth": 0,
             "ticks": ""
            },
            "type": "contourcarpet"
           }
          ],
          "heatmap": [
           {
            "colorbar": {
             "outlinewidth": 0,
             "ticks": ""
            },
            "colorscale": [
             [
              0,
              "#0d0887"
             ],
             [
              0.1111111111111111,
              "#46039f"
             ],
             [
              0.2222222222222222,
              "#7201a8"
             ],
             [
              0.3333333333333333,
              "#9c179e"
             ],
             [
              0.4444444444444444,
              "#bd3786"
             ],
             [
              0.5555555555555556,
              "#d8576b"
             ],
             [
              0.6666666666666666,
              "#ed7953"
             ],
             [
              0.7777777777777778,
              "#fb9f3a"
             ],
             [
              0.8888888888888888,
              "#fdca26"
             ],
             [
              1,
              "#f0f921"
             ]
            ],
            "type": "heatmap"
           }
          ],
          "histogram": [
           {
            "marker": {
             "pattern": {
              "fillmode": "overlay",
              "size": 10,
              "solidity": 0.2
             }
            },
            "type": "histogram"
           }
          ],
          "histogram2d": [
           {
            "colorbar": {
             "outlinewidth": 0,
             "ticks": ""
            },
            "colorscale": [
             [
              0,
              "#0d0887"
             ],
             [
              0.1111111111111111,
              "#46039f"
             ],
             [
              0.2222222222222222,
              "#7201a8"
             ],
             [
              0.3333333333333333,
              "#9c179e"
             ],
             [
              0.4444444444444444,
              "#bd3786"
             ],
             [
              0.5555555555555556,
              "#d8576b"
             ],
             [
              0.6666666666666666,
              "#ed7953"
             ],
             [
              0.7777777777777778,
              "#fb9f3a"
             ],
             [
              0.8888888888888888,
              "#fdca26"
             ],
             [
              1,
              "#f0f921"
             ]
            ],
            "type": "histogram2d"
           }
          ],
          "histogram2dcontour": [
           {
            "colorbar": {
             "outlinewidth": 0,
             "ticks": ""
            },
            "colorscale": [
             [
              0,
              "#0d0887"
             ],
             [
              0.1111111111111111,
              "#46039f"
             ],
             [
              0.2222222222222222,
              "#7201a8"
             ],
             [
              0.3333333333333333,
              "#9c179e"
             ],
             [
              0.4444444444444444,
              "#bd3786"
             ],
             [
              0.5555555555555556,
              "#d8576b"
             ],
             [
              0.6666666666666666,
              "#ed7953"
             ],
             [
              0.7777777777777778,
              "#fb9f3a"
             ],
             [
              0.8888888888888888,
              "#fdca26"
             ],
             [
              1,
              "#f0f921"
             ]
            ],
            "type": "histogram2dcontour"
           }
          ],
          "mesh3d": [
           {
            "colorbar": {
             "outlinewidth": 0,
             "ticks": ""
            },
            "type": "mesh3d"
           }
          ],
          "parcoords": [
           {
            "line": {
             "colorbar": {
              "outlinewidth": 0,
              "ticks": ""
             }
            },
            "type": "parcoords"
           }
          ],
          "pie": [
           {
            "automargin": true,
            "type": "pie"
           }
          ],
          "scatter": [
           {
            "marker": {
             "line": {
              "color": "#283442"
             }
            },
            "type": "scatter"
           }
          ],
          "scatter3d": [
           {
            "line": {
             "colorbar": {
              "outlinewidth": 0,
              "ticks": ""
             }
            },
            "marker": {
             "colorbar": {
              "outlinewidth": 0,
              "ticks": ""
             }
            },
            "type": "scatter3d"
           }
          ],
          "scattercarpet": [
           {
            "marker": {
             "colorbar": {
              "outlinewidth": 0,
              "ticks": ""
             }
            },
            "type": "scattercarpet"
           }
          ],
          "scattergeo": [
           {
            "marker": {
             "colorbar": {
              "outlinewidth": 0,
              "ticks": ""
             }
            },
            "type": "scattergeo"
           }
          ],
          "scattergl": [
           {
            "marker": {
             "line": {
              "color": "#283442"
             }
            },
            "type": "scattergl"
           }
          ],
          "scattermap": [
           {
            "marker": {
             "colorbar": {
              "outlinewidth": 0,
              "ticks": ""
             }
            },
            "type": "scattermap"
           }
          ],
          "scattermapbox": [
           {
            "marker": {
             "colorbar": {
              "outlinewidth": 0,
              "ticks": ""
             }
            },
            "type": "scattermapbox"
           }
          ],
          "scatterpolar": [
           {
            "marker": {
             "colorbar": {
              "outlinewidth": 0,
              "ticks": ""
             }
            },
            "type": "scatterpolar"
           }
          ],
          "scatterpolargl": [
           {
            "marker": {
             "colorbar": {
              "outlinewidth": 0,
              "ticks": ""
             }
            },
            "type": "scatterpolargl"
           }
          ],
          "scatterternary": [
           {
            "marker": {
             "colorbar": {
              "outlinewidth": 0,
              "ticks": ""
             }
            },
            "type": "scatterternary"
           }
          ],
          "surface": [
           {
            "colorbar": {
             "outlinewidth": 0,
             "ticks": ""
            },
            "colorscale": [
             [
              0,
              "#0d0887"
             ],
             [
              0.1111111111111111,
              "#46039f"
             ],
             [
              0.2222222222222222,
              "#7201a8"
             ],
             [
              0.3333333333333333,
              "#9c179e"
             ],
             [
              0.4444444444444444,
              "#bd3786"
             ],
             [
              0.5555555555555556,
              "#d8576b"
             ],
             [
              0.6666666666666666,
              "#ed7953"
             ],
             [
              0.7777777777777778,
              "#fb9f3a"
             ],
             [
              0.8888888888888888,
              "#fdca26"
             ],
             [
              1,
              "#f0f921"
             ]
            ],
            "type": "surface"
           }
          ],
          "table": [
           {
            "cells": {
             "fill": {
              "color": "#506784"
             },
             "line": {
              "color": "rgb(17,17,17)"
             }
            },
            "header": {
             "fill": {
              "color": "#2a3f5f"
             },
             "line": {
              "color": "rgb(17,17,17)"
             }
            },
            "type": "table"
           }
          ]
         },
         "layout": {
          "annotationdefaults": {
           "arrowcolor": "#f2f5fa",
           "arrowhead": 0,
           "arrowwidth": 1
          },
          "autotypenumbers": "strict",
          "coloraxis": {
           "colorbar": {
            "outlinewidth": 0,
            "ticks": ""
           }
          },
          "colorscale": {
           "diverging": [
            [
             0,
             "#8e0152"
            ],
            [
             0.1,
             "#c51b7d"
            ],
            [
             0.2,
             "#de77ae"
            ],
            [
             0.3,
             "#f1b6da"
            ],
            [
             0.4,
             "#fde0ef"
            ],
            [
             0.5,
             "#f7f7f7"
            ],
            [
             0.6,
             "#e6f5d0"
            ],
            [
             0.7,
             "#b8e186"
            ],
            [
             0.8,
             "#7fbc41"
            ],
            [
             0.9,
             "#4d9221"
            ],
            [
             1,
             "#276419"
            ]
           ],
           "sequential": [
            [
             0,
             "#0d0887"
            ],
            [
             0.1111111111111111,
             "#46039f"
            ],
            [
             0.2222222222222222,
             "#7201a8"
            ],
            [
             0.3333333333333333,
             "#9c179e"
            ],
            [
             0.4444444444444444,
             "#bd3786"
            ],
            [
             0.5555555555555556,
             "#d8576b"
            ],
            [
             0.6666666666666666,
             "#ed7953"
            ],
            [
             0.7777777777777778,
             "#fb9f3a"
            ],
            [
             0.8888888888888888,
             "#fdca26"
            ],
            [
             1,
             "#f0f921"
            ]
           ],
           "sequentialminus": [
            [
             0,
             "#0d0887"
            ],
            [
             0.1111111111111111,
             "#46039f"
            ],
            [
             0.2222222222222222,
             "#7201a8"
            ],
            [
             0.3333333333333333,
             "#9c179e"
            ],
            [
             0.4444444444444444,
             "#bd3786"
            ],
            [
             0.5555555555555556,
             "#d8576b"
            ],
            [
             0.6666666666666666,
             "#ed7953"
            ],
            [
             0.7777777777777778,
             "#fb9f3a"
            ],
            [
             0.8888888888888888,
             "#fdca26"
            ],
            [
             1,
             "#f0f921"
            ]
           ]
          },
          "colorway": [
           "#636efa",
           "#EF553B",
           "#00cc96",
           "#ab63fa",
           "#FFA15A",
           "#19d3f3",
           "#FF6692",
           "#B6E880",
           "#FF97FF",
           "#FECB52"
          ],
          "font": {
           "color": "#f2f5fa"
          },
          "geo": {
           "bgcolor": "rgb(17,17,17)",
           "lakecolor": "rgb(17,17,17)",
           "landcolor": "rgb(17,17,17)",
           "showlakes": true,
           "showland": true,
           "subunitcolor": "#506784"
          },
          "hoverlabel": {
           "align": "left"
          },
          "hovermode": "closest",
          "mapbox": {
           "style": "dark"
          },
          "paper_bgcolor": "rgb(17,17,17)",
          "plot_bgcolor": "rgb(17,17,17)",
          "polar": {
           "angularaxis": {
            "gridcolor": "#506784",
            "linecolor": "#506784",
            "ticks": ""
           },
           "bgcolor": "rgb(17,17,17)",
           "radialaxis": {
            "gridcolor": "#506784",
            "linecolor": "#506784",
            "ticks": ""
           }
          },
          "scene": {
           "xaxis": {
            "backgroundcolor": "rgb(17,17,17)",
            "gridcolor": "#506784",
            "gridwidth": 2,
            "linecolor": "#506784",
            "showbackground": true,
            "ticks": "",
            "zerolinecolor": "#C8D4E3"
           },
           "yaxis": {
            "backgroundcolor": "rgb(17,17,17)",
            "gridcolor": "#506784",
            "gridwidth": 2,
            "linecolor": "#506784",
            "showbackground": true,
            "ticks": "",
            "zerolinecolor": "#C8D4E3"
           },
           "zaxis": {
            "backgroundcolor": "rgb(17,17,17)",
            "gridcolor": "#506784",
            "gridwidth": 2,
            "linecolor": "#506784",
            "showbackground": true,
            "ticks": "",
            "zerolinecolor": "#C8D4E3"
           }
          },
          "shapedefaults": {
           "line": {
            "color": "#f2f5fa"
           }
          },
          "sliderdefaults": {
           "bgcolor": "#C8D4E3",
           "bordercolor": "rgb(17,17,17)",
           "borderwidth": 1,
           "tickwidth": 0
          },
          "ternary": {
           "aaxis": {
            "gridcolor": "#506784",
            "linecolor": "#506784",
            "ticks": ""
           },
           "baxis": {
            "gridcolor": "#506784",
            "linecolor": "#506784",
            "ticks": ""
           },
           "bgcolor": "rgb(17,17,17)",
           "caxis": {
            "gridcolor": "#506784",
            "linecolor": "#506784",
            "ticks": ""
           }
          },
          "title": {
           "x": 0.05
          },
          "updatemenudefaults": {
           "bgcolor": "#506784",
           "borderwidth": 0
          },
          "xaxis": {
           "automargin": true,
           "gridcolor": "#283442",
           "linecolor": "#506784",
           "ticks": "",
           "title": {
            "standoff": 15
           },
           "zerolinecolor": "#283442",
           "zerolinewidth": 2
          },
          "yaxis": {
           "automargin": true,
           "gridcolor": "#283442",
           "linecolor": "#506784",
           "ticks": "",
           "title": {
            "standoff": 15
           },
           "zerolinecolor": "#283442",
           "zerolinewidth": 2
          }
         }
        },
        "title": {
         "font": {
          "color": "#41BEE9"
         },
         "text": "Cost vs Iteration"
        },
        "xaxis": {
         "anchor": "y",
         "color": "#41BEE9",
         "domain": [
          0,
          1
         ],
         "title": {
          "text": "Iterations"
         }
        },
        "yaxis": {
         "anchor": "x",
         "color": "#41BEE9",
         "domain": [
          0,
          1
         ],
         "title": {
          "text": "Cost"
         }
        }
       }
      }
     },
     "metadata": {},
     "output_type": "display_data"
    },
    {
     "name": "stdout",
     "output_type": "stream",
     "text": [
      "Iteration 0: Cost = 3.699689\n",
      "Iteration 100: Cost = 0.483583\n",
      "Iteration 200: Cost = 0.067648\n",
      "Iteration 300: Cost = 0.013309\n",
      "Iteration 400: Cost = 0.006140\n",
      "Iteration 500: Cost = 0.005186\n",
      "Convergence reached at iteration 555\n"
     ]
    },
    {
     "data": {
      "application/vnd.plotly.v1+json": {
       "config": {
        "plotlyServerURL": "https://plot.ly"
       },
       "data": [
        {
         "hovertemplate": "x=%{x}<br>y=%{y}<extra></extra>",
         "legendgroup": "",
         "line": {
          "color": "#636efa",
          "dash": "solid"
         },
         "marker": {
          "symbol": "circle"
         },
         "mode": "lines",
         "name": "",
         "orientation": "v",
         "showlegend": false,
         "type": "scatter",
         "x": {
          "bdata": "AAABAAIAAwAEAAUABgAHAAgACQAKAAsADAANAA4ADwAQABEAEgATABQAFQAWABcAGAAZABoAGwAcAB0AHgAfACAAIQAiACMAJAAlACYAJwAoACkAKgArACwALQAuAC8AMAAxADIAMwA0ADUANgA3ADgAOQA6ADsAPAA9AD4APwBAAEEAQgBDAEQARQBGAEcASABJAEoASwBMAE0ATgBPAFAAUQBSAFMAVABVAFYAVwBYAFkAWgBbAFwAXQBeAF8AYABhAGIAYwBkAGUAZgBnAGgAaQBqAGsAbABtAG4AbwBwAHEAcgBzAHQAdQB2AHcAeAB5AHoAewB8AH0AfgB/AIAAgQCCAIMAhACFAIYAhwCIAIkAigCLAIwAjQCOAI8AkACRAJIAkwCUAJUAlgCXAJgAmQCaAJsAnACdAJ4AnwCgAKEAogCjAKQApQCmAKcAqACpAKoAqwCsAK0ArgCvALAAsQCyALMAtAC1ALYAtwC4ALkAugC7ALwAvQC+AL8AwADBAMIAwwDEAMUAxgDHAMgAyQDKAMsAzADNAM4AzwDQANEA0gDTANQA1QDWANcA2ADZANoA2wDcAN0A3gDfAOAA4QDiAOMA5ADlAOYA5wDoAOkA6gDrAOwA7QDuAO8A8ADxAPIA8wD0APUA9gD3APgA+QD6APsA/AD9AP4A/wAAAQEBAgEDAQQBBQEGAQcBCAEJAQoBCwEMAQ0BDgEPARABEQESARMBFAEVARYBFwEYARkBGgEbARwBHQEeAR8BIAEhASIBIwEkASUBJgEnASgBKQEqASsBLAEtAS4BLwEwATEBMgEzATQBNQE2ATcBOAE5AToBOwE8AT0BPgE/AUABQQFCAUMBRAFFAUYBRwFIAUkBSgFLAUwBTQFOAU8BUAFRAVIBUwFUAVUBVgFXAVgBWQFaAVsBXAFdAV4BXwFgAWEBYgFjAWQBZQFmAWcBaAFpAWoBawFsAW0BbgFvAXABcQFyAXMBdAF1AXYBdwF4AXkBegF7AXwBfQF+AX8BgAGBAYIBgwGEAYUBhgGHAYgBiQGKAYsBjAGNAY4BjwGQAZEBkgGTAZQBlQGWAZcBmAGZAZoBmwGcAZ0BngGfAaABoQGiAaMBpAGlAaYBpwGoAakBqgGrAawBrQGuAa8BsAGxAbIBswG0AbUBtgG3AbgBuQG6AbsBvAG9Ab4BvwHAAcEBwgHDAcQBxQHGAccByAHJAcoBywHMAc0BzgHPAdAB0QHSAdMB1AHVAdYB1wHYAdkB2gHbAdwB3QHeAd8B4AHhAeIB4wHkAeUB5gHnAegB6QHqAesB7AHtAe4B7wHwAfEB8gHzAfQB9QH2AfcB+AH5AfoB+wH8Af0B/gH/AQACAQICAgMCBAIFAgYCBwIIAgkCCgILAgwCDQIOAg8CEAIRAhICEwIUAhUCFgIXAhgCGQIaAhsCHAIdAh4CHwIgAiECIgIjAiQCJQImAicCKAIpAioCKwI=",
          "dtype": "i2"
         },
         "xaxis": "x",
         "y": {
          "bdata": "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",
          "dtype": "f8"
         },
         "yaxis": "y"
        }
       ],
       "layout": {
        "legend": {
         "tracegroupgap": 0
        },
        "template": {
         "data": {
          "bar": [
           {
            "error_x": {
             "color": "#f2f5fa"
            },
            "error_y": {
             "color": "#f2f5fa"
            },
            "marker": {
             "line": {
              "color": "rgb(17,17,17)",
              "width": 0.5
             },
             "pattern": {
              "fillmode": "overlay",
              "size": 10,
              "solidity": 0.2
             }
            },
            "type": "bar"
           }
          ],
          "barpolar": [
           {
            "marker": {
             "line": {
              "color": "rgb(17,17,17)",
              "width": 0.5
             },
             "pattern": {
              "fillmode": "overlay",
              "size": 10,
              "solidity": 0.2
             }
            },
            "type": "barpolar"
           }
          ],
          "carpet": [
           {
            "aaxis": {
             "endlinecolor": "#A2B1C6",
             "gridcolor": "#506784",
             "linecolor": "#506784",
             "minorgridcolor": "#506784",
             "startlinecolor": "#A2B1C6"
            },
            "baxis": {
             "endlinecolor": "#A2B1C6",
             "gridcolor": "#506784",
             "linecolor": "#506784",
             "minorgridcolor": "#506784",
             "startlinecolor": "#A2B1C6"
            },
            "type": "carpet"
           }
          ],
          "choropleth": [
           {
            "colorbar": {
             "outlinewidth": 0,
             "ticks": ""
            },
            "type": "choropleth"
           }
          ],
          "contour": [
           {
            "colorbar": {
             "outlinewidth": 0,
             "ticks": ""
            },
            "colorscale": [
             [
              0,
              "#0d0887"
             ],
             [
              0.1111111111111111,
              "#46039f"
             ],
             [
              0.2222222222222222,
              "#7201a8"
             ],
             [
              0.3333333333333333,
              "#9c179e"
             ],
             [
              0.4444444444444444,
              "#bd3786"
             ],
             [
              0.5555555555555556,
              "#d8576b"
             ],
             [
              0.6666666666666666,
              "#ed7953"
             ],
             [
              0.7777777777777778,
              "#fb9f3a"
             ],
             [
              0.8888888888888888,
              "#fdca26"
             ],
             [
              1,
              "#f0f921"
             ]
            ],
            "type": "contour"
           }
          ],
          "contourcarpet": [
           {
            "colorbar": {
             "outlinewidth": 0,
             "ticks": ""
            },
            "type": "contourcarpet"
           }
          ],
          "heatmap": [
           {
            "colorbar": {
             "outlinewidth": 0,
             "ticks": ""
            },
            "colorscale": [
             [
              0,
              "#0d0887"
             ],
             [
              0.1111111111111111,
              "#46039f"
             ],
             [
              0.2222222222222222,
              "#7201a8"
             ],
             [
              0.3333333333333333,
              "#9c179e"
             ],
             [
              0.4444444444444444,
              "#bd3786"
             ],
             [
              0.5555555555555556,
              "#d8576b"
             ],
             [
              0.6666666666666666,
              "#ed7953"
             ],
             [
              0.7777777777777778,
              "#fb9f3a"
             ],
             [
              0.8888888888888888,
              "#fdca26"
             ],
             [
              1,
              "#f0f921"
             ]
            ],
            "type": "heatmap"
           }
          ],
          "histogram": [
           {
            "marker": {
             "pattern": {
              "fillmode": "overlay",
              "size": 10,
              "solidity": 0.2
             }
            },
            "type": "histogram"
           }
          ],
          "histogram2d": [
           {
            "colorbar": {
             "outlinewidth": 0,
             "ticks": ""
            },
            "colorscale": [
             [
              0,
              "#0d0887"
             ],
             [
              0.1111111111111111,
              "#46039f"
             ],
             [
              0.2222222222222222,
              "#7201a8"
             ],
             [
              0.3333333333333333,
              "#9c179e"
             ],
             [
              0.4444444444444444,
              "#bd3786"
             ],
             [
              0.5555555555555556,
              "#d8576b"
             ],
             [
              0.6666666666666666,
              "#ed7953"
             ],
             [
              0.7777777777777778,
              "#fb9f3a"
             ],
             [
              0.8888888888888888,
              "#fdca26"
             ],
             [
              1,
              "#f0f921"
             ]
            ],
            "type": "histogram2d"
           }
          ],
          "histogram2dcontour": [
           {
            "colorbar": {
             "outlinewidth": 0,
             "ticks": ""
            },
            "colorscale": [
             [
              0,
              "#0d0887"
             ],
             [
              0.1111111111111111,
              "#46039f"
             ],
             [
              0.2222222222222222,
              "#7201a8"
             ],
             [
              0.3333333333333333,
              "#9c179e"
             ],
             [
              0.4444444444444444,
              "#bd3786"
             ],
             [
              0.5555555555555556,
              "#d8576b"
             ],
             [
              0.6666666666666666,
              "#ed7953"
             ],
             [
              0.7777777777777778,
              "#fb9f3a"
             ],
             [
              0.8888888888888888,
              "#fdca26"
             ],
             [
              1,
              "#f0f921"
             ]
            ],
            "type": "histogram2dcontour"
           }
          ],
          "mesh3d": [
           {
            "colorbar": {
             "outlinewidth": 0,
             "ticks": ""
            },
            "type": "mesh3d"
           }
          ],
          "parcoords": [
           {
            "line": {
             "colorbar": {
              "outlinewidth": 0,
              "ticks": ""
             }
            },
            "type": "parcoords"
           }
          ],
          "pie": [
           {
            "automargin": true,
            "type": "pie"
           }
          ],
          "scatter": [
           {
            "marker": {
             "line": {
              "color": "#283442"
             }
            },
            "type": "scatter"
           }
          ],
          "scatter3d": [
           {
            "line": {
             "colorbar": {
              "outlinewidth": 0,
              "ticks": ""
             }
            },
            "marker": {
             "colorbar": {
              "outlinewidth": 0,
              "ticks": ""
             }
            },
            "type": "scatter3d"
           }
          ],
          "scattercarpet": [
           {
            "marker": {
             "colorbar": {
              "outlinewidth": 0,
              "ticks": ""
             }
            },
            "type": "scattercarpet"
           }
          ],
          "scattergeo": [
           {
            "marker": {
             "colorbar": {
              "outlinewidth": 0,
              "ticks": ""
             }
            },
            "type": "scattergeo"
           }
          ],
          "scattergl": [
           {
            "marker": {
             "line": {
              "color": "#283442"
             }
            },
            "type": "scattergl"
           }
          ],
          "scattermap": [
           {
            "marker": {
             "colorbar": {
              "outlinewidth": 0,
              "ticks": ""
             }
            },
            "type": "scattermap"
           }
          ],
          "scattermapbox": [
           {
            "marker": {
             "colorbar": {
              "outlinewidth": 0,
              "ticks": ""
             }
            },
            "type": "scattermapbox"
           }
          ],
          "scatterpolar": [
           {
            "marker": {
             "colorbar": {
              "outlinewidth": 0,
              "ticks": ""
             }
            },
            "type": "scatterpolar"
           }
          ],
          "scatterpolargl": [
           {
            "marker": {
             "colorbar": {
              "outlinewidth": 0,
              "ticks": ""
             }
            },
            "type": "scatterpolargl"
           }
          ],
          "scatterternary": [
           {
            "marker": {
             "colorbar": {
              "outlinewidth": 0,
              "ticks": ""
             }
            },
            "type": "scatterternary"
           }
          ],
          "surface": [
           {
            "colorbar": {
             "outlinewidth": 0,
             "ticks": ""
            },
            "colorscale": [
             [
              0,
              "#0d0887"
             ],
             [
              0.1111111111111111,
              "#46039f"
             ],
             [
              0.2222222222222222,
              "#7201a8"
             ],
             [
              0.3333333333333333,
              "#9c179e"
             ],
             [
              0.4444444444444444,
              "#bd3786"
             ],
             [
              0.5555555555555556,
              "#d8576b"
             ],
             [
              0.6666666666666666,
              "#ed7953"
             ],
             [
              0.7777777777777778,
              "#fb9f3a"
             ],
             [
              0.8888888888888888,
              "#fdca26"
             ],
             [
              1,
              "#f0f921"
             ]
            ],
            "type": "surface"
           }
          ],
          "table": [
           {
            "cells": {
             "fill": {
              "color": "#506784"
             },
             "line": {
              "color": "rgb(17,17,17)"
             }
            },
            "header": {
             "fill": {
              "color": "#2a3f5f"
             },
             "line": {
              "color": "rgb(17,17,17)"
             }
            },
            "type": "table"
           }
          ]
         },
         "layout": {
          "annotationdefaults": {
           "arrowcolor": "#f2f5fa",
           "arrowhead": 0,
           "arrowwidth": 1
          },
          "autotypenumbers": "strict",
          "coloraxis": {
           "colorbar": {
            "outlinewidth": 0,
            "ticks": ""
           }
          },
          "colorscale": {
           "diverging": [
            [
             0,
             "#8e0152"
            ],
            [
             0.1,
             "#c51b7d"
            ],
            [
             0.2,
             "#de77ae"
            ],
            [
             0.3,
             "#f1b6da"
            ],
            [
             0.4,
             "#fde0ef"
            ],
            [
             0.5,
             "#f7f7f7"
            ],
            [
             0.6,
             "#e6f5d0"
            ],
            [
             0.7,
             "#b8e186"
            ],
            [
             0.8,
             "#7fbc41"
            ],
            [
             0.9,
             "#4d9221"
            ],
            [
             1,
             "#276419"
            ]
           ],
           "sequential": [
            [
             0,
             "#0d0887"
            ],
            [
             0.1111111111111111,
             "#46039f"
            ],
            [
             0.2222222222222222,
             "#7201a8"
            ],
            [
             0.3333333333333333,
             "#9c179e"
            ],
            [
             0.4444444444444444,
             "#bd3786"
            ],
            [
             0.5555555555555556,
             "#d8576b"
            ],
            [
             0.6666666666666666,
             "#ed7953"
            ],
            [
             0.7777777777777778,
             "#fb9f3a"
            ],
            [
             0.8888888888888888,
             "#fdca26"
            ],
            [
             1,
             "#f0f921"
            ]
           ],
           "sequentialminus": [
            [
             0,
             "#0d0887"
            ],
            [
             0.1111111111111111,
             "#46039f"
            ],
            [
             0.2222222222222222,
             "#7201a8"
            ],
            [
             0.3333333333333333,
             "#9c179e"
            ],
            [
             0.4444444444444444,
             "#bd3786"
            ],
            [
             0.5555555555555556,
             "#d8576b"
            ],
            [
             0.6666666666666666,
             "#ed7953"
            ],
            [
             0.7777777777777778,
             "#fb9f3a"
            ],
            [
             0.8888888888888888,
             "#fdca26"
            ],
            [
             1,
             "#f0f921"
            ]
           ]
          },
          "colorway": [
           "#636efa",
           "#EF553B",
           "#00cc96",
           "#ab63fa",
           "#FFA15A",
           "#19d3f3",
           "#FF6692",
           "#B6E880",
           "#FF97FF",
           "#FECB52"
          ],
          "font": {
           "color": "#f2f5fa"
          },
          "geo": {
           "bgcolor": "rgb(17,17,17)",
           "lakecolor": "rgb(17,17,17)",
           "landcolor": "rgb(17,17,17)",
           "showlakes": true,
           "showland": true,
           "subunitcolor": "#506784"
          },
          "hoverlabel": {
           "align": "left"
          },
          "hovermode": "closest",
          "mapbox": {
           "style": "dark"
          },
          "paper_bgcolor": "rgb(17,17,17)",
          "plot_bgcolor": "rgb(17,17,17)",
          "polar": {
           "angularaxis": {
            "gridcolor": "#506784",
            "linecolor": "#506784",
            "ticks": ""
           },
           "bgcolor": "rgb(17,17,17)",
           "radialaxis": {
            "gridcolor": "#506784",
            "linecolor": "#506784",
            "ticks": ""
           }
          },
          "scene": {
           "xaxis": {
            "backgroundcolor": "rgb(17,17,17)",
            "gridcolor": "#506784",
            "gridwidth": 2,
            "linecolor": "#506784",
            "showbackground": true,
            "ticks": "",
            "zerolinecolor": "#C8D4E3"
           },
           "yaxis": {
            "backgroundcolor": "rgb(17,17,17)",
            "gridcolor": "#506784",
            "gridwidth": 2,
            "linecolor": "#506784",
            "showbackground": true,
            "ticks": "",
            "zerolinecolor": "#C8D4E3"
           },
           "zaxis": {
            "backgroundcolor": "rgb(17,17,17)",
            "gridcolor": "#506784",
            "gridwidth": 2,
            "linecolor": "#506784",
            "showbackground": true,
            "ticks": "",
            "zerolinecolor": "#C8D4E3"
           }
          },
          "shapedefaults": {
           "line": {
            "color": "#f2f5fa"
           }
          },
          "sliderdefaults": {
           "bgcolor": "#C8D4E3",
           "bordercolor": "rgb(17,17,17)",
           "borderwidth": 1,
           "tickwidth": 0
          },
          "ternary": {
           "aaxis": {
            "gridcolor": "#506784",
            "linecolor": "#506784",
            "ticks": ""
           },
           "baxis": {
            "gridcolor": "#506784",
            "linecolor": "#506784",
            "ticks": ""
           },
           "bgcolor": "rgb(17,17,17)",
           "caxis": {
            "gridcolor": "#506784",
            "linecolor": "#506784",
            "ticks": ""
           }
          },
          "title": {
           "x": 0.05
          },
          "updatemenudefaults": {
           "bgcolor": "#506784",
           "borderwidth": 0
          },
          "xaxis": {
           "automargin": true,
           "gridcolor": "#283442",
           "linecolor": "#506784",
           "ticks": "",
           "title": {
            "standoff": 15
           },
           "zerolinecolor": "#283442",
           "zerolinewidth": 2
          },
          "yaxis": {
           "automargin": true,
           "gridcolor": "#283442",
           "linecolor": "#506784",
           "ticks": "",
           "title": {
            "standoff": 15
           },
           "zerolinecolor": "#283442",
           "zerolinewidth": 2
          }
         }
        },
        "title": {
         "font": {
          "color": "#41BEE9"
         },
         "text": "Cost vs Iteration"
        },
        "xaxis": {
         "anchor": "y",
         "color": "#41BEE9",
         "domain": [
          0,
          1
         ],
         "title": {
          "text": "Iterations"
         }
        },
        "yaxis": {
         "anchor": "x",
         "color": "#41BEE9",
         "domain": [
          0,
          1
         ],
         "title": {
          "text": "Cost"
         }
        }
       }
      }
     },
     "metadata": {},
     "output_type": "display_data"
    },
    {
     "name": "stdout",
     "output_type": "stream",
     "text": [
      "Iteration 0: Cost = 3.687285\n",
      "Iteration 100: Cost = 0.481962\n",
      "Iteration 200: Cost = 0.067434\n",
      "Iteration 300: Cost = 0.013281\n",
      "Iteration 400: Cost = 0.006137\n",
      "Iteration 500: Cost = 0.005185\n",
      "Convergence reached at iteration 555\n"
     ]
    },
    {
     "data": {
      "application/vnd.plotly.v1+json": {
       "config": {
        "plotlyServerURL": "https://plot.ly"
       },
       "data": [
        {
         "hovertemplate": "x=%{x}<br>y=%{y}<extra></extra>",
         "legendgroup": "",
         "line": {
          "color": "#636efa",
          "dash": "solid"
         },
         "marker": {
          "symbol": "circle"
         },
         "mode": "lines",
         "name": "",
         "orientation": "v",
         "showlegend": false,
         "type": "scatter",
         "x": {
          "bdata": "AAABAAIAAwAEAAUABgAHAAgACQAKAAsADAANAA4ADwAQABEAEgATABQAFQAWABcAGAAZABoAGwAcAB0AHgAfACAAIQAiACMAJAAlACYAJwAoACkAKgArACwALQAuAC8AMAAxADIAMwA0ADUANgA3ADgAOQA6ADsAPAA9AD4APwBAAEEAQgBDAEQARQBGAEcASABJAEoASwBMAE0ATgBPAFAAUQBSAFMAVABVAFYAVwBYAFkAWgBbAFwAXQBeAF8AYABhAGIAYwBkAGUAZgBnAGgAaQBqAGsAbABtAG4AbwBwAHEAcgBzAHQAdQB2AHcAeAB5AHoAewB8AH0AfgB/AIAAgQCCAIMAhACFAIYAhwCIAIkAigCLAIwAjQCOAI8AkACRAJIAkwCUAJUAlgCXAJgAmQCaAJsAnACdAJ4AnwCgAKEAogCjAKQApQCmAKcAqACpAKoAqwCsAK0ArgCvALAAsQCyALMAtAC1ALYAtwC4ALkAugC7ALwAvQC+AL8AwADBAMIAwwDEAMUAxgDHAMgAyQDKAMsAzADNAM4AzwDQANEA0gDTANQA1QDWANcA2ADZANoA2wDcAN0A3gDfAOAA4QDiAOMA5ADlAOYA5wDoAOkA6gDrAOwA7QDuAO8A8ADxAPIA8wD0APUA9gD3APgA+QD6APsA/AD9AP4A/wAAAQEBAgEDAQQBBQEGAQcBCAEJAQoBCwEMAQ0BDgEPARABEQESARMBFAEVARYBFwEYARkBGgEbARwBHQEeAR8BIAEhASIBIwEkASUBJgEnASgBKQEqASsBLAEtAS4BLwEwATEBMgEzATQBNQE2ATcBOAE5AToBOwE8AT0BPgE/AUABQQFCAUMBRAFFAUYBRwFIAUkBSgFLAUwBTQFOAU8BUAFRAVIBUwFUAVUBVgFXAVgBWQFaAVsBXAFdAV4BXwFgAWEBYgFjAWQBZQFmAWcBaAFpAWoBawFsAW0BbgFvAXABcQFyAXMBdAF1AXYBdwF4AXkBegF7AXwBfQF+AX8BgAGBAYIBgwGEAYUBhgGHAYgBiQGKAYsBjAGNAY4BjwGQAZEBkgGTAZQBlQGWAZcBmAGZAZoBmwGcAZ0BngGfAaABoQGiAaMBpAGlAaYBpwGoAakBqgGrAawBrQGuAa8BsAGxAbIBswG0AbUBtgG3AbgBuQG6AbsBvAG9Ab4BvwHAAcEBwgHDAcQBxQHGAccByAHJAcoBywHMAc0BzgHPAdAB0QHSAdMB1AHVAdYB1wHYAdkB2gHbAdwB3QHeAd8B4AHhAeIB4wHkAeUB5gHnAegB6QHqAesB7AHtAe4B7wHwAfEB8gHzAfQB9QH2AfcB+AH5AfoB+wH8Af0B/gH/AQACAQICAgMCBAIFAgYCBwIIAgkCCgILAgwCDQIOAg8CEAIRAhICEwIUAhUCFgIXAhgCGQIaAhsCHAIdAh4CHwIgAiECIgIjAiQCJQImAicCKAIpAioCKwI=",
          "dtype": "i2"
         },
         "xaxis": "x",
         "y": {
          "bdata": "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",
          "dtype": "f8"
         },
         "yaxis": "y"
        }
       ],
       "layout": {
        "legend": {
         "tracegroupgap": 0
        },
        "template": {
         "data": {
          "bar": [
           {
            "error_x": {
             "color": "#f2f5fa"
            },
            "error_y": {
             "color": "#f2f5fa"
            },
            "marker": {
             "line": {
              "color": "rgb(17,17,17)",
              "width": 0.5
             },
             "pattern": {
              "fillmode": "overlay",
              "size": 10,
              "solidity": 0.2
             }
            },
            "type": "bar"
           }
          ],
          "barpolar": [
           {
            "marker": {
             "line": {
              "color": "rgb(17,17,17)",
              "width": 0.5
             },
             "pattern": {
              "fillmode": "overlay",
              "size": 10,
              "solidity": 0.2
             }
            },
            "type": "barpolar"
           }
          ],
          "carpet": [
           {
            "aaxis": {
             "endlinecolor": "#A2B1C6",
             "gridcolor": "#506784",
             "linecolor": "#506784",
             "minorgridcolor": "#506784",
             "startlinecolor": "#A2B1C6"
            },
            "baxis": {
             "endlinecolor": "#A2B1C6",
             "gridcolor": "#506784",
             "linecolor": "#506784",
             "minorgridcolor": "#506784",
             "startlinecolor": "#A2B1C6"
            },
            "type": "carpet"
           }
          ],
          "choropleth": [
           {
            "colorbar": {
             "outlinewidth": 0,
             "ticks": ""
            },
            "type": "choropleth"
           }
          ],
          "contour": [
           {
            "colorbar": {
             "outlinewidth": 0,
             "ticks": ""
            },
            "colorscale": [
             [
              0,
              "#0d0887"
             ],
             [
              0.1111111111111111,
              "#46039f"
             ],
             [
              0.2222222222222222,
              "#7201a8"
             ],
             [
              0.3333333333333333,
              "#9c179e"
             ],
             [
              0.4444444444444444,
              "#bd3786"
             ],
             [
              0.5555555555555556,
              "#d8576b"
             ],
             [
              0.6666666666666666,
              "#ed7953"
             ],
             [
              0.7777777777777778,
              "#fb9f3a"
             ],
             [
              0.8888888888888888,
              "#fdca26"
             ],
             [
              1,
              "#f0f921"
             ]
            ],
            "type": "contour"
           }
          ],
          "contourcarpet": [
           {
            "colorbar": {
             "outlinewidth": 0,
             "ticks": ""
            },
            "type": "contourcarpet"
           }
          ],
          "heatmap": [
           {
            "colorbar": {
             "outlinewidth": 0,
             "ticks": ""
            },
            "colorscale": [
             [
              0,
              "#0d0887"
             ],
             [
              0.1111111111111111,
              "#46039f"
             ],
             [
              0.2222222222222222,
              "#7201a8"
             ],
             [
              0.3333333333333333,
              "#9c179e"
             ],
             [
              0.4444444444444444,
              "#bd3786"
             ],
             [
              0.5555555555555556,
              "#d8576b"
             ],
             [
              0.6666666666666666,
              "#ed7953"
             ],
             [
              0.7777777777777778,
              "#fb9f3a"
             ],
             [
              0.8888888888888888,
              "#fdca26"
             ],
             [
              1,
              "#f0f921"
             ]
            ],
            "type": "heatmap"
           }
          ],
          "histogram": [
           {
            "marker": {
             "pattern": {
              "fillmode": "overlay",
              "size": 10,
              "solidity": 0.2
             }
            },
            "type": "histogram"
           }
          ],
          "histogram2d": [
           {
            "colorbar": {
             "outlinewidth": 0,
             "ticks": ""
            },
            "colorscale": [
             [
              0,
              "#0d0887"
             ],
             [
              0.1111111111111111,
              "#46039f"
             ],
             [
              0.2222222222222222,
              "#7201a8"
             ],
             [
              0.3333333333333333,
              "#9c179e"
             ],
             [
              0.4444444444444444,
              "#bd3786"
             ],
             [
              0.5555555555555556,
              "#d8576b"
             ],
             [
              0.6666666666666666,
              "#ed7953"
             ],
             [
              0.7777777777777778,
              "#fb9f3a"
             ],
             [
              0.8888888888888888,
              "#fdca26"
             ],
             [
              1,
              "#f0f921"
             ]
            ],
            "type": "histogram2d"
           }
          ],
          "histogram2dcontour": [
           {
            "colorbar": {
             "outlinewidth": 0,
             "ticks": ""
            },
            "colorscale": [
             [
              0,
              "#0d0887"
             ],
             [
              0.1111111111111111,
              "#46039f"
             ],
             [
              0.2222222222222222,
              "#7201a8"
             ],
             [
              0.3333333333333333,
              "#9c179e"
             ],
             [
              0.4444444444444444,
              "#bd3786"
             ],
             [
              0.5555555555555556,
              "#d8576b"
             ],
             [
              0.6666666666666666,
              "#ed7953"
             ],
             [
              0.7777777777777778,
              "#fb9f3a"
             ],
             [
              0.8888888888888888,
              "#fdca26"
             ],
             [
              1,
              "#f0f921"
             ]
            ],
            "type": "histogram2dcontour"
           }
          ],
          "mesh3d": [
           {
            "colorbar": {
             "outlinewidth": 0,
             "ticks": ""
            },
            "type": "mesh3d"
           }
          ],
          "parcoords": [
           {
            "line": {
             "colorbar": {
              "outlinewidth": 0,
              "ticks": ""
             }
            },
            "type": "parcoords"
           }
          ],
          "pie": [
           {
            "automargin": true,
            "type": "pie"
           }
          ],
          "scatter": [
           {
            "marker": {
             "line": {
              "color": "#283442"
             }
            },
            "type": "scatter"
           }
          ],
          "scatter3d": [
           {
            "line": {
             "colorbar": {
              "outlinewidth": 0,
              "ticks": ""
             }
            },
            "marker": {
             "colorbar": {
              "outlinewidth": 0,
              "ticks": ""
             }
            },
            "type": "scatter3d"
           }
          ],
          "scattercarpet": [
           {
            "marker": {
             "colorbar": {
              "outlinewidth": 0,
              "ticks": ""
             }
            },
            "type": "scattercarpet"
           }
          ],
          "scattergeo": [
           {
            "marker": {
             "colorbar": {
              "outlinewidth": 0,
              "ticks": ""
             }
            },
            "type": "scattergeo"
           }
          ],
          "scattergl": [
           {
            "marker": {
             "line": {
              "color": "#283442"
             }
            },
            "type": "scattergl"
           }
          ],
          "scattermap": [
           {
            "marker": {
             "colorbar": {
              "outlinewidth": 0,
              "ticks": ""
             }
            },
            "type": "scattermap"
           }
          ],
          "scattermapbox": [
           {
            "marker": {
             "colorbar": {
              "outlinewidth": 0,
              "ticks": ""
             }
            },
            "type": "scattermapbox"
           }
          ],
          "scatterpolar": [
           {
            "marker": {
             "colorbar": {
              "outlinewidth": 0,
              "ticks": ""
             }
            },
            "type": "scatterpolar"
           }
          ],
          "scatterpolargl": [
           {
            "marker": {
             "colorbar": {
              "outlinewidth": 0,
              "ticks": ""
             }
            },
            "type": "scatterpolargl"
           }
          ],
          "scatterternary": [
           {
            "marker": {
             "colorbar": {
              "outlinewidth": 0,
              "ticks": ""
             }
            },
            "type": "scatterternary"
           }
          ],
          "surface": [
           {
            "colorbar": {
             "outlinewidth": 0,
             "ticks": ""
            },
            "colorscale": [
             [
              0,
              "#0d0887"
             ],
             [
              0.1111111111111111,
              "#46039f"
             ],
             [
              0.2222222222222222,
              "#7201a8"
             ],
             [
              0.3333333333333333,
              "#9c179e"
             ],
             [
              0.4444444444444444,
              "#bd3786"
             ],
             [
              0.5555555555555556,
              "#d8576b"
             ],
             [
              0.6666666666666666,
              "#ed7953"
             ],
             [
              0.7777777777777778,
              "#fb9f3a"
             ],
             [
              0.8888888888888888,
              "#fdca26"
             ],
             [
              1,
              "#f0f921"
             ]
            ],
            "type": "surface"
           }
          ],
          "table": [
           {
            "cells": {
             "fill": {
              "color": "#506784"
             },
             "line": {
              "color": "rgb(17,17,17)"
             }
            },
            "header": {
             "fill": {
              "color": "#2a3f5f"
             },
             "line": {
              "color": "rgb(17,17,17)"
             }
            },
            "type": "table"
           }
          ]
         },
         "layout": {
          "annotationdefaults": {
           "arrowcolor": "#f2f5fa",
           "arrowhead": 0,
           "arrowwidth": 1
          },
          "autotypenumbers": "strict",
          "coloraxis": {
           "colorbar": {
            "outlinewidth": 0,
            "ticks": ""
           }
          },
          "colorscale": {
           "diverging": [
            [
             0,
             "#8e0152"
            ],
            [
             0.1,
             "#c51b7d"
            ],
            [
             0.2,
             "#de77ae"
            ],
            [
             0.3,
             "#f1b6da"
            ],
            [
             0.4,
             "#fde0ef"
            ],
            [
             0.5,
             "#f7f7f7"
            ],
            [
             0.6,
             "#e6f5d0"
            ],
            [
             0.7,
             "#b8e186"
            ],
            [
             0.8,
             "#7fbc41"
            ],
            [
             0.9,
             "#4d9221"
            ],
            [
             1,
             "#276419"
            ]
           ],
           "sequential": [
            [
             0,
             "#0d0887"
            ],
            [
             0.1111111111111111,
             "#46039f"
            ],
            [
             0.2222222222222222,
             "#7201a8"
            ],
            [
             0.3333333333333333,
             "#9c179e"
            ],
            [
             0.4444444444444444,
             "#bd3786"
            ],
            [
             0.5555555555555556,
             "#d8576b"
            ],
            [
             0.6666666666666666,
             "#ed7953"
            ],
            [
             0.7777777777777778,
             "#fb9f3a"
            ],
            [
             0.8888888888888888,
             "#fdca26"
            ],
            [
             1,
             "#f0f921"
            ]
           ],
           "sequentialminus": [
            [
             0,
             "#0d0887"
            ],
            [
             0.1111111111111111,
             "#46039f"
            ],
            [
             0.2222222222222222,
             "#7201a8"
            ],
            [
             0.3333333333333333,
             "#9c179e"
            ],
            [
             0.4444444444444444,
             "#bd3786"
            ],
            [
             0.5555555555555556,
             "#d8576b"
            ],
            [
             0.6666666666666666,
             "#ed7953"
            ],
            [
             0.7777777777777778,
             "#fb9f3a"
            ],
            [
             0.8888888888888888,
             "#fdca26"
            ],
            [
             1,
             "#f0f921"
            ]
           ]
          },
          "colorway": [
           "#636efa",
           "#EF553B",
           "#00cc96",
           "#ab63fa",
           "#FFA15A",
           "#19d3f3",
           "#FF6692",
           "#B6E880",
           "#FF97FF",
           "#FECB52"
          ],
          "font": {
           "color": "#f2f5fa"
          },
          "geo": {
           "bgcolor": "rgb(17,17,17)",
           "lakecolor": "rgb(17,17,17)",
           "landcolor": "rgb(17,17,17)",
           "showlakes": true,
           "showland": true,
           "subunitcolor": "#506784"
          },
          "hoverlabel": {
           "align": "left"
          },
          "hovermode": "closest",
          "mapbox": {
           "style": "dark"
          },
          "paper_bgcolor": "rgb(17,17,17)",
          "plot_bgcolor": "rgb(17,17,17)",
          "polar": {
           "angularaxis": {
            "gridcolor": "#506784",
            "linecolor": "#506784",
            "ticks": ""
           },
           "bgcolor": "rgb(17,17,17)",
           "radialaxis": {
            "gridcolor": "#506784",
            "linecolor": "#506784",
            "ticks": ""
           }
          },
          "scene": {
           "xaxis": {
            "backgroundcolor": "rgb(17,17,17)",
            "gridcolor": "#506784",
            "gridwidth": 2,
            "linecolor": "#506784",
            "showbackground": true,
            "ticks": "",
            "zerolinecolor": "#C8D4E3"
           },
           "yaxis": {
            "backgroundcolor": "rgb(17,17,17)",
            "gridcolor": "#506784",
            "gridwidth": 2,
            "linecolor": "#506784",
            "showbackground": true,
            "ticks": "",
            "zerolinecolor": "#C8D4E3"
           },
           "zaxis": {
            "backgroundcolor": "rgb(17,17,17)",
            "gridcolor": "#506784",
            "gridwidth": 2,
            "linecolor": "#506784",
            "showbackground": true,
            "ticks": "",
            "zerolinecolor": "#C8D4E3"
           }
          },
          "shapedefaults": {
           "line": {
            "color": "#f2f5fa"
           }
          },
          "sliderdefaults": {
           "bgcolor": "#C8D4E3",
           "bordercolor": "rgb(17,17,17)",
           "borderwidth": 1,
           "tickwidth": 0
          },
          "ternary": {
           "aaxis": {
            "gridcolor": "#506784",
            "linecolor": "#506784",
            "ticks": ""
           },
           "baxis": {
            "gridcolor": "#506784",
            "linecolor": "#506784",
            "ticks": ""
           },
           "bgcolor": "rgb(17,17,17)",
           "caxis": {
            "gridcolor": "#506784",
            "linecolor": "#506784",
            "ticks": ""
           }
          },
          "title": {
           "x": 0.05
          },
          "updatemenudefaults": {
           "bgcolor": "#506784",
           "borderwidth": 0
          },
          "xaxis": {
           "automargin": true,
           "gridcolor": "#283442",
           "linecolor": "#506784",
           "ticks": "",
           "title": {
            "standoff": 15
           },
           "zerolinecolor": "#283442",
           "zerolinewidth": 2
          },
          "yaxis": {
           "automargin": true,
           "gridcolor": "#283442",
           "linecolor": "#506784",
           "ticks": "",
           "title": {
            "standoff": 15
           },
           "zerolinecolor": "#283442",
           "zerolinewidth": 2
          }
         }
        },
        "title": {
         "font": {
          "color": "#41BEE9"
         },
         "text": "Cost vs Iteration"
        },
        "xaxis": {
         "anchor": "y",
         "color": "#41BEE9",
         "domain": [
          0,
          1
         ],
         "title": {
          "text": "Iterations"
         }
        },
        "yaxis": {
         "anchor": "x",
         "color": "#41BEE9",
         "domain": [
          0,
          1
         ],
         "title": {
          "text": "Cost"
         }
        }
       }
      }
     },
     "metadata": {},
     "output_type": "display_data"
    },
    {
     "name": "stdout",
     "output_type": "stream",
     "text": [
      "Iteration 0: Cost = 3.680515\n",
      "Iteration 100: Cost = 0.480967\n",
      "Iteration 200: Cost = 0.067287\n",
      "Iteration 300: Cost = 0.013259\n",
      "Iteration 400: Cost = 0.006133\n",
      "Iteration 500: Cost = 0.005185\n",
      "Convergence reached at iteration 555\n"
     ]
    },
    {
     "data": {
      "application/vnd.plotly.v1+json": {
       "config": {
        "plotlyServerURL": "https://plot.ly"
       },
       "data": [
        {
         "hovertemplate": "x=%{x}<br>y=%{y}<extra></extra>",
         "legendgroup": "",
         "line": {
          "color": "#636efa",
          "dash": "solid"
         },
         "marker": {
          "symbol": "circle"
         },
         "mode": "lines",
         "name": "",
         "orientation": "v",
         "showlegend": false,
         "type": "scatter",
         "x": {
          "bdata": "AAABAAIAAwAEAAUABgAHAAgACQAKAAsADAANAA4ADwAQABEAEgATABQAFQAWABcAGAAZABoAGwAcAB0AHgAfACAAIQAiACMAJAAlACYAJwAoACkAKgArACwALQAuAC8AMAAxADIAMwA0ADUANgA3ADgAOQA6ADsAPAA9AD4APwBAAEEAQgBDAEQARQBGAEcASABJAEoASwBMAE0ATgBPAFAAUQBSAFMAVABVAFYAVwBYAFkAWgBbAFwAXQBeAF8AYABhAGIAYwBkAGUAZgBnAGgAaQBqAGsAbABtAG4AbwBwAHEAcgBzAHQAdQB2AHcAeAB5AHoAewB8AH0AfgB/AIAAgQCCAIMAhACFAIYAhwCIAIkAigCLAIwAjQCOAI8AkACRAJIAkwCUAJUAlgCXAJgAmQCaAJsAnACdAJ4AnwCgAKEAogCjAKQApQCmAKcAqACpAKoAqwCsAK0ArgCvALAAsQCyALMAtAC1ALYAtwC4ALkAugC7ALwAvQC+AL8AwADBAMIAwwDEAMUAxgDHAMgAyQDKAMsAzADNAM4AzwDQANEA0gDTANQA1QDWANcA2ADZANoA2wDcAN0A3gDfAOAA4QDiAOMA5ADlAOYA5wDoAOkA6gDrAOwA7QDuAO8A8ADxAPIA8wD0APUA9gD3APgA+QD6APsA/AD9AP4A/wAAAQEBAgEDAQQBBQEGAQcBCAEJAQoBCwEMAQ0BDgEPARABEQESARMBFAEVARYBFwEYARkBGgEbARwBHQEeAR8BIAEhASIBIwEkASUBJgEnASgBKQEqASsBLAEtAS4BLwEwATEBMgEzATQBNQE2ATcBOAE5AToBOwE8AT0BPgE/AUABQQFCAUMBRAFFAUYBRwFIAUkBSgFLAUwBTQFOAU8BUAFRAVIBUwFUAVUBVgFXAVgBWQFaAVsBXAFdAV4BXwFgAWEBYgFjAWQBZQFmAWcBaAFpAWoBawFsAW0BbgFvAXABcQFyAXMBdAF1AXYBdwF4AXkBegF7AXwBfQF+AX8BgAGBAYIBgwGEAYUBhgGHAYgBiQGKAYsBjAGNAY4BjwGQAZEBkgGTAZQBlQGWAZcBmAGZAZoBmwGcAZ0BngGfAaABoQGiAaMBpAGlAaYBpwGoAakBqgGrAawBrQGuAa8BsAGxAbIBswG0AbUBtgG3AbgBuQG6AbsBvAG9Ab4BvwHAAcEBwgHDAcQBxQHGAccByAHJAcoBywHMAc0BzgHPAdAB0QHSAdMB1AHVAdYB1wHYAdkB2gHbAdwB3QHeAd8B4AHhAeIB4wHkAeUB5gHnAegB6QHqAesB7AHtAe4B7wHwAfEB8gHzAfQB9QH2AfcB+AH5AfoB+wH8Af0B/gH/AQACAQICAgMCBAIFAgYCBwIIAgkCCgILAgwCDQIOAg8CEAIRAhICEwIUAhUCFgIXAhgCGQIaAhsCHAIdAh4CHwIgAiECIgIjAiQCJQImAicCKAIpAioCKwI=",
          "dtype": "i2"
         },
         "xaxis": "x",
         "y": {
          "bdata": "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",
          "dtype": "f8"
         },
         "yaxis": "y"
        }
       ],
       "layout": {
        "legend": {
         "tracegroupgap": 0
        },
        "template": {
         "data": {
          "bar": [
           {
            "error_x": {
             "color": "#f2f5fa"
            },
            "error_y": {
             "color": "#f2f5fa"
            },
            "marker": {
             "line": {
              "color": "rgb(17,17,17)",
              "width": 0.5
             },
             "pattern": {
              "fillmode": "overlay",
              "size": 10,
              "solidity": 0.2
             }
            },
            "type": "bar"
           }
          ],
          "barpolar": [
           {
            "marker": {
             "line": {
              "color": "rgb(17,17,17)",
              "width": 0.5
             },
             "pattern": {
              "fillmode": "overlay",
              "size": 10,
              "solidity": 0.2
             }
            },
            "type": "barpolar"
           }
          ],
          "carpet": [
           {
            "aaxis": {
             "endlinecolor": "#A2B1C6",
             "gridcolor": "#506784",
             "linecolor": "#506784",
             "minorgridcolor": "#506784",
             "startlinecolor": "#A2B1C6"
            },
            "baxis": {
             "endlinecolor": "#A2B1C6",
             "gridcolor": "#506784",
             "linecolor": "#506784",
             "minorgridcolor": "#506784",
             "startlinecolor": "#A2B1C6"
            },
            "type": "carpet"
           }
          ],
          "choropleth": [
           {
            "colorbar": {
             "outlinewidth": 0,
             "ticks": ""
            },
            "type": "choropleth"
           }
          ],
          "contour": [
           {
            "colorbar": {
             "outlinewidth": 0,
             "ticks": ""
            },
            "colorscale": [
             [
              0,
              "#0d0887"
             ],
             [
              0.1111111111111111,
              "#46039f"
             ],
             [
              0.2222222222222222,
              "#7201a8"
             ],
             [
              0.3333333333333333,
              "#9c179e"
             ],
             [
              0.4444444444444444,
              "#bd3786"
             ],
             [
              0.5555555555555556,
              "#d8576b"
             ],
             [
              0.6666666666666666,
              "#ed7953"
             ],
             [
              0.7777777777777778,
              "#fb9f3a"
             ],
             [
              0.8888888888888888,
              "#fdca26"
             ],
             [
              1,
              "#f0f921"
             ]
            ],
            "type": "contour"
           }
          ],
          "contourcarpet": [
           {
            "colorbar": {
             "outlinewidth": 0,
             "ticks": ""
            },
            "type": "contourcarpet"
           }
          ],
          "heatmap": [
           {
            "colorbar": {
             "outlinewidth": 0,
             "ticks": ""
            },
            "colorscale": [
             [
              0,
              "#0d0887"
             ],
             [
              0.1111111111111111,
              "#46039f"
             ],
             [
              0.2222222222222222,
              "#7201a8"
             ],
             [
              0.3333333333333333,
              "#9c179e"
             ],
             [
              0.4444444444444444,
              "#bd3786"
             ],
             [
              0.5555555555555556,
              "#d8576b"
             ],
             [
              0.6666666666666666,
              "#ed7953"
             ],
             [
              0.7777777777777778,
              "#fb9f3a"
             ],
             [
              0.8888888888888888,
              "#fdca26"
             ],
             [
              1,
              "#f0f921"
             ]
            ],
            "type": "heatmap"
           }
          ],
          "histogram": [
           {
            "marker": {
             "pattern": {
              "fillmode": "overlay",
              "size": 10,
              "solidity": 0.2
             }
            },
            "type": "histogram"
           }
          ],
          "histogram2d": [
           {
            "colorbar": {
             "outlinewidth": 0,
             "ticks": ""
            },
            "colorscale": [
             [
              0,
              "#0d0887"
             ],
             [
              0.1111111111111111,
              "#46039f"
             ],
             [
              0.2222222222222222,
              "#7201a8"
             ],
             [
              0.3333333333333333,
              "#9c179e"
             ],
             [
              0.4444444444444444,
              "#bd3786"
             ],
             [
              0.5555555555555556,
              "#d8576b"
             ],
             [
              0.6666666666666666,
              "#ed7953"
             ],
             [
              0.7777777777777778,
              "#fb9f3a"
             ],
             [
              0.8888888888888888,
              "#fdca26"
             ],
             [
              1,
              "#f0f921"
             ]
            ],
            "type": "histogram2d"
           }
          ],
          "histogram2dcontour": [
           {
            "colorbar": {
             "outlinewidth": 0,
             "ticks": ""
            },
            "colorscale": [
             [
              0,
              "#0d0887"
             ],
             [
              0.1111111111111111,
              "#46039f"
             ],
             [
              0.2222222222222222,
              "#7201a8"
             ],
             [
              0.3333333333333333,
              "#9c179e"
             ],
             [
              0.4444444444444444,
              "#bd3786"
             ],
             [
              0.5555555555555556,
              "#d8576b"
             ],
             [
              0.6666666666666666,
              "#ed7953"
             ],
             [
              0.7777777777777778,
              "#fb9f3a"
             ],
             [
              0.8888888888888888,
              "#fdca26"
             ],
             [
              1,
              "#f0f921"
             ]
            ],
            "type": "histogram2dcontour"
           }
          ],
          "mesh3d": [
           {
            "colorbar": {
             "outlinewidth": 0,
             "ticks": ""
            },
            "type": "mesh3d"
           }
          ],
          "parcoords": [
           {
            "line": {
             "colorbar": {
              "outlinewidth": 0,
              "ticks": ""
             }
            },
            "type": "parcoords"
           }
          ],
          "pie": [
           {
            "automargin": true,
            "type": "pie"
           }
          ],
          "scatter": [
           {
            "marker": {
             "line": {
              "color": "#283442"
             }
            },
            "type": "scatter"
           }
          ],
          "scatter3d": [
           {
            "line": {
             "colorbar": {
              "outlinewidth": 0,
              "ticks": ""
             }
            },
            "marker": {
             "colorbar": {
              "outlinewidth": 0,
              "ticks": ""
             }
            },
            "type": "scatter3d"
           }
          ],
          "scattercarpet": [
           {
            "marker": {
             "colorbar": {
              "outlinewidth": 0,
              "ticks": ""
             }
            },
            "type": "scattercarpet"
           }
          ],
          "scattergeo": [
           {
            "marker": {
             "colorbar": {
              "outlinewidth": 0,
              "ticks": ""
             }
            },
            "type": "scattergeo"
           }
          ],
          "scattergl": [
           {
            "marker": {
             "line": {
              "color": "#283442"
             }
            },
            "type": "scattergl"
           }
          ],
          "scattermap": [
           {
            "marker": {
             "colorbar": {
              "outlinewidth": 0,
              "ticks": ""
             }
            },
            "type": "scattermap"
           }
          ],
          "scattermapbox": [
           {
            "marker": {
             "colorbar": {
              "outlinewidth": 0,
              "ticks": ""
             }
            },
            "type": "scattermapbox"
           }
          ],
          "scatterpolar": [
           {
            "marker": {
             "colorbar": {
              "outlinewidth": 0,
              "ticks": ""
             }
            },
            "type": "scatterpolar"
           }
          ],
          "scatterpolargl": [
           {
            "marker": {
             "colorbar": {
              "outlinewidth": 0,
              "ticks": ""
             }
            },
            "type": "scatterpolargl"
           }
          ],
          "scatterternary": [
           {
            "marker": {
             "colorbar": {
              "outlinewidth": 0,
              "ticks": ""
             }
            },
            "type": "scatterternary"
           }
          ],
          "surface": [
           {
            "colorbar": {
             "outlinewidth": 0,
             "ticks": ""
            },
            "colorscale": [
             [
              0,
              "#0d0887"
             ],
             [
              0.1111111111111111,
              "#46039f"
             ],
             [
              0.2222222222222222,
              "#7201a8"
             ],
             [
              0.3333333333333333,
              "#9c179e"
             ],
             [
              0.4444444444444444,
              "#bd3786"
             ],
             [
              0.5555555555555556,
              "#d8576b"
             ],
             [
              0.6666666666666666,
              "#ed7953"
             ],
             [
              0.7777777777777778,
              "#fb9f3a"
             ],
             [
              0.8888888888888888,
              "#fdca26"
             ],
             [
              1,
              "#f0f921"
             ]
            ],
            "type": "surface"
           }
          ],
          "table": [
           {
            "cells": {
             "fill": {
              "color": "#506784"
             },
             "line": {
              "color": "rgb(17,17,17)"
             }
            },
            "header": {
             "fill": {
              "color": "#2a3f5f"
             },
             "line": {
              "color": "rgb(17,17,17)"
             }
            },
            "type": "table"
           }
          ]
         },
         "layout": {
          "annotationdefaults": {
           "arrowcolor": "#f2f5fa",
           "arrowhead": 0,
           "arrowwidth": 1
          },
          "autotypenumbers": "strict",
          "coloraxis": {
           "colorbar": {
            "outlinewidth": 0,
            "ticks": ""
           }
          },
          "colorscale": {
           "diverging": [
            [
             0,
             "#8e0152"
            ],
            [
             0.1,
             "#c51b7d"
            ],
            [
             0.2,
             "#de77ae"
            ],
            [
             0.3,
             "#f1b6da"
            ],
            [
             0.4,
             "#fde0ef"
            ],
            [
             0.5,
             "#f7f7f7"
            ],
            [
             0.6,
             "#e6f5d0"
            ],
            [
             0.7,
             "#b8e186"
            ],
            [
             0.8,
             "#7fbc41"
            ],
            [
             0.9,
             "#4d9221"
            ],
            [
             1,
             "#276419"
            ]
           ],
           "sequential": [
            [
             0,
             "#0d0887"
            ],
            [
             0.1111111111111111,
             "#46039f"
            ],
            [
             0.2222222222222222,
             "#7201a8"
            ],
            [
             0.3333333333333333,
             "#9c179e"
            ],
            [
             0.4444444444444444,
             "#bd3786"
            ],
            [
             0.5555555555555556,
             "#d8576b"
            ],
            [
             0.6666666666666666,
             "#ed7953"
            ],
            [
             0.7777777777777778,
             "#fb9f3a"
            ],
            [
             0.8888888888888888,
             "#fdca26"
            ],
            [
             1,
             "#f0f921"
            ]
           ],
           "sequentialminus": [
            [
             0,
             "#0d0887"
            ],
            [
             0.1111111111111111,
             "#46039f"
            ],
            [
             0.2222222222222222,
             "#7201a8"
            ],
            [
             0.3333333333333333,
             "#9c179e"
            ],
            [
             0.4444444444444444,
             "#bd3786"
            ],
            [
             0.5555555555555556,
             "#d8576b"
            ],
            [
             0.6666666666666666,
             "#ed7953"
            ],
            [
             0.7777777777777778,
             "#fb9f3a"
            ],
            [
             0.8888888888888888,
             "#fdca26"
            ],
            [
             1,
             "#f0f921"
            ]
           ]
          },
          "colorway": [
           "#636efa",
           "#EF553B",
           "#00cc96",
           "#ab63fa",
           "#FFA15A",
           "#19d3f3",
           "#FF6692",
           "#B6E880",
           "#FF97FF",
           "#FECB52"
          ],
          "font": {
           "color": "#f2f5fa"
          },
          "geo": {
           "bgcolor": "rgb(17,17,17)",
           "lakecolor": "rgb(17,17,17)",
           "landcolor": "rgb(17,17,17)",
           "showlakes": true,
           "showland": true,
           "subunitcolor": "#506784"
          },
          "hoverlabel": {
           "align": "left"
          },
          "hovermode": "closest",
          "mapbox": {
           "style": "dark"
          },
          "paper_bgcolor": "rgb(17,17,17)",
          "plot_bgcolor": "rgb(17,17,17)",
          "polar": {
           "angularaxis": {
            "gridcolor": "#506784",
            "linecolor": "#506784",
            "ticks": ""
           },
           "bgcolor": "rgb(17,17,17)",
           "radialaxis": {
            "gridcolor": "#506784",
            "linecolor": "#506784",
            "ticks": ""
           }
          },
          "scene": {
           "xaxis": {
            "backgroundcolor": "rgb(17,17,17)",
            "gridcolor": "#506784",
            "gridwidth": 2,
            "linecolor": "#506784",
            "showbackground": true,
            "ticks": "",
            "zerolinecolor": "#C8D4E3"
           },
           "yaxis": {
            "backgroundcolor": "rgb(17,17,17)",
            "gridcolor": "#506784",
            "gridwidth": 2,
            "linecolor": "#506784",
            "showbackground": true,
            "ticks": "",
            "zerolinecolor": "#C8D4E3"
           },
           "zaxis": {
            "backgroundcolor": "rgb(17,17,17)",
            "gridcolor": "#506784",
            "gridwidth": 2,
            "linecolor": "#506784",
            "showbackground": true,
            "ticks": "",
            "zerolinecolor": "#C8D4E3"
           }
          },
          "shapedefaults": {
           "line": {
            "color": "#f2f5fa"
           }
          },
          "sliderdefaults": {
           "bgcolor": "#C8D4E3",
           "bordercolor": "rgb(17,17,17)",
           "borderwidth": 1,
           "tickwidth": 0
          },
          "ternary": {
           "aaxis": {
            "gridcolor": "#506784",
            "linecolor": "#506784",
            "ticks": ""
           },
           "baxis": {
            "gridcolor": "#506784",
            "linecolor": "#506784",
            "ticks": ""
           },
           "bgcolor": "rgb(17,17,17)",
           "caxis": {
            "gridcolor": "#506784",
            "linecolor": "#506784",
            "ticks": ""
           }
          },
          "title": {
           "x": 0.05
          },
          "updatemenudefaults": {
           "bgcolor": "#506784",
           "borderwidth": 0
          },
          "xaxis": {
           "automargin": true,
           "gridcolor": "#283442",
           "linecolor": "#506784",
           "ticks": "",
           "title": {
            "standoff": 15
           },
           "zerolinecolor": "#283442",
           "zerolinewidth": 2
          },
          "yaxis": {
           "automargin": true,
           "gridcolor": "#283442",
           "linecolor": "#506784",
           "ticks": "",
           "title": {
            "standoff": 15
           },
           "zerolinecolor": "#283442",
           "zerolinewidth": 2
          }
         }
        },
        "title": {
         "font": {
          "color": "#41BEE9"
         },
         "text": "Cost vs Iteration"
        },
        "xaxis": {
         "anchor": "y",
         "color": "#41BEE9",
         "domain": [
          0,
          1
         ],
         "title": {
          "text": "Iterations"
         }
        },
        "yaxis": {
         "anchor": "x",
         "color": "#41BEE9",
         "domain": [
          0,
          1
         ],
         "title": {
          "text": "Cost"
         }
        }
       }
      }
     },
     "metadata": {},
     "output_type": "display_data"
    },
    {
     "name": "stdout",
     "output_type": "stream",
     "text": [
      "Iteration 0: Cost = 4.569317\n",
      "Iteration 100: Cost = 0.627068\n",
      "Iteration 200: Cost = 0.090132\n",
      "Iteration 300: Cost = 0.016660\n",
      "Iteration 400: Cost = 0.006562\n",
      "Iteration 500: Cost = 0.005168\n",
      "Convergence reached at iteration 576\n"
     ]
    },
    {
     "data": {
      "application/vnd.plotly.v1+json": {
       "config": {
        "plotlyServerURL": "https://plot.ly"
       },
       "data": [
        {
         "hovertemplate": "x=%{x}<br>y=%{y}<extra></extra>",
         "legendgroup": "",
         "line": {
          "color": "#636efa",
          "dash": "solid"
         },
         "marker": {
          "symbol": "circle"
         },
         "mode": "lines",
         "name": "",
         "orientation": "v",
         "showlegend": false,
         "type": "scatter",
         "x": {
          "bdata": "AAABAAIAAwAEAAUABgAHAAgACQAKAAsADAANAA4ADwAQABEAEgATABQAFQAWABcAGAAZABoAGwAcAB0AHgAfACAAIQAiACMAJAAlACYAJwAoACkAKgArACwALQAuAC8AMAAxADIAMwA0ADUANgA3ADgAOQA6ADsAPAA9AD4APwBAAEEAQgBDAEQARQBGAEcASABJAEoASwBMAE0ATgBPAFAAUQBSAFMAVABVAFYAVwBYAFkAWgBbAFwAXQBeAF8AYABhAGIAYwBkAGUAZgBnAGgAaQBqAGsAbABtAG4AbwBwAHEAcgBzAHQAdQB2AHcAeAB5AHoAewB8AH0AfgB/AIAAgQCCAIMAhACFAIYAhwCIAIkAigCLAIwAjQCOAI8AkACRAJIAkwCUAJUAlgCXAJgAmQCaAJsAnACdAJ4AnwCgAKEAogCjAKQApQCmAKcAqACpAKoAqwCsAK0ArgCvALAAsQCyALMAtAC1ALYAtwC4ALkAugC7ALwAvQC+AL8AwADBAMIAwwDEAMUAxgDHAMgAyQDKAMsAzADNAM4AzwDQANEA0gDTANQA1QDWANcA2ADZANoA2wDcAN0A3gDfAOAA4QDiAOMA5ADlAOYA5wDoAOkA6gDrAOwA7QDuAO8A8ADxAPIA8wD0APUA9gD3APgA+QD6APsA/AD9AP4A/wAAAQEBAgEDAQQBBQEGAQcBCAEJAQoBCwEMAQ0BDgEPARABEQESARMBFAEVARYBFwEYARkBGgEbARwBHQEeAR8BIAEhASIBIwEkASUBJgEnASgBKQEqASsBLAEtAS4BLwEwATEBMgEzATQBNQE2ATcBOAE5AToBOwE8AT0BPgE/AUABQQFCAUMBRAFFAUYBRwFIAUkBSgFLAUwBTQFOAU8BUAFRAVIBUwFUAVUBVgFXAVgBWQFaAVsBXAFdAV4BXwFgAWEBYgFjAWQBZQFmAWcBaAFpAWoBawFsAW0BbgFvAXABcQFyAXMBdAF1AXYBdwF4AXkBegF7AXwBfQF+AX8BgAGBAYIBgwGEAYUBhgGHAYgBiQGKAYsBjAGNAY4BjwGQAZEBkgGTAZQBlQGWAZcBmAGZAZoBmwGcAZ0BngGfAaABoQGiAaMBpAGlAaYBpwGoAakBqgGrAawBrQGuAa8BsAGxAbIBswG0AbUBtgG3AbgBuQG6AbsBvAG9Ab4BvwHAAcEBwgHDAcQBxQHGAccByAHJAcoBywHMAc0BzgHPAdAB0QHSAdMB1AHVAdYB1wHYAdkB2gHbAdwB3QHeAd8B4AHhAeIB4wHkAeUB5gHnAegB6QHqAesB7AHtAe4B7wHwAfEB8gHzAfQB9QH2AfcB+AH5AfoB+wH8Af0B/gH/AQACAQICAgMCBAIFAgYCBwIIAgkCCgILAgwCDQIOAg8CEAIRAhICEwIUAhUCFgIXAhgCGQIaAhsCHAIdAh4CHwIgAiECIgIjAiQCJQImAicCKAIpAioCKwIsAi0CLgIvAjACMQIyAjMCNAI1AjYCNwI4AjkCOgI7AjwCPQI+Aj8CQAI=",
          "dtype": "i2"
         },
         "xaxis": "x",
         "y": {
          "bdata": "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",
          "dtype": "f8"
         },
         "yaxis": "y"
        }
       ],
       "layout": {
        "legend": {
         "tracegroupgap": 0
        },
        "template": {
         "data": {
          "bar": [
           {
            "error_x": {
             "color": "#f2f5fa"
            },
            "error_y": {
             "color": "#f2f5fa"
            },
            "marker": {
             "line": {
              "color": "rgb(17,17,17)",
              "width": 0.5
             },
             "pattern": {
              "fillmode": "overlay",
              "size": 10,
              "solidity": 0.2
             }
            },
            "type": "bar"
           }
          ],
          "barpolar": [
           {
            "marker": {
             "line": {
              "color": "rgb(17,17,17)",
              "width": 0.5
             },
             "pattern": {
              "fillmode": "overlay",
              "size": 10,
              "solidity": 0.2
             }
            },
            "type": "barpolar"
           }
          ],
          "carpet": [
           {
            "aaxis": {
             "endlinecolor": "#A2B1C6",
             "gridcolor": "#506784",
             "linecolor": "#506784",
             "minorgridcolor": "#506784",
             "startlinecolor": "#A2B1C6"
            },
            "baxis": {
             "endlinecolor": "#A2B1C6",
             "gridcolor": "#506784",
             "linecolor": "#506784",
             "minorgridcolor": "#506784",
             "startlinecolor": "#A2B1C6"
            },
            "type": "carpet"
           }
          ],
          "choropleth": [
           {
            "colorbar": {
             "outlinewidth": 0,
             "ticks": ""
            },
            "type": "choropleth"
           }
          ],
          "contour": [
           {
            "colorbar": {
             "outlinewidth": 0,
             "ticks": ""
            },
            "colorscale": [
             [
              0,
              "#0d0887"
             ],
             [
              0.1111111111111111,
              "#46039f"
             ],
             [
              0.2222222222222222,
              "#7201a8"
             ],
             [
              0.3333333333333333,
              "#9c179e"
             ],
             [
              0.4444444444444444,
              "#bd3786"
             ],
             [
              0.5555555555555556,
              "#d8576b"
             ],
             [
              0.6666666666666666,
              "#ed7953"
             ],
             [
              0.7777777777777778,
              "#fb9f3a"
             ],
             [
              0.8888888888888888,
              "#fdca26"
             ],
             [
              1,
              "#f0f921"
             ]
            ],
            "type": "contour"
           }
          ],
          "contourcarpet": [
           {
            "colorbar": {
             "outlinewidth": 0,
             "ticks": ""
            },
            "type": "contourcarpet"
           }
          ],
          "heatmap": [
           {
            "colorbar": {
             "outlinewidth": 0,
             "ticks": ""
            },
            "colorscale": [
             [
              0,
              "#0d0887"
             ],
             [
              0.1111111111111111,
              "#46039f"
             ],
             [
              0.2222222222222222,
              "#7201a8"
             ],
             [
              0.3333333333333333,
              "#9c179e"
             ],
             [
              0.4444444444444444,
              "#bd3786"
             ],
             [
              0.5555555555555556,
              "#d8576b"
             ],
             [
              0.6666666666666666,
              "#ed7953"
             ],
             [
              0.7777777777777778,
              "#fb9f3a"
             ],
             [
              0.8888888888888888,
              "#fdca26"
             ],
             [
              1,
              "#f0f921"
             ]
            ],
            "type": "heatmap"
           }
          ],
          "histogram": [
           {
            "marker": {
             "pattern": {
              "fillmode": "overlay",
              "size": 10,
              "solidity": 0.2
             }
            },
            "type": "histogram"
           }
          ],
          "histogram2d": [
           {
            "colorbar": {
             "outlinewidth": 0,
             "ticks": ""
            },
            "colorscale": [
             [
              0,
              "#0d0887"
             ],
             [
              0.1111111111111111,
              "#46039f"
             ],
             [
              0.2222222222222222,
              "#7201a8"
             ],
             [
              0.3333333333333333,
              "#9c179e"
             ],
             [
              0.4444444444444444,
              "#bd3786"
             ],
             [
              0.5555555555555556,
              "#d8576b"
             ],
             [
              0.6666666666666666,
              "#ed7953"
             ],
             [
              0.7777777777777778,
              "#fb9f3a"
             ],
             [
              0.8888888888888888,
              "#fdca26"
             ],
             [
              1,
              "#f0f921"
             ]
            ],
            "type": "histogram2d"
           }
          ],
          "histogram2dcontour": [
           {
            "colorbar": {
             "outlinewidth": 0,
             "ticks": ""
            },
            "colorscale": [
             [
              0,
              "#0d0887"
             ],
             [
              0.1111111111111111,
              "#46039f"
             ],
             [
              0.2222222222222222,
              "#7201a8"
             ],
             [
              0.3333333333333333,
              "#9c179e"
             ],
             [
              0.4444444444444444,
              "#bd3786"
             ],
             [
              0.5555555555555556,
              "#d8576b"
             ],
             [
              0.6666666666666666,
              "#ed7953"
             ],
             [
              0.7777777777777778,
              "#fb9f3a"
             ],
             [
              0.8888888888888888,
              "#fdca26"
             ],
             [
              1,
              "#f0f921"
             ]
            ],
            "type": "histogram2dcontour"
           }
          ],
          "mesh3d": [
           {
            "colorbar": {
             "outlinewidth": 0,
             "ticks": ""
            },
            "type": "mesh3d"
           }
          ],
          "parcoords": [
           {
            "line": {
             "colorbar": {
              "outlinewidth": 0,
              "ticks": ""
             }
            },
            "type": "parcoords"
           }
          ],
          "pie": [
           {
            "automargin": true,
            "type": "pie"
           }
          ],
          "scatter": [
           {
            "marker": {
             "line": {
              "color": "#283442"
             }
            },
            "type": "scatter"
           }
          ],
          "scatter3d": [
           {
            "line": {
             "colorbar": {
              "outlinewidth": 0,
              "ticks": ""
             }
            },
            "marker": {
             "colorbar": {
              "outlinewidth": 0,
              "ticks": ""
             }
            },
            "type": "scatter3d"
           }
          ],
          "scattercarpet": [
           {
            "marker": {
             "colorbar": {
              "outlinewidth": 0,
              "ticks": ""
             }
            },
            "type": "scattercarpet"
           }
          ],
          "scattergeo": [
           {
            "marker": {
             "colorbar": {
              "outlinewidth": 0,
              "ticks": ""
             }
            },
            "type": "scattergeo"
           }
          ],
          "scattergl": [
           {
            "marker": {
             "line": {
              "color": "#283442"
             }
            },
            "type": "scattergl"
           }
          ],
          "scattermap": [
           {
            "marker": {
             "colorbar": {
              "outlinewidth": 0,
              "ticks": ""
             }
            },
            "type": "scattermap"
           }
          ],
          "scattermapbox": [
           {
            "marker": {
             "colorbar": {
              "outlinewidth": 0,
              "ticks": ""
             }
            },
            "type": "scattermapbox"
           }
          ],
          "scatterpolar": [
           {
            "marker": {
             "colorbar": {
              "outlinewidth": 0,
              "ticks": ""
             }
            },
            "type": "scatterpolar"
           }
          ],
          "scatterpolargl": [
           {
            "marker": {
             "colorbar": {
              "outlinewidth": 0,
              "ticks": ""
             }
            },
            "type": "scatterpolargl"
           }
          ],
          "scatterternary": [
           {
            "marker": {
             "colorbar": {
              "outlinewidth": 0,
              "ticks": ""
             }
            },
            "type": "scatterternary"
           }
          ],
          "surface": [
           {
            "colorbar": {
             "outlinewidth": 0,
             "ticks": ""
            },
            "colorscale": [
             [
              0,
              "#0d0887"
             ],
             [
              0.1111111111111111,
              "#46039f"
             ],
             [
              0.2222222222222222,
              "#7201a8"
             ],
             [
              0.3333333333333333,
              "#9c179e"
             ],
             [
              0.4444444444444444,
              "#bd3786"
             ],
             [
              0.5555555555555556,
              "#d8576b"
             ],
             [
              0.6666666666666666,
              "#ed7953"
             ],
             [
              0.7777777777777778,
              "#fb9f3a"
             ],
             [
              0.8888888888888888,
              "#fdca26"
             ],
             [
              1,
              "#f0f921"
             ]
            ],
            "type": "surface"
           }
          ],
          "table": [
           {
            "cells": {
             "fill": {
              "color": "#506784"
             },
             "line": {
              "color": "rgb(17,17,17)"
             }
            },
            "header": {
             "fill": {
              "color": "#2a3f5f"
             },
             "line": {
              "color": "rgb(17,17,17)"
             }
            },
            "type": "table"
           }
          ]
         },
         "layout": {
          "annotationdefaults": {
           "arrowcolor": "#f2f5fa",
           "arrowhead": 0,
           "arrowwidth": 1
          },
          "autotypenumbers": "strict",
          "coloraxis": {
           "colorbar": {
            "outlinewidth": 0,
            "ticks": ""
           }
          },
          "colorscale": {
           "diverging": [
            [
             0,
             "#8e0152"
            ],
            [
             0.1,
             "#c51b7d"
            ],
            [
             0.2,
             "#de77ae"
            ],
            [
             0.3,
             "#f1b6da"
            ],
            [
             0.4,
             "#fde0ef"
            ],
            [
             0.5,
             "#f7f7f7"
            ],
            [
             0.6,
             "#e6f5d0"
            ],
            [
             0.7,
             "#b8e186"
            ],
            [
             0.8,
             "#7fbc41"
            ],
            [
             0.9,
             "#4d9221"
            ],
            [
             1,
             "#276419"
            ]
           ],
           "sequential": [
            [
             0,
             "#0d0887"
            ],
            [
             0.1111111111111111,
             "#46039f"
            ],
            [
             0.2222222222222222,
             "#7201a8"
            ],
            [
             0.3333333333333333,
             "#9c179e"
            ],
            [
             0.4444444444444444,
             "#bd3786"
            ],
            [
             0.5555555555555556,
             "#d8576b"
            ],
            [
             0.6666666666666666,
             "#ed7953"
            ],
            [
             0.7777777777777778,
             "#fb9f3a"
            ],
            [
             0.8888888888888888,
             "#fdca26"
            ],
            [
             1,
             "#f0f921"
            ]
           ],
           "sequentialminus": [
            [
             0,
             "#0d0887"
            ],
            [
             0.1111111111111111,
             "#46039f"
            ],
            [
             0.2222222222222222,
             "#7201a8"
            ],
            [
             0.3333333333333333,
             "#9c179e"
            ],
            [
             0.4444444444444444,
             "#bd3786"
            ],
            [
             0.5555555555555556,
             "#d8576b"
            ],
            [
             0.6666666666666666,
             "#ed7953"
            ],
            [
             0.7777777777777778,
             "#fb9f3a"
            ],
            [
             0.8888888888888888,
             "#fdca26"
            ],
            [
             1,
             "#f0f921"
            ]
           ]
          },
          "colorway": [
           "#636efa",
           "#EF553B",
           "#00cc96",
           "#ab63fa",
           "#FFA15A",
           "#19d3f3",
           "#FF6692",
           "#B6E880",
           "#FF97FF",
           "#FECB52"
          ],
          "font": {
           "color": "#f2f5fa"
          },
          "geo": {
           "bgcolor": "rgb(17,17,17)",
           "lakecolor": "rgb(17,17,17)",
           "landcolor": "rgb(17,17,17)",
           "showlakes": true,
           "showland": true,
           "subunitcolor": "#506784"
          },
          "hoverlabel": {
           "align": "left"
          },
          "hovermode": "closest",
          "mapbox": {
           "style": "dark"
          },
          "paper_bgcolor": "rgb(17,17,17)",
          "plot_bgcolor": "rgb(17,17,17)",
          "polar": {
           "angularaxis": {
            "gridcolor": "#506784",
            "linecolor": "#506784",
            "ticks": ""
           },
           "bgcolor": "rgb(17,17,17)",
           "radialaxis": {
            "gridcolor": "#506784",
            "linecolor": "#506784",
            "ticks": ""
           }
          },
          "scene": {
           "xaxis": {
            "backgroundcolor": "rgb(17,17,17)",
            "gridcolor": "#506784",
            "gridwidth": 2,
            "linecolor": "#506784",
            "showbackground": true,
            "ticks": "",
            "zerolinecolor": "#C8D4E3"
           },
           "yaxis": {
            "backgroundcolor": "rgb(17,17,17)",
            "gridcolor": "#506784",
            "gridwidth": 2,
            "linecolor": "#506784",
            "showbackground": true,
            "ticks": "",
            "zerolinecolor": "#C8D4E3"
           },
           "zaxis": {
            "backgroundcolor": "rgb(17,17,17)",
            "gridcolor": "#506784",
            "gridwidth": 2,
            "linecolor": "#506784",
            "showbackground": true,
            "ticks": "",
            "zerolinecolor": "#C8D4E3"
           }
          },
          "shapedefaults": {
           "line": {
            "color": "#f2f5fa"
           }
          },
          "sliderdefaults": {
           "bgcolor": "#C8D4E3",
           "bordercolor": "rgb(17,17,17)",
           "borderwidth": 1,
           "tickwidth": 0
          },
          "ternary": {
           "aaxis": {
            "gridcolor": "#506784",
            "linecolor": "#506784",
            "ticks": ""
           },
           "baxis": {
            "gridcolor": "#506784",
            "linecolor": "#506784",
            "ticks": ""
           },
           "bgcolor": "rgb(17,17,17)",
           "caxis": {
            "gridcolor": "#506784",
            "linecolor": "#506784",
            "ticks": ""
           }
          },
          "title": {
           "x": 0.05
          },
          "updatemenudefaults": {
           "bgcolor": "#506784",
           "borderwidth": 0
          },
          "xaxis": {
           "automargin": true,
           "gridcolor": "#283442",
           "linecolor": "#506784",
           "ticks": "",
           "title": {
            "standoff": 15
           },
           "zerolinecolor": "#283442",
           "zerolinewidth": 2
          },
          "yaxis": {
           "automargin": true,
           "gridcolor": "#283442",
           "linecolor": "#506784",
           "ticks": "",
           "title": {
            "standoff": 15
           },
           "zerolinecolor": "#283442",
           "zerolinewidth": 2
          }
         }
        },
        "title": {
         "font": {
          "color": "#41BEE9"
         },
         "text": "Cost vs Iteration"
        },
        "xaxis": {
         "anchor": "y",
         "color": "#41BEE9",
         "domain": [
          0,
          1
         ],
         "title": {
          "text": "Iterations"
         }
        },
        "yaxis": {
         "anchor": "x",
         "color": "#41BEE9",
         "domain": [
          0,
          1
         ],
         "title": {
          "text": "Cost"
         }
        }
       }
      }
     },
     "metadata": {},
     "output_type": "display_data"
    },
    {
     "name": "stdout",
     "output_type": "stream",
     "text": [
      "Iteration 0: Cost = 4.568980\n",
      "Iteration 100: Cost = 0.627024\n",
      "Iteration 200: Cost = 0.090127\n",
      "Iteration 300: Cost = 0.016660\n",
      "Iteration 400: Cost = 0.006562\n",
      "Iteration 500: Cost = 0.005168\n",
      "Convergence reached at iteration 576\n"
     ]
    },
    {
     "data": {
      "application/vnd.plotly.v1+json": {
       "config": {
        "plotlyServerURL": "https://plot.ly"
       },
       "data": [
        {
         "hovertemplate": "x=%{x}<br>y=%{y}<extra></extra>",
         "legendgroup": "",
         "line": {
          "color": "#636efa",
          "dash": "solid"
         },
         "marker": {
          "symbol": "circle"
         },
         "mode": "lines",
         "name": "",
         "orientation": "v",
         "showlegend": false,
         "type": "scatter",
         "x": {
          "bdata": "AAABAAIAAwAEAAUABgAHAAgACQAKAAsADAANAA4ADwAQABEAEgATABQAFQAWABcAGAAZABoAGwAcAB0AHgAfACAAIQAiACMAJAAlACYAJwAoACkAKgArACwALQAuAC8AMAAxADIAMwA0ADUANgA3ADgAOQA6ADsAPAA9AD4APwBAAEEAQgBDAEQARQBGAEcASABJAEoASwBMAE0ATgBPAFAAUQBSAFMAVABVAFYAVwBYAFkAWgBbAFwAXQBeAF8AYABhAGIAYwBkAGUAZgBnAGgAaQBqAGsAbABtAG4AbwBwAHEAcgBzAHQAdQB2AHcAeAB5AHoAewB8AH0AfgB/AIAAgQCCAIMAhACFAIYAhwCIAIkAigCLAIwAjQCOAI8AkACRAJIAkwCUAJUAlgCXAJgAmQCaAJsAnACdAJ4AnwCgAKEAogCjAKQApQCmAKcAqACpAKoAqwCsAK0ArgCvALAAsQCyALMAtAC1ALYAtwC4ALkAugC7ALwAvQC+AL8AwADBAMIAwwDEAMUAxgDHAMgAyQDKAMsAzADNAM4AzwDQANEA0gDTANQA1QDWANcA2ADZANoA2wDcAN0A3gDfAOAA4QDiAOMA5ADlAOYA5wDoAOkA6gDrAOwA7QDuAO8A8ADxAPIA8wD0APUA9gD3APgA+QD6APsA/AD9AP4A/wAAAQEBAgEDAQQBBQEGAQcBCAEJAQoBCwEMAQ0BDgEPARABEQESARMBFAEVARYBFwEYARkBGgEbARwBHQEeAR8BIAEhASIBIwEkASUBJgEnASgBKQEqASsBLAEtAS4BLwEwATEBMgEzATQBNQE2ATcBOAE5AToBOwE8AT0BPgE/AUABQQFCAUMBRAFFAUYBRwFIAUkBSgFLAUwBTQFOAU8BUAFRAVIBUwFUAVUBVgFXAVgBWQFaAVsBXAFdAV4BXwFgAWEBYgFjAWQBZQFmAWcBaAFpAWoBawFsAW0BbgFvAXABcQFyAXMBdAF1AXYBdwF4AXkBegF7AXwBfQF+AX8BgAGBAYIBgwGEAYUBhgGHAYgBiQGKAYsBjAGNAY4BjwGQAZEBkgGTAZQBlQGWAZcBmAGZAZoBmwGcAZ0BngGfAaABoQGiAaMBpAGlAaYBpwGoAakBqgGrAawBrQGuAa8BsAGxAbIBswG0AbUBtgG3AbgBuQG6AbsBvAG9Ab4BvwHAAcEBwgHDAcQBxQHGAccByAHJAcoBywHMAc0BzgHPAdAB0QHSAdMB1AHVAdYB1wHYAdkB2gHbAdwB3QHeAd8B4AHhAeIB4wHkAeUB5gHnAegB6QHqAesB7AHtAe4B7wHwAfEB8gHzAfQB9QH2AfcB+AH5AfoB+wH8Af0B/gH/AQACAQICAgMCBAIFAgYCBwIIAgkCCgILAgwCDQIOAg8CEAIRAhICEwIUAhUCFgIXAhgCGQIaAhsCHAIdAh4CHwIgAiECIgIjAiQCJQImAicCKAIpAioCKwIsAi0CLgIvAjACMQIyAjMCNAI1AjYCNwI4AjkCOgI7AjwCPQI+Aj8CQAI=",
          "dtype": "i2"
         },
         "xaxis": "x",
         "y": {
          "bdata": "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",
          "dtype": "f8"
         },
         "yaxis": "y"
        }
       ],
       "layout": {
        "legend": {
         "tracegroupgap": 0
        },
        "template": {
         "data": {
          "bar": [
           {
            "error_x": {
             "color": "#f2f5fa"
            },
            "error_y": {
             "color": "#f2f5fa"
            },
            "marker": {
             "line": {
              "color": "rgb(17,17,17)",
              "width": 0.5
             },
             "pattern": {
              "fillmode": "overlay",
              "size": 10,
              "solidity": 0.2
             }
            },
            "type": "bar"
           }
          ],
          "barpolar": [
           {
            "marker": {
             "line": {
              "color": "rgb(17,17,17)",
              "width": 0.5
             },
             "pattern": {
              "fillmode": "overlay",
              "size": 10,
              "solidity": 0.2
             }
            },
            "type": "barpolar"
           }
          ],
          "carpet": [
           {
            "aaxis": {
             "endlinecolor": "#A2B1C6",
             "gridcolor": "#506784",
             "linecolor": "#506784",
             "minorgridcolor": "#506784",
             "startlinecolor": "#A2B1C6"
            },
            "baxis": {
             "endlinecolor": "#A2B1C6",
             "gridcolor": "#506784",
             "linecolor": "#506784",
             "minorgridcolor": "#506784",
             "startlinecolor": "#A2B1C6"
            },
            "type": "carpet"
           }
          ],
          "choropleth": [
           {
            "colorbar": {
             "outlinewidth": 0,
             "ticks": ""
            },
            "type": "choropleth"
           }
          ],
          "contour": [
           {
            "colorbar": {
             "outlinewidth": 0,
             "ticks": ""
            },
            "colorscale": [
             [
              0,
              "#0d0887"
             ],
             [
              0.1111111111111111,
              "#46039f"
             ],
             [
              0.2222222222222222,
              "#7201a8"
             ],
             [
              0.3333333333333333,
              "#9c179e"
             ],
             [
              0.4444444444444444,
              "#bd3786"
             ],
             [
              0.5555555555555556,
              "#d8576b"
             ],
             [
              0.6666666666666666,
              "#ed7953"
             ],
             [
              0.7777777777777778,
              "#fb9f3a"
             ],
             [
              0.8888888888888888,
              "#fdca26"
             ],
             [
              1,
              "#f0f921"
             ]
            ],
            "type": "contour"
           }
          ],
          "contourcarpet": [
           {
            "colorbar": {
             "outlinewidth": 0,
             "ticks": ""
            },
            "type": "contourcarpet"
           }
          ],
          "heatmap": [
           {
            "colorbar": {
             "outlinewidth": 0,
             "ticks": ""
            },
            "colorscale": [
             [
              0,
              "#0d0887"
             ],
             [
              0.1111111111111111,
              "#46039f"
             ],
             [
              0.2222222222222222,
              "#7201a8"
             ],
             [
              0.3333333333333333,
              "#9c179e"
             ],
             [
              0.4444444444444444,
              "#bd3786"
             ],
             [
              0.5555555555555556,
              "#d8576b"
             ],
             [
              0.6666666666666666,
              "#ed7953"
             ],
             [
              0.7777777777777778,
              "#fb9f3a"
             ],
             [
              0.8888888888888888,
              "#fdca26"
             ],
             [
              1,
              "#f0f921"
             ]
            ],
            "type": "heatmap"
           }
          ],
          "histogram": [
           {
            "marker": {
             "pattern": {
              "fillmode": "overlay",
              "size": 10,
              "solidity": 0.2
             }
            },
            "type": "histogram"
           }
          ],
          "histogram2d": [
           {
            "colorbar": {
             "outlinewidth": 0,
             "ticks": ""
            },
            "colorscale": [
             [
              0,
              "#0d0887"
             ],
             [
              0.1111111111111111,
              "#46039f"
             ],
             [
              0.2222222222222222,
              "#7201a8"
             ],
             [
              0.3333333333333333,
              "#9c179e"
             ],
             [
              0.4444444444444444,
              "#bd3786"
             ],
             [
              0.5555555555555556,
              "#d8576b"
             ],
             [
              0.6666666666666666,
              "#ed7953"
             ],
             [
              0.7777777777777778,
              "#fb9f3a"
             ],
             [
              0.8888888888888888,
              "#fdca26"
             ],
             [
              1,
              "#f0f921"
             ]
            ],
            "type": "histogram2d"
           }
          ],
          "histogram2dcontour": [
           {
            "colorbar": {
             "outlinewidth": 0,
             "ticks": ""
            },
            "colorscale": [
             [
              0,
              "#0d0887"
             ],
             [
              0.1111111111111111,
              "#46039f"
             ],
             [
              0.2222222222222222,
              "#7201a8"
             ],
             [
              0.3333333333333333,
              "#9c179e"
             ],
             [
              0.4444444444444444,
              "#bd3786"
             ],
             [
              0.5555555555555556,
              "#d8576b"
             ],
             [
              0.6666666666666666,
              "#ed7953"
             ],
             [
              0.7777777777777778,
              "#fb9f3a"
             ],
             [
              0.8888888888888888,
              "#fdca26"
             ],
             [
              1,
              "#f0f921"
             ]
            ],
            "type": "histogram2dcontour"
           }
          ],
          "mesh3d": [
           {
            "colorbar": {
             "outlinewidth": 0,
             "ticks": ""
            },
            "type": "mesh3d"
           }
          ],
          "parcoords": [
           {
            "line": {
             "colorbar": {
              "outlinewidth": 0,
              "ticks": ""
             }
            },
            "type": "parcoords"
           }
          ],
          "pie": [
           {
            "automargin": true,
            "type": "pie"
           }
          ],
          "scatter": [
           {
            "marker": {
             "line": {
              "color": "#283442"
             }
            },
            "type": "scatter"
           }
          ],
          "scatter3d": [
           {
            "line": {
             "colorbar": {
              "outlinewidth": 0,
              "ticks": ""
             }
            },
            "marker": {
             "colorbar": {
              "outlinewidth": 0,
              "ticks": ""
             }
            },
            "type": "scatter3d"
           }
          ],
          "scattercarpet": [
           {
            "marker": {
             "colorbar": {
              "outlinewidth": 0,
              "ticks": ""
             }
            },
            "type": "scattercarpet"
           }
          ],
          "scattergeo": [
           {
            "marker": {
             "colorbar": {
              "outlinewidth": 0,
              "ticks": ""
             }
            },
            "type": "scattergeo"
           }
          ],
          "scattergl": [
           {
            "marker": {
             "line": {
              "color": "#283442"
             }
            },
            "type": "scattergl"
           }
          ],
          "scattermap": [
           {
            "marker": {
             "colorbar": {
              "outlinewidth": 0,
              "ticks": ""
             }
            },
            "type": "scattermap"
           }
          ],
          "scattermapbox": [
           {
            "marker": {
             "colorbar": {
              "outlinewidth": 0,
              "ticks": ""
             }
            },
            "type": "scattermapbox"
           }
          ],
          "scatterpolar": [
           {
            "marker": {
             "colorbar": {
              "outlinewidth": 0,
              "ticks": ""
             }
            },
            "type": "scatterpolar"
           }
          ],
          "scatterpolargl": [
           {
            "marker": {
             "colorbar": {
              "outlinewidth": 0,
              "ticks": ""
             }
            },
            "type": "scatterpolargl"
           }
          ],
          "scatterternary": [
           {
            "marker": {
             "colorbar": {
              "outlinewidth": 0,
              "ticks": ""
             }
            },
            "type": "scatterternary"
           }
          ],
          "surface": [
           {
            "colorbar": {
             "outlinewidth": 0,
             "ticks": ""
            },
            "colorscale": [
             [
              0,
              "#0d0887"
             ],
             [
              0.1111111111111111,
              "#46039f"
             ],
             [
              0.2222222222222222,
              "#7201a8"
             ],
             [
              0.3333333333333333,
              "#9c179e"
             ],
             [
              0.4444444444444444,
              "#bd3786"
             ],
             [
              0.5555555555555556,
              "#d8576b"
             ],
             [
              0.6666666666666666,
              "#ed7953"
             ],
             [
              0.7777777777777778,
              "#fb9f3a"
             ],
             [
              0.8888888888888888,
              "#fdca26"
             ],
             [
              1,
              "#f0f921"
             ]
            ],
            "type": "surface"
           }
          ],
          "table": [
           {
            "cells": {
             "fill": {
              "color": "#506784"
             },
             "line": {
              "color": "rgb(17,17,17)"
             }
            },
            "header": {
             "fill": {
              "color": "#2a3f5f"
             },
             "line": {
              "color": "rgb(17,17,17)"
             }
            },
            "type": "table"
           }
          ]
         },
         "layout": {
          "annotationdefaults": {
           "arrowcolor": "#f2f5fa",
           "arrowhead": 0,
           "arrowwidth": 1
          },
          "autotypenumbers": "strict",
          "coloraxis": {
           "colorbar": {
            "outlinewidth": 0,
            "ticks": ""
           }
          },
          "colorscale": {
           "diverging": [
            [
             0,
             "#8e0152"
            ],
            [
             0.1,
             "#c51b7d"
            ],
            [
             0.2,
             "#de77ae"
            ],
            [
             0.3,
             "#f1b6da"
            ],
            [
             0.4,
             "#fde0ef"
            ],
            [
             0.5,
             "#f7f7f7"
            ],
            [
             0.6,
             "#e6f5d0"
            ],
            [
             0.7,
             "#b8e186"
            ],
            [
             0.8,
             "#7fbc41"
            ],
            [
             0.9,
             "#4d9221"
            ],
            [
             1,
             "#276419"
            ]
           ],
           "sequential": [
            [
             0,
             "#0d0887"
            ],
            [
             0.1111111111111111,
             "#46039f"
            ],
            [
             0.2222222222222222,
             "#7201a8"
            ],
            [
             0.3333333333333333,
             "#9c179e"
            ],
            [
             0.4444444444444444,
             "#bd3786"
            ],
            [
             0.5555555555555556,
             "#d8576b"
            ],
            [
             0.6666666666666666,
             "#ed7953"
            ],
            [
             0.7777777777777778,
             "#fb9f3a"
            ],
            [
             0.8888888888888888,
             "#fdca26"
            ],
            [
             1,
             "#f0f921"
            ]
           ],
           "sequentialminus": [
            [
             0,
             "#0d0887"
            ],
            [
             0.1111111111111111,
             "#46039f"
            ],
            [
             0.2222222222222222,
             "#7201a8"
            ],
            [
             0.3333333333333333,
             "#9c179e"
            ],
            [
             0.4444444444444444,
             "#bd3786"
            ],
            [
             0.5555555555555556,
             "#d8576b"
            ],
            [
             0.6666666666666666,
             "#ed7953"
            ],
            [
             0.7777777777777778,
             "#fb9f3a"
            ],
            [
             0.8888888888888888,
             "#fdca26"
            ],
            [
             1,
             "#f0f921"
            ]
           ]
          },
          "colorway": [
           "#636efa",
           "#EF553B",
           "#00cc96",
           "#ab63fa",
           "#FFA15A",
           "#19d3f3",
           "#FF6692",
           "#B6E880",
           "#FF97FF",
           "#FECB52"
          ],
          "font": {
           "color": "#f2f5fa"
          },
          "geo": {
           "bgcolor": "rgb(17,17,17)",
           "lakecolor": "rgb(17,17,17)",
           "landcolor": "rgb(17,17,17)",
           "showlakes": true,
           "showland": true,
           "subunitcolor": "#506784"
          },
          "hoverlabel": {
           "align": "left"
          },
          "hovermode": "closest",
          "mapbox": {
           "style": "dark"
          },
          "paper_bgcolor": "rgb(17,17,17)",
          "plot_bgcolor": "rgb(17,17,17)",
          "polar": {
           "angularaxis": {
            "gridcolor": "#506784",
            "linecolor": "#506784",
            "ticks": ""
           },
           "bgcolor": "rgb(17,17,17)",
           "radialaxis": {
            "gridcolor": "#506784",
            "linecolor": "#506784",
            "ticks": ""
           }
          },
          "scene": {
           "xaxis": {
            "backgroundcolor": "rgb(17,17,17)",
            "gridcolor": "#506784",
            "gridwidth": 2,
            "linecolor": "#506784",
            "showbackground": true,
            "ticks": "",
            "zerolinecolor": "#C8D4E3"
           },
           "yaxis": {
            "backgroundcolor": "rgb(17,17,17)",
            "gridcolor": "#506784",
            "gridwidth": 2,
            "linecolor": "#506784",
            "showbackground": true,
            "ticks": "",
            "zerolinecolor": "#C8D4E3"
           },
           "zaxis": {
            "backgroundcolor": "rgb(17,17,17)",
            "gridcolor": "#506784",
            "gridwidth": 2,
            "linecolor": "#506784",
            "showbackground": true,
            "ticks": "",
            "zerolinecolor": "#C8D4E3"
           }
          },
          "shapedefaults": {
           "line": {
            "color": "#f2f5fa"
           }
          },
          "sliderdefaults": {
           "bgcolor": "#C8D4E3",
           "bordercolor": "rgb(17,17,17)",
           "borderwidth": 1,
           "tickwidth": 0
          },
          "ternary": {
           "aaxis": {
            "gridcolor": "#506784",
            "linecolor": "#506784",
            "ticks": ""
           },
           "baxis": {
            "gridcolor": "#506784",
            "linecolor": "#506784",
            "ticks": ""
           },
           "bgcolor": "rgb(17,17,17)",
           "caxis": {
            "gridcolor": "#506784",
            "linecolor": "#506784",
            "ticks": ""
           }
          },
          "title": {
           "x": 0.05
          },
          "updatemenudefaults": {
           "bgcolor": "#506784",
           "borderwidth": 0
          },
          "xaxis": {
           "automargin": true,
           "gridcolor": "#283442",
           "linecolor": "#506784",
           "ticks": "",
           "title": {
            "standoff": 15
           },
           "zerolinecolor": "#283442",
           "zerolinewidth": 2
          },
          "yaxis": {
           "automargin": true,
           "gridcolor": "#283442",
           "linecolor": "#506784",
           "ticks": "",
           "title": {
            "standoff": 15
           },
           "zerolinecolor": "#283442",
           "zerolinewidth": 2
          }
         }
        },
        "title": {
         "font": {
          "color": "#41BEE9"
         },
         "text": "Cost vs Iteration"
        },
        "xaxis": {
         "anchor": "y",
         "color": "#41BEE9",
         "domain": [
          0,
          1
         ],
         "title": {
          "text": "Iterations"
         }
        },
        "yaxis": {
         "anchor": "x",
         "color": "#41BEE9",
         "domain": [
          0,
          1
         ],
         "title": {
          "text": "Cost"
         }
        }
       }
      }
     },
     "metadata": {},
     "output_type": "display_data"
    },
    {
     "name": "stdout",
     "output_type": "stream",
     "text": [
      "Iteration 0: Cost = 4.571943\n",
      "Iteration 100: Cost = 0.627396\n",
      "Iteration 200: Cost = 0.090172\n",
      "Iteration 300: Cost = 0.016665\n",
      "Iteration 400: Cost = 0.006562\n",
      "Iteration 500: Cost = 0.005168\n",
      "Convergence reached at iteration 576\n"
     ]
    },
    {
     "data": {
      "application/vnd.plotly.v1+json": {
       "config": {
        "plotlyServerURL": "https://plot.ly"
       },
       "data": [
        {
         "hovertemplate": "x=%{x}<br>y=%{y}<extra></extra>",
         "legendgroup": "",
         "line": {
          "color": "#636efa",
          "dash": "solid"
         },
         "marker": {
          "symbol": "circle"
         },
         "mode": "lines",
         "name": "",
         "orientation": "v",
         "showlegend": false,
         "type": "scatter",
         "x": {
          "bdata": "AAABAAIAAwAEAAUABgAHAAgACQAKAAsADAANAA4ADwAQABEAEgATABQAFQAWABcAGAAZABoAGwAcAB0AHgAfACAAIQAiACMAJAAlACYAJwAoACkAKgArACwALQAuAC8AMAAxADIAMwA0ADUANgA3ADgAOQA6ADsAPAA9AD4APwBAAEEAQgBDAEQARQBGAEcASABJAEoASwBMAE0ATgBPAFAAUQBSAFMAVABVAFYAVwBYAFkAWgBbAFwAXQBeAF8AYABhAGIAYwBkAGUAZgBnAGgAaQBqAGsAbABtAG4AbwBwAHEAcgBzAHQAdQB2AHcAeAB5AHoAewB8AH0AfgB/AIAAgQCCAIMAhACFAIYAhwCIAIkAigCLAIwAjQCOAI8AkACRAJIAkwCUAJUAlgCXAJgAmQCaAJsAnACdAJ4AnwCgAKEAogCjAKQApQCmAKcAqACpAKoAqwCsAK0ArgCvALAAsQCyALMAtAC1ALYAtwC4ALkAugC7ALwAvQC+AL8AwADBAMIAwwDEAMUAxgDHAMgAyQDKAMsAzADNAM4AzwDQANEA0gDTANQA1QDWANcA2ADZANoA2wDcAN0A3gDfAOAA4QDiAOMA5ADlAOYA5wDoAOkA6gDrAOwA7QDuAO8A8ADxAPIA8wD0APUA9gD3APgA+QD6APsA/AD9AP4A/wAAAQEBAgEDAQQBBQEGAQcBCAEJAQoBCwEMAQ0BDgEPARABEQESARMBFAEVARYBFwEYARkBGgEbARwBHQEeAR8BIAEhASIBIwEkASUBJgEnASgBKQEqASsBLAEtAS4BLwEwATEBMgEzATQBNQE2ATcBOAE5AToBOwE8AT0BPgE/AUABQQFCAUMBRAFFAUYBRwFIAUkBSgFLAUwBTQFOAU8BUAFRAVIBUwFUAVUBVgFXAVgBWQFaAVsBXAFdAV4BXwFgAWEBYgFjAWQBZQFmAWcBaAFpAWoBawFsAW0BbgFvAXABcQFyAXMBdAF1AXYBdwF4AXkBegF7AXwBfQF+AX8BgAGBAYIBgwGEAYUBhgGHAYgBiQGKAYsBjAGNAY4BjwGQAZEBkgGTAZQBlQGWAZcBmAGZAZoBmwGcAZ0BngGfAaABoQGiAaMBpAGlAaYBpwGoAakBqgGrAawBrQGuAa8BsAGxAbIBswG0AbUBtgG3AbgBuQG6AbsBvAG9Ab4BvwHAAcEBwgHDAcQBxQHGAccByAHJAcoBywHMAc0BzgHPAdAB0QHSAdMB1AHVAdYB1wHYAdkB2gHbAdwB3QHeAd8B4AHhAeIB4wHkAeUB5gHnAegB6QHqAesB7AHtAe4B7wHwAfEB8gHzAfQB9QH2AfcB+AH5AfoB+wH8Af0B/gH/AQACAQICAgMCBAIFAgYCBwIIAgkCCgILAgwCDQIOAg8CEAIRAhICEwIUAhUCFgIXAhgCGQIaAhsCHAIdAh4CHwIgAiECIgIjAiQCJQImAicCKAIpAioCKwIsAi0CLgIvAjACMQIyAjMCNAI1AjYCNwI4AjkCOgI7AjwCPQI+Aj8CQAI=",
          "dtype": "i2"
         },
         "xaxis": "x",
         "y": {
          "bdata": "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",
          "dtype": "f8"
         },
         "yaxis": "y"
        }
       ],
       "layout": {
        "legend": {
         "tracegroupgap": 0
        },
        "template": {
         "data": {
          "bar": [
           {
            "error_x": {
             "color": "#f2f5fa"
            },
            "error_y": {
             "color": "#f2f5fa"
            },
            "marker": {
             "line": {
              "color": "rgb(17,17,17)",
              "width": 0.5
             },
             "pattern": {
              "fillmode": "overlay",
              "size": 10,
              "solidity": 0.2
             }
            },
            "type": "bar"
           }
          ],
          "barpolar": [
           {
            "marker": {
             "line": {
              "color": "rgb(17,17,17)",
              "width": 0.5
             },
             "pattern": {
              "fillmode": "overlay",
              "size": 10,
              "solidity": 0.2
             }
            },
            "type": "barpolar"
           }
          ],
          "carpet": [
           {
            "aaxis": {
             "endlinecolor": "#A2B1C6",
             "gridcolor": "#506784",
             "linecolor": "#506784",
             "minorgridcolor": "#506784",
             "startlinecolor": "#A2B1C6"
            },
            "baxis": {
             "endlinecolor": "#A2B1C6",
             "gridcolor": "#506784",
             "linecolor": "#506784",
             "minorgridcolor": "#506784",
             "startlinecolor": "#A2B1C6"
            },
            "type": "carpet"
           }
          ],
          "choropleth": [
           {
            "colorbar": {
             "outlinewidth": 0,
             "ticks": ""
            },
            "type": "choropleth"
           }
          ],
          "contour": [
           {
            "colorbar": {
             "outlinewidth": 0,
             "ticks": ""
            },
            "colorscale": [
             [
              0,
              "#0d0887"
             ],
             [
              0.1111111111111111,
              "#46039f"
             ],
             [
              0.2222222222222222,
              "#7201a8"
             ],
             [
              0.3333333333333333,
              "#9c179e"
             ],
             [
              0.4444444444444444,
              "#bd3786"
             ],
             [
              0.5555555555555556,
              "#d8576b"
             ],
             [
              0.6666666666666666,
              "#ed7953"
             ],
             [
              0.7777777777777778,
              "#fb9f3a"
             ],
             [
              0.8888888888888888,
              "#fdca26"
             ],
             [
              1,
              "#f0f921"
             ]
            ],
            "type": "contour"
           }
          ],
          "contourcarpet": [
           {
            "colorbar": {
             "outlinewidth": 0,
             "ticks": ""
            },
            "type": "contourcarpet"
           }
          ],
          "heatmap": [
           {
            "colorbar": {
             "outlinewidth": 0,
             "ticks": ""
            },
            "colorscale": [
             [
              0,
              "#0d0887"
             ],
             [
              0.1111111111111111,
              "#46039f"
             ],
             [
              0.2222222222222222,
              "#7201a8"
             ],
             [
              0.3333333333333333,
              "#9c179e"
             ],
             [
              0.4444444444444444,
              "#bd3786"
             ],
             [
              0.5555555555555556,
              "#d8576b"
             ],
             [
              0.6666666666666666,
              "#ed7953"
             ],
             [
              0.7777777777777778,
              "#fb9f3a"
             ],
             [
              0.8888888888888888,
              "#fdca26"
             ],
             [
              1,
              "#f0f921"
             ]
            ],
            "type": "heatmap"
           }
          ],
          "histogram": [
           {
            "marker": {
             "pattern": {
              "fillmode": "overlay",
              "size": 10,
              "solidity": 0.2
             }
            },
            "type": "histogram"
           }
          ],
          "histogram2d": [
           {
            "colorbar": {
             "outlinewidth": 0,
             "ticks": ""
            },
            "colorscale": [
             [
              0,
              "#0d0887"
             ],
             [
              0.1111111111111111,
              "#46039f"
             ],
             [
              0.2222222222222222,
              "#7201a8"
             ],
             [
              0.3333333333333333,
              "#9c179e"
             ],
             [
              0.4444444444444444,
              "#bd3786"
             ],
             [
              0.5555555555555556,
              "#d8576b"
             ],
             [
              0.6666666666666666,
              "#ed7953"
             ],
             [
              0.7777777777777778,
              "#fb9f3a"
             ],
             [
              0.8888888888888888,
              "#fdca26"
             ],
             [
              1,
              "#f0f921"
             ]
            ],
            "type": "histogram2d"
           }
          ],
          "histogram2dcontour": [
           {
            "colorbar": {
             "outlinewidth": 0,
             "ticks": ""
            },
            "colorscale": [
             [
              0,
              "#0d0887"
             ],
             [
              0.1111111111111111,
              "#46039f"
             ],
             [
              0.2222222222222222,
              "#7201a8"
             ],
             [
              0.3333333333333333,
              "#9c179e"
             ],
             [
              0.4444444444444444,
              "#bd3786"
             ],
             [
              0.5555555555555556,
              "#d8576b"
             ],
             [
              0.6666666666666666,
              "#ed7953"
             ],
             [
              0.7777777777777778,
              "#fb9f3a"
             ],
             [
              0.8888888888888888,
              "#fdca26"
             ],
             [
              1,
              "#f0f921"
             ]
            ],
            "type": "histogram2dcontour"
           }
          ],
          "mesh3d": [
           {
            "colorbar": {
             "outlinewidth": 0,
             "ticks": ""
            },
            "type": "mesh3d"
           }
          ],
          "parcoords": [
           {
            "line": {
             "colorbar": {
              "outlinewidth": 0,
              "ticks": ""
             }
            },
            "type": "parcoords"
           }
          ],
          "pie": [
           {
            "automargin": true,
            "type": "pie"
           }
          ],
          "scatter": [
           {
            "marker": {
             "line": {
              "color": "#283442"
             }
            },
            "type": "scatter"
           }
          ],
          "scatter3d": [
           {
            "line": {
             "colorbar": {
              "outlinewidth": 0,
              "ticks": ""
             }
            },
            "marker": {
             "colorbar": {
              "outlinewidth": 0,
              "ticks": ""
             }
            },
            "type": "scatter3d"
           }
          ],
          "scattercarpet": [
           {
            "marker": {
             "colorbar": {
              "outlinewidth": 0,
              "ticks": ""
             }
            },
            "type": "scattercarpet"
           }
          ],
          "scattergeo": [
           {
            "marker": {
             "colorbar": {
              "outlinewidth": 0,
              "ticks": ""
             }
            },
            "type": "scattergeo"
           }
          ],
          "scattergl": [
           {
            "marker": {
             "line": {
              "color": "#283442"
             }
            },
            "type": "scattergl"
           }
          ],
          "scattermap": [
           {
            "marker": {
             "colorbar": {
              "outlinewidth": 0,
              "ticks": ""
             }
            },
            "type": "scattermap"
           }
          ],
          "scattermapbox": [
           {
            "marker": {
             "colorbar": {
              "outlinewidth": 0,
              "ticks": ""
             }
            },
            "type": "scattermapbox"
           }
          ],
          "scatterpolar": [
           {
            "marker": {
             "colorbar": {
              "outlinewidth": 0,
              "ticks": ""
             }
            },
            "type": "scatterpolar"
           }
          ],
          "scatterpolargl": [
           {
            "marker": {
             "colorbar": {
              "outlinewidth": 0,
              "ticks": ""
             }
            },
            "type": "scatterpolargl"
           }
          ],
          "scatterternary": [
           {
            "marker": {
             "colorbar": {
              "outlinewidth": 0,
              "ticks": ""
             }
            },
            "type": "scatterternary"
           }
          ],
          "surface": [
           {
            "colorbar": {
             "outlinewidth": 0,
             "ticks": ""
            },
            "colorscale": [
             [
              0,
              "#0d0887"
             ],
             [
              0.1111111111111111,
              "#46039f"
             ],
             [
              0.2222222222222222,
              "#7201a8"
             ],
             [
              0.3333333333333333,
              "#9c179e"
             ],
             [
              0.4444444444444444,
              "#bd3786"
             ],
             [
              0.5555555555555556,
              "#d8576b"
             ],
             [
              0.6666666666666666,
              "#ed7953"
             ],
             [
              0.7777777777777778,
              "#fb9f3a"
             ],
             [
              0.8888888888888888,
              "#fdca26"
             ],
             [
              1,
              "#f0f921"
             ]
            ],
            "type": "surface"
           }
          ],
          "table": [
           {
            "cells": {
             "fill": {
              "color": "#506784"
             },
             "line": {
              "color": "rgb(17,17,17)"
             }
            },
            "header": {
             "fill": {
              "color": "#2a3f5f"
             },
             "line": {
              "color": "rgb(17,17,17)"
             }
            },
            "type": "table"
           }
          ]
         },
         "layout": {
          "annotationdefaults": {
           "arrowcolor": "#f2f5fa",
           "arrowhead": 0,
           "arrowwidth": 1
          },
          "autotypenumbers": "strict",
          "coloraxis": {
           "colorbar": {
            "outlinewidth": 0,
            "ticks": ""
           }
          },
          "colorscale": {
           "diverging": [
            [
             0,
             "#8e0152"
            ],
            [
             0.1,
             "#c51b7d"
            ],
            [
             0.2,
             "#de77ae"
            ],
            [
             0.3,
             "#f1b6da"
            ],
            [
             0.4,
             "#fde0ef"
            ],
            [
             0.5,
             "#f7f7f7"
            ],
            [
             0.6,
             "#e6f5d0"
            ],
            [
             0.7,
             "#b8e186"
            ],
            [
             0.8,
             "#7fbc41"
            ],
            [
             0.9,
             "#4d9221"
            ],
            [
             1,
             "#276419"
            ]
           ],
           "sequential": [
            [
             0,
             "#0d0887"
            ],
            [
             0.1111111111111111,
             "#46039f"
            ],
            [
             0.2222222222222222,
             "#7201a8"
            ],
            [
             0.3333333333333333,
             "#9c179e"
            ],
            [
             0.4444444444444444,
             "#bd3786"
            ],
            [
             0.5555555555555556,
             "#d8576b"
            ],
            [
             0.6666666666666666,
             "#ed7953"
            ],
            [
             0.7777777777777778,
             "#fb9f3a"
            ],
            [
             0.8888888888888888,
             "#fdca26"
            ],
            [
             1,
             "#f0f921"
            ]
           ],
           "sequentialminus": [
            [
             0,
             "#0d0887"
            ],
            [
             0.1111111111111111,
             "#46039f"
            ],
            [
             0.2222222222222222,
             "#7201a8"
            ],
            [
             0.3333333333333333,
             "#9c179e"
            ],
            [
             0.4444444444444444,
             "#bd3786"
            ],
            [
             0.5555555555555556,
             "#d8576b"
            ],
            [
             0.6666666666666666,
             "#ed7953"
            ],
            [
             0.7777777777777778,
             "#fb9f3a"
            ],
            [
             0.8888888888888888,
             "#fdca26"
            ],
            [
             1,
             "#f0f921"
            ]
           ]
          },
          "colorway": [
           "#636efa",
           "#EF553B",
           "#00cc96",
           "#ab63fa",
           "#FFA15A",
           "#19d3f3",
           "#FF6692",
           "#B6E880",
           "#FF97FF",
           "#FECB52"
          ],
          "font": {
           "color": "#f2f5fa"
          },
          "geo": {
           "bgcolor": "rgb(17,17,17)",
           "lakecolor": "rgb(17,17,17)",
           "landcolor": "rgb(17,17,17)",
           "showlakes": true,
           "showland": true,
           "subunitcolor": "#506784"
          },
          "hoverlabel": {
           "align": "left"
          },
          "hovermode": "closest",
          "mapbox": {
           "style": "dark"
          },
          "paper_bgcolor": "rgb(17,17,17)",
          "plot_bgcolor": "rgb(17,17,17)",
          "polar": {
           "angularaxis": {
            "gridcolor": "#506784",
            "linecolor": "#506784",
            "ticks": ""
           },
           "bgcolor": "rgb(17,17,17)",
           "radialaxis": {
            "gridcolor": "#506784",
            "linecolor": "#506784",
            "ticks": ""
           }
          },
          "scene": {
           "xaxis": {
            "backgroundcolor": "rgb(17,17,17)",
            "gridcolor": "#506784",
            "gridwidth": 2,
            "linecolor": "#506784",
            "showbackground": true,
            "ticks": "",
            "zerolinecolor": "#C8D4E3"
           },
           "yaxis": {
            "backgroundcolor": "rgb(17,17,17)",
            "gridcolor": "#506784",
            "gridwidth": 2,
            "linecolor": "#506784",
            "showbackground": true,
            "ticks": "",
            "zerolinecolor": "#C8D4E3"
           },
           "zaxis": {
            "backgroundcolor": "rgb(17,17,17)",
            "gridcolor": "#506784",
            "gridwidth": 2,
            "linecolor": "#506784",
            "showbackground": true,
            "ticks": "",
            "zerolinecolor": "#C8D4E3"
           }
          },
          "shapedefaults": {
           "line": {
            "color": "#f2f5fa"
           }
          },
          "sliderdefaults": {
           "bgcolor": "#C8D4E3",
           "bordercolor": "rgb(17,17,17)",
           "borderwidth": 1,
           "tickwidth": 0
          },
          "ternary": {
           "aaxis": {
            "gridcolor": "#506784",
            "linecolor": "#506784",
            "ticks": ""
           },
           "baxis": {
            "gridcolor": "#506784",
            "linecolor": "#506784",
            "ticks": ""
           },
           "bgcolor": "rgb(17,17,17)",
           "caxis": {
            "gridcolor": "#506784",
            "linecolor": "#506784",
            "ticks": ""
           }
          },
          "title": {
           "x": 0.05
          },
          "updatemenudefaults": {
           "bgcolor": "#506784",
           "borderwidth": 0
          },
          "xaxis": {
           "automargin": true,
           "gridcolor": "#283442",
           "linecolor": "#506784",
           "ticks": "",
           "title": {
            "standoff": 15
           },
           "zerolinecolor": "#283442",
           "zerolinewidth": 2
          },
          "yaxis": {
           "automargin": true,
           "gridcolor": "#283442",
           "linecolor": "#506784",
           "ticks": "",
           "title": {
            "standoff": 15
           },
           "zerolinecolor": "#283442",
           "zerolinewidth": 2
          }
         }
        },
        "title": {
         "font": {
          "color": "#41BEE9"
         },
         "text": "Cost vs Iteration"
        },
        "xaxis": {
         "anchor": "y",
         "color": "#41BEE9",
         "domain": [
          0,
          1
         ],
         "title": {
          "text": "Iterations"
         }
        },
        "yaxis": {
         "anchor": "x",
         "color": "#41BEE9",
         "domain": [
          0,
          1
         ],
         "title": {
          "text": "Cost"
         }
        }
       }
      }
     },
     "metadata": {},
     "output_type": "display_data"
    },
    {
     "name": "stdout",
     "output_type": "stream",
     "text": [
      "Iteration 0: Cost = 4.836779\n",
      "Iteration 100: Cost = 0.642233\n",
      "Iteration 200: Cost = 0.089328\n",
      "Iteration 300: Cost = 0.016180\n",
      "Iteration 400: Cost = 0.006467\n",
      "Iteration 500: Cost = 0.005173\n",
      "Convergence reached at iteration 570\n"
     ]
    },
    {
     "data": {
      "application/vnd.plotly.v1+json": {
       "config": {
        "plotlyServerURL": "https://plot.ly"
       },
       "data": [
        {
         "hovertemplate": "x=%{x}<br>y=%{y}<extra></extra>",
         "legendgroup": "",
         "line": {
          "color": "#636efa",
          "dash": "solid"
         },
         "marker": {
          "symbol": "circle"
         },
         "mode": "lines",
         "name": "",
         "orientation": "v",
         "showlegend": false,
         "type": "scatter",
         "x": {
          "bdata": "AAABAAIAAwAEAAUABgAHAAgACQAKAAsADAANAA4ADwAQABEAEgATABQAFQAWABcAGAAZABoAGwAcAB0AHgAfACAAIQAiACMAJAAlACYAJwAoACkAKgArACwALQAuAC8AMAAxADIAMwA0ADUANgA3ADgAOQA6ADsAPAA9AD4APwBAAEEAQgBDAEQARQBGAEcASABJAEoASwBMAE0ATgBPAFAAUQBSAFMAVABVAFYAVwBYAFkAWgBbAFwAXQBeAF8AYABhAGIAYwBkAGUAZgBnAGgAaQBqAGsAbABtAG4AbwBwAHEAcgBzAHQAdQB2AHcAeAB5AHoAewB8AH0AfgB/AIAAgQCCAIMAhACFAIYAhwCIAIkAigCLAIwAjQCOAI8AkACRAJIAkwCUAJUAlgCXAJgAmQCaAJsAnACdAJ4AnwCgAKEAogCjAKQApQCmAKcAqACpAKoAqwCsAK0ArgCvALAAsQCyALMAtAC1ALYAtwC4ALkAugC7ALwAvQC+AL8AwADBAMIAwwDEAMUAxgDHAMgAyQDKAMsAzADNAM4AzwDQANEA0gDTANQA1QDWANcA2ADZANoA2wDcAN0A3gDfAOAA4QDiAOMA5ADlAOYA5wDoAOkA6gDrAOwA7QDuAO8A8ADxAPIA8wD0APUA9gD3APgA+QD6APsA/AD9AP4A/wAAAQEBAgEDAQQBBQEGAQcBCAEJAQoBCwEMAQ0BDgEPARABEQESARMBFAEVARYBFwEYARkBGgEbARwBHQEeAR8BIAEhASIBIwEkASUBJgEnASgBKQEqASsBLAEtAS4BLwEwATEBMgEzATQBNQE2ATcBOAE5AToBOwE8AT0BPgE/AUABQQFCAUMBRAFFAUYBRwFIAUkBSgFLAUwBTQFOAU8BUAFRAVIBUwFUAVUBVgFXAVgBWQFaAVsBXAFdAV4BXwFgAWEBYgFjAWQBZQFmAWcBaAFpAWoBawFsAW0BbgFvAXABcQFyAXMBdAF1AXYBdwF4AXkBegF7AXwBfQF+AX8BgAGBAYIBgwGEAYUBhgGHAYgBiQGKAYsBjAGNAY4BjwGQAZEBkgGTAZQBlQGWAZcBmAGZAZoBmwGcAZ0BngGfAaABoQGiAaMBpAGlAaYBpwGoAakBqgGrAawBrQGuAa8BsAGxAbIBswG0AbUBtgG3AbgBuQG6AbsBvAG9Ab4BvwHAAcEBwgHDAcQBxQHGAccByAHJAcoBywHMAc0BzgHPAdAB0QHSAdMB1AHVAdYB1wHYAdkB2gHbAdwB3QHeAd8B4AHhAeIB4wHkAeUB5gHnAegB6QHqAesB7AHtAe4B7wHwAfEB8gHzAfQB9QH2AfcB+AH5AfoB+wH8Af0B/gH/AQACAQICAgMCBAIFAgYCBwIIAgkCCgILAgwCDQIOAg8CEAIRAhICEwIUAhUCFgIXAhgCGQIaAhsCHAIdAh4CHwIgAiECIgIjAiQCJQImAicCKAIpAioCKwIsAi0CLgIvAjACMQIyAjMCNAI1AjYCNwI4AjkCOgI=",
          "dtype": "i2"
         },
         "xaxis": "x",
         "y": {
          "bdata": "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",
          "dtype": "f8"
         },
         "yaxis": "y"
        }
       ],
       "layout": {
        "legend": {
         "tracegroupgap": 0
        },
        "template": {
         "data": {
          "bar": [
           {
            "error_x": {
             "color": "#f2f5fa"
            },
            "error_y": {
             "color": "#f2f5fa"
            },
            "marker": {
             "line": {
              "color": "rgb(17,17,17)",
              "width": 0.5
             },
             "pattern": {
              "fillmode": "overlay",
              "size": 10,
              "solidity": 0.2
             }
            },
            "type": "bar"
           }
          ],
          "barpolar": [
           {
            "marker": {
             "line": {
              "color": "rgb(17,17,17)",
              "width": 0.5
             },
             "pattern": {
              "fillmode": "overlay",
              "size": 10,
              "solidity": 0.2
             }
            },
            "type": "barpolar"
           }
          ],
          "carpet": [
           {
            "aaxis": {
             "endlinecolor": "#A2B1C6",
             "gridcolor": "#506784",
             "linecolor": "#506784",
             "minorgridcolor": "#506784",
             "startlinecolor": "#A2B1C6"
            },
            "baxis": {
             "endlinecolor": "#A2B1C6",
             "gridcolor": "#506784",
             "linecolor": "#506784",
             "minorgridcolor": "#506784",
             "startlinecolor": "#A2B1C6"
            },
            "type": "carpet"
           }
          ],
          "choropleth": [
           {
            "colorbar": {
             "outlinewidth": 0,
             "ticks": ""
            },
            "type": "choropleth"
           }
          ],
          "contour": [
           {
            "colorbar": {
             "outlinewidth": 0,
             "ticks": ""
            },
            "colorscale": [
             [
              0,
              "#0d0887"
             ],
             [
              0.1111111111111111,
              "#46039f"
             ],
             [
              0.2222222222222222,
              "#7201a8"
             ],
             [
              0.3333333333333333,
              "#9c179e"
             ],
             [
              0.4444444444444444,
              "#bd3786"
             ],
             [
              0.5555555555555556,
              "#d8576b"
             ],
             [
              0.6666666666666666,
              "#ed7953"
             ],
             [
              0.7777777777777778,
              "#fb9f3a"
             ],
             [
              0.8888888888888888,
              "#fdca26"
             ],
             [
              1,
              "#f0f921"
             ]
            ],
            "type": "contour"
           }
          ],
          "contourcarpet": [
           {
            "colorbar": {
             "outlinewidth": 0,
             "ticks": ""
            },
            "type": "contourcarpet"
           }
          ],
          "heatmap": [
           {
            "colorbar": {
             "outlinewidth": 0,
             "ticks": ""
            },
            "colorscale": [
             [
              0,
              "#0d0887"
             ],
             [
              0.1111111111111111,
              "#46039f"
             ],
             [
              0.2222222222222222,
              "#7201a8"
             ],
             [
              0.3333333333333333,
              "#9c179e"
             ],
             [
              0.4444444444444444,
              "#bd3786"
             ],
             [
              0.5555555555555556,
              "#d8576b"
             ],
             [
              0.6666666666666666,
              "#ed7953"
             ],
             [
              0.7777777777777778,
              "#fb9f3a"
             ],
             [
              0.8888888888888888,
              "#fdca26"
             ],
             [
              1,
              "#f0f921"
             ]
            ],
            "type": "heatmap"
           }
          ],
          "histogram": [
           {
            "marker": {
             "pattern": {
              "fillmode": "overlay",
              "size": 10,
              "solidity": 0.2
             }
            },
            "type": "histogram"
           }
          ],
          "histogram2d": [
           {
            "colorbar": {
             "outlinewidth": 0,
             "ticks": ""
            },
            "colorscale": [
             [
              0,
              "#0d0887"
             ],
             [
              0.1111111111111111,
              "#46039f"
             ],
             [
              0.2222222222222222,
              "#7201a8"
             ],
             [
              0.3333333333333333,
              "#9c179e"
             ],
             [
              0.4444444444444444,
              "#bd3786"
             ],
             [
              0.5555555555555556,
              "#d8576b"
             ],
             [
              0.6666666666666666,
              "#ed7953"
             ],
             [
              0.7777777777777778,
              "#fb9f3a"
             ],
             [
              0.8888888888888888,
              "#fdca26"
             ],
             [
              1,
              "#f0f921"
             ]
            ],
            "type": "histogram2d"
           }
          ],
          "histogram2dcontour": [
           {
            "colorbar": {
             "outlinewidth": 0,
             "ticks": ""
            },
            "colorscale": [
             [
              0,
              "#0d0887"
             ],
             [
              0.1111111111111111,
              "#46039f"
             ],
             [
              0.2222222222222222,
              "#7201a8"
             ],
             [
              0.3333333333333333,
              "#9c179e"
             ],
             [
              0.4444444444444444,
              "#bd3786"
             ],
             [
              0.5555555555555556,
              "#d8576b"
             ],
             [
              0.6666666666666666,
              "#ed7953"
             ],
             [
              0.7777777777777778,
              "#fb9f3a"
             ],
             [
              0.8888888888888888,
              "#fdca26"
             ],
             [
              1,
              "#f0f921"
             ]
            ],
            "type": "histogram2dcontour"
           }
          ],
          "mesh3d": [
           {
            "colorbar": {
             "outlinewidth": 0,
             "ticks": ""
            },
            "type": "mesh3d"
           }
          ],
          "parcoords": [
           {
            "line": {
             "colorbar": {
              "outlinewidth": 0,
              "ticks": ""
             }
            },
            "type": "parcoords"
           }
          ],
          "pie": [
           {
            "automargin": true,
            "type": "pie"
           }
          ],
          "scatter": [
           {
            "marker": {
             "line": {
              "color": "#283442"
             }
            },
            "type": "scatter"
           }
          ],
          "scatter3d": [
           {
            "line": {
             "colorbar": {
              "outlinewidth": 0,
              "ticks": ""
             }
            },
            "marker": {
             "colorbar": {
              "outlinewidth": 0,
              "ticks": ""
             }
            },
            "type": "scatter3d"
           }
          ],
          "scattercarpet": [
           {
            "marker": {
             "colorbar": {
              "outlinewidth": 0,
              "ticks": ""
             }
            },
            "type": "scattercarpet"
           }
          ],
          "scattergeo": [
           {
            "marker": {
             "colorbar": {
              "outlinewidth": 0,
              "ticks": ""
             }
            },
            "type": "scattergeo"
           }
          ],
          "scattergl": [
           {
            "marker": {
             "line": {
              "color": "#283442"
             }
            },
            "type": "scattergl"
           }
          ],
          "scattermap": [
           {
            "marker": {
             "colorbar": {
              "outlinewidth": 0,
              "ticks": ""
             }
            },
            "type": "scattermap"
           }
          ],
          "scattermapbox": [
           {
            "marker": {
             "colorbar": {
              "outlinewidth": 0,
              "ticks": ""
             }
            },
            "type": "scattermapbox"
           }
          ],
          "scatterpolar": [
           {
            "marker": {
             "colorbar": {
              "outlinewidth": 0,
              "ticks": ""
             }
            },
            "type": "scatterpolar"
           }
          ],
          "scatterpolargl": [
           {
            "marker": {
             "colorbar": {
              "outlinewidth": 0,
              "ticks": ""
             }
            },
            "type": "scatterpolargl"
           }
          ],
          "scatterternary": [
           {
            "marker": {
             "colorbar": {
              "outlinewidth": 0,
              "ticks": ""
             }
            },
            "type": "scatterternary"
           }
          ],
          "surface": [
           {
            "colorbar": {
             "outlinewidth": 0,
             "ticks": ""
            },
            "colorscale": [
             [
              0,
              "#0d0887"
             ],
             [
              0.1111111111111111,
              "#46039f"
             ],
             [
              0.2222222222222222,
              "#7201a8"
             ],
             [
              0.3333333333333333,
              "#9c179e"
             ],
             [
              0.4444444444444444,
              "#bd3786"
             ],
             [
              0.5555555555555556,
              "#d8576b"
             ],
             [
              0.6666666666666666,
              "#ed7953"
             ],
             [
              0.7777777777777778,
              "#fb9f3a"
             ],
             [
              0.8888888888888888,
              "#fdca26"
             ],
             [
              1,
              "#f0f921"
             ]
            ],
            "type": "surface"
           }
          ],
          "table": [
           {
            "cells": {
             "fill": {
              "color": "#506784"
             },
             "line": {
              "color": "rgb(17,17,17)"
             }
            },
            "header": {
             "fill": {
              "color": "#2a3f5f"
             },
             "line": {
              "color": "rgb(17,17,17)"
             }
            },
            "type": "table"
           }
          ]
         },
         "layout": {
          "annotationdefaults": {
           "arrowcolor": "#f2f5fa",
           "arrowhead": 0,
           "arrowwidth": 1
          },
          "autotypenumbers": "strict",
          "coloraxis": {
           "colorbar": {
            "outlinewidth": 0,
            "ticks": ""
           }
          },
          "colorscale": {
           "diverging": [
            [
             0,
             "#8e0152"
            ],
            [
             0.1,
             "#c51b7d"
            ],
            [
             0.2,
             "#de77ae"
            ],
            [
             0.3,
             "#f1b6da"
            ],
            [
             0.4,
             "#fde0ef"
            ],
            [
             0.5,
             "#f7f7f7"
            ],
            [
             0.6,
             "#e6f5d0"
            ],
            [
             0.7,
             "#b8e186"
            ],
            [
             0.8,
             "#7fbc41"
            ],
            [
             0.9,
             "#4d9221"
            ],
            [
             1,
             "#276419"
            ]
           ],
           "sequential": [
            [
             0,
             "#0d0887"
            ],
            [
             0.1111111111111111,
             "#46039f"
            ],
            [
             0.2222222222222222,
             "#7201a8"
            ],
            [
             0.3333333333333333,
             "#9c179e"
            ],
            [
             0.4444444444444444,
             "#bd3786"
            ],
            [
             0.5555555555555556,
             "#d8576b"
            ],
            [
             0.6666666666666666,
             "#ed7953"
            ],
            [
             0.7777777777777778,
             "#fb9f3a"
            ],
            [
             0.8888888888888888,
             "#fdca26"
            ],
            [
             1,
             "#f0f921"
            ]
           ],
           "sequentialminus": [
            [
             0,
             "#0d0887"
            ],
            [
             0.1111111111111111,
             "#46039f"
            ],
            [
             0.2222222222222222,
             "#7201a8"
            ],
            [
             0.3333333333333333,
             "#9c179e"
            ],
            [
             0.4444444444444444,
             "#bd3786"
            ],
            [
             0.5555555555555556,
             "#d8576b"
            ],
            [
             0.6666666666666666,
             "#ed7953"
            ],
            [
             0.7777777777777778,
             "#fb9f3a"
            ],
            [
             0.8888888888888888,
             "#fdca26"
            ],
            [
             1,
             "#f0f921"
            ]
           ]
          },
          "colorway": [
           "#636efa",
           "#EF553B",
           "#00cc96",
           "#ab63fa",
           "#FFA15A",
           "#19d3f3",
           "#FF6692",
           "#B6E880",
           "#FF97FF",
           "#FECB52"
          ],
          "font": {
           "color": "#f2f5fa"
          },
          "geo": {
           "bgcolor": "rgb(17,17,17)",
           "lakecolor": "rgb(17,17,17)",
           "landcolor": "rgb(17,17,17)",
           "showlakes": true,
           "showland": true,
           "subunitcolor": "#506784"
          },
          "hoverlabel": {
           "align": "left"
          },
          "hovermode": "closest",
          "mapbox": {
           "style": "dark"
          },
          "paper_bgcolor": "rgb(17,17,17)",
          "plot_bgcolor": "rgb(17,17,17)",
          "polar": {
           "angularaxis": {
            "gridcolor": "#506784",
            "linecolor": "#506784",
            "ticks": ""
           },
           "bgcolor": "rgb(17,17,17)",
           "radialaxis": {
            "gridcolor": "#506784",
            "linecolor": "#506784",
            "ticks": ""
           }
          },
          "scene": {
           "xaxis": {
            "backgroundcolor": "rgb(17,17,17)",
            "gridcolor": "#506784",
            "gridwidth": 2,
            "linecolor": "#506784",
            "showbackground": true,
            "ticks": "",
            "zerolinecolor": "#C8D4E3"
           },
           "yaxis": {
            "backgroundcolor": "rgb(17,17,17)",
            "gridcolor": "#506784",
            "gridwidth": 2,
            "linecolor": "#506784",
            "showbackground": true,
            "ticks": "",
            "zerolinecolor": "#C8D4E3"
           },
           "zaxis": {
            "backgroundcolor": "rgb(17,17,17)",
            "gridcolor": "#506784",
            "gridwidth": 2,
            "linecolor": "#506784",
            "showbackground": true,
            "ticks": "",
            "zerolinecolor": "#C8D4E3"
           }
          },
          "shapedefaults": {
           "line": {
            "color": "#f2f5fa"
           }
          },
          "sliderdefaults": {
           "bgcolor": "#C8D4E3",
           "bordercolor": "rgb(17,17,17)",
           "borderwidth": 1,
           "tickwidth": 0
          },
          "ternary": {
           "aaxis": {
            "gridcolor": "#506784",
            "linecolor": "#506784",
            "ticks": ""
           },
           "baxis": {
            "gridcolor": "#506784",
            "linecolor": "#506784",
            "ticks": ""
           },
           "bgcolor": "rgb(17,17,17)",
           "caxis": {
            "gridcolor": "#506784",
            "linecolor": "#506784",
            "ticks": ""
           }
          },
          "title": {
           "x": 0.05
          },
          "updatemenudefaults": {
           "bgcolor": "#506784",
           "borderwidth": 0
          },
          "xaxis": {
           "automargin": true,
           "gridcolor": "#283442",
           "linecolor": "#506784",
           "ticks": "",
           "title": {
            "standoff": 15
           },
           "zerolinecolor": "#283442",
           "zerolinewidth": 2
          },
          "yaxis": {
           "automargin": true,
           "gridcolor": "#283442",
           "linecolor": "#506784",
           "ticks": "",
           "title": {
            "standoff": 15
           },
           "zerolinecolor": "#283442",
           "zerolinewidth": 2
          }
         }
        },
        "title": {
         "font": {
          "color": "#41BEE9"
         },
         "text": "Cost vs Iteration"
        },
        "xaxis": {
         "anchor": "y",
         "color": "#41BEE9",
         "domain": [
          0,
          1
         ],
         "title": {
          "text": "Iterations"
         }
        },
        "yaxis": {
         "anchor": "x",
         "color": "#41BEE9",
         "domain": [
          0,
          1
         ],
         "title": {
          "text": "Cost"
         }
        }
       }
      }
     },
     "metadata": {},
     "output_type": "display_data"
    },
    {
     "name": "stdout",
     "output_type": "stream",
     "text": [
      "Iteration 0: Cost = 4.821159\n",
      "Iteration 100: Cost = 0.640263\n",
      "Iteration 200: Cost = 0.089080\n",
      "Iteration 300: Cost = 0.016148\n",
      "Iteration 400: Cost = 0.006463\n",
      "Iteration 500: Cost = 0.005172\n",
      "Convergence reached at iteration 570\n"
     ]
    },
    {
     "data": {
      "application/vnd.plotly.v1+json": {
       "config": {
        "plotlyServerURL": "https://plot.ly"
       },
       "data": [
        {
         "hovertemplate": "x=%{x}<br>y=%{y}<extra></extra>",
         "legendgroup": "",
         "line": {
          "color": "#636efa",
          "dash": "solid"
         },
         "marker": {
          "symbol": "circle"
         },
         "mode": "lines",
         "name": "",
         "orientation": "v",
         "showlegend": false,
         "type": "scatter",
         "x": {
          "bdata": "AAABAAIAAwAEAAUABgAHAAgACQAKAAsADAANAA4ADwAQABEAEgATABQAFQAWABcAGAAZABoAGwAcAB0AHgAfACAAIQAiACMAJAAlACYAJwAoACkAKgArACwALQAuAC8AMAAxADIAMwA0ADUANgA3ADgAOQA6ADsAPAA9AD4APwBAAEEAQgBDAEQARQBGAEcASABJAEoASwBMAE0ATgBPAFAAUQBSAFMAVABVAFYAVwBYAFkAWgBbAFwAXQBeAF8AYABhAGIAYwBkAGUAZgBnAGgAaQBqAGsAbABtAG4AbwBwAHEAcgBzAHQAdQB2AHcAeAB5AHoAewB8AH0AfgB/AIAAgQCCAIMAhACFAIYAhwCIAIkAigCLAIwAjQCOAI8AkACRAJIAkwCUAJUAlgCXAJgAmQCaAJsAnACdAJ4AnwCgAKEAogCjAKQApQCmAKcAqACpAKoAqwCsAK0ArgCvALAAsQCyALMAtAC1ALYAtwC4ALkAugC7ALwAvQC+AL8AwADBAMIAwwDEAMUAxgDHAMgAyQDKAMsAzADNAM4AzwDQANEA0gDTANQA1QDWANcA2ADZANoA2wDcAN0A3gDfAOAA4QDiAOMA5ADlAOYA5wDoAOkA6gDrAOwA7QDuAO8A8ADxAPIA8wD0APUA9gD3APgA+QD6APsA/AD9AP4A/wAAAQEBAgEDAQQBBQEGAQcBCAEJAQoBCwEMAQ0BDgEPARABEQESARMBFAEVARYBFwEYARkBGgEbARwBHQEeAR8BIAEhASIBIwEkASUBJgEnASgBKQEqASsBLAEtAS4BLwEwATEBMgEzATQBNQE2ATcBOAE5AToBOwE8AT0BPgE/AUABQQFCAUMBRAFFAUYBRwFIAUkBSgFLAUwBTQFOAU8BUAFRAVIBUwFUAVUBVgFXAVgBWQFaAVsBXAFdAV4BXwFgAWEBYgFjAWQBZQFmAWcBaAFpAWoBawFsAW0BbgFvAXABcQFyAXMBdAF1AXYBdwF4AXkBegF7AXwBfQF+AX8BgAGBAYIBgwGEAYUBhgGHAYgBiQGKAYsBjAGNAY4BjwGQAZEBkgGTAZQBlQGWAZcBmAGZAZoBmwGcAZ0BngGfAaABoQGiAaMBpAGlAaYBpwGoAakBqgGrAawBrQGuAa8BsAGxAbIBswG0AbUBtgG3AbgBuQG6AbsBvAG9Ab4BvwHAAcEBwgHDAcQBxQHGAccByAHJAcoBywHMAc0BzgHPAdAB0QHSAdMB1AHVAdYB1wHYAdkB2gHbAdwB3QHeAd8B4AHhAeIB4wHkAeUB5gHnAegB6QHqAesB7AHtAe4B7wHwAfEB8gHzAfQB9QH2AfcB+AH5AfoB+wH8Af0B/gH/AQACAQICAgMCBAIFAgYCBwIIAgkCCgILAgwCDQIOAg8CEAIRAhICEwIUAhUCFgIXAhgCGQIaAhsCHAIdAh4CHwIgAiECIgIjAiQCJQImAicCKAIpAioCKwIsAi0CLgIvAjACMQIyAjMCNAI1AjYCNwI4AjkCOgI=",
          "dtype": "i2"
         },
         "xaxis": "x",
         "y": {
          "bdata": "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",
          "dtype": "f8"
         },
         "yaxis": "y"
        }
       ],
       "layout": {
        "legend": {
         "tracegroupgap": 0
        },
        "template": {
         "data": {
          "bar": [
           {
            "error_x": {
             "color": "#f2f5fa"
            },
            "error_y": {
             "color": "#f2f5fa"
            },
            "marker": {
             "line": {
              "color": "rgb(17,17,17)",
              "width": 0.5
             },
             "pattern": {
              "fillmode": "overlay",
              "size": 10,
              "solidity": 0.2
             }
            },
            "type": "bar"
           }
          ],
          "barpolar": [
           {
            "marker": {
             "line": {
              "color": "rgb(17,17,17)",
              "width": 0.5
             },
             "pattern": {
              "fillmode": "overlay",
              "size": 10,
              "solidity": 0.2
             }
            },
            "type": "barpolar"
           }
          ],
          "carpet": [
           {
            "aaxis": {
             "endlinecolor": "#A2B1C6",
             "gridcolor": "#506784",
             "linecolor": "#506784",
             "minorgridcolor": "#506784",
             "startlinecolor": "#A2B1C6"
            },
            "baxis": {
             "endlinecolor": "#A2B1C6",
             "gridcolor": "#506784",
             "linecolor": "#506784",
             "minorgridcolor": "#506784",
             "startlinecolor": "#A2B1C6"
            },
            "type": "carpet"
           }
          ],
          "choropleth": [
           {
            "colorbar": {
             "outlinewidth": 0,
             "ticks": ""
            },
            "type": "choropleth"
           }
          ],
          "contour": [
           {
            "colorbar": {
             "outlinewidth": 0,
             "ticks": ""
            },
            "colorscale": [
             [
              0,
              "#0d0887"
             ],
             [
              0.1111111111111111,
              "#46039f"
             ],
             [
              0.2222222222222222,
              "#7201a8"
             ],
             [
              0.3333333333333333,
              "#9c179e"
             ],
             [
              0.4444444444444444,
              "#bd3786"
             ],
             [
              0.5555555555555556,
              "#d8576b"
             ],
             [
              0.6666666666666666,
              "#ed7953"
             ],
             [
              0.7777777777777778,
              "#fb9f3a"
             ],
             [
              0.8888888888888888,
              "#fdca26"
             ],
             [
              1,
              "#f0f921"
             ]
            ],
            "type": "contour"
           }
          ],
          "contourcarpet": [
           {
            "colorbar": {
             "outlinewidth": 0,
             "ticks": ""
            },
            "type": "contourcarpet"
           }
          ],
          "heatmap": [
           {
            "colorbar": {
             "outlinewidth": 0,
             "ticks": ""
            },
            "colorscale": [
             [
              0,
              "#0d0887"
             ],
             [
              0.1111111111111111,
              "#46039f"
             ],
             [
              0.2222222222222222,
              "#7201a8"
             ],
             [
              0.3333333333333333,
              "#9c179e"
             ],
             [
              0.4444444444444444,
              "#bd3786"
             ],
             [
              0.5555555555555556,
              "#d8576b"
             ],
             [
              0.6666666666666666,
              "#ed7953"
             ],
             [
              0.7777777777777778,
              "#fb9f3a"
             ],
             [
              0.8888888888888888,
              "#fdca26"
             ],
             [
              1,
              "#f0f921"
             ]
            ],
            "type": "heatmap"
           }
          ],
          "histogram": [
           {
            "marker": {
             "pattern": {
              "fillmode": "overlay",
              "size": 10,
              "solidity": 0.2
             }
            },
            "type": "histogram"
           }
          ],
          "histogram2d": [
           {
            "colorbar": {
             "outlinewidth": 0,
             "ticks": ""
            },
            "colorscale": [
             [
              0,
              "#0d0887"
             ],
             [
              0.1111111111111111,
              "#46039f"
             ],
             [
              0.2222222222222222,
              "#7201a8"
             ],
             [
              0.3333333333333333,
              "#9c179e"
             ],
             [
              0.4444444444444444,
              "#bd3786"
             ],
             [
              0.5555555555555556,
              "#d8576b"
             ],
             [
              0.6666666666666666,
              "#ed7953"
             ],
             [
              0.7777777777777778,
              "#fb9f3a"
             ],
             [
              0.8888888888888888,
              "#fdca26"
             ],
             [
              1,
              "#f0f921"
             ]
            ],
            "type": "histogram2d"
           }
          ],
          "histogram2dcontour": [
           {
            "colorbar": {
             "outlinewidth": 0,
             "ticks": ""
            },
            "colorscale": [
             [
              0,
              "#0d0887"
             ],
             [
              0.1111111111111111,
              "#46039f"
             ],
             [
              0.2222222222222222,
              "#7201a8"
             ],
             [
              0.3333333333333333,
              "#9c179e"
             ],
             [
              0.4444444444444444,
              "#bd3786"
             ],
             [
              0.5555555555555556,
              "#d8576b"
             ],
             [
              0.6666666666666666,
              "#ed7953"
             ],
             [
              0.7777777777777778,
              "#fb9f3a"
             ],
             [
              0.8888888888888888,
              "#fdca26"
             ],
             [
              1,
              "#f0f921"
             ]
            ],
            "type": "histogram2dcontour"
           }
          ],
          "mesh3d": [
           {
            "colorbar": {
             "outlinewidth": 0,
             "ticks": ""
            },
            "type": "mesh3d"
           }
          ],
          "parcoords": [
           {
            "line": {
             "colorbar": {
              "outlinewidth": 0,
              "ticks": ""
             }
            },
            "type": "parcoords"
           }
          ],
          "pie": [
           {
            "automargin": true,
            "type": "pie"
           }
          ],
          "scatter": [
           {
            "marker": {
             "line": {
              "color": "#283442"
             }
            },
            "type": "scatter"
           }
          ],
          "scatter3d": [
           {
            "line": {
             "colorbar": {
              "outlinewidth": 0,
              "ticks": ""
             }
            },
            "marker": {
             "colorbar": {
              "outlinewidth": 0,
              "ticks": ""
             }
            },
            "type": "scatter3d"
           }
          ],
          "scattercarpet": [
           {
            "marker": {
             "colorbar": {
              "outlinewidth": 0,
              "ticks": ""
             }
            },
            "type": "scattercarpet"
           }
          ],
          "scattergeo": [
           {
            "marker": {
             "colorbar": {
              "outlinewidth": 0,
              "ticks": ""
             }
            },
            "type": "scattergeo"
           }
          ],
          "scattergl": [
           {
            "marker": {
             "line": {
              "color": "#283442"
             }
            },
            "type": "scattergl"
           }
          ],
          "scattermap": [
           {
            "marker": {
             "colorbar": {
              "outlinewidth": 0,
              "ticks": ""
             }
            },
            "type": "scattermap"
           }
          ],
          "scattermapbox": [
           {
            "marker": {
             "colorbar": {
              "outlinewidth": 0,
              "ticks": ""
             }
            },
            "type": "scattermapbox"
           }
          ],
          "scatterpolar": [
           {
            "marker": {
             "colorbar": {
              "outlinewidth": 0,
              "ticks": ""
             }
            },
            "type": "scatterpolar"
           }
          ],
          "scatterpolargl": [
           {
            "marker": {
             "colorbar": {
              "outlinewidth": 0,
              "ticks": ""
             }
            },
            "type": "scatterpolargl"
           }
          ],
          "scatterternary": [
           {
            "marker": {
             "colorbar": {
              "outlinewidth": 0,
              "ticks": ""
             }
            },
            "type": "scatterternary"
           }
          ],
          "surface": [
           {
            "colorbar": {
             "outlinewidth": 0,
             "ticks": ""
            },
            "colorscale": [
             [
              0,
              "#0d0887"
             ],
             [
              0.1111111111111111,
              "#46039f"
             ],
             [
              0.2222222222222222,
              "#7201a8"
             ],
             [
              0.3333333333333333,
              "#9c179e"
             ],
             [
              0.4444444444444444,
              "#bd3786"
             ],
             [
              0.5555555555555556,
              "#d8576b"
             ],
             [
              0.6666666666666666,
              "#ed7953"
             ],
             [
              0.7777777777777778,
              "#fb9f3a"
             ],
             [
              0.8888888888888888,
              "#fdca26"
             ],
             [
              1,
              "#f0f921"
             ]
            ],
            "type": "surface"
           }
          ],
          "table": [
           {
            "cells": {
             "fill": {
              "color": "#506784"
             },
             "line": {
              "color": "rgb(17,17,17)"
             }
            },
            "header": {
             "fill": {
              "color": "#2a3f5f"
             },
             "line": {
              "color": "rgb(17,17,17)"
             }
            },
            "type": "table"
           }
          ]
         },
         "layout": {
          "annotationdefaults": {
           "arrowcolor": "#f2f5fa",
           "arrowhead": 0,
           "arrowwidth": 1
          },
          "autotypenumbers": "strict",
          "coloraxis": {
           "colorbar": {
            "outlinewidth": 0,
            "ticks": ""
           }
          },
          "colorscale": {
           "diverging": [
            [
             0,
             "#8e0152"
            ],
            [
             0.1,
             "#c51b7d"
            ],
            [
             0.2,
             "#de77ae"
            ],
            [
             0.3,
             "#f1b6da"
            ],
            [
             0.4,
             "#fde0ef"
            ],
            [
             0.5,
             "#f7f7f7"
            ],
            [
             0.6,
             "#e6f5d0"
            ],
            [
             0.7,
             "#b8e186"
            ],
            [
             0.8,
             "#7fbc41"
            ],
            [
             0.9,
             "#4d9221"
            ],
            [
             1,
             "#276419"
            ]
           ],
           "sequential": [
            [
             0,
             "#0d0887"
            ],
            [
             0.1111111111111111,
             "#46039f"
            ],
            [
             0.2222222222222222,
             "#7201a8"
            ],
            [
             0.3333333333333333,
             "#9c179e"
            ],
            [
             0.4444444444444444,
             "#bd3786"
            ],
            [
             0.5555555555555556,
             "#d8576b"
            ],
            [
             0.6666666666666666,
             "#ed7953"
            ],
            [
             0.7777777777777778,
             "#fb9f3a"
            ],
            [
             0.8888888888888888,
             "#fdca26"
            ],
            [
             1,
             "#f0f921"
            ]
           ],
           "sequentialminus": [
            [
             0,
             "#0d0887"
            ],
            [
             0.1111111111111111,
             "#46039f"
            ],
            [
             0.2222222222222222,
             "#7201a8"
            ],
            [
             0.3333333333333333,
             "#9c179e"
            ],
            [
             0.4444444444444444,
             "#bd3786"
            ],
            [
             0.5555555555555556,
             "#d8576b"
            ],
            [
             0.6666666666666666,
             "#ed7953"
            ],
            [
             0.7777777777777778,
             "#fb9f3a"
            ],
            [
             0.8888888888888888,
             "#fdca26"
            ],
            [
             1,
             "#f0f921"
            ]
           ]
          },
          "colorway": [
           "#636efa",
           "#EF553B",
           "#00cc96",
           "#ab63fa",
           "#FFA15A",
           "#19d3f3",
           "#FF6692",
           "#B6E880",
           "#FF97FF",
           "#FECB52"
          ],
          "font": {
           "color": "#f2f5fa"
          },
          "geo": {
           "bgcolor": "rgb(17,17,17)",
           "lakecolor": "rgb(17,17,17)",
           "landcolor": "rgb(17,17,17)",
           "showlakes": true,
           "showland": true,
           "subunitcolor": "#506784"
          },
          "hoverlabel": {
           "align": "left"
          },
          "hovermode": "closest",
          "mapbox": {
           "style": "dark"
          },
          "paper_bgcolor": "rgb(17,17,17)",
          "plot_bgcolor": "rgb(17,17,17)",
          "polar": {
           "angularaxis": {
            "gridcolor": "#506784",
            "linecolor": "#506784",
            "ticks": ""
           },
           "bgcolor": "rgb(17,17,17)",
           "radialaxis": {
            "gridcolor": "#506784",
            "linecolor": "#506784",
            "ticks": ""
           }
          },
          "scene": {
           "xaxis": {
            "backgroundcolor": "rgb(17,17,17)",
            "gridcolor": "#506784",
            "gridwidth": 2,
            "linecolor": "#506784",
            "showbackground": true,
            "ticks": "",
            "zerolinecolor": "#C8D4E3"
           },
           "yaxis": {
            "backgroundcolor": "rgb(17,17,17)",
            "gridcolor": "#506784",
            "gridwidth": 2,
            "linecolor": "#506784",
            "showbackground": true,
            "ticks": "",
            "zerolinecolor": "#C8D4E3"
           },
           "zaxis": {
            "backgroundcolor": "rgb(17,17,17)",
            "gridcolor": "#506784",
            "gridwidth": 2,
            "linecolor": "#506784",
            "showbackground": true,
            "ticks": "",
            "zerolinecolor": "#C8D4E3"
           }
          },
          "shapedefaults": {
           "line": {
            "color": "#f2f5fa"
           }
          },
          "sliderdefaults": {
           "bgcolor": "#C8D4E3",
           "bordercolor": "rgb(17,17,17)",
           "borderwidth": 1,
           "tickwidth": 0
          },
          "ternary": {
           "aaxis": {
            "gridcolor": "#506784",
            "linecolor": "#506784",
            "ticks": ""
           },
           "baxis": {
            "gridcolor": "#506784",
            "linecolor": "#506784",
            "ticks": ""
           },
           "bgcolor": "rgb(17,17,17)",
           "caxis": {
            "gridcolor": "#506784",
            "linecolor": "#506784",
            "ticks": ""
           }
          },
          "title": {
           "x": 0.05
          },
          "updatemenudefaults": {
           "bgcolor": "#506784",
           "borderwidth": 0
          },
          "xaxis": {
           "automargin": true,
           "gridcolor": "#283442",
           "linecolor": "#506784",
           "ticks": "",
           "title": {
            "standoff": 15
           },
           "zerolinecolor": "#283442",
           "zerolinewidth": 2
          },
          "yaxis": {
           "automargin": true,
           "gridcolor": "#283442",
           "linecolor": "#506784",
           "ticks": "",
           "title": {
            "standoff": 15
           },
           "zerolinecolor": "#283442",
           "zerolinewidth": 2
          }
         }
        },
        "title": {
         "font": {
          "color": "#41BEE9"
         },
         "text": "Cost vs Iteration"
        },
        "xaxis": {
         "anchor": "y",
         "color": "#41BEE9",
         "domain": [
          0,
          1
         ],
         "title": {
          "text": "Iterations"
         }
        },
        "yaxis": {
         "anchor": "x",
         "color": "#41BEE9",
         "domain": [
          0,
          1
         ],
         "title": {
          "text": "Cost"
         }
        }
       }
      }
     },
     "metadata": {},
     "output_type": "display_data"
    },
    {
     "name": "stdout",
     "output_type": "stream",
     "text": [
      "Iteration 0: Cost = 4.836662\n",
      "Iteration 100: Cost = 0.642276\n",
      "Iteration 200: Cost = 0.089342\n",
      "Iteration 300: Cost = 0.016183\n",
      "Iteration 400: Cost = 0.006468\n",
      "Iteration 500: Cost = 0.005173\n",
      "Convergence reached at iteration 570\n"
     ]
    },
    {
     "data": {
      "application/vnd.plotly.v1+json": {
       "config": {
        "plotlyServerURL": "https://plot.ly"
       },
       "data": [
        {
         "hovertemplate": "x=%{x}<br>y=%{y}<extra></extra>",
         "legendgroup": "",
         "line": {
          "color": "#636efa",
          "dash": "solid"
         },
         "marker": {
          "symbol": "circle"
         },
         "mode": "lines",
         "name": "",
         "orientation": "v",
         "showlegend": false,
         "type": "scatter",
         "x": {
          "bdata": "AAABAAIAAwAEAAUABgAHAAgACQAKAAsADAANAA4ADwAQABEAEgATABQAFQAWABcAGAAZABoAGwAcAB0AHgAfACAAIQAiACMAJAAlACYAJwAoACkAKgArACwALQAuAC8AMAAxADIAMwA0ADUANgA3ADgAOQA6ADsAPAA9AD4APwBAAEEAQgBDAEQARQBGAEcASABJAEoASwBMAE0ATgBPAFAAUQBSAFMAVABVAFYAVwBYAFkAWgBbAFwAXQBeAF8AYABhAGIAYwBkAGUAZgBnAGgAaQBqAGsAbABtAG4AbwBwAHEAcgBzAHQAdQB2AHcAeAB5AHoAewB8AH0AfgB/AIAAgQCCAIMAhACFAIYAhwCIAIkAigCLAIwAjQCOAI8AkACRAJIAkwCUAJUAlgCXAJgAmQCaAJsAnACdAJ4AnwCgAKEAogCjAKQApQCmAKcAqACpAKoAqwCsAK0ArgCvALAAsQCyALMAtAC1ALYAtwC4ALkAugC7ALwAvQC+AL8AwADBAMIAwwDEAMUAxgDHAMgAyQDKAMsAzADNAM4AzwDQANEA0gDTANQA1QDWANcA2ADZANoA2wDcAN0A3gDfAOAA4QDiAOMA5ADlAOYA5wDoAOkA6gDrAOwA7QDuAO8A8ADxAPIA8wD0APUA9gD3APgA+QD6APsA/AD9AP4A/wAAAQEBAgEDAQQBBQEGAQcBCAEJAQoBCwEMAQ0BDgEPARABEQESARMBFAEVARYBFwEYARkBGgEbARwBHQEeAR8BIAEhASIBIwEkASUBJgEnASgBKQEqASsBLAEtAS4BLwEwATEBMgEzATQBNQE2ATcBOAE5AToBOwE8AT0BPgE/AUABQQFCAUMBRAFFAUYBRwFIAUkBSgFLAUwBTQFOAU8BUAFRAVIBUwFUAVUBVgFXAVgBWQFaAVsBXAFdAV4BXwFgAWEBYgFjAWQBZQFmAWcBaAFpAWoBawFsAW0BbgFvAXABcQFyAXMBdAF1AXYBdwF4AXkBegF7AXwBfQF+AX8BgAGBAYIBgwGEAYUBhgGHAYgBiQGKAYsBjAGNAY4BjwGQAZEBkgGTAZQBlQGWAZcBmAGZAZoBmwGcAZ0BngGfAaABoQGiAaMBpAGlAaYBpwGoAakBqgGrAawBrQGuAa8BsAGxAbIBswG0AbUBtgG3AbgBuQG6AbsBvAG9Ab4BvwHAAcEBwgHDAcQBxQHGAccByAHJAcoBywHMAc0BzgHPAdAB0QHSAdMB1AHVAdYB1wHYAdkB2gHbAdwB3QHeAd8B4AHhAeIB4wHkAeUB5gHnAegB6QHqAesB7AHtAe4B7wHwAfEB8gHzAfQB9QH2AfcB+AH5AfoB+wH8Af0B/gH/AQACAQICAgMCBAIFAgYCBwIIAgkCCgILAgwCDQIOAg8CEAIRAhICEwIUAhUCFgIXAhgCGQIaAhsCHAIdAh4CHwIgAiECIgIjAiQCJQImAicCKAIpAioCKwIsAi0CLgIvAjACMQIyAjMCNAI1AjYCNwI4AjkCOgI=",
          "dtype": "i2"
         },
         "xaxis": "x",
         "y": {
          "bdata": "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",
          "dtype": "f8"
         },
         "yaxis": "y"
        }
       ],
       "layout": {
        "legend": {
         "tracegroupgap": 0
        },
        "template": {
         "data": {
          "bar": [
           {
            "error_x": {
             "color": "#f2f5fa"
            },
            "error_y": {
             "color": "#f2f5fa"
            },
            "marker": {
             "line": {
              "color": "rgb(17,17,17)",
              "width": 0.5
             },
             "pattern": {
              "fillmode": "overlay",
              "size": 10,
              "solidity": 0.2
             }
            },
            "type": "bar"
           }
          ],
          "barpolar": [
           {
            "marker": {
             "line": {
              "color": "rgb(17,17,17)",
              "width": 0.5
             },
             "pattern": {
              "fillmode": "overlay",
              "size": 10,
              "solidity": 0.2
             }
            },
            "type": "barpolar"
           }
          ],
          "carpet": [
           {
            "aaxis": {
             "endlinecolor": "#A2B1C6",
             "gridcolor": "#506784",
             "linecolor": "#506784",
             "minorgridcolor": "#506784",
             "startlinecolor": "#A2B1C6"
            },
            "baxis": {
             "endlinecolor": "#A2B1C6",
             "gridcolor": "#506784",
             "linecolor": "#506784",
             "minorgridcolor": "#506784",
             "startlinecolor": "#A2B1C6"
            },
            "type": "carpet"
           }
          ],
          "choropleth": [
           {
            "colorbar": {
             "outlinewidth": 0,
             "ticks": ""
            },
            "type": "choropleth"
           }
          ],
          "contour": [
           {
            "colorbar": {
             "outlinewidth": 0,
             "ticks": ""
            },
            "colorscale": [
             [
              0,
              "#0d0887"
             ],
             [
              0.1111111111111111,
              "#46039f"
             ],
             [
              0.2222222222222222,
              "#7201a8"
             ],
             [
              0.3333333333333333,
              "#9c179e"
             ],
             [
              0.4444444444444444,
              "#bd3786"
             ],
             [
              0.5555555555555556,
              "#d8576b"
             ],
             [
              0.6666666666666666,
              "#ed7953"
             ],
             [
              0.7777777777777778,
              "#fb9f3a"
             ],
             [
              0.8888888888888888,
              "#fdca26"
             ],
             [
              1,
              "#f0f921"
             ]
            ],
            "type": "contour"
           }
          ],
          "contourcarpet": [
           {
            "colorbar": {
             "outlinewidth": 0,
             "ticks": ""
            },
            "type": "contourcarpet"
           }
          ],
          "heatmap": [
           {
            "colorbar": {
             "outlinewidth": 0,
             "ticks": ""
            },
            "colorscale": [
             [
              0,
              "#0d0887"
             ],
             [
              0.1111111111111111,
              "#46039f"
             ],
             [
              0.2222222222222222,
              "#7201a8"
             ],
             [
              0.3333333333333333,
              "#9c179e"
             ],
             [
              0.4444444444444444,
              "#bd3786"
             ],
             [
              0.5555555555555556,
              "#d8576b"
             ],
             [
              0.6666666666666666,
              "#ed7953"
             ],
             [
              0.7777777777777778,
              "#fb9f3a"
             ],
             [
              0.8888888888888888,
              "#fdca26"
             ],
             [
              1,
              "#f0f921"
             ]
            ],
            "type": "heatmap"
           }
          ],
          "histogram": [
           {
            "marker": {
             "pattern": {
              "fillmode": "overlay",
              "size": 10,
              "solidity": 0.2
             }
            },
            "type": "histogram"
           }
          ],
          "histogram2d": [
           {
            "colorbar": {
             "outlinewidth": 0,
             "ticks": ""
            },
            "colorscale": [
             [
              0,
              "#0d0887"
             ],
             [
              0.1111111111111111,
              "#46039f"
             ],
             [
              0.2222222222222222,
              "#7201a8"
             ],
             [
              0.3333333333333333,
              "#9c179e"
             ],
             [
              0.4444444444444444,
              "#bd3786"
             ],
             [
              0.5555555555555556,
              "#d8576b"
             ],
             [
              0.6666666666666666,
              "#ed7953"
             ],
             [
              0.7777777777777778,
              "#fb9f3a"
             ],
             [
              0.8888888888888888,
              "#fdca26"
             ],
             [
              1,
              "#f0f921"
             ]
            ],
            "type": "histogram2d"
           }
          ],
          "histogram2dcontour": [
           {
            "colorbar": {
             "outlinewidth": 0,
             "ticks": ""
            },
            "colorscale": [
             [
              0,
              "#0d0887"
             ],
             [
              0.1111111111111111,
              "#46039f"
             ],
             [
              0.2222222222222222,
              "#7201a8"
             ],
             [
              0.3333333333333333,
              "#9c179e"
             ],
             [
              0.4444444444444444,
              "#bd3786"
             ],
             [
              0.5555555555555556,
              "#d8576b"
             ],
             [
              0.6666666666666666,
              "#ed7953"
             ],
             [
              0.7777777777777778,
              "#fb9f3a"
             ],
             [
              0.8888888888888888,
              "#fdca26"
             ],
             [
              1,
              "#f0f921"
             ]
            ],
            "type": "histogram2dcontour"
           }
          ],
          "mesh3d": [
           {
            "colorbar": {
             "outlinewidth": 0,
             "ticks": ""
            },
            "type": "mesh3d"
           }
          ],
          "parcoords": [
           {
            "line": {
             "colorbar": {
              "outlinewidth": 0,
              "ticks": ""
             }
            },
            "type": "parcoords"
           }
          ],
          "pie": [
           {
            "automargin": true,
            "type": "pie"
           }
          ],
          "scatter": [
           {
            "marker": {
             "line": {
              "color": "#283442"
             }
            },
            "type": "scatter"
           }
          ],
          "scatter3d": [
           {
            "line": {
             "colorbar": {
              "outlinewidth": 0,
              "ticks": ""
             }
            },
            "marker": {
             "colorbar": {
              "outlinewidth": 0,
              "ticks": ""
             }
            },
            "type": "scatter3d"
           }
          ],
          "scattercarpet": [
           {
            "marker": {
             "colorbar": {
              "outlinewidth": 0,
              "ticks": ""
             }
            },
            "type": "scattercarpet"
           }
          ],
          "scattergeo": [
           {
            "marker": {
             "colorbar": {
              "outlinewidth": 0,
              "ticks": ""
             }
            },
            "type": "scattergeo"
           }
          ],
          "scattergl": [
           {
            "marker": {
             "line": {
              "color": "#283442"
             }
            },
            "type": "scattergl"
           }
          ],
          "scattermap": [
           {
            "marker": {
             "colorbar": {
              "outlinewidth": 0,
              "ticks": ""
             }
            },
            "type": "scattermap"
           }
          ],
          "scattermapbox": [
           {
            "marker": {
             "colorbar": {
              "outlinewidth": 0,
              "ticks": ""
             }
            },
            "type": "scattermapbox"
           }
          ],
          "scatterpolar": [
           {
            "marker": {
             "colorbar": {
              "outlinewidth": 0,
              "ticks": ""
             }
            },
            "type": "scatterpolar"
           }
          ],
          "scatterpolargl": [
           {
            "marker": {
             "colorbar": {
              "outlinewidth": 0,
              "ticks": ""
             }
            },
            "type": "scatterpolargl"
           }
          ],
          "scatterternary": [
           {
            "marker": {
             "colorbar": {
              "outlinewidth": 0,
              "ticks": ""
             }
            },
            "type": "scatterternary"
           }
          ],
          "surface": [
           {
            "colorbar": {
             "outlinewidth": 0,
             "ticks": ""
            },
            "colorscale": [
             [
              0,
              "#0d0887"
             ],
             [
              0.1111111111111111,
              "#46039f"
             ],
             [
              0.2222222222222222,
              "#7201a8"
             ],
             [
              0.3333333333333333,
              "#9c179e"
             ],
             [
              0.4444444444444444,
              "#bd3786"
             ],
             [
              0.5555555555555556,
              "#d8576b"
             ],
             [
              0.6666666666666666,
              "#ed7953"
             ],
             [
              0.7777777777777778,
              "#fb9f3a"
             ],
             [
              0.8888888888888888,
              "#fdca26"
             ],
             [
              1,
              "#f0f921"
             ]
            ],
            "type": "surface"
           }
          ],
          "table": [
           {
            "cells": {
             "fill": {
              "color": "#506784"
             },
             "line": {
              "color": "rgb(17,17,17)"
             }
            },
            "header": {
             "fill": {
              "color": "#2a3f5f"
             },
             "line": {
              "color": "rgb(17,17,17)"
             }
            },
            "type": "table"
           }
          ]
         },
         "layout": {
          "annotationdefaults": {
           "arrowcolor": "#f2f5fa",
           "arrowhead": 0,
           "arrowwidth": 1
          },
          "autotypenumbers": "strict",
          "coloraxis": {
           "colorbar": {
            "outlinewidth": 0,
            "ticks": ""
           }
          },
          "colorscale": {
           "diverging": [
            [
             0,
             "#8e0152"
            ],
            [
             0.1,
             "#c51b7d"
            ],
            [
             0.2,
             "#de77ae"
            ],
            [
             0.3,
             "#f1b6da"
            ],
            [
             0.4,
             "#fde0ef"
            ],
            [
             0.5,
             "#f7f7f7"
            ],
            [
             0.6,
             "#e6f5d0"
            ],
            [
             0.7,
             "#b8e186"
            ],
            [
             0.8,
             "#7fbc41"
            ],
            [
             0.9,
             "#4d9221"
            ],
            [
             1,
             "#276419"
            ]
           ],
           "sequential": [
            [
             0,
             "#0d0887"
            ],
            [
             0.1111111111111111,
             "#46039f"
            ],
            [
             0.2222222222222222,
             "#7201a8"
            ],
            [
             0.3333333333333333,
             "#9c179e"
            ],
            [
             0.4444444444444444,
             "#bd3786"
            ],
            [
             0.5555555555555556,
             "#d8576b"
            ],
            [
             0.6666666666666666,
             "#ed7953"
            ],
            [
             0.7777777777777778,
             "#fb9f3a"
            ],
            [
             0.8888888888888888,
             "#fdca26"
            ],
            [
             1,
             "#f0f921"
            ]
           ],
           "sequentialminus": [
            [
             0,
             "#0d0887"
            ],
            [
             0.1111111111111111,
             "#46039f"
            ],
            [
             0.2222222222222222,
             "#7201a8"
            ],
            [
             0.3333333333333333,
             "#9c179e"
            ],
            [
             0.4444444444444444,
             "#bd3786"
            ],
            [
             0.5555555555555556,
             "#d8576b"
            ],
            [
             0.6666666666666666,
             "#ed7953"
            ],
            [
             0.7777777777777778,
             "#fb9f3a"
            ],
            [
             0.8888888888888888,
             "#fdca26"
            ],
            [
             1,
             "#f0f921"
            ]
           ]
          },
          "colorway": [
           "#636efa",
           "#EF553B",
           "#00cc96",
           "#ab63fa",
           "#FFA15A",
           "#19d3f3",
           "#FF6692",
           "#B6E880",
           "#FF97FF",
           "#FECB52"
          ],
          "font": {
           "color": "#f2f5fa"
          },
          "geo": {
           "bgcolor": "rgb(17,17,17)",
           "lakecolor": "rgb(17,17,17)",
           "landcolor": "rgb(17,17,17)",
           "showlakes": true,
           "showland": true,
           "subunitcolor": "#506784"
          },
          "hoverlabel": {
           "align": "left"
          },
          "hovermode": "closest",
          "mapbox": {
           "style": "dark"
          },
          "paper_bgcolor": "rgb(17,17,17)",
          "plot_bgcolor": "rgb(17,17,17)",
          "polar": {
           "angularaxis": {
            "gridcolor": "#506784",
            "linecolor": "#506784",
            "ticks": ""
           },
           "bgcolor": "rgb(17,17,17)",
           "radialaxis": {
            "gridcolor": "#506784",
            "linecolor": "#506784",
            "ticks": ""
           }
          },
          "scene": {
           "xaxis": {
            "backgroundcolor": "rgb(17,17,17)",
            "gridcolor": "#506784",
            "gridwidth": 2,
            "linecolor": "#506784",
            "showbackground": true,
            "ticks": "",
            "zerolinecolor": "#C8D4E3"
           },
           "yaxis": {
            "backgroundcolor": "rgb(17,17,17)",
            "gridcolor": "#506784",
            "gridwidth": 2,
            "linecolor": "#506784",
            "showbackground": true,
            "ticks": "",
            "zerolinecolor": "#C8D4E3"
           },
           "zaxis": {
            "backgroundcolor": "rgb(17,17,17)",
            "gridcolor": "#506784",
            "gridwidth": 2,
            "linecolor": "#506784",
            "showbackground": true,
            "ticks": "",
            "zerolinecolor": "#C8D4E3"
           }
          },
          "shapedefaults": {
           "line": {
            "color": "#f2f5fa"
           }
          },
          "sliderdefaults": {
           "bgcolor": "#C8D4E3",
           "bordercolor": "rgb(17,17,17)",
           "borderwidth": 1,
           "tickwidth": 0
          },
          "ternary": {
           "aaxis": {
            "gridcolor": "#506784",
            "linecolor": "#506784",
            "ticks": ""
           },
           "baxis": {
            "gridcolor": "#506784",
            "linecolor": "#506784",
            "ticks": ""
           },
           "bgcolor": "rgb(17,17,17)",
           "caxis": {
            "gridcolor": "#506784",
            "linecolor": "#506784",
            "ticks": ""
           }
          },
          "title": {
           "x": 0.05
          },
          "updatemenudefaults": {
           "bgcolor": "#506784",
           "borderwidth": 0
          },
          "xaxis": {
           "automargin": true,
           "gridcolor": "#283442",
           "linecolor": "#506784",
           "ticks": "",
           "title": {
            "standoff": 15
           },
           "zerolinecolor": "#283442",
           "zerolinewidth": 2
          },
          "yaxis": {
           "automargin": true,
           "gridcolor": "#283442",
           "linecolor": "#506784",
           "ticks": "",
           "title": {
            "standoff": 15
           },
           "zerolinecolor": "#283442",
           "zerolinewidth": 2
          }
         }
        },
        "title": {
         "font": {
          "color": "#41BEE9"
         },
         "text": "Cost vs Iteration"
        },
        "xaxis": {
         "anchor": "y",
         "color": "#41BEE9",
         "domain": [
          0,
          1
         ],
         "title": {
          "text": "Iterations"
         }
        },
        "yaxis": {
         "anchor": "x",
         "color": "#41BEE9",
         "domain": [
          0,
          1
         ],
         "title": {
          "text": "Cost"
         }
        }
       }
      }
     },
     "metadata": {},
     "output_type": "display_data"
    },
    {
     "data": {
      "text/html": [
       "<div>\n",
       "<style scoped>\n",
       "    .dataframe tbody tr th:only-of-type {\n",
       "        vertical-align: middle;\n",
       "    }\n",
       "\n",
       "    .dataframe tbody tr th {\n",
       "        vertical-align: top;\n",
       "    }\n",
       "\n",
       "    .dataframe thead th {\n",
       "        text-align: right;\n",
       "    }\n",
       "</style>\n",
       "<table border=\"1\" class=\"dataframe\">\n",
       "  <thead>\n",
       "    <tr style=\"text-align: right;\">\n",
       "      <th></th>\n",
       "      <th>n_samples</th>\n",
       "      <th>custom_fit</th>\n",
       "      <th>custom_predict</th>\n",
       "      <th>sklearn_fit</th>\n",
       "      <th>sklearn_predict</th>\n",
       "    </tr>\n",
       "  </thead>\n",
       "  <tbody>\n",
       "    <tr>\n",
       "      <th>0</th>\n",
       "      <td>100</td>\n",
       "      <td>1.360785</td>\n",
       "      <td>0.000058</td>\n",
       "      <td>0.004343</td>\n",
       "      <td>0.000152</td>\n",
       "    </tr>\n",
       "    <tr>\n",
       "      <th>1</th>\n",
       "      <td>1000</td>\n",
       "      <td>0.099276</td>\n",
       "      <td>0.000047</td>\n",
       "      <td>0.001341</td>\n",
       "      <td>0.000120</td>\n",
       "    </tr>\n",
       "    <tr>\n",
       "      <th>2</th>\n",
       "      <td>5000</td>\n",
       "      <td>0.121136</td>\n",
       "      <td>0.000052</td>\n",
       "      <td>0.002541</td>\n",
       "      <td>0.000188</td>\n",
       "    </tr>\n",
       "    <tr>\n",
       "      <th>3</th>\n",
       "      <td>10000</td>\n",
       "      <td>0.193622</td>\n",
       "      <td>0.000045</td>\n",
       "      <td>0.003164</td>\n",
       "      <td>0.000161</td>\n",
       "    </tr>\n",
       "    <tr>\n",
       "      <th>4</th>\n",
       "      <td>20000</td>\n",
       "      <td>0.262068</td>\n",
       "      <td>0.000057</td>\n",
       "      <td>0.005514</td>\n",
       "      <td>0.000159</td>\n",
       "    </tr>\n",
       "  </tbody>\n",
       "</table>\n",
       "</div>"
      ],
      "text/plain": [
       "   n_samples  custom_fit  custom_predict  sklearn_fit  sklearn_predict\n",
       "0        100    1.360785        0.000058     0.004343         0.000152\n",
       "1       1000    0.099276        0.000047     0.001341         0.000120\n",
       "2       5000    0.121136        0.000052     0.002541         0.000188\n",
       "3      10000    0.193622        0.000045     0.003164         0.000161\n",
       "4      20000    0.262068        0.000057     0.005514         0.000159"
      ]
     },
     "execution_count": 7,
     "metadata": {},
     "output_type": "execute_result"
    }
   ],
   "source": [
    "n_samples_list = [100, 1_000, 5_000, 10_000, 20_000]\n",
    "df = benchmark(n_samples_list)\n",
    "df\n"
   ]
  },
  {
   "cell_type": "code",
   "execution_count": null,
   "id": "2cbd3528",
   "metadata": {},
   "outputs": [
    {
     "data": {
      "image/png": "[encoded data removed]",
      "text/plain": [
       "<Figure size 800x500 with 1 Axes>"
      ]
     },
     "metadata": {},
     "output_type": "display_data"
    }
   ],
   "source": [
    "plt.figure(figsize=(8,5))\n",
    "plt.loglog(df['n_samples'], df['custom_fit'], marker='o', label='custom fit')\n",
    "plt.loglog(df['n_samples'], df['sklearn_fit'], marker='o', label='sklearn fit')\n",
    "plt.loglog(df['n_samples'], df['custom_predict'], marker='x', linestyle='--', label='custom predict')\n",
    "plt.loglog(df['n_samples'], df['sklearn_predict'], marker='x', linestyle='--', label='sklearn predict')\n",
    "plt.xlabel('Liczba próbek (log)')\n",
    "plt.ylabel('Czas [s] (log)')\n",
    "plt.title('Benchmark czasu trenowania i predykcji')\n",
    "plt.legend()\n",
    "plt.grid(True, which=\"both\", ls=\":\")\n",
    "plt.show()\n"
   ]
  },
  {
   "cell_type": "markdown",
   "id": "4183bcb6",
   "metadata": {},
   "source": [
    "# Wnioski\n",
    "\n",
    "- **Złożoność**: na wykresie widać, czy Twoja implementacja zachowuje oczekiwane tempo wzrostu (O(n·d²) lub O(n·d), w zależności od algorytmu).  \n",
    "- **Porównanie**: wskaż różnice w pre-caching, optymalizacjach BLAS w `sklearn` itp.  \n",
    "- **Kolejne kroki**: zoptymalizowanie mnożeń macierzowych lub przejście na metody iteracyjne.\n"
   ]
  },
  {
   "cell_type": "markdown",
   "id": "8e962075",
   "metadata": {},
   "source": [
    "### 1. Mean Squared Error (MSE)\n",
    "\n",
    "**Formula:**\n",
    "$$\n",
    "\\text{MSE} = \\frac{1}{n} \\sum_{i=1}^{n} (y_{\\text{true}_i} - y_{\\text{pred}_i})^2\n",
    "$$\n",
    "\n",
    "**Description:**\n",
    "- **Mean Squared Error (MSE)** is a widely used metric for evaluating the accuracy of regression models.\n",
    "- It measures the average squared difference between the predicted values ($y_{\\text{pred}}$) and the actual target values ($y_{\\text{true}}$).\n",
    "- The squared differences are averaged across all data points in the dataset.\n",
    "\n",
    "**Interpretation:**\n",
    "- A lower MSE indicates a better fit of the model to the data, as it means the model's predictions are closer to the actual values.\n",
    "- MSE is sensitive to outliers because the squared differences magnify the impact of large errors.\n",
    "\n",
    "### 2. Root Mean Squared Error (RMSE)\n",
    "\n",
    "**Formula:**\n",
    "$$\n",
    "\\text{RMSE} = \\sqrt{\\text{MSE}}\n",
    "$$\n",
    "\n",
    "**Description:**\n",
    "- **Root Mean Squared Error (RMSE)** is a variant of MSE that provides the square root of the average squared difference between predicted and actual values.\n",
    "- It is often preferred because it is in the same unit as the target variable, making it more interpretable.\n",
    "\n",
    "**Interpretation:**\n",
    "- Like MSE, a lower RMSE indicates a better fit of the model to the data.\n",
    "- RMSE is also sensitive to outliers due to the square root operation.\n",
    "\n",
    "### 3. R-squared ($R^2$)\n",
    "\n",
    "**Formula:**\n",
    "$$\n",
    "R^2 = 1 - \\frac{\\text{SSR}}{\\text{SST}}\n",
    "$$\n",
    "\n",
    "**Description:**\n",
    "- **R-squared ($R^2$)**, also known as the coefficient of determination, measures the proportion of the variance in the dependent variable ($y_{\\text{true}}$) that is predictable from the independent variable(s) ($y_{\\text{pred}}$) in a regression model.\n",
    "- It ranges from 0 to 1, where 0 indicates that the model does not explain any variance, and 1 indicates a perfect fit.\n",
    "\n",
    "**Interpretation:**\n",
    "- A higher $R^2$ value suggests that the model explains a larger proportion of the variance in the target variable.\n",
    "- However, $R^2$ does not provide information about the goodness of individual predictions or whether the model is overfitting or underfitting.\n"
   ]
  },
  {
   "cell_type": "code",
   "execution_count": null,
   "id": "b10757f9",
   "metadata": {},
   "outputs": [
    {
     "name": "stdout",
     "output_type": "stream",
     "text": [
      "Iteration 0: Cost = 3.132094\n",
      "Iteration 100: Cost = 0.382862\n",
      "Iteration 200: Cost = 0.053677\n",
      "Iteration 300: Cost = 0.011481\n",
      "Iteration 400: Cost = 0.005706\n",
      "Iteration 500: Cost = 0.004868\n",
      "Convergence reached at iteration 557\n"
     ]
    },
    {
     "data": {
      "application/vnd.plotly.v1+json": {
       "config": {
        "plotlyServerURL": "https://plot.ly"
       },
       "data": [
        {
         "hovertemplate": "x=%{x}<br>y=%{y}<extra></extra>",
         "legendgroup": "",
         "line": {
          "color": "#636efa",
          "dash": "solid"
         },
         "marker": {
          "symbol": "circle"
         },
         "mode": "lines",
         "name": "",
         "orientation": "v",
         "showlegend": false,
         "type": "scatter",
         "x": {
          "bdata": "AAABAAIAAwAEAAUABgAHAAgACQAKAAsADAANAA4ADwAQABEAEgATABQAFQAWABcAGAAZABoAGwAcAB0AHgAfACAAIQAiACMAJAAlACYAJwAoACkAKgArACwALQAuAC8AMAAxADIAMwA0ADUANgA3ADgAOQA6ADsAPAA9AD4APwBAAEEAQgBDAEQARQBGAEcASABJAEoASwBMAE0ATgBPAFAAUQBSAFMAVABVAFYAVwBYAFkAWgBbAFwAXQBeAF8AYABhAGIAYwBkAGUAZgBnAGgAaQBqAGsAbABtAG4AbwBwAHEAcgBzAHQAdQB2AHcAeAB5AHoAewB8AH0AfgB/AIAAgQCCAIMAhACFAIYAhwCIAIkAigCLAIwAjQCOAI8AkACRAJIAkwCUAJUAlgCXAJgAmQCaAJsAnACdAJ4AnwCgAKEAogCjAKQApQCmAKcAqACpAKoAqwCsAK0ArgCvALAAsQCyALMAtAC1ALYAtwC4ALkAugC7ALwAvQC+AL8AwADBAMIAwwDEAMUAxgDHAMgAyQDKAMsAzADNAM4AzwDQANEA0gDTANQA1QDWANcA2ADZANoA2wDcAN0A3gDfAOAA4QDiAOMA5ADlAOYA5wDoAOkA6gDrAOwA7QDuAO8A8ADxAPIA8wD0APUA9gD3APgA+QD6APsA/AD9AP4A/wAAAQEBAgEDAQQBBQEGAQcBCAEJAQoBCwEMAQ0BDgEPARABEQESARMBFAEVARYBFwEYARkBGgEbARwBHQEeAR8BIAEhASIBIwEkASUBJgEnASgBKQEqASsBLAEtAS4BLwEwATEBMgEzATQBNQE2ATcBOAE5AToBOwE8AT0BPgE/AUABQQFCAUMBRAFFAUYBRwFIAUkBSgFLAUwBTQFOAU8BUAFRAVIBUwFUAVUBVgFXAVgBWQFaAVsBXAFdAV4BXwFgAWEBYgFjAWQBZQFmAWcBaAFpAWoBawFsAW0BbgFvAXABcQFyAXMBdAF1AXYBdwF4AXkBegF7AXwBfQF+AX8BgAGBAYIBgwGEAYUBhgGHAYgBiQGKAYsBjAGNAY4BjwGQAZEBkgGTAZQBlQGWAZcBmAGZAZoBmwGcAZ0BngGfAaABoQGiAaMBpAGlAaYBpwGoAakBqgGrAawBrQGuAa8BsAGxAbIBswG0AbUBtgG3AbgBuQG6AbsBvAG9Ab4BvwHAAcEBwgHDAcQBxQHGAccByAHJAcoBywHMAc0BzgHPAdAB0QHSAdMB1AHVAdYB1wHYAdkB2gHbAdwB3QHeAd8B4AHhAeIB4wHkAeUB5gHnAegB6QHqAesB7AHtAe4B7wHwAfEB8gHzAfQB9QH2AfcB+AH5AfoB+wH8Af0B/gH/AQACAQICAgMCBAIFAgYCBwIIAgkCCgILAgwCDQIOAg8CEAIRAhICEwIUAhUCFgIXAhgCGQIaAhsCHAIdAh4CHwIgAiECIgIjAiQCJQImAicCKAIpAioCKwIsAi0C",
          "dtype": "i2"
         },
         "xaxis": "x",
         "y": {
          "bdata": "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",
          "dtype": "f8"
         },
         "yaxis": "y"
        }
       ],
       "layout": {
        "legend": {
         "tracegroupgap": 0
        },
        "template": {
         "data": {
          "bar": [
           {
            "error_x": {
             "color": "#f2f5fa"
            },
            "error_y": {
             "color": "#f2f5fa"
            },
            "marker": {
             "line": {
              "color": "rgb(17,17,17)",
              "width": 0.5
             },
             "pattern": {
              "fillmode": "overlay",
              "size": 10,
              "solidity": 0.2
             }
            },
            "type": "bar"
           }
          ],
          "barpolar": [
           {
            "marker": {
             "line": {
              "color": "rgb(17,17,17)",
              "width": 0.5
             },
             "pattern": {
              "fillmode": "overlay",
              "size": 10,
              "solidity": 0.2
             }
            },
            "type": "barpolar"
           }
          ],
          "carpet": [
           {
            "aaxis": {
             "endlinecolor": "#A2B1C6",
             "gridcolor": "#506784",
             "linecolor": "#506784",
             "minorgridcolor": "#506784",
             "startlinecolor": "#A2B1C6"
            },
            "baxis": {
             "endlinecolor": "#A2B1C6",
             "gridcolor": "#506784",
             "linecolor": "#506784",
             "minorgridcolor": "#506784",
             "startlinecolor": "#A2B1C6"
            },
            "type": "carpet"
           }
          ],
          "choropleth": [
           {
            "colorbar": {
             "outlinewidth": 0,
             "ticks": ""
            },
            "type": "choropleth"
           }
          ],
          "contour": [
           {
            "colorbar": {
             "outlinewidth": 0,
             "ticks": ""
            },
            "colorscale": [
             [
              0,
              "#0d0887"
             ],
             [
              0.1111111111111111,
              "#46039f"
             ],
             [
              0.2222222222222222,
              "#7201a8"
             ],
             [
              0.3333333333333333,
              "#9c179e"
             ],
             [
              0.4444444444444444,
              "#bd3786"
             ],
             [
              0.5555555555555556,
              "#d8576b"
             ],
             [
              0.6666666666666666,
              "#ed7953"
             ],
             [
              0.7777777777777778,
              "#fb9f3a"
             ],
             [
              0.8888888888888888,
              "#fdca26"
             ],
             [
              1,
              "#f0f921"
             ]
            ],
            "type": "contour"
           }
          ],
          "contourcarpet": [
           {
            "colorbar": {
             "outlinewidth": 0,
             "ticks": ""
            },
            "type": "contourcarpet"
           }
          ],
          "heatmap": [
           {
            "colorbar": {
             "outlinewidth": 0,
             "ticks": ""
            },
            "colorscale": [
             [
              0,
              "#0d0887"
             ],
             [
              0.1111111111111111,
              "#46039f"
             ],
             [
              0.2222222222222222,
              "#7201a8"
             ],
             [
              0.3333333333333333,
              "#9c179e"
             ],
             [
              0.4444444444444444,
              "#bd3786"
             ],
             [
              0.5555555555555556,
              "#d8576b"
             ],
             [
              0.6666666666666666,
              "#ed7953"
             ],
             [
              0.7777777777777778,
              "#fb9f3a"
             ],
             [
              0.8888888888888888,
              "#fdca26"
             ],
             [
              1,
              "#f0f921"
             ]
            ],
            "type": "heatmap"
           }
          ],
          "histogram": [
           {
            "marker": {
             "pattern": {
              "fillmode": "overlay",
              "size": 10,
              "solidity": 0.2
             }
            },
            "type": "histogram"
           }
          ],
          "histogram2d": [
           {
            "colorbar": {
             "outlinewidth": 0,
             "ticks": ""
            },
            "colorscale": [
             [
              0,
              "#0d0887"
             ],
             [
              0.1111111111111111,
              "#46039f"
             ],
             [
              0.2222222222222222,
              "#7201a8"
             ],
             [
              0.3333333333333333,
              "#9c179e"
             ],
             [
              0.4444444444444444,
              "#bd3786"
             ],
             [
              0.5555555555555556,
              "#d8576b"
             ],
             [
              0.6666666666666666,
              "#ed7953"
             ],
             [
              0.7777777777777778,
              "#fb9f3a"
             ],
             [
              0.8888888888888888,
              "#fdca26"
             ],
             [
              1,
              "#f0f921"
             ]
            ],
            "type": "histogram2d"
           }
          ],
          "histogram2dcontour": [
           {
            "colorbar": {
             "outlinewidth": 0,
             "ticks": ""
            },
            "colorscale": [
             [
              0,
              "#0d0887"
             ],
             [
              0.1111111111111111,
              "#46039f"
             ],
             [
              0.2222222222222222,
              "#7201a8"
             ],
             [
              0.3333333333333333,
              "#9c179e"
             ],
             [
              0.4444444444444444,
              "#bd3786"
             ],
             [
              0.5555555555555556,
              "#d8576b"
             ],
             [
              0.6666666666666666,
              "#ed7953"
             ],
             [
              0.7777777777777778,
              "#fb9f3a"
             ],
             [
              0.8888888888888888,
              "#fdca26"
             ],
             [
              1,
              "#f0f921"
             ]
            ],
            "type": "histogram2dcontour"
           }
          ],
          "mesh3d": [
           {
            "colorbar": {
             "outlinewidth": 0,
             "ticks": ""
            },
            "type": "mesh3d"
           }
          ],
          "parcoords": [
           {
            "line": {
             "colorbar": {
              "outlinewidth": 0,
              "ticks": ""
             }
            },
            "type": "parcoords"
           }
          ],
          "pie": [
           {
            "automargin": true,
            "type": "pie"
           }
          ],
          "scatter": [
           {
            "marker": {
             "line": {
              "color": "#283442"
             }
            },
            "type": "scatter"
           }
          ],
          "scatter3d": [
           {
            "line": {
             "colorbar": {
              "outlinewidth": 0,
              "ticks": ""
             }
            },
            "marker": {
             "colorbar": {
              "outlinewidth": 0,
              "ticks": ""
             }
            },
            "type": "scatter3d"
           }
          ],
          "scattercarpet": [
           {
            "marker": {
             "colorbar": {
              "outlinewidth": 0,
              "ticks": ""
             }
            },
            "type": "scattercarpet"
           }
          ],
          "scattergeo": [
           {
            "marker": {
             "colorbar": {
              "outlinewidth": 0,
              "ticks": ""
             }
            },
            "type": "scattergeo"
           }
          ],
          "scattergl": [
           {
            "marker": {
             "line": {
              "color": "#283442"
             }
            },
            "type": "scattergl"
           }
          ],
          "scattermap": [
           {
            "marker": {
             "colorbar": {
              "outlinewidth": 0,
              "ticks": ""
             }
            },
            "type": "scattermap"
           }
          ],
          "scattermapbox": [
           {
            "marker": {
             "colorbar": {
              "outlinewidth": 0,
              "ticks": ""
             }
            },
            "type": "scattermapbox"
           }
          ],
          "scatterpolar": [
           {
            "marker": {
             "colorbar": {
              "outlinewidth": 0,
              "ticks": ""
             }
            },
            "type": "scatterpolar"
           }
          ],
          "scatterpolargl": [
           {
            "marker": {
             "colorbar": {
              "outlinewidth": 0,
              "ticks": ""
             }
            },
            "type": "scatterpolargl"
           }
          ],
          "scatterternary": [
           {
            "marker": {
             "colorbar": {
              "outlinewidth": 0,
              "ticks": ""
             }
            },
            "type": "scatterternary"
           }
          ],
          "surface": [
           {
            "colorbar": {
             "outlinewidth": 0,
             "ticks": ""
            },
            "colorscale": [
             [
              0,
              "#0d0887"
             ],
             [
              0.1111111111111111,
              "#46039f"
             ],
             [
              0.2222222222222222,
              "#7201a8"
             ],
             [
              0.3333333333333333,
              "#9c179e"
             ],
             [
              0.4444444444444444,
              "#bd3786"
             ],
             [
              0.5555555555555556,
              "#d8576b"
             ],
             [
              0.6666666666666666,
              "#ed7953"
             ],
             [
              0.7777777777777778,
              "#fb9f3a"
             ],
             [
              0.8888888888888888,
              "#fdca26"
             ],
             [
              1,
              "#f0f921"
             ]
            ],
            "type": "surface"
           }
          ],
          "table": [
           {
            "cells": {
             "fill": {
              "color": "#506784"
             },
             "line": {
              "color": "rgb(17,17,17)"
             }
            },
            "header": {
             "fill": {
              "color": "#2a3f5f"
             },
             "line": {
              "color": "rgb(17,17,17)"
             }
            },
            "type": "table"
           }
          ]
         },
         "layout": {
          "annotationdefaults": {
           "arrowcolor": "#f2f5fa",
           "arrowhead": 0,
           "arrowwidth": 1
          },
          "autotypenumbers": "strict",
          "coloraxis": {
           "colorbar": {
            "outlinewidth": 0,
            "ticks": ""
           }
          },
          "colorscale": {
           "diverging": [
            [
             0,
             "#8e0152"
            ],
            [
             0.1,
             "#c51b7d"
            ],
            [
             0.2,
             "#de77ae"
            ],
            [
             0.3,
             "#f1b6da"
            ],
            [
             0.4,
             "#fde0ef"
            ],
            [
             0.5,
             "#f7f7f7"
            ],
            [
             0.6,
             "#e6f5d0"
            ],
            [
             0.7,
             "#b8e186"
            ],
            [
             0.8,
             "#7fbc41"
            ],
            [
             0.9,
             "#4d9221"
            ],
            [
             1,
             "#276419"
            ]
           ],
           "sequential": [
            [
             0,
             "#0d0887"
            ],
            [
             0.1111111111111111,
             "#46039f"
            ],
            [
             0.2222222222222222,
             "#7201a8"
            ],
            [
             0.3333333333333333,
             "#9c179e"
            ],
            [
             0.4444444444444444,
             "#bd3786"
            ],
            [
             0.5555555555555556,
             "#d8576b"
            ],
            [
             0.6666666666666666,
             "#ed7953"
            ],
            [
             0.7777777777777778,
             "#fb9f3a"
            ],
            [
             0.8888888888888888,
             "#fdca26"
            ],
            [
             1,
             "#f0f921"
            ]
           ],
           "sequentialminus": [
            [
             0,
             "#0d0887"
            ],
            [
             0.1111111111111111,
             "#46039f"
            ],
            [
             0.2222222222222222,
             "#7201a8"
            ],
            [
             0.3333333333333333,
             "#9c179e"
            ],
            [
             0.4444444444444444,
             "#bd3786"
            ],
            [
             0.5555555555555556,
             "#d8576b"
            ],
            [
             0.6666666666666666,
             "#ed7953"
            ],
            [
             0.7777777777777778,
             "#fb9f3a"
            ],
            [
             0.8888888888888888,
             "#fdca26"
            ],
            [
             1,
             "#f0f921"
            ]
           ]
          },
          "colorway": [
           "#636efa",
           "#EF553B",
           "#00cc96",
           "#ab63fa",
           "#FFA15A",
           "#19d3f3",
           "#FF6692",
           "#B6E880",
           "#FF97FF",
           "#FECB52"
          ],
          "font": {
           "color": "#f2f5fa"
          },
          "geo": {
           "bgcolor": "rgb(17,17,17)",
           "lakecolor": "rgb(17,17,17)",
           "landcolor": "rgb(17,17,17)",
           "showlakes": true,
           "showland": true,
           "subunitcolor": "#506784"
          },
          "hoverlabel": {
           "align": "left"
          },
          "hovermode": "closest",
          "mapbox": {
           "style": "dark"
          },
          "paper_bgcolor": "rgb(17,17,17)",
          "plot_bgcolor": "rgb(17,17,17)",
          "polar": {
           "angularaxis": {
            "gridcolor": "#506784",
            "linecolor": "#506784",
            "ticks": ""
           },
           "bgcolor": "rgb(17,17,17)",
           "radialaxis": {
            "gridcolor": "#506784",
            "linecolor": "#506784",
            "ticks": ""
           }
          },
          "scene": {
           "xaxis": {
            "backgroundcolor": "rgb(17,17,17)",
            "gridcolor": "#506784",
            "gridwidth": 2,
            "linecolor": "#506784",
            "showbackground": true,
            "ticks": "",
            "zerolinecolor": "#C8D4E3"
           },
           "yaxis": {
            "backgroundcolor": "rgb(17,17,17)",
            "gridcolor": "#506784",
            "gridwidth": 2,
            "linecolor": "#506784",
            "showbackground": true,
            "ticks": "",
            "zerolinecolor": "#C8D4E3"
           },
           "zaxis": {
            "backgroundcolor": "rgb(17,17,17)",
            "gridcolor": "#506784",
            "gridwidth": 2,
            "linecolor": "#506784",
            "showbackground": true,
            "ticks": "",
            "zerolinecolor": "#C8D4E3"
           }
          },
          "shapedefaults": {
           "line": {
            "color": "#f2f5fa"
           }
          },
          "sliderdefaults": {
           "bgcolor": "#C8D4E3",
           "bordercolor": "rgb(17,17,17)",
           "borderwidth": 1,
           "tickwidth": 0
          },
          "ternary": {
           "aaxis": {
            "gridcolor": "#506784",
            "linecolor": "#506784",
            "ticks": ""
           },
           "baxis": {
            "gridcolor": "#506784",
            "linecolor": "#506784",
            "ticks": ""
           },
           "bgcolor": "rgb(17,17,17)",
           "caxis": {
            "gridcolor": "#506784",
            "linecolor": "#506784",
            "ticks": ""
           }
          },
          "title": {
           "x": 0.05
          },
          "updatemenudefaults": {
           "bgcolor": "#506784",
           "borderwidth": 0
          },
          "xaxis": {
           "automargin": true,
           "gridcolor": "#283442",
           "linecolor": "#506784",
           "ticks": "",
           "title": {
            "standoff": 15
           },
           "zerolinecolor": "#283442",
           "zerolinewidth": 2
          },
          "yaxis": {
           "automargin": true,
           "gridcolor": "#283442",
           "linecolor": "#506784",
           "ticks": "",
           "title": {
            "standoff": 15
           },
           "zerolinecolor": "#283442",
           "zerolinewidth": 2
          }
         }
        },
        "title": {
         "font": {
          "color": "#41BEE9"
         },
         "text": "Cost vs Iteration"
        },
        "xaxis": {
         "anchor": "y",
         "color": "#41BEE9",
         "domain": [
          0,
          1
         ],
         "title": {
          "text": "Iterations"
         }
        },
        "yaxis": {
         "anchor": "x",
         "color": "#41BEE9",
         "domain": [
          0,
          1
         ],
         "title": {
          "text": "Cost"
         }
        }
       }
      }
     },
     "metadata": {},
     "output_type": "display_data"
    },
    {
     "data": {
      "text/html": [
       "<div>\n",
       "<style scoped>\n",
       "    .dataframe tbody tr th:only-of-type {\n",
       "        vertical-align: middle;\n",
       "    }\n",
       "\n",
       "    .dataframe tbody tr th {\n",
       "        vertical-align: top;\n",
       "    }\n",
       "\n",
       "    .dataframe thead th {\n",
       "        text-align: right;\n",
       "    }\n",
       "</style>\n",
       "<table border=\"1\" class=\"dataframe\">\n",
       "  <thead>\n",
       "    <tr style=\"text-align: right;\">\n",
       "      <th></th>\n",
       "      <th>model</th>\n",
       "      <th>MSE</th>\n",
       "      <th>RMSE</th>\n",
       "      <th>R2</th>\n",
       "      <th>MAE</th>\n",
       "    </tr>\n",
       "  </thead>\n",
       "  <tbody>\n",
       "    <tr>\n",
       "      <th>0</th>\n",
       "      <td>custom</td>\n",
       "      <td>0.009258</td>\n",
       "      <td>0.096218</td>\n",
       "      <td>0.998225</td>\n",
       "      <td>NaN</td>\n",
       "    </tr>\n",
       "    <tr>\n",
       "      <th>1</th>\n",
       "      <td>sklearn</td>\n",
       "      <td>0.009170</td>\n",
       "      <td>NaN</td>\n",
       "      <td>0.998242</td>\n",
       "      <td>0.076517</td>\n",
       "    </tr>\n",
       "  </tbody>\n",
       "</table>\n",
       "</div>"
      ],
      "text/plain": [
       "     model       MSE      RMSE        R2       MAE\n",
       "0   custom  0.009258  0.096218  0.998225       NaN\n",
       "1  sklearn  0.009170       NaN  0.998242  0.076517"
      ]
     },
     "execution_count": 14,
     "metadata": {},
     "output_type": "execute_result"
    }
   ],
   "source": [
    "from mlfs.metrics import mse as custom_mse, rmse as custom_rmse, r2_score as custom_r2\n",
    "from sklearn.metrics import mean_squared_error, mean_absolute_error, r2_score as sklearn_r2\n",
    "from mlfs.preprocessing import train_test_split, standardize\n",
    "\n",
    "\n",
    "X, y = generate_data(1000)\n",
    "X_train, X_test, y_train, y_test = train_test_split(X,y)\n",
    "\n",
    "custom_model = CustomLinearRegression()\n",
    "custom_model.fit(X_train, y_train)\n",
    "sk_model = SklearnLinearRegression()\n",
    "sk_model = sk_model.fit(X_train, y_train)\n",
    "\n",
    "y_pred_custom = custom_model.predict(X_test)\n",
    "y_pred_sk     = sk_model.predict(X_test)\n",
    "\n",
    "custom_metrics = {\n",
    "    'MSE': custom_mse,\n",
    "    'RMSE': custom_rmse,\n",
    "    'R2': custom_r2,\n",
    "}\n",
    "\n",
    "sklearn_metrics = {\n",
    "    'MSE': mean_squared_error,\n",
    "    'RMSE': lambda y_true, y_pred: mean_squared_error(y_true, y_pred, squared=False),\n",
    "    'R2': sklearn_r2,\n",
    "}\n",
    "\n",
    "results = []\n",
    "for name, y_pred, metrics_dict in [\n",
    "    ('custom', y_pred_custom, custom_metrics),\n",
    "    ('sklearn', y_pred_sk, sklearn_metrics)\n",
    "]:\n",
    "    row = {'model': name}\n",
    "    for m_name, m_func in metrics_dict.items():\n",
    "        row[m_name] = m_func(y_test, y_pred)\n",
    "    results.append(row)\n",
    "\n",
    "df_results = pd.DataFrame(results)\n",
    "df_results"
   ]
  }
 ],
 "metadata": {
  "kernelspec": {
   "display_name": "Python (.venv mlfs)",
   "language": "python",
   "name": "mlfs_venv"
  },
  "language_info": {
   "codemirror_mode": {
    "name": "ipython",
    "version": 3
   },
   "file_extension": ".py",
   "mimetype": "text/x-python",
   "name": "python",
   "nbconvert_exporter": "python",
   "pygments_lexer": "ipython3",
   "version": "3.13.1"
  }
 },
 "nbformat": 4,
 "nbformat_minor": 5
}
