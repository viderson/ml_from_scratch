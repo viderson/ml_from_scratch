{
 "cells": [
  {
   "cell_type": "markdown",
   "id": "dfd6ebc5",
   "metadata": {},
   "source": [
    "# Linear Regression Overview\n",
    "\n",
    "Linear regression is a basic supervised learning technique for estimating a continuous target variable from one or more input features. Its hypothesis function is\n",
    "\n",
    "$$\n",
    "h_{w,b}(x) = w\\,x + b\n",
    "$$\n",
    "\n",
    "where  \n",
    "- \\(h_{w,b}(x)\\) is the predicted value for input \\(x\\),  \n",
    "- \\(w\\) is the weight (slope),  \n",
    "- \\(b\\) is the bias (intercept).\n",
    "\n",
    "## Training Objective\n",
    "\n",
    "We want to find \\((w, b)\\) that minimize the discrepancy between predictions and true labels.\n",
    "\n",
    "### Prediction\n",
    "\n",
    "For each example \\(x^{(i)}\\), the model predicts\n",
    "\n",
    "$$\n",
    "\\hat y^{(i)} = h_{w,b}\\bigl(x^{(i)}\\bigr) = w\\,x^{(i)} + b.\n",
    "$$\n",
    "\n",
    "### Loss Function\n",
    "\n",
    "We measure error using the Mean Squared Error:\n",
    "\n",
    "$$\n",
    "L(w,b) = \\frac{1}{2m} \\sum_{i=1}^{m} \\bigl(\\hat y^{(i)} - y^{(i)}\\bigr)^{2}\n",
    "$$\n",
    "\n",
    "where  \n",
    "- \\(m\\) is the number of training examples,  \n",
    "- \\(y^{(i)}\\) is the true target for the \\(i\\)-th sample.\n",
    "\n",
    "### Gradient Computation\n",
    "\n",
    "Compute partial derivatives of \\(L\\) with respect to each parameter:\n",
    "\n",
    "$$\n",
    "\\frac{\\partial L}{\\partial w}\n",
    "= \\frac{1}{m}\\sum_{i=1}^{m} \\bigl(\\hat y^{(i)} - y^{(i)}\\bigr)\\,x^{(i)},\n",
    "$$\n",
    "\n",
    "$$\n",
    "\\frac{\\partial L}{\\partial b}\n",
    "= \\frac{1}{m}\\sum_{i=1}^{m} \\bigl(\\hat y^{(i)} - y^{(i)}\\bigr).\n",
    "$$\n",
    "\n",
    "## Parameter Updates (Gradient Descent)\n",
    "\n",
    "Update rules using learning rate \\(\\eta\\):\n",
    "\n",
    "$$\n",
    "w \\;\\leftarrow\\; w - \\eta \\,\\frac{\\partial L}{\\partial w},\n",
    "\\qquad\n",
    "b \\;\\leftarrow\\; b - \\eta \\,\\frac{\\partial L}{\\partial b}.\n",
    "$$\n",
    "\n",
    "By repeating prediction → loss → gradients → update, the model parameters converge to the best fit.\n"
   ]
  },
  {
   "cell_type": "code",
   "execution_count": 3,
   "id": "927c043f",
   "metadata": {},
   "outputs": [],
   "source": [
    "import time\n",
    "import numpy as np\n",
    "import pandas as pd\n",
    "import matplotlib.pyplot as plt\n",
    "from mlfs.linear_regression import LinearRegression as CustomLinearRegression\n",
    "from sklearn.linear_model import LinearRegression as SklearnLinearRegression"
   ]
  },
  {
   "cell_type": "code",
   "execution_count": 4,
   "id": "681aec19",
   "metadata": {},
   "outputs": [],
   "source": [
    "def generate_data(n_samples, n_features=10, noise=0.1, random_state=42):\n",
    "    rng = np.random.RandomState(random_state)\n",
    "    X = rng.randn(n_samples, n_features)\n",
    "    true_coef = rng.randn(n_features)\n",
    "    y = X.dot(true_coef) + noise * rng.randn(n_samples)\n",
    "    return X, y"
   ]
  },
  {
   "cell_type": "code",
   "execution_count": 16,
   "id": "1f8bdefa",
   "metadata": {},
   "outputs": [],
   "source": [
    "def benchmark(n_samples_list, n_features=10, n_repeats=3):\n",
    "    results = []\n",
    "    for n in n_samples_list:\n",
    "        X, y = generate_data(n, n_features)\n",
    "        custom_times = {'fit': [], 'predict': []}\n",
    "        for _ in range(n_repeats):\n",
    "            model = CustomLinearRegression()\n",
    "            t0 = time.perf_counter()\n",
    "            model.fit(X, y, verbose = False)\n",
    "            t1 = time.perf_counter()\n",
    "            model.predict(X[:10])\n",
    "            t2 = time.perf_counter()\n",
    "            custom_times['fit'].append(t1 - t0)\n",
    "            custom_times['predict'].append(t2 - t1)\n",
    "        sklearn_times = {'fit': [], 'predict': []}\n",
    "        for _ in range(n_repeats):\n",
    "            model = SklearnLinearRegression()\n",
    "            t0 = time.perf_counter()\n",
    "            model.fit(X, y)\n",
    "            t1 = time.perf_counter()\n",
    "            model.predict(X[:10])\n",
    "            t2 = time.perf_counter()\n",
    "            sklearn_times['fit'].append(t1 - t0)\n",
    "            sklearn_times['predict'].append(t2 - t1)\n",
    "        results.append({\n",
    "            'n_samples': n,\n",
    "            'custom_fit': np.mean(custom_times['fit']),\n",
    "            'custom_predict': np.mean(custom_times['predict']),\n",
    "            'sklearn_fit': np.mean(sklearn_times['fit']),\n",
    "            'sklearn_predict': np.mean(sklearn_times['predict']),\n",
    "        })\n",
    "    return pd.DataFrame(results)\n"
   ]
  },
  {
   "cell_type": "code",
   "execution_count": 17,
   "id": "0cc5ce35",
   "metadata": {},
   "outputs": [
    {
     "data": {
      "text/html": [
       "<div>\n",
       "<style scoped>\n",
       "    .dataframe tbody tr th:only-of-type {\n",
       "        vertical-align: middle;\n",
       "    }\n",
       "\n",
       "    .dataframe tbody tr th {\n",
       "        vertical-align: top;\n",
       "    }\n",
       "\n",
       "    .dataframe thead th {\n",
       "        text-align: right;\n",
       "    }\n",
       "</style>\n",
       "<table border=\"1\" class=\"dataframe\">\n",
       "  <thead>\n",
       "    <tr style=\"text-align: right;\">\n",
       "      <th></th>\n",
       "      <th>n_samples</th>\n",
       "      <th>custom_fit</th>\n",
       "      <th>custom_predict</th>\n",
       "      <th>sklearn_fit</th>\n",
       "      <th>sklearn_predict</th>\n",
       "    </tr>\n",
       "  </thead>\n",
       "  <tbody>\n",
       "    <tr>\n",
       "      <th>0</th>\n",
       "      <td>100</td>\n",
       "      <td>0.026303</td>\n",
       "      <td>0.000012</td>\n",
       "      <td>0.000686</td>\n",
       "      <td>0.000094</td>\n",
       "    </tr>\n",
       "    <tr>\n",
       "      <th>1</th>\n",
       "      <td>1000</td>\n",
       "      <td>0.021880</td>\n",
       "      <td>0.000009</td>\n",
       "      <td>0.001022</td>\n",
       "      <td>0.000099</td>\n",
       "    </tr>\n",
       "    <tr>\n",
       "      <th>2</th>\n",
       "      <td>5000</td>\n",
       "      <td>0.065394</td>\n",
       "      <td>0.000010</td>\n",
       "      <td>0.002500</td>\n",
       "      <td>0.000209</td>\n",
       "    </tr>\n",
       "    <tr>\n",
       "      <th>3</th>\n",
       "      <td>10000</td>\n",
       "      <td>0.102330</td>\n",
       "      <td>0.000013</td>\n",
       "      <td>0.002488</td>\n",
       "      <td>0.000146</td>\n",
       "    </tr>\n",
       "    <tr>\n",
       "      <th>4</th>\n",
       "      <td>20000</td>\n",
       "      <td>0.202375</td>\n",
       "      <td>0.000012</td>\n",
       "      <td>0.005042</td>\n",
       "      <td>0.000225</td>\n",
       "    </tr>\n",
       "  </tbody>\n",
       "</table>\n",
       "</div>"
      ],
      "text/plain": [
       "   n_samples  custom_fit  custom_predict  sklearn_fit  sklearn_predict\n",
       "0        100    0.026303        0.000012     0.000686         0.000094\n",
       "1       1000    0.021880        0.000009     0.001022         0.000099\n",
       "2       5000    0.065394        0.000010     0.002500         0.000209\n",
       "3      10000    0.102330        0.000013     0.002488         0.000146\n",
       "4      20000    0.202375        0.000012     0.005042         0.000225"
      ]
     },
     "execution_count": 17,
     "metadata": {},
     "output_type": "execute_result"
    }
   ],
   "source": [
    "n_samples_list = [100, 1_000, 5_000, 10_000, 20_000]\n",
    "df = benchmark(n_samples_list)\n",
    "df\n"
   ]
  },
  {
   "cell_type": "code",
   "execution_count": 24,
   "id": "2cbd3528",
   "metadata": {},
   "outputs": [
    {
     "data": {
      "image/png": "[encoded data removed]",
      "text/plain": [
       "<Figure size 800x500 with 1 Axes>"
      ]
     },
     "metadata": {},
     "output_type": "display_data"
    }
   ],
   "source": [
    "plt.figure(figsize=(8,5))\n",
    "plt.loglog(df['n_samples'], df['custom_fit'], marker='o', label='custom fit')\n",
    "plt.loglog(df['n_samples'], df['sklearn_fit'], marker='o', label='sklearn fit')\n",
    "plt.loglog(df['n_samples'], df['custom_predict'], marker='x', linestyle='--', label='custom predict')\n",
    "plt.loglog(df['n_samples'], df['sklearn_predict'], marker='x', linestyle='--', label='sklearn predict')\n",
    "plt.xlabel('n_samples (log)')\n",
    "plt.ylabel('Time [s] (log)')\n",
    "plt.title('Benchmark training and prediction time')\n",
    "plt.legend()\n",
    "plt.grid(True, which=\"both\", ls=\":\")\n",
    "plt.show()\n"
   ]
  },
  {
   "cell_type": "markdown",
   "id": "a69a6ddf",
   "metadata": {},
   "source": [
    "### Key Takeaways\n",
    "\n",
    "- **Training Time**  \n",
    "  - Both implementations scale roughly linearly in _n_ (O(n)), but scikit-learn is ~30–40× faster thanks to optimized C/BLAS routines.  \n",
    "- **Prediction Time**  \n",
    "  - Custom `predict` is ~5–10× faster for a fixed test set, since it uses a single NumPy matrix multiply without extra overhead.  "
   ]
  },
  {
   "cell_type": "markdown",
   "id": "8e962075",
   "metadata": {},
   "source": [
    "### 1. Mean Squared Error (MSE)\n",
    "\n",
    "**Formula:**  \n",
    "$$\n",
    "\\mathrm{MSE} = \\frac{1}{n} \\sum_{i=1}^{n} \\bigl(y_i - \\hat y_i\\bigr)^{2}\n",
    "$$\n",
    "\n",
    "**What it measures:**  \n",
    "- The average of the squared differences between true values \\(y_i\\) and predictions \\(\\hat y_i\\).  \n",
    "- Emphasizes larger errors due to the squaring operation.\n",
    "\n",
    "**Key points:**  \n",
    "- Lower MSE implies predictions are, on average, closer to actual targets.  \n",
    "- Particularly sensitive to outliers, since large residuals contribute quadratically.  \n",
    "\n",
    "---\n",
    "\n",
    "### 2. Root Mean Squared Error (RMSE)\n",
    "\n",
    "**Formula:**  \n",
    "$$\n",
    "\\mathrm{RMSE} = \\sqrt{\\mathrm{MSE}}\n",
    "$$\n",
    "\n",
    "**What it measures:**  \n",
    "- The square root of the average squared error—restores original units of the target.  \n",
    "\n",
    "**Key points:**  \n",
    "- Easier to interpret than MSE because it’s in the same scale as \\(y\\).  \n",
    "- Still amplifies the impact of large deviations.  \n",
    "\n",
    "---\n",
    "\n",
    "### 3. Coefficient of Determination (R²)\n",
    "\n",
    "**Formula:**  \n",
    "$$\n",
    "R^2 = 1 - \\frac{\\sum_{i=1}^{n}(y_i - \\hat y_i)^{2}}{\\sum_{i=1}^{n}(y_i - \\bar y)^{2}}\n",
    "$$\n",
    "\n",
    "where \\(\\bar y\\) is the mean of the true values.\n",
    "\n",
    "**What it measures:**  \n",
    "- The fraction of variance in the target that the model accounts for.  \n",
    "\n",
    "**Key points:**  \n",
    "- Values range from \\(-\\infty\\) (poor) up to 1 (perfect fit).  \n",
    "- A higher \\(R^2\\) suggests stronger explanatory power, but it doesn’t guarantee that individual predictions are accurate or that the model generalizes well.  \n"
   ]
  },
  {
   "cell_type": "code",
   "execution_count": null,
   "id": "b10757f9",
   "metadata": {},
   "outputs": [
    {
     "name": "stdout",
     "output_type": "stream",
     "text": [
      "Iteration 0: Cost = 9.561993\n",
      "Iteration 100: Cost = 1.279344\n",
      "Iteration 200: Cost = 0.174941\n",
      "Iteration 300: Cost = 0.027670\n",
      "Iteration 400: Cost = 0.008030\n",
      "Iteration 500: Cost = 0.005411\n",
      "Iteration 600: Cost = 0.005062\n",
      "Convergence reached at iteration 605\n"
     ]
    },
    {
     "data": {
      "application/vnd.plotly.v1+json": {
       "config": {
        "plotlyServerURL": "https://plot.ly"
       },
       "data": [
        {
         "hovertemplate": "x=%{x}<br>y=%{y}<extra></extra>",
         "legendgroup": "",
         "line": {
          "color": "#636efa",
          "dash": "solid"
         },
         "marker": {
          "symbol": "circle"
         },
         "mode": "lines",
         "name": "",
         "orientation": "v",
         "showlegend": false,
         "type": "scatter",
         "x": {
          "bdata": "AAABAAIAAwAEAAUABgAHAAgACQAKAAsADAANAA4ADwAQABEAEgATABQAFQAWABcAGAAZABoAGwAcAB0AHgAfACAAIQAiACMAJAAlACYAJwAoACkAKgArACwALQAuAC8AMAAxADIAMwA0ADUANgA3ADgAOQA6ADsAPAA9AD4APwBAAEEAQgBDAEQARQBGAEcASABJAEoASwBMAE0ATgBPAFAAUQBSAFMAVABVAFYAVwBYAFkAWgBbAFwAXQBeAF8AYABhAGIAYwBkAGUAZgBnAGgAaQBqAGsAbABtAG4AbwBwAHEAcgBzAHQAdQB2AHcAeAB5AHoAewB8AH0AfgB/AIAAgQCCAIMAhACFAIYAhwCIAIkAigCLAIwAjQCOAI8AkACRAJIAkwCUAJUAlgCXAJgAmQCaAJsAnACdAJ4AnwCgAKEAogCjAKQApQCmAKcAqACpAKoAqwCsAK0ArgCvALAAsQCyALMAtAC1ALYAtwC4ALkAugC7ALwAvQC+AL8AwADBAMIAwwDEAMUAxgDHAMgAyQDKAMsAzADNAM4AzwDQANEA0gDTANQA1QDWANcA2ADZANoA2wDcAN0A3gDfAOAA4QDiAOMA5ADlAOYA5wDoAOkA6gDrAOwA7QDuAO8A8ADxAPIA8wD0APUA9gD3APgA+QD6APsA/AD9AP4A/wAAAQEBAgEDAQQBBQEGAQcBCAEJAQoBCwEMAQ0BDgEPARABEQESARMBFAEVARYBFwEYARkBGgEbARwBHQEeAR8BIAEhASIBIwEkASUBJgEnASgBKQEqASsBLAEtAS4BLwEwATEBMgEzATQBNQE2ATcBOAE5AToBOwE8AT0BPgE/AUABQQFCAUMBRAFFAUYBRwFIAUkBSgFLAUwBTQFOAU8BUAFRAVIBUwFUAVUBVgFXAVgBWQFaAVsBXAFdAV4BXwFgAWEBYgFjAWQBZQFmAWcBaAFpAWoBawFsAW0BbgFvAXABcQFyAXMBdAF1AXYBdwF4AXkBegF7AXwBfQF+AX8BgAGBAYIBgwGEAYUBhgGHAYgBiQGKAYsBjAGNAY4BjwGQAZEBkgGTAZQBlQGWAZcBmAGZAZoBmwGcAZ0BngGfAaABoQGiAaMBpAGlAaYBpwGoAakBqgGrAawBrQGuAa8BsAGxAbIBswG0AbUBtgG3AbgBuQG6AbsBvAG9Ab4BvwHAAcEBwgHDAcQBxQHGAccByAHJAcoBywHMAc0BzgHPAdAB0QHSAdMB1AHVAdYB1wHYAdkB2gHbAdwB3QHeAd8B4AHhAeIB4wHkAeUB5gHnAegB6QHqAesB7AHtAe4B7wHwAfEB8gHzAfQB9QH2AfcB+AH5AfoB+wH8Af0B/gH/AQACAQICAgMCBAIFAgYCBwIIAgkCCgILAgwCDQIOAg8CEAIRAhICEwIUAhUCFgIXAhgCGQIaAhsCHAIdAh4CHwIgAiECIgIjAiQCJQImAicCKAIpAioCKwIsAi0CLgIvAjACMQIyAjMCNAI1AjYCNwI4AjkCOgI7AjwCPQI+Aj8CQAJBAkICQwJEAkUCRgJHAkgCSQJKAksCTAJNAk4CTwJQAlECUgJTAlQCVQJWAlcCWAJZAloCWwJcAl0C",
          "dtype": "i2"
         },
         "xaxis": "x",
         "y": {
          "bdata": "+O6Lkr0fI0Dbv5+tIr4iQPrp0jV6XiJAGBDcOboAIkBt7Df72KQhQNYFJu3MSiFAJJGqs4zyIEBDZJUiD5wgQC/hjTxLRyBA4n5HZHDoH0CFNsnBmkUfQM5j7KQEph5A9GZqd50JHkBCJbH3VHAdQKd2Mjcb2hxAWTS8mOBGHEBxvNjOlbYbQHK/N9orKRtAQy0fCJSeGkArGOTwvxYaQDxla3ahkRlAMiKywioPGUDVWV1GTo8YQIpAUbf+ERhAj5NPDy+XF0AzBp2K0h4XQOeYrabcqBZA7LbXIEE1FkAG+A3188MVQDRkn1zpVBVAUxj+zBXoFED4Koz2bX0UQKOxbsPmFBRACcdmVnWuE0C4c7AJD0oTQCJb522p5xJAfA/xSDqHEkCz7+yUtygSQBNzKX8XzBFA+sYeZ1BxEUBio27dWBgRQJ876aInwRBAQjGXp7NrEECBb8gJ9BcQQDesTyrAiw9AWDang97qDkCLl/RmMk0OQKWn+HCrsg1ANewjkjkbDUBKO+sMzYYMQNTkJHRW9QtA7TZuqcZmC0BaMpnbDtsKQIhFIoUgUgpA/eStau3LCUAX2Y2ZZ0gJQLQZTmaBxwhAPBFJay1JCEAqIUOHXs0HQBpDDdwHVAdACqIuzRzdBkAWCJX+kGgGQAH+S1NY9gVALno67GaGBUCl/eYmsRgFQEL+QZwrrQRA0n12H8tDBEC8rsC8hNwDQCaHSrhNdwNAViQOjRsUA0Cr4L3r47ICQAb/sbmcUwJALM/bDzz2AUAfL745uJoBQBxOa7QHQQFAVpaHLSHpAEAqo1GC+5IAQAEqr76NPgBALnl9OJ7X/z/Xl9wCbjX/PxWnLAF6lv4/5CozrrH6/T99nhLZBGL9P3mjm6NjzPw/F8mmgL45/D+vv3YyBqr7P1HNIskrHfs/YVkJoSCT+j/uZUph1gv6P0nOSfo+h/k/DSM5pEwF+T/f/Kjd8YX4P7SfIWohCfg/NsnCUM6O9z/Ghera6xb3PyXo4pJtofY/soCWQkcu9j+fcUvybL31P4X+ZOfSTvU/HXYro23i9D+8VZrhMXj0P8GGNJgUEPQ/z5be9Aqq8z9KzL5cCkbzPyj5ImsI5PI/wO5r8PqD8j/bdf7w1yXyP+CuOaSVyfE/a75ycypv8T9Yq/X4jBbxP61TC/+zv/A/b14Ef5Zq8D/lEEmgKxfwP5Lc227Viu8/AROaipbq7j+44UfsiU3uP6c4bEGfs+0/mI7nisYc7T9zPkob8IjsPzZiM5UM+Os/GgC46Qxq6z96X9JW4t7qP8tb2WV+Vuo/54z/6dLQ6T+cHNr+0U3pPz4i7wZuzeg/8V1LqplP6D/wLR/VR9TnP9qYYrZrW+c/AEmAvvjk5j8dVQee4nDmP9yzY0Qd/+U/8Ted3pyP5T+h8xzWVSLlP97ieM88t+Q/77tFqUZO5D9Ox+56aOfjP9Ofk5OXguM/Lb3reMkf4z/oqi/m877iPy3PB8sMYOI/wKSASgoD4j9fTAS64qfhP2daWaCMTuE/v8WmtP724D8Y3nzdL6HgP6Yv4y8XTeA/fXbW3Ff13z9v1I8Qy1PfP3NL0zB3td4/BfQ9yUsa3j9wXHO5OILdP110cDMu7dw/ZQfnuRxb3D8wm6Ee9cvbPx6G74CoP9s/rRQZTCi22j88lNs1Zi/aPwMb7TxUq9k/v+WHp+Qp2T8qJP0BCqvYP30OTx23Ltg/pR7SDd+01z/BSNUpdT3XPzcPUQhtyNY/Q0+df7pV1j/Joy2kUeXVP7g8VMcmd9U/BgoLdi4L1T/xGcN3XaHUP/gKOs2oOdQ/XnJVrwXU0z/dGASOaXDTP9PvJA/KDtM/f6FzDR2v0j/Qn3qXWFHSP8yViu5y9dE/0R+3hWKb0T/sr9gAHkPRP+CDkzOc7NA/0pJjINSX0D92Wa33vETQPyTXpi2c5s8/smWhDv5Gzz+0ha77jqrOP+9V57I+Ec4/Pl5pRf16zT8+oq4Vu+fMP4Uo7tVoV8w/ncuEhvfJyz9VKmZ0WD/LP9ONlTd9t8o/6JymsVcyyj/MtEUM2q/JP+u/x7f2L8k/FmXBaaCyyD/paKUbyjfIPy8daglnv8c/5rk1sGpJxz/mfBHNyNXGPyJto1t1ZMY/FaDulGT1xT/T3xnuiojFPy2RPBfdHcU/Nrox+k+1xD+QCXG52E7EPy7A7a5s6sM/JF/7agGIwz9r/DezjCfDP3shfIEEycI/nhfQAl9swj8bhmaWkhHCPyJHnMyVuME/B1n9ZV9hwT9B0U5S5gvBPyO4na8huMA/xbNSyQhmwD/3aUoXkxXAP28B5Xlwjb8/T0zWEODyvj9vEFrjZFu+P/tLZzPvxr0/HMhXk281vT92nE3k1qa8Py7joFQWG7w/u3JVXh+Suz+WdZjF4wu7P962RZdViLo/vnx0J2cHuj9UygsQC4m5P/DiXS80Dbk/pOnKptWTuD8JeWrZ4hy4P40PvGpPqLc/QC1ePQ82tz83AcxxFsa2P8OEIWVZWLY/5+Plr8zstT9+EtwkZYO1PzBv2c8XHLU/YFSi9Nm2tD/AecwNoVO0PzIIp8ti8rM/EkMoExWTsz94quD8rTWzP35689Mj2rI/82sUFW2Asj/im4ptgCiyP5B/OLpU0rE/DsuoBuF9sT8lMSCMHCuxPwXks7D+2bA/Ir5kBn+KsD/L+z5KlTywP8Db/MZy4K8/7h1uxcZKrz9myQMCF7iuP8MtXD5UKK4/1k7siW+brT9Ta3JAWhGtP0hxcAgGiqw/mTeu0WQFrD8gVcPTaIOrP2NuqIwEBKs/BtRPvyqHqj/xS0VyzgyqP3ThVO7ilKk//pc4vVsfqT833UyoLKyoPzmYS7dJO6g/UbQNL6fMpz9tBVOQOWCnP9dmkJb19aY/j/PDNtCNpj+fOU+eviemP5BJ1zG2w6U/UYQqjKxhpT8dCix9lwGlP66txAhto6Q/ZU/ZZSNHpD8YhUb9sOyjP1dz4WgMlKM/Vr19ciw9oz8VcvgSCOiiP8LcR3GWlKI/wB+Q4c5Coj+NgTzkqPKhP/VTHSUcpKE/Xl2KeiBXoT8hronkrQuhP3XK+ou8waA/VxPGwUR5oD+KWBD+PjKgPwD95L5H2Z8/wEZqVNhQnz9YXSCPIcuePyxv3IkVSJ4/uFxnpqbHnT9RaxOMx0mdP4ExWSZrzpw/0Zh7o4RVnD+k0DJzB9+bP1oOXkXnaps/XPi7CBj5mj8hmqnpjYmaPzm/51A9HJo/aZVm4hqxmT/2dBd8G0iZP9CwxDQ04Zg/g07vWlp8mD/OiLJzgxmYP+j+rDmluJc/n3Pvm7VZlz9l//C8qvyWP1maiPF6oZY/IeLrvxxIlj+2AbPehvCVP+if4TOwmpU/Crz0049GlT/LXvUAHfSUP9AGkClPo5Q/Bbkw6B1UlD/fnCMCgQaUP1INumZwupM/hAd0LuRvkz9z4S2a1CaTP2QyUhI635I/YtcPJg2Zkj9z/5OKRlSSP40qSBrfEJI/DgcU1M/OkT86GqPaEY6RPzkgrnOeTpE/mxBIB28QkT/HtC4ffdOQPzi+HmbCl5A/jUorpzhdkD/DwxjN2SOQP+EXdsM/148/4cWtGgppjz/G7AwsB/2OP/wVQr4rk44/AGBL0Wwrjj8E2lGdv8WNP2W1ipEZYo0/TDAeU3AAjT8rGxS8uaCMP0HdRdrrQow/VdtV7vzmiz+/Jaxq44yLP+tSePKVNIs/FGu4WAveij8czESfOomKPxjs4PUaNoo//OBQuaPkiT9AlnNyzJSJPyuXYdWMRok/pVeQwNz5iD+94/k7tK6IPyrgSHgLZYg/lsQIztociD/FO9q8GtaHP6aSq+rDkIc/MSP1Is9Mhz9WpflVNQqHPypTCpjvyIY/5svOIPeIhj+fo5BKRUqGP7yLipHTDIY/5gI7k5vQhT+veboNl5WFP6/aFN+/W4U/t2SmBBAjhT+5xXuageuEP8BmtdoOtYQ/d9ftHLJ/hD+LSqPVZUuEP+QRpJUkGIQ/yQx+Cenlgz+69/D4rbSDPy+QY0ZuhIM/DX1b7iRVgz9T7vcGzSaDP3Hlbr9h+YI/oRmNX97Mgj/9aThHPqGCP8LQ9O18doI/Astr4pVMgj8rKPbJhCOCP7w0KGBF+4E/8DRgdtPTgT+qIlfzKq2BP5+js9JHh4E/ViyfJCZigT/QRF0Nwj2BP+Lj5MQXGoE/wdZ7liP3gD9AKlTg4dSAP02LKxNPs4A/CJXssWeSgD9FAlJRKHKAP/S4i5eNUoA/76XlO5QzgD8IYHAGORWAP3QSV5/x7n8/wMljAKG0fz8dNc4gent/P3U5ThB3Q38/Plbu/JEMfz+E0HAyxdZ+P8j0txkLon4/yV8xOF5ufj9/PkQvuTt+P0R2wrsWCn4/q6ZctXHZfT/+9RgOxal9PyeazNELe30/XhCYJUFNfT/v9WVHYCB9Px10bI1k9Hw/ZDKxZUnJfD+3wo9VCp98P9N5QvmidXw/S6htAw9NfD/yJ608SiV8P5IxJINQ/ns/dG8Pyh3Yez8GQVkZrrJ7P9MkMI39jXs/hj2fVQhqez9Y5yi2ykZ7P0lTYwVBJHs/+h2XrGcCez/b118nO+F6P610TgO4wHo/GJmN39qgej9IvIdsoIF6P10Uj2sFY3o/t0SHrgZFej/1xJAXoSd6P9z3tZjRCno/4+mZM5XueT8trij56NJ5P3VSSQnKt3k/nmGRkjWdeT9x7PnRKIN5P2MRlhKhaXk/tvtKrZtQeT+qUYkIFjh5P6kLCJgNIHk/G6yA3H8IeT+Y0WxjavF4P1scxcbK2ng/sV/BrJ7EeD/1GZrH4654PxIrS9WXmXg/V8RXn7iEeD8ci4/6Q3B4P7Hn1MY3XHg//3rk7pFIeD/etB1oUDV4P06FTDJxIng/MyN0V/IPeD994prr0f13P/UUlwwO7Hc/8O/c4aTadz/ccU2clMl3P5FCBnbbuHc/OYkysneodz9Is9ycZ5h3P1AnwYqpiHc/B98h2Tt5dz9S5JrtHGp3PzCs9zVLW3c/rksJKMVMdz/ZgX1BiT53P0aTtgeWMHc/VPKjB+oidz9dsJvVgxV3P8uzNA1iCHc/La8hUYP7dj8w1QxL5u52P09GdKuJ4nY/yTOHKWzWdj/HtAODjMp2P+dJFXzpvnY/1gs034Gzdj+AgQR9VKh2Pz8aOCxgnXY/T0luyaOSdj/iPhY3Hoh2P6Y7UV3OfXY/EXzVKbNzdj/pt9GPy2l2P48z0YcWYHY/0V+gD5NWdj9eBTIqQE12P4f5hN8cRHY/9FiKPCg7dj9ERgxTYTJ2PzoplTnHKXY/m2xXC1khdj/ttxXoFRl2P1CiC/T8EHY/rNzWVw0Jdj9F0GBARgF2P4OvyN6m+XU/9fZNaC7ydT/qWzsW3Op1P6sm0iWv43U/HfY12KbcdT/G6lhywtV1P/U26DwBz3U/VhI5hGLIdT+bDjaY5cF1P4jLTMyJu3U/lwhcd061dT/cEaLzMq91P96Gq542qXU/R3lC2VijdT/d4V0HmZ11P+ZpEZD2l3U/P4d93XCSdT+16b9cB411P+Y35H25h3U/7RnVs4aCdT+EkE10bn11Pw6XyjdweHU/3Q59eYtzdT9v8ju3v251PzDPdnEManU/J4QoK3FldT92RMpp7WB1Pw/cRrWAXHU/eTXulypYdT9XH2me6lN1P0lQrVfAT3U/B6jxVKtLdT92rKIpq0d1P4lBV2u/Q3U/uZrFsec/dT/tZLiWIzx1P64nBLZyOHU/vtx8rdQ0dT+avOscSTF1P0E/BabPLXU/309f7GcqdT+wsmeVESd1P8GbWkjMI3U/u3U5rpcgdT/218Fxcx11P3eqZD9fGnU/Z3c9xVoXdT+i6AmzZRR1P95wIbp/EXU/ZB9tjagOdT92nV/h3wt1P6ZU7WslCXU/RL2E5HgGdT8G1AYE2gN1P0C2v4RIAXU/1GNfIsT+dD8VpvKZTPx0P+4a3Knh+XQ/jmPNEYP3dD/jdcCSMPV0PzYQ8e7p8nQ/I07W6a7wdD98XhxIf+50PyJZns9a7HQ/cjRgR0HqdD+B2Yh3Muh0P5JWXCku5nQ/Ky82JzTkdD9AyYM8ROJ0P8/2vjVe4HQ/Rpto4IHedD9ubAMLr9x0P/zNDoXl2nQ/cscBHyXZdD+yE0aqbdd0P9BJM/m+1XQ/px4K3xjUdD+Mvu8ve9J0P8s+6cDl0HQ/cSbXZ1jPdD/cDXH70s10P5xUQVNVzHQ/R+2gR9/KdD/HPrOxcMl0P5caYmsJyHQ/vMdZT6nGdD/kIQU5UMV0P1/MiQT+w3Q/YXjEjrLCdD93PkW1bcF0P3YKTFYvwHQ/yRnFUPe+dD+hi0WExb10P6sCCNGZvHQ//VfpF3S7dD/cXmU6VLp0Pw+5kxo6uXQ/TrskmyW4dD+xYV6fFrd0P4JTGQsNtnQ/",
          "dtype": "f8"
         },
         "yaxis": "y"
        }
       ],
       "layout": {
        "legend": {
         "tracegroupgap": 0
        },
        "template": {
         "data": {
          "bar": [
           {
            "error_x": {
             "color": "#f2f5fa"
            },
            "error_y": {
             "color": "#f2f5fa"
            },
            "marker": {
             "line": {
              "color": "rgb(17,17,17)",
              "width": 0.5
             },
             "pattern": {
              "fillmode": "overlay",
              "size": 10,
              "solidity": 0.2
             }
            },
            "type": "bar"
           }
          ],
          "barpolar": [
           {
            "marker": {
             "line": {
              "color": "rgb(17,17,17)",
              "width": 0.5
             },
             "pattern": {
              "fillmode": "overlay",
              "size": 10,
              "solidity": 0.2
             }
            },
            "type": "barpolar"
           }
          ],
          "carpet": [
           {
            "aaxis": {
             "endlinecolor": "#A2B1C6",
             "gridcolor": "#506784",
             "linecolor": "#506784",
             "minorgridcolor": "#506784",
             "startlinecolor": "#A2B1C6"
            },
            "baxis": {
             "endlinecolor": "#A2B1C6",
             "gridcolor": "#506784",
             "linecolor": "#506784",
             "minorgridcolor": "#506784",
             "startlinecolor": "#A2B1C6"
            },
            "type": "carpet"
           }
          ],
          "choropleth": [
           {
            "colorbar": {
             "outlinewidth": 0,
             "ticks": ""
            },
            "type": "choropleth"
           }
          ],
          "contour": [
           {
            "colorbar": {
             "outlinewidth": 0,
             "ticks": ""
            },
            "colorscale": [
             [
              0,
              "#0d0887"
             ],
             [
              0.1111111111111111,
              "#46039f"
             ],
             [
              0.2222222222222222,
              "#7201a8"
             ],
             [
              0.3333333333333333,
              "#9c179e"
             ],
             [
              0.4444444444444444,
              "#bd3786"
             ],
             [
              0.5555555555555556,
              "#d8576b"
             ],
             [
              0.6666666666666666,
              "#ed7953"
             ],
             [
              0.7777777777777778,
              "#fb9f3a"
             ],
             [
              0.8888888888888888,
              "#fdca26"
             ],
             [
              1,
              "#f0f921"
             ]
            ],
            "type": "contour"
           }
          ],
          "contourcarpet": [
           {
            "colorbar": {
             "outlinewidth": 0,
             "ticks": ""
            },
            "type": "contourcarpet"
           }
          ],
          "heatmap": [
           {
            "colorbar": {
             "outlinewidth": 0,
             "ticks": ""
            },
            "colorscale": [
             [
              0,
              "#0d0887"
             ],
             [
              0.1111111111111111,
              "#46039f"
             ],
             [
              0.2222222222222222,
              "#7201a8"
             ],
             [
              0.3333333333333333,
              "#9c179e"
             ],
             [
              0.4444444444444444,
              "#bd3786"
             ],
             [
              0.5555555555555556,
              "#d8576b"
             ],
             [
              0.6666666666666666,
              "#ed7953"
             ],
             [
              0.7777777777777778,
              "#fb9f3a"
             ],
             [
              0.8888888888888888,
              "#fdca26"
             ],
             [
              1,
              "#f0f921"
             ]
            ],
            "type": "heatmap"
           }
          ],
          "histogram": [
           {
            "marker": {
             "pattern": {
              "fillmode": "overlay",
              "size": 10,
              "solidity": 0.2
             }
            },
            "type": "histogram"
           }
          ],
          "histogram2d": [
           {
            "colorbar": {
             "outlinewidth": 0,
             "ticks": ""
            },
            "colorscale": [
             [
              0,
              "#0d0887"
             ],
             [
              0.1111111111111111,
              "#46039f"
             ],
             [
              0.2222222222222222,
              "#7201a8"
             ],
             [
              0.3333333333333333,
              "#9c179e"
             ],
             [
              0.4444444444444444,
              "#bd3786"
             ],
             [
              0.5555555555555556,
              "#d8576b"
             ],
             [
              0.6666666666666666,
              "#ed7953"
             ],
             [
              0.7777777777777778,
              "#fb9f3a"
             ],
             [
              0.8888888888888888,
              "#fdca26"
             ],
             [
              1,
              "#f0f921"
             ]
            ],
            "type": "histogram2d"
           }
          ],
          "histogram2dcontour": [
           {
            "colorbar": {
             "outlinewidth": 0,
             "ticks": ""
            },
            "colorscale": [
             [
              0,
              "#0d0887"
             ],
             [
              0.1111111111111111,
              "#46039f"
             ],
             [
              0.2222222222222222,
              "#7201a8"
             ],
             [
              0.3333333333333333,
              "#9c179e"
             ],
             [
              0.4444444444444444,
              "#bd3786"
             ],
             [
              0.5555555555555556,
              "#d8576b"
             ],
             [
              0.6666666666666666,
              "#ed7953"
             ],
             [
              0.7777777777777778,
              "#fb9f3a"
             ],
             [
              0.8888888888888888,
              "#fdca26"
             ],
             [
              1,
              "#f0f921"
             ]
            ],
            "type": "histogram2dcontour"
           }
          ],
          "mesh3d": [
           {
            "colorbar": {
             "outlinewidth": 0,
             "ticks": ""
            },
            "type": "mesh3d"
           }
          ],
          "parcoords": [
           {
            "line": {
             "colorbar": {
              "outlinewidth": 0,
              "ticks": ""
             }
            },
            "type": "parcoords"
           }
          ],
          "pie": [
           {
            "automargin": true,
            "type": "pie"
           }
          ],
          "scatter": [
           {
            "marker": {
             "line": {
              "color": "#283442"
             }
            },
            "type": "scatter"
           }
          ],
          "scatter3d": [
           {
            "line": {
             "colorbar": {
              "outlinewidth": 0,
              "ticks": ""
             }
            },
            "marker": {
             "colorbar": {
              "outlinewidth": 0,
              "ticks": ""
             }
            },
            "type": "scatter3d"
           }
          ],
          "scattercarpet": [
           {
            "marker": {
             "colorbar": {
              "outlinewidth": 0,
              "ticks": ""
             }
            },
            "type": "scattercarpet"
           }
          ],
          "scattergeo": [
           {
            "marker": {
             "colorbar": {
              "outlinewidth": 0,
              "ticks": ""
             }
            },
            "type": "scattergeo"
           }
          ],
          "scattergl": [
           {
            "marker": {
             "line": {
              "color": "#283442"
             }
            },
            "type": "scattergl"
           }
          ],
          "scattermap": [
           {
            "marker": {
             "colorbar": {
              "outlinewidth": 0,
              "ticks": ""
             }
            },
            "type": "scattermap"
           }
          ],
          "scattermapbox": [
           {
            "marker": {
             "colorbar": {
              "outlinewidth": 0,
              "ticks": ""
             }
            },
            "type": "scattermapbox"
           }
          ],
          "scatterpolar": [
           {
            "marker": {
             "colorbar": {
              "outlinewidth": 0,
              "ticks": ""
             }
            },
            "type": "scatterpolar"
           }
          ],
          "scatterpolargl": [
           {
            "marker": {
             "colorbar": {
              "outlinewidth": 0,
              "ticks": ""
             }
            },
            "type": "scatterpolargl"
           }
          ],
          "scatterternary": [
           {
            "marker": {
             "colorbar": {
              "outlinewidth": 0,
              "ticks": ""
             }
            },
            "type": "scatterternary"
           }
          ],
          "surface": [
           {
            "colorbar": {
             "outlinewidth": 0,
             "ticks": ""
            },
            "colorscale": [
             [
              0,
              "#0d0887"
             ],
             [
              0.1111111111111111,
              "#46039f"
             ],
             [
              0.2222222222222222,
              "#7201a8"
             ],
             [
              0.3333333333333333,
              "#9c179e"
             ],
             [
              0.4444444444444444,
              "#bd3786"
             ],
             [
              0.5555555555555556,
              "#d8576b"
             ],
             [
              0.6666666666666666,
              "#ed7953"
             ],
             [
              0.7777777777777778,
              "#fb9f3a"
             ],
             [
              0.8888888888888888,
              "#fdca26"
             ],
             [
              1,
              "#f0f921"
             ]
            ],
            "type": "surface"
           }
          ],
          "table": [
           {
            "cells": {
             "fill": {
              "color": "#506784"
             },
             "line": {
              "color": "rgb(17,17,17)"
             }
            },
            "header": {
             "fill": {
              "color": "#2a3f5f"
             },
             "line": {
              "color": "rgb(17,17,17)"
             }
            },
            "type": "table"
           }
          ]
         },
         "layout": {
          "annotationdefaults": {
           "arrowcolor": "#f2f5fa",
           "arrowhead": 0,
           "arrowwidth": 1
          },
          "autotypenumbers": "strict",
          "coloraxis": {
           "colorbar": {
            "outlinewidth": 0,
            "ticks": ""
           }
          },
          "colorscale": {
           "diverging": [
            [
             0,
             "#8e0152"
            ],
            [
             0.1,
             "#c51b7d"
            ],
            [
             0.2,
             "#de77ae"
            ],
            [
             0.3,
             "#f1b6da"
            ],
            [
             0.4,
             "#fde0ef"
            ],
            [
             0.5,
             "#f7f7f7"
            ],
            [
             0.6,
             "#e6f5d0"
            ],
            [
             0.7,
             "#b8e186"
            ],
            [
             0.8,
             "#7fbc41"
            ],
            [
             0.9,
             "#4d9221"
            ],
            [
             1,
             "#276419"
            ]
           ],
           "sequential": [
            [
             0,
             "#0d0887"
            ],
            [
             0.1111111111111111,
             "#46039f"
            ],
            [
             0.2222222222222222,
             "#7201a8"
            ],
            [
             0.3333333333333333,
             "#9c179e"
            ],
            [
             0.4444444444444444,
             "#bd3786"
            ],
            [
             0.5555555555555556,
             "#d8576b"
            ],
            [
             0.6666666666666666,
             "#ed7953"
            ],
            [
             0.7777777777777778,
             "#fb9f3a"
            ],
            [
             0.8888888888888888,
             "#fdca26"
            ],
            [
             1,
             "#f0f921"
            ]
           ],
           "sequentialminus": [
            [
             0,
             "#0d0887"
            ],
            [
             0.1111111111111111,
             "#46039f"
            ],
            [
             0.2222222222222222,
             "#7201a8"
            ],
            [
             0.3333333333333333,
             "#9c179e"
            ],
            [
             0.4444444444444444,
             "#bd3786"
            ],
            [
             0.5555555555555556,
             "#d8576b"
            ],
            [
             0.6666666666666666,
             "#ed7953"
            ],
            [
             0.7777777777777778,
             "#fb9f3a"
            ],
            [
             0.8888888888888888,
             "#fdca26"
            ],
            [
             1,
             "#f0f921"
            ]
           ]
          },
          "colorway": [
           "#636efa",
           "#EF553B",
           "#00cc96",
           "#ab63fa",
           "#FFA15A",
           "#19d3f3",
           "#FF6692",
           "#B6E880",
           "#FF97FF",
           "#FECB52"
          ],
          "font": {
           "color": "#f2f5fa"
          },
          "geo": {
           "bgcolor": "rgb(17,17,17)",
           "lakecolor": "rgb(17,17,17)",
           "landcolor": "rgb(17,17,17)",
           "showlakes": true,
           "showland": true,
           "subunitcolor": "#506784"
          },
          "hoverlabel": {
           "align": "left"
          },
          "hovermode": "closest",
          "mapbox": {
           "style": "dark"
          },
          "paper_bgcolor": "rgb(17,17,17)",
          "plot_bgcolor": "rgb(17,17,17)",
          "polar": {
           "angularaxis": {
            "gridcolor": "#506784",
            "linecolor": "#506784",
            "ticks": ""
           },
           "bgcolor": "rgb(17,17,17)",
           "radialaxis": {
            "gridcolor": "#506784",
            "linecolor": "#506784",
            "ticks": ""
           }
          },
          "scene": {
           "xaxis": {
            "backgroundcolor": "rgb(17,17,17)",
            "gridcolor": "#506784",
            "gridwidth": 2,
            "linecolor": "#506784",
            "showbackground": true,
            "ticks": "",
            "zerolinecolor": "#C8D4E3"
           },
           "yaxis": {
            "backgroundcolor": "rgb(17,17,17)",
            "gridcolor": "#506784",
            "gridwidth": 2,
            "linecolor": "#506784",
            "showbackground": true,
            "ticks": "",
            "zerolinecolor": "#C8D4E3"
           },
           "zaxis": {
            "backgroundcolor": "rgb(17,17,17)",
            "gridcolor": "#506784",
            "gridwidth": 2,
            "linecolor": "#506784",
            "showbackground": true,
            "ticks": "",
            "zerolinecolor": "#C8D4E3"
           }
          },
          "shapedefaults": {
           "line": {
            "color": "#f2f5fa"
           }
          },
          "sliderdefaults": {
           "bgcolor": "#C8D4E3",
           "bordercolor": "rgb(17,17,17)",
           "borderwidth": 1,
           "tickwidth": 0
          },
          "ternary": {
           "aaxis": {
            "gridcolor": "#506784",
            "linecolor": "#506784",
            "ticks": ""
           },
           "baxis": {
            "gridcolor": "#506784",
            "linecolor": "#506784",
            "ticks": ""
           },
           "bgcolor": "rgb(17,17,17)",
           "caxis": {
            "gridcolor": "#506784",
            "linecolor": "#506784",
            "ticks": ""
           }
          },
          "title": {
           "x": 0.05
          },
          "updatemenudefaults": {
           "bgcolor": "#506784",
           "borderwidth": 0
          },
          "xaxis": {
           "automargin": true,
           "gridcolor": "#283442",
           "linecolor": "#506784",
           "ticks": "",
           "title": {
            "standoff": 15
           },
           "zerolinecolor": "#283442",
           "zerolinewidth": 2
          },
          "yaxis": {
           "automargin": true,
           "gridcolor": "#283442",
           "linecolor": "#506784",
           "ticks": "",
           "title": {
            "standoff": 15
           },
           "zerolinecolor": "#283442",
           "zerolinewidth": 2
          }
         }
        },
        "title": {
         "font": {
          "color": "#41BEE9"
         },
         "text": "Cost vs Iteration"
        },
        "xaxis": {
         "anchor": "y",
         "color": "#41BEE9",
         "domain": [
          0,
          1
         ],
         "title": {
          "text": "Iterations"
         }
        },
        "yaxis": {
         "anchor": "x",
         "color": "#41BEE9",
         "domain": [
          0,
          1
         ],
         "title": {
          "text": "Cost"
         }
        }
       }
      }
     },
     "metadata": {},
     "output_type": "display_data"
    },
    {
     "data": {
      "text/html": [
       "<div>\n",
       "<style scoped>\n",
       "    .dataframe tbody tr th:only-of-type {\n",
       "        vertical-align: middle;\n",
       "    }\n",
       "\n",
       "    .dataframe tbody tr th {\n",
       "        vertical-align: top;\n",
       "    }\n",
       "\n",
       "    .dataframe thead th {\n",
       "        text-align: right;\n",
       "    }\n",
       "</style>\n",
       "<table border=\"1\" class=\"dataframe\">\n",
       "  <thead>\n",
       "    <tr style=\"text-align: right;\">\n",
       "      <th></th>\n",
       "      <th>model</th>\n",
       "      <th>MSE</th>\n",
       "      <th>RMSE</th>\n",
       "      <th>R2</th>\n",
       "    </tr>\n",
       "  </thead>\n",
       "  <tbody>\n",
       "    <tr>\n",
       "      <th>0</th>\n",
       "      <td>custom</td>\n",
       "      <td>0.010135</td>\n",
       "      <td>0.100673</td>\n",
       "      <td>0.999465</td>\n",
       "    </tr>\n",
       "    <tr>\n",
       "      <th>1</th>\n",
       "      <td>sklearn</td>\n",
       "      <td>0.010039</td>\n",
       "      <td>0.100195</td>\n",
       "      <td>0.999470</td>\n",
       "    </tr>\n",
       "  </tbody>\n",
       "</table>\n",
       "</div>"
      ],
      "text/plain": [
       "     model       MSE      RMSE        R2\n",
       "0   custom  0.010135  0.100673  0.999465\n",
       "1  sklearn  0.010039  0.100195  0.999470"
      ]
     },
     "metadata": {},
     "output_type": "display_data"
    }
   ],
   "source": [
    "from mlfs.metrics import mse as custom_mse, rmse as custom_rmse, r2_score as custom_r2\n",
    "from sklearn.metrics import mean_squared_error, mean_absolute_error, r2_score as sklearn_r2\n",
    "from mlfs.preprocessing import train_test_split, standardize\n",
    "\n",
    "\n",
    "X, y = generate_data(10000)\n",
    "X_train, X_test, y_train, y_test = train_test_split(X,y)\n",
    "\n",
    "custom_model = CustomLinearRegression()\n",
    "custom_model.fit(X_train, y_train, plot_cost=True)\n",
    "sk_model = SklearnLinearRegression()\n",
    "sk_model = sk_model.fit(X_train, y_train)\n",
    "\n",
    "y_pred_custom = custom_model.predict(X_test)\n",
    "y_pred_sk     = sk_model.predict(X_test)\n",
    "\n",
    "mse_c = custom_mse(y_test,y_pred_custom)\n",
    "rmse_c = custom_rmse(y_test, y_pred_custom)\n",
    "r2_c = custom_r2(y_test, y_pred_custom)\n",
    "\n",
    "mse_s  = mean_squared_error(y_test, y_pred_sk)\n",
    "rmse_s = np.sqrt(mse_s) \n",
    "r2_s   = sklearn_r2(y_test, y_pred_sk)\n",
    "\n",
    "df_results = pd.DataFrame({\n",
    "    'model': ['custom', 'sklearn'],\n",
    "    'MSE':   [mse_c, mse_s],\n",
    "    'RMSE':  [rmse_c, rmse_s],\n",
    "    'R2':    [r2_c, r2_s]\n",
    "})\n",
    "\n",
    "display(df_results)\n"
   ]
  }
 ],
 "metadata": {
  "kernelspec": {
   "display_name": "Python (.venv mlfs)",
   "language": "python",
   "name": "mlfs_venv"
  }
 },
 "nbformat": 4,
 "nbformat_minor": 5
}
