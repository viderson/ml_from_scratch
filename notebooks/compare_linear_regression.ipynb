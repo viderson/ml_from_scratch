{
 "cells": [
  {
   "cell_type": "markdown",
   "id": "dfd6ebc5",
   "metadata": {},
   "source": [
    "# Linear Regression Model\n",
    "\n",
    "Linear regression is a fundamental model in machine learning used for predicting a continuous output variable based on input features. The model function for linear regression is represented as:\n",
    "\n",
    "$$f_{w,b}(x) = wx + b$$\n",
    "\n",
    "In this equation, $f_{w,b}(x)$ represents the predicted output, $w$ is the weight parameter, $b$ is the bias parameter, and $x$ is the input feature.\n",
    "\n",
    "## Model Training\n",
    "\n",
    "To train a linear regression model, we aim to find the best values for the parameters $(w, b)$ that best fit our dataset.\n",
    "\n",
    "### Forward Pass\n",
    "\n",
    "The forward pass is a step where we compute the linear regression output for the input data $X$ using the current weights and biases. It's essentially applying our model to the input data.\n",
    "\n",
    "### Cost Function\n",
    "\n",
    "The cost function is used to measure how well our model is performing. It quantifies the difference between the predicted values and the actual values in our dataset. The cost function is defined as:\n",
    "\n",
    "$$J(w,b) = \\frac{1}{2m} \\sum_{i=1}^{m}(f_{w,b}(x^{(i)}) - y^{(i)})^2$$\n",
    "\n",
    "Here, $J(w, b)$ is the cost, $m$ is the number of training examples, $x^{(i)}$ is the input data for the $i$-th example, $y^{(i)}$ is the actual output for the $i$-th example, and $w$ and $b$ are the weight and bias parameters, respectively.\n",
    "\n",
    "### Backward Pass (Gradient Computation)\n",
    "\n",
    "The backward pass computes the gradients of the cost function with respect to the weights and biases. These gradients are crucial for updating the model parameters during training. The gradient formulas are as follows:\n",
    "\n",
    "$$\n",
    "\\frac{\\partial J(w,b)}{\\partial b} = \\frac{1}{m} \\sum_{i=0}^{m-1} (f_{w,b}(X^{(i)}) - y^{(i)})\n",
    "$$\n",
    "\n",
    "$$\n",
    "\\frac{\\partial J(w,b)}{\\partial w} = \\frac{1}{m} \\sum_{i=0}^{m-1} (f_{w,b}(X^{(i)}) - y^{(i)})X^{(i)}\n",
    "$$\n",
    "\n",
    "## Training Process\n",
    "\n",
    "The training process involves iteratively updating the weights and biases to minimize the cost function. This is typically done through an optimization algorithm like gradient descent. The update equations for parameters are:\n",
    "\n",
    "$$w \\leftarrow w - \\alpha \\frac{\\partial J}{\\partial w}$$\n",
    "\n",
    "$$b \\leftarrow b - \\alpha \\frac{\\partial J}{\\partial b}$$\n",
    "\n",
    "Here, $\\alpha$ represents the learning rate, which controls the step size during parameter updates.\n",
    "\n",
    "By iteratively performing the forward pass, computing the cost, performing the backward pass, and updating the parameters, the model learns to make better predictions and fit the data.\n"
   ]
  },
  {
   "cell_type": "code",
   "execution_count": 3,
   "id": "927c043f",
   "metadata": {},
   "outputs": [],
   "source": [
    "import time\n",
    "import numpy as np\n",
    "import pandas as pd\n",
    "import matplotlib.pyplot as plt\n",
    "from mlfs.linear_regression import LinearRegression as CustomLinearRegression\n",
    "from sklearn.linear_model import LinearRegression as SklearnLinearRegression"
   ]
  },
  {
   "cell_type": "code",
   "execution_count": 4,
   "id": "681aec19",
   "metadata": {},
   "outputs": [],
   "source": [
    "def generate_data(n_samples, n_features=10, noise=0.1, random_state=42):\n",
    "    rng = np.random.RandomState(random_state)\n",
    "    X = rng.randn(n_samples, n_features)\n",
    "    true_coef = rng.randn(n_features)\n",
    "    y = X.dot(true_coef) + noise * rng.randn(n_samples)\n",
    "    return X, y"
   ]
  },
  {
   "cell_type": "code",
   "execution_count": 16,
   "id": "1f8bdefa",
   "metadata": {},
   "outputs": [],
   "source": [
    "def benchmark(n_samples_list, n_features=10, n_repeats=3):\n",
    "    results = []\n",
    "    for n in n_samples_list:\n",
    "        X, y = generate_data(n, n_features)\n",
    "        custom_times = {'fit': [], 'predict': []}\n",
    "        for _ in range(n_repeats):\n",
    "            model = CustomLinearRegression()\n",
    "            t0 = time.perf_counter()\n",
    "            model.fit(X, y, verbose = False)\n",
    "            t1 = time.perf_counter()\n",
    "            model.predict(X[:10])\n",
    "            t2 = time.perf_counter()\n",
    "            custom_times['fit'].append(t1 - t0)\n",
    "            custom_times['predict'].append(t2 - t1)\n",
    "        sklearn_times = {'fit': [], 'predict': []}\n",
    "        for _ in range(n_repeats):\n",
    "            model = SklearnLinearRegression()\n",
    "            t0 = time.perf_counter()\n",
    "            model.fit(X, y)\n",
    "            t1 = time.perf_counter()\n",
    "            model.predict(X[:10])\n",
    "            t2 = time.perf_counter()\n",
    "            sklearn_times['fit'].append(t1 - t0)\n",
    "            sklearn_times['predict'].append(t2 - t1)\n",
    "        results.append({\n",
    "            'n_samples': n,\n",
    "            'custom_fit': np.mean(custom_times['fit']),\n",
    "            'custom_predict': np.mean(custom_times['predict']),\n",
    "            'sklearn_fit': np.mean(sklearn_times['fit']),\n",
    "            'sklearn_predict': np.mean(sklearn_times['predict']),\n",
    "        })\n",
    "    return pd.DataFrame(results)\n"
   ]
  },
  {
   "cell_type": "code",
   "execution_count": 17,
   "id": "0cc5ce35",
   "metadata": {},
   "outputs": [
    {
     "data": {
      "text/html": [
       "<div>\n",
       "<style scoped>\n",
       "    .dataframe tbody tr th:only-of-type {\n",
       "        vertical-align: middle;\n",
       "    }\n",
       "\n",
       "    .dataframe tbody tr th {\n",
       "        vertical-align: top;\n",
       "    }\n",
       "\n",
       "    .dataframe thead th {\n",
       "        text-align: right;\n",
       "    }\n",
       "</style>\n",
       "<table border=\"1\" class=\"dataframe\">\n",
       "  <thead>\n",
       "    <tr style=\"text-align: right;\">\n",
       "      <th></th>\n",
       "      <th>n_samples</th>\n",
       "      <th>custom_fit</th>\n",
       "      <th>custom_predict</th>\n",
       "      <th>sklearn_fit</th>\n",
       "      <th>sklearn_predict</th>\n",
       "    </tr>\n",
       "  </thead>\n",
       "  <tbody>\n",
       "    <tr>\n",
       "      <th>0</th>\n",
       "      <td>100</td>\n",
       "      <td>0.026303</td>\n",
       "      <td>0.000012</td>\n",
       "      <td>0.000686</td>\n",
       "      <td>0.000094</td>\n",
       "    </tr>\n",
       "    <tr>\n",
       "      <th>1</th>\n",
       "      <td>1000</td>\n",
       "      <td>0.021880</td>\n",
       "      <td>0.000009</td>\n",
       "      <td>0.001022</td>\n",
       "      <td>0.000099</td>\n",
       "    </tr>\n",
       "    <tr>\n",
       "      <th>2</th>\n",
       "      <td>5000</td>\n",
       "      <td>0.065394</td>\n",
       "      <td>0.000010</td>\n",
       "      <td>0.002500</td>\n",
       "      <td>0.000209</td>\n",
       "    </tr>\n",
       "    <tr>\n",
       "      <th>3</th>\n",
       "      <td>10000</td>\n",
       "      <td>0.102330</td>\n",
       "      <td>0.000013</td>\n",
       "      <td>0.002488</td>\n",
       "      <td>0.000146</td>\n",
       "    </tr>\n",
       "    <tr>\n",
       "      <th>4</th>\n",
       "      <td>20000</td>\n",
       "      <td>0.202375</td>\n",
       "      <td>0.000012</td>\n",
       "      <td>0.005042</td>\n",
       "      <td>0.000225</td>\n",
       "    </tr>\n",
       "  </tbody>\n",
       "</table>\n",
       "</div>"
      ],
      "text/plain": [
       "   n_samples  custom_fit  custom_predict  sklearn_fit  sklearn_predict\n",
       "0        100    0.026303        0.000012     0.000686         0.000094\n",
       "1       1000    0.021880        0.000009     0.001022         0.000099\n",
       "2       5000    0.065394        0.000010     0.002500         0.000209\n",
       "3      10000    0.102330        0.000013     0.002488         0.000146\n",
       "4      20000    0.202375        0.000012     0.005042         0.000225"
      ]
     },
     "execution_count": 17,
     "metadata": {},
     "output_type": "execute_result"
    }
   ],
   "source": [
    "n_samples_list = [100, 1_000, 5_000, 10_000, 20_000]\n",
    "df = benchmark(n_samples_list)\n",
    "df\n"
   ]
  },
  {
   "cell_type": "code",
   "execution_count": 19,
   "id": "2cbd3528",
   "metadata": {},
   "outputs": [
    {
     "data": {
      "image/png": "[encoded data removed]",
      "text/plain": [
       "<Figure size 800x500 with 1 Axes>"
      ]
     },
     "metadata": {},
     "output_type": "display_data"
    }
   ],
   "source": [
    "plt.figure(figsize=(8,5))\n",
    "plt.loglog(df['n_samples'], df['custom_fit'], marker='o', label='custom fit')\n",
    "plt.loglog(df['n_samples'], df['sklearn_fit'], marker='o', label='sklearn fit')\n",
    "plt.loglog(df['n_samples'], df['custom_predict'], marker='x', linestyle='--', label='custom predict')\n",
    "plt.loglog(df['n_samples'], df['sklearn_predict'], marker='x', linestyle='--', label='sklearn predict')\n",
    "plt.xlabel('Liczba próbek (log)')\n",
    "plt.ylabel('Czas [s] (log)')\n",
    "plt.title('Benchmark training and prediction time')\n",
    "plt.legend()\n",
    "plt.grid(True, which=\"both\", ls=\":\")\n",
    "plt.show()\n"
   ]
  },
  {
   "cell_type": "markdown",
   "id": "a69a6ddf",
   "metadata": {},
   "source": [
    "### Key Takeaways\n",
    "\n",
    "- **Training Time**  \n",
    "  - Both implementations scale roughly linearly in _n_ (O(n)), but scikit-learn is ~30–40× faster thanks to optimized C/BLAS routines.  \n",
    "- **Prediction Time**  \n",
    "  - Custom `predict` is ~5–10× faster for a fixed test set, since it uses a single NumPy matrix multiply without extra overhead.  "
   ]
  },
  {
   "cell_type": "markdown",
   "id": "8e962075",
   "metadata": {},
   "source": [
    "### 1. Mean Squared Error (MSE)\n",
    "\n",
    "**Formula:**\n",
    "$$\n",
    "\\text{MSE} = \\frac{1}{n} \\sum_{i=1}^{n} (y_{\\text{true}_i} - y_{\\text{pred}_i})^2\n",
    "$$\n",
    "\n",
    "**Description:**\n",
    "- **Mean Squared Error (MSE)** is a widely used metric for evaluating the accuracy of regression models.\n",
    "- It measures the average squared difference between the predicted values ($y_{\\text{pred}}$) and the actual target values ($y_{\\text{true}}$).\n",
    "- The squared differences are averaged across all data points in the dataset.\n",
    "\n",
    "**Interpretation:**\n",
    "- A lower MSE indicates a better fit of the model to the data, as it means the model's predictions are closer to the actual values.\n",
    "- MSE is sensitive to outliers because the squared differences magnify the impact of large errors.\n",
    "\n",
    "### 2. Root Mean Squared Error (RMSE)\n",
    "\n",
    "**Formula:**\n",
    "$$\n",
    "\\text{RMSE} = \\sqrt{\\text{MSE}}\n",
    "$$\n",
    "\n",
    "**Description:**\n",
    "- **Root Mean Squared Error (RMSE)** is a variant of MSE that provides the square root of the average squared difference between predicted and actual values.\n",
    "- It is often preferred because it is in the same unit as the target variable, making it more interpretable.\n",
    "\n",
    "**Interpretation:**\n",
    "- Like MSE, a lower RMSE indicates a better fit of the model to the data.\n",
    "- RMSE is also sensitive to outliers due to the square root operation.\n",
    "\n",
    "### 3. R-squared ($R^2$)\n",
    "\n",
    "**Formula:**\n",
    "$$\n",
    "R^2 = 1 - \\frac{\\text{SSR}}{\\text{SST}}\n",
    "$$\n",
    "\n",
    "**Description:**\n",
    "- **R-squared ($R^2$)**, also known as the coefficient of determination, measures the proportion of the variance in the dependent variable ($y_{\\text{true}}$) that is predictable from the independent variable(s) ($y_{\\text{pred}}$) in a regression model.\n",
    "- It ranges from 0 to 1, where 0 indicates that the model does not explain any variance, and 1 indicates a perfect fit.\n",
    "\n",
    "**Interpretation:**\n",
    "- A higher $R^2$ value suggests that the model explains a larger proportion of the variance in the target variable.\n",
    "- However, $R^2$ does not provide information about the goodness of individual predictions or whether the model is overfitting or underfitting.\n"
   ]
  },
  {
   "cell_type": "code",
   "execution_count": 20,
   "id": "b10757f9",
   "metadata": {},
   "outputs": [
    {
     "name": "stdout",
     "output_type": "stream",
     "text": [
      "Iteration 0: Cost = 2.988233\n",
      "Iteration 100: Cost = 0.402104\n",
      "Iteration 200: Cost = 0.061552\n",
      "Iteration 300: Cost = 0.013287\n",
      "Iteration 400: Cost = 0.006012\n",
      "Iteration 500: Cost = 0.004861\n",
      "Convergence reached at iteration 579\n"
     ]
    },
    {
     "data": {
      "application/vnd.plotly.v1+json": {
       "config": {
        "plotlyServerURL": "https://plot.ly"
       },
       "data": [
        {
         "hovertemplate": "x=%{x}<br>y=%{y}<extra></extra>",
         "legendgroup": "",
         "line": {
          "color": "#636efa",
          "dash": "solid"
         },
         "marker": {
          "symbol": "circle"
         },
         "mode": "lines",
         "name": "",
         "orientation": "v",
         "showlegend": false,
         "type": "scatter",
         "x": {
          "bdata": "AAABAAIAAwAEAAUABgAHAAgACQAKAAsADAANAA4ADwAQABEAEgATABQAFQAWABcAGAAZABoAGwAcAB0AHgAfACAAIQAiACMAJAAlACYAJwAoACkAKgArACwALQAuAC8AMAAxADIAMwA0ADUANgA3ADgAOQA6ADsAPAA9AD4APwBAAEEAQgBDAEQARQBGAEcASABJAEoASwBMAE0ATgBPAFAAUQBSAFMAVABVAFYAVwBYAFkAWgBbAFwAXQBeAF8AYABhAGIAYwBkAGUAZgBnAGgAaQBqAGsAbABtAG4AbwBwAHEAcgBzAHQAdQB2AHcAeAB5AHoAewB8AH0AfgB/AIAAgQCCAIMAhACFAIYAhwCIAIkAigCLAIwAjQCOAI8AkACRAJIAkwCUAJUAlgCXAJgAmQCaAJsAnACdAJ4AnwCgAKEAogCjAKQApQCmAKcAqACpAKoAqwCsAK0ArgCvALAAsQCyALMAtAC1ALYAtwC4ALkAugC7ALwAvQC+AL8AwADBAMIAwwDEAMUAxgDHAMgAyQDKAMsAzADNAM4AzwDQANEA0gDTANQA1QDWANcA2ADZANoA2wDcAN0A3gDfAOAA4QDiAOMA5ADlAOYA5wDoAOkA6gDrAOwA7QDuAO8A8ADxAPIA8wD0APUA9gD3APgA+QD6APsA/AD9AP4A/wAAAQEBAgEDAQQBBQEGAQcBCAEJAQoBCwEMAQ0BDgEPARABEQESARMBFAEVARYBFwEYARkBGgEbARwBHQEeAR8BIAEhASIBIwEkASUBJgEnASgBKQEqASsBLAEtAS4BLwEwATEBMgEzATQBNQE2ATcBOAE5AToBOwE8AT0BPgE/AUABQQFCAUMBRAFFAUYBRwFIAUkBSgFLAUwBTQFOAU8BUAFRAVIBUwFUAVUBVgFXAVgBWQFaAVsBXAFdAV4BXwFgAWEBYgFjAWQBZQFmAWcBaAFpAWoBawFsAW0BbgFvAXABcQFyAXMBdAF1AXYBdwF4AXkBegF7AXwBfQF+AX8BgAGBAYIBgwGEAYUBhgGHAYgBiQGKAYsBjAGNAY4BjwGQAZEBkgGTAZQBlQGWAZcBmAGZAZoBmwGcAZ0BngGfAaABoQGiAaMBpAGlAaYBpwGoAakBqgGrAawBrQGuAa8BsAGxAbIBswG0AbUBtgG3AbgBuQG6AbsBvAG9Ab4BvwHAAcEBwgHDAcQBxQHGAccByAHJAcoBywHMAc0BzgHPAdAB0QHSAdMB1AHVAdYB1wHYAdkB2gHbAdwB3QHeAd8B4AHhAeIB4wHkAeUB5gHnAegB6QHqAesB7AHtAe4B7wHwAfEB8gHzAfQB9QH2AfcB+AH5AfoB+wH8Af0B/gH/AQACAQICAgMCBAIFAgYCBwIIAgkCCgILAgwCDQIOAg8CEAIRAhICEwIUAhUCFgIXAhgCGQIaAhsCHAIdAh4CHwIgAiECIgIjAiQCJQImAicCKAIpAioCKwIsAi0CLgIvAjACMQIyAjMCNAI1AjYCNwI4AjkCOgI7AjwCPQI+Aj8CQAJBAkICQwI=",
          "dtype": "i2"
         },
         "xaxis": "x",
         "y": {
          "bdata": "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",
          "dtype": "f8"
         },
         "yaxis": "y"
        }
       ],
       "layout": {
        "legend": {
         "tracegroupgap": 0
        },
        "template": {
         "data": {
          "bar": [
           {
            "error_x": {
             "color": "#f2f5fa"
            },
            "error_y": {
             "color": "#f2f5fa"
            },
            "marker": {
             "line": {
              "color": "rgb(17,17,17)",
              "width": 0.5
             },
             "pattern": {
              "fillmode": "overlay",
              "size": 10,
              "solidity": 0.2
             }
            },
            "type": "bar"
           }
          ],
          "barpolar": [
           {
            "marker": {
             "line": {
              "color": "rgb(17,17,17)",
              "width": 0.5
             },
             "pattern": {
              "fillmode": "overlay",
              "size": 10,
              "solidity": 0.2
             }
            },
            "type": "barpolar"
           }
          ],
          "carpet": [
           {
            "aaxis": {
             "endlinecolor": "#A2B1C6",
             "gridcolor": "#506784",
             "linecolor": "#506784",
             "minorgridcolor": "#506784",
             "startlinecolor": "#A2B1C6"
            },
            "baxis": {
             "endlinecolor": "#A2B1C6",
             "gridcolor": "#506784",
             "linecolor": "#506784",
             "minorgridcolor": "#506784",
             "startlinecolor": "#A2B1C6"
            },
            "type": "carpet"
           }
          ],
          "choropleth": [
           {
            "colorbar": {
             "outlinewidth": 0,
             "ticks": ""
            },
            "type": "choropleth"
           }
          ],
          "contour": [
           {
            "colorbar": {
             "outlinewidth": 0,
             "ticks": ""
            },
            "colorscale": [
             [
              0,
              "#0d0887"
             ],
             [
              0.1111111111111111,
              "#46039f"
             ],
             [
              0.2222222222222222,
              "#7201a8"
             ],
             [
              0.3333333333333333,
              "#9c179e"
             ],
             [
              0.4444444444444444,
              "#bd3786"
             ],
             [
              0.5555555555555556,
              "#d8576b"
             ],
             [
              0.6666666666666666,
              "#ed7953"
             ],
             [
              0.7777777777777778,
              "#fb9f3a"
             ],
             [
              0.8888888888888888,
              "#fdca26"
             ],
             [
              1,
              "#f0f921"
             ]
            ],
            "type": "contour"
           }
          ],
          "contourcarpet": [
           {
            "colorbar": {
             "outlinewidth": 0,
             "ticks": ""
            },
            "type": "contourcarpet"
           }
          ],
          "heatmap": [
           {
            "colorbar": {
             "outlinewidth": 0,
             "ticks": ""
            },
            "colorscale": [
             [
              0,
              "#0d0887"
             ],
             [
              0.1111111111111111,
              "#46039f"
             ],
             [
              0.2222222222222222,
              "#7201a8"
             ],
             [
              0.3333333333333333,
              "#9c179e"
             ],
             [
              0.4444444444444444,
              "#bd3786"
             ],
             [
              0.5555555555555556,
              "#d8576b"
             ],
             [
              0.6666666666666666,
              "#ed7953"
             ],
             [
              0.7777777777777778,
              "#fb9f3a"
             ],
             [
              0.8888888888888888,
              "#fdca26"
             ],
             [
              1,
              "#f0f921"
             ]
            ],
            "type": "heatmap"
           }
          ],
          "histogram": [
           {
            "marker": {
             "pattern": {
              "fillmode": "overlay",
              "size": 10,
              "solidity": 0.2
             }
            },
            "type": "histogram"
           }
          ],
          "histogram2d": [
           {
            "colorbar": {
             "outlinewidth": 0,
             "ticks": ""
            },
            "colorscale": [
             [
              0,
              "#0d0887"
             ],
             [
              0.1111111111111111,
              "#46039f"
             ],
             [
              0.2222222222222222,
              "#7201a8"
             ],
             [
              0.3333333333333333,
              "#9c179e"
             ],
             [
              0.4444444444444444,
              "#bd3786"
             ],
             [
              0.5555555555555556,
              "#d8576b"
             ],
             [
              0.6666666666666666,
              "#ed7953"
             ],
             [
              0.7777777777777778,
              "#fb9f3a"
             ],
             [
              0.8888888888888888,
              "#fdca26"
             ],
             [
              1,
              "#f0f921"
             ]
            ],
            "type": "histogram2d"
           }
          ],
          "histogram2dcontour": [
           {
            "colorbar": {
             "outlinewidth": 0,
             "ticks": ""
            },
            "colorscale": [
             [
              0,
              "#0d0887"
             ],
             [
              0.1111111111111111,
              "#46039f"
             ],
             [
              0.2222222222222222,
              "#7201a8"
             ],
             [
              0.3333333333333333,
              "#9c179e"
             ],
             [
              0.4444444444444444,
              "#bd3786"
             ],
             [
              0.5555555555555556,
              "#d8576b"
             ],
             [
              0.6666666666666666,
              "#ed7953"
             ],
             [
              0.7777777777777778,
              "#fb9f3a"
             ],
             [
              0.8888888888888888,
              "#fdca26"
             ],
             [
              1,
              "#f0f921"
             ]
            ],
            "type": "histogram2dcontour"
           }
          ],
          "mesh3d": [
           {
            "colorbar": {
             "outlinewidth": 0,
             "ticks": ""
            },
            "type": "mesh3d"
           }
          ],
          "parcoords": [
           {
            "line": {
             "colorbar": {
              "outlinewidth": 0,
              "ticks": ""
             }
            },
            "type": "parcoords"
           }
          ],
          "pie": [
           {
            "automargin": true,
            "type": "pie"
           }
          ],
          "scatter": [
           {
            "marker": {
             "line": {
              "color": "#283442"
             }
            },
            "type": "scatter"
           }
          ],
          "scatter3d": [
           {
            "line": {
             "colorbar": {
              "outlinewidth": 0,
              "ticks": ""
             }
            },
            "marker": {
             "colorbar": {
              "outlinewidth": 0,
              "ticks": ""
             }
            },
            "type": "scatter3d"
           }
          ],
          "scattercarpet": [
           {
            "marker": {
             "colorbar": {
              "outlinewidth": 0,
              "ticks": ""
             }
            },
            "type": "scattercarpet"
           }
          ],
          "scattergeo": [
           {
            "marker": {
             "colorbar": {
              "outlinewidth": 0,
              "ticks": ""
             }
            },
            "type": "scattergeo"
           }
          ],
          "scattergl": [
           {
            "marker": {
             "line": {
              "color": "#283442"
             }
            },
            "type": "scattergl"
           }
          ],
          "scattermap": [
           {
            "marker": {
             "colorbar": {
              "outlinewidth": 0,
              "ticks": ""
             }
            },
            "type": "scattermap"
           }
          ],
          "scattermapbox": [
           {
            "marker": {
             "colorbar": {
              "outlinewidth": 0,
              "ticks": ""
             }
            },
            "type": "scattermapbox"
           }
          ],
          "scatterpolar": [
           {
            "marker": {
             "colorbar": {
              "outlinewidth": 0,
              "ticks": ""
             }
            },
            "type": "scatterpolar"
           }
          ],
          "scatterpolargl": [
           {
            "marker": {
             "colorbar": {
              "outlinewidth": 0,
              "ticks": ""
             }
            },
            "type": "scatterpolargl"
           }
          ],
          "scatterternary": [
           {
            "marker": {
             "colorbar": {
              "outlinewidth": 0,
              "ticks": ""
             }
            },
            "type": "scatterternary"
           }
          ],
          "surface": [
           {
            "colorbar": {
             "outlinewidth": 0,
             "ticks": ""
            },
            "colorscale": [
             [
              0,
              "#0d0887"
             ],
             [
              0.1111111111111111,
              "#46039f"
             ],
             [
              0.2222222222222222,
              "#7201a8"
             ],
             [
              0.3333333333333333,
              "#9c179e"
             ],
             [
              0.4444444444444444,
              "#bd3786"
             ],
             [
              0.5555555555555556,
              "#d8576b"
             ],
             [
              0.6666666666666666,
              "#ed7953"
             ],
             [
              0.7777777777777778,
              "#fb9f3a"
             ],
             [
              0.8888888888888888,
              "#fdca26"
             ],
             [
              1,
              "#f0f921"
             ]
            ],
            "type": "surface"
           }
          ],
          "table": [
           {
            "cells": {
             "fill": {
              "color": "#506784"
             },
             "line": {
              "color": "rgb(17,17,17)"
             }
            },
            "header": {
             "fill": {
              "color": "#2a3f5f"
             },
             "line": {
              "color": "rgb(17,17,17)"
             }
            },
            "type": "table"
           }
          ]
         },
         "layout": {
          "annotationdefaults": {
           "arrowcolor": "#f2f5fa",
           "arrowhead": 0,
           "arrowwidth": 1
          },
          "autotypenumbers": "strict",
          "coloraxis": {
           "colorbar": {
            "outlinewidth": 0,
            "ticks": ""
           }
          },
          "colorscale": {
           "diverging": [
            [
             0,
             "#8e0152"
            ],
            [
             0.1,
             "#c51b7d"
            ],
            [
             0.2,
             "#de77ae"
            ],
            [
             0.3,
             "#f1b6da"
            ],
            [
             0.4,
             "#fde0ef"
            ],
            [
             0.5,
             "#f7f7f7"
            ],
            [
             0.6,
             "#e6f5d0"
            ],
            [
             0.7,
             "#b8e186"
            ],
            [
             0.8,
             "#7fbc41"
            ],
            [
             0.9,
             "#4d9221"
            ],
            [
             1,
             "#276419"
            ]
           ],
           "sequential": [
            [
             0,
             "#0d0887"
            ],
            [
             0.1111111111111111,
             "#46039f"
            ],
            [
             0.2222222222222222,
             "#7201a8"
            ],
            [
             0.3333333333333333,
             "#9c179e"
            ],
            [
             0.4444444444444444,
             "#bd3786"
            ],
            [
             0.5555555555555556,
             "#d8576b"
            ],
            [
             0.6666666666666666,
             "#ed7953"
            ],
            [
             0.7777777777777778,
             "#fb9f3a"
            ],
            [
             0.8888888888888888,
             "#fdca26"
            ],
            [
             1,
             "#f0f921"
            ]
           ],
           "sequentialminus": [
            [
             0,
             "#0d0887"
            ],
            [
             0.1111111111111111,
             "#46039f"
            ],
            [
             0.2222222222222222,
             "#7201a8"
            ],
            [
             0.3333333333333333,
             "#9c179e"
            ],
            [
             0.4444444444444444,
             "#bd3786"
            ],
            [
             0.5555555555555556,
             "#d8576b"
            ],
            [
             0.6666666666666666,
             "#ed7953"
            ],
            [
             0.7777777777777778,
             "#fb9f3a"
            ],
            [
             0.8888888888888888,
             "#fdca26"
            ],
            [
             1,
             "#f0f921"
            ]
           ]
          },
          "colorway": [
           "#636efa",
           "#EF553B",
           "#00cc96",
           "#ab63fa",
           "#FFA15A",
           "#19d3f3",
           "#FF6692",
           "#B6E880",
           "#FF97FF",
           "#FECB52"
          ],
          "font": {
           "color": "#f2f5fa"
          },
          "geo": {
           "bgcolor": "rgb(17,17,17)",
           "lakecolor": "rgb(17,17,17)",
           "landcolor": "rgb(17,17,17)",
           "showlakes": true,
           "showland": true,
           "subunitcolor": "#506784"
          },
          "hoverlabel": {
           "align": "left"
          },
          "hovermode": "closest",
          "mapbox": {
           "style": "dark"
          },
          "paper_bgcolor": "rgb(17,17,17)",
          "plot_bgcolor": "rgb(17,17,17)",
          "polar": {
           "angularaxis": {
            "gridcolor": "#506784",
            "linecolor": "#506784",
            "ticks": ""
           },
           "bgcolor": "rgb(17,17,17)",
           "radialaxis": {
            "gridcolor": "#506784",
            "linecolor": "#506784",
            "ticks": ""
           }
          },
          "scene": {
           "xaxis": {
            "backgroundcolor": "rgb(17,17,17)",
            "gridcolor": "#506784",
            "gridwidth": 2,
            "linecolor": "#506784",
            "showbackground": true,
            "ticks": "",
            "zerolinecolor": "#C8D4E3"
           },
           "yaxis": {
            "backgroundcolor": "rgb(17,17,17)",
            "gridcolor": "#506784",
            "gridwidth": 2,
            "linecolor": "#506784",
            "showbackground": true,
            "ticks": "",
            "zerolinecolor": "#C8D4E3"
           },
           "zaxis": {
            "backgroundcolor": "rgb(17,17,17)",
            "gridcolor": "#506784",
            "gridwidth": 2,
            "linecolor": "#506784",
            "showbackground": true,
            "ticks": "",
            "zerolinecolor": "#C8D4E3"
           }
          },
          "shapedefaults": {
           "line": {
            "color": "#f2f5fa"
           }
          },
          "sliderdefaults": {
           "bgcolor": "#C8D4E3",
           "bordercolor": "rgb(17,17,17)",
           "borderwidth": 1,
           "tickwidth": 0
          },
          "ternary": {
           "aaxis": {
            "gridcolor": "#506784",
            "linecolor": "#506784",
            "ticks": ""
           },
           "baxis": {
            "gridcolor": "#506784",
            "linecolor": "#506784",
            "ticks": ""
           },
           "bgcolor": "rgb(17,17,17)",
           "caxis": {
            "gridcolor": "#506784",
            "linecolor": "#506784",
            "ticks": ""
           }
          },
          "title": {
           "x": 0.05
          },
          "updatemenudefaults": {
           "bgcolor": "#506784",
           "borderwidth": 0
          },
          "xaxis": {
           "automargin": true,
           "gridcolor": "#283442",
           "linecolor": "#506784",
           "ticks": "",
           "title": {
            "standoff": 15
           },
           "zerolinecolor": "#283442",
           "zerolinewidth": 2
          },
          "yaxis": {
           "automargin": true,
           "gridcolor": "#283442",
           "linecolor": "#506784",
           "ticks": "",
           "title": {
            "standoff": 15
           },
           "zerolinecolor": "#283442",
           "zerolinewidth": 2
          }
         }
        },
        "title": {
         "font": {
          "color": "#41BEE9"
         },
         "text": "Cost vs Iteration"
        },
        "xaxis": {
         "anchor": "y",
         "color": "#41BEE9",
         "domain": [
          0,
          1
         ],
         "title": {
          "text": "Iterations"
         }
        },
        "yaxis": {
         "anchor": "x",
         "color": "#41BEE9",
         "domain": [
          0,
          1
         ],
         "title": {
          "text": "Cost"
         }
        }
       }
      }
     },
     "metadata": {},
     "output_type": "display_data"
    },
    {
     "data": {
      "text/html": [
       "<div>\n",
       "<style scoped>\n",
       "    .dataframe tbody tr th:only-of-type {\n",
       "        vertical-align: middle;\n",
       "    }\n",
       "\n",
       "    .dataframe tbody tr th {\n",
       "        vertical-align: top;\n",
       "    }\n",
       "\n",
       "    .dataframe thead th {\n",
       "        text-align: right;\n",
       "    }\n",
       "</style>\n",
       "<table border=\"1\" class=\"dataframe\">\n",
       "  <thead>\n",
       "    <tr style=\"text-align: right;\">\n",
       "      <th></th>\n",
       "      <th>model</th>\n",
       "      <th>MSE</th>\n",
       "      <th>RMSE</th>\n",
       "      <th>R2</th>\n",
       "    </tr>\n",
       "  </thead>\n",
       "  <tbody>\n",
       "    <tr>\n",
       "      <th>0</th>\n",
       "      <td>custom</td>\n",
       "      <td>0.010068</td>\n",
       "      <td>0.100337</td>\n",
       "      <td>0.998415</td>\n",
       "    </tr>\n",
       "    <tr>\n",
       "      <th>1</th>\n",
       "      <td>sklearn</td>\n",
       "      <td>0.009881</td>\n",
       "      <td>0.099403</td>\n",
       "      <td>0.998445</td>\n",
       "    </tr>\n",
       "  </tbody>\n",
       "</table>\n",
       "</div>"
      ],
      "text/plain": [
       "     model       MSE      RMSE        R2\n",
       "0   custom  0.010068  0.100337  0.998415\n",
       "1  sklearn  0.009881  0.099403  0.998445"
      ]
     },
     "metadata": {},
     "output_type": "display_data"
    }
   ],
   "source": [
    "from mlfs.metrics import mse as custom_mse, rmse as custom_rmse, r2_score as custom_r2\n",
    "from sklearn.metrics import mean_squared_error, mean_absolute_error, r2_score as sklearn_r2\n",
    "from mlfs.preprocessing import train_test_split, standardize\n",
    "\n",
    "\n",
    "X, y = generate_data(1000)\n",
    "X_train, X_test, y_train, y_test = train_test_split(X,y)\n",
    "\n",
    "custom_model = CustomLinearRegression()\n",
    "custom_model.fit(X_train, y_train, plot_cost=True)\n",
    "sk_model = SklearnLinearRegression()\n",
    "sk_model = sk_model.fit(X_train, y_train)\n",
    "\n",
    "y_pred_custom = custom_model.predict(X_test)\n",
    "y_pred_sk     = sk_model.predict(X_test)\n",
    "\n",
    "mse_c = custom_mse(y_test,y_pred_custom)\n",
    "rmse_c = custom_rmse(y_test, y_pred_custom)\n",
    "r2_c = custom_r2(y_test, y_pred_custom)\n",
    "\n",
    "mse_s  = mean_squared_error(y_test, y_pred_sk)\n",
    "rmse_s = np.sqrt(mse_s) \n",
    "r2_s   = sklearn_r2(y_test, y_pred_sk)\n",
    "\n",
    "df_results = pd.DataFrame({\n",
    "    'model': ['custom', 'sklearn'],\n",
    "    'MSE':   [mse_c, mse_s],\n",
    "    'RMSE':  [rmse_c, rmse_s],\n",
    "    'R2':    [r2_c, r2_s]\n",
    "})\n",
    "\n",
    "display(df_results)\n"
   ]
  },
  {
   "cell_type": "code",
   "execution_count": null,
   "id": "75ef5c74",
   "metadata": {},
   "outputs": [],
   "source": [
    "# 5. Memory Profiling\n",
    "# you may need: pip install memory_profiler\n",
    "\n",
    "from memory_profiler import memory_usage\n",
    "\n",
    "def measure_mem(model, X_train, y_train):\n",
    "    \"\"\"Returns peak Δ RAM (MB) during model.fit.\"\"\"\n",
    "    mem_before = memory_usage()[0]\n",
    "    model.fit(X_train, y_train)\n",
    "    mem_after = memory_usage()[0]\n",
    "    return mem_after - mem_before\n",
    "\n",
    "mem_results = {\n",
    "    'CustomLR': measure_mem(CustomLinearRegression(), X_train, y_train),\n",
    "    'SklearnLR': measure_mem(SklearnLinearRegression(), X_train, y_train),\n",
    "}\n",
    "\n",
    "import pandas as pd\n",
    "pd.DataFrame.from_dict(mem_results, orient='index', columns=['Δ RAM (MB)'])"
   ]
  }
 ],
 "metadata": {
  "kernelspec": {
   "display_name": "Python (.venv mlfs)",
   "language": "python",
   "name": "mlfs_venv"
  },
  "language_info": {
   "codemirror_mode": {
    "name": "ipython",
    "version": 3
   },
   "file_extension": ".py",
   "mimetype": "text/x-python",
   "name": "python",
   "nbconvert_exporter": "python",
   "pygments_lexer": "ipython3",
   "version": "3.13.1"
  }
 },
 "nbformat": 4,
 "nbformat_minor": 5
}
