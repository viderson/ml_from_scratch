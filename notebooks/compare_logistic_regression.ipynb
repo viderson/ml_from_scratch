{
 "cells": [
  {
   "cell_type": "markdown",
   "id": "0d1152e1",
   "metadata": {},
   "source": [
    "# Logistic Regression Model\n",
    "\n",
    "Logistic regression is a widely used model in machine learning for binary classification tasks. It models the probability that a given input belongs to a particular class. The logistic regression model function is represented as:\n",
    "\n",
    "$$ f_{\\mathbf{w},b}(\\mathbf{x}) = g(\\mathbf{w} \\cdot \\mathbf{x} + b) $$\n",
    "\n",
    "In this equation, $f_{\\mathbf{w},b}(\\mathbf{x})$ represents the predicted probability, $\\mathbf{w}$ is the weight vector, $\\mathbf{b}$ is the bias term, $\\mathbf{x}$ is the input feature vector, and $g(z)$ is the sigmoid function:\n",
    "\n",
    "$$ g(z) = \\frac{1}{1 + e^{-z}} $$\n",
    "\n",
    "## Model Training\n",
    "\n",
    "To train a logistic regression model, we aim to find the best values for the parameters $(\\mathbf{w}, b)$ that best fit our dataset and provide accurate class probabilities.\n",
    "\n",
    "### Forward Pass\n",
    "\n",
    "The forward pass computes the linear combination of input features $\\mathbf{x}$ with the weight vector $\\mathbf{w}$ and the bias term $b$ and then applies the sigmoid function to the result:\n",
    "\n",
    "$$ Z = \\mathbf{x} \\cdot \\mathbf{w} + b $$\n",
    "$$ A = \\sigma(Z) $$\n",
    "\n",
    "### Cost Function\n",
    "\n",
    "The cost function measures the error between the predicted probabilities and the true labels. In logistic regression, we use the binary cross-entropy loss function:\n",
    "\n",
    "$$ J(\\mathbf{w},b) = -\\frac{1}{m} \\sum_{i=0}^{m-1} \\left[y_i \\log\\left(f_{\\mathbf{w},b}(\\mathbf{x}_i)\\right) + (1 - y_i) \\log\\left(1 - f_{\\mathbf{w},b}(\\mathbf{x}_i)\\right)\\right] $$\n",
    "\n",
    "Here, $m$ is the number of samples, $y_i$ is the true label of sample $i$, and $f_{\\mathbf{w},b}(\\mathbf{x}_i)$ is the predicted probability of sample $i$ belonging to the positive class.\n",
    "\n",
    "### Backward Pass (Gradient Computation)\n",
    "\n",
    "The backward pass calculates the gradients of the cost function with respect to the parameters $(\\mathbf{w}, b)$. These gradients are essential for updating the model parameters during training:\n",
    "\n",
    "$$ \\frac{\\partial J(\\mathbf{w},b)}{\\partial b} = \\frac{1}{m} \\sum_{i=0}^{m-1} \\left(f_{\\mathbf{w},b}(\\mathbf{x}_i) - y_i\\right) $$\n",
    "\n",
    "$$ \\frac{\\partial J(\\mathbf{w},b)}{\\partial \\mathbf{w}} = \\frac{1}{m} \\sum_{i=0}^{m-1} \\left(f_{\\mathbf{w},b}(\\mathbf{x}_i) - y_i\\right)\\mathbf{x}_i $$\n",
    "\n",
    "## Training Process\n",
    "\n",
    "The training process involves iteratively updating the weight vector $\\mathbf{w}$ and bias term $b$ to minimize the cost function. This is typically done through an optimization algorithm like gradient descent. The update equations for parameters are:\n",
    "\n",
    "$$ \\mathbf{w} \\leftarrow \\mathbf{w} - \\alpha \\frac{\\partial J}{\\partial \\mathbf{w}} $$\n",
    "\n",
    "$$ b \\leftarrow b - \\alpha \\frac{\\partial J}{\\partial b} $$\n",
    "\n",
    "Here, $\\alpha$ represents the learning rate, which controls the step size during parameter updates.\n",
    "\n",
    "By iteratively performing the forward pass, computing the cost, performing the backward pass, and updating the parameters, the logistic regression model learns to make better predictions and fit the data.\n"
   ]
  },
  {
   "cell_type": "markdown",
   "id": "26ba02f8",
   "metadata": {},
   "source": [
    "**Visualize the shape of the  Logistic function**"
   ]
  },
  {
   "cell_type": "code",
   "execution_count": 28,
   "id": "9bf57ddc",
   "metadata": {},
   "outputs": [
    {
     "data": {
      "application/vnd.plotly.v1+json": {
       "config": {
        "plotlyServerURL": "https://plot.ly"
       },
       "data": [
        {
         "hovertemplate": "x=%{x}<br>y=%{y}<extra></extra>",
         "legendgroup": "",
         "line": {
          "color": "#636efa",
          "dash": "solid"
         },
         "marker": {
          "symbol": "circle"
         },
         "mode": "lines",
         "name": "",
         "orientation": "v",
         "showlegend": false,
         "type": "scatter",
         "x": {
          "bdata": "AAAAAAAAKMCP51RSQMInwB7PqaSAhCfArLb+9sBGJ8A7nlNJAQknwMqFqJtByybAWW397YGNJsDoVFJAwk8mwHY8p5ICEibABST85ELUJcCUC1E3g5YlwCPzpYnDWCXAstr62wMbJcBAwk8uRN0kwM+ppICEnyTAXpH50sRhJMDteE4lBSQkwHxgo3dF5iPACkj4yYWoI8CZL00cxmojwCgXom4GLSPAt/72wEbvIsBG5ksTh7EiwNTNoGXHcyLAY7X1twc2IsDynEoKSPghwIGEn1yIuiHAEGz0rsh8IcCeU0kBCT8hwC07nlNJASHAvCLzpYnDIMBLCkj4yYUgwNrxnEoKSCDAaNnxnEoKIMDugY3eFZkfwAxRN4OWHR/AKSDhJxeiHsBH74rMlyYewGW+NHEYqx3Ago3eFZkvHcCgXIi6GbQcwL0rMl+aOBzA2/rbAxu9G8D5yYWom0EbwBaZL00cxhrANGjZ8ZxKGsBRN4OWHc8ZwG8GLTueUxnAjNXW3x7YGMCqpICEn1wYwMhzKikg4RfA5ULUzaBlF8ADEn5yIeoWwCDhJxeibhbAPrDRuyLzFcBcf3tgo3cVwHlOJQUk/BTAlx3PqaSAFMC07HhOJQUUwNK7IvOliRPA8IrMlyYOE8ANWnY8p5ISwCspIOEnFxLASPjJhaibEcBmx3MqKSARwISWHc+ppBDAoWXHcyopEMB8aeIwVlsPwLgHNnpXZA7A9KWJw1htDcAwRN0MWnYMwGziMFZbfwvApICEn1yICsDgHtjoXZEJwBy9KzJfmgjAWFt/e2CjB8CU+dLEYawGwMyXJg5jtQXACDZ6V2S+BMBE1M2gZccDwIByIepm0ALAvBB1M2jZAcD0rsh8aeIAwGCaOIzV1v+/2NbfHtjo/b9QE4ex2vr7v8hPLkTdDPq/OIzV1t8e+L+wyHxp4jD2vygFJPzkQvS/oEHLjudU8r8YfnIh6mbwvxB1M2jZ8ey/AO6Bjd4V6b/wZtCy4znlv+DfHtjoXeG/gLHa+tsD279go3dF5kvTv4AqKSDhJ8e/ADmM1dbfrr8AOIzV1t+uP4AqKSDhJ8c/YKN3ReZL0z+Asdr62wPbP9DfHtjoXeE/4GbQsuM55T8A7oGN3hXpPxB1M2jZ8ew/EH5yIepm8D+YQcuO51TyPyAFJPzkQvQ/sMh8aeIw9j84jNXW3x74P8BPLkTdDPo/SBOHsdr6+z/Q1t8e2Oj9P2CaOIzV1v8/9K7IfGniAEC4EHUzaNkBQHxyIepm0AJAQNTNoGXHA0AINnpXZL4EQMyXJg5jtQVAkPnSxGGsBkBUW397YKMHQBi9KzJfmghA4B7Y6F2RCUCkgISfXIgKQGjiMFZbfwtALETdDFp2DEDwpYnDWG0NQLgHNnpXZA5AfGniMFZbD0CgZcdzKikQQISWHc+ppBBAZMdzKikgEUBI+MmFqJsRQCgpIOEnFxJADFp2PKeSEkDwisyXJg4TQNC7IvOliRNAtOx4TiUFFECUHc+ppIAUQHhOJQUk/BRAXH97YKN3FUA8sNG7IvMVQCDhJxeibhZAABJ+ciHqFkDkQtTNoGUXQMhzKikg4RdAqKSAhJ9cGECM1dbfHtgYQGwGLTueUxlAUDeDlh3PGUA0aNnxnEoaQBSZL00cxhpA+MmFqJtBG0DY+tsDG70bQLwrMl+aOBxAoFyIuhm0HECAjd4VmS8dQGS+NHEYqx1ARO+KzJcmHkAoIOEnF6IeQAxRN4OWHR9A7IGN3hWZH0Bo2fGcSgogQNjxnEoKSCBASgpI+MmFIEC8IvOlicMgQCw7nlNJASFAnlNJAQk/IUAObPSuyHwhQICEn1yIuiFA8pxKCkj4IUBitfW3BzYiQNTNoGXHcyJAROZLE4exIkC2/vbARu8iQCgXom4GLSNAmC9NHMZqI0AKSPjJhagjQHpgo3dF5iNA7HhOJQUkJEBekfnSxGEkQM6ppICEnyRAQMJPLkTdJECw2vrbAxslQCLzpYnDWCVAlAtRN4OWJUAEJPzkQtQlQHY8p5ICEiZA6FRSQMJPJkBYbf3tgY0mQMqFqJtByyZAOp5TSQEJJ0Cstv72wEYnQB7PqaSAhCdAjudUUkDCJ0AAAAAAAAAoQA==",
          "dtype": "f8"
         },
         "xaxis": "x",
         "y": {
          "bdata": "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",
          "dtype": "f8"
         },
         "yaxis": "y"
        }
       ],
       "layout": {
        "legend": {
         "tracegroupgap": 0
        },
        "template": {
         "data": {
          "bar": [
           {
            "error_x": {
             "color": "#f2f5fa"
            },
            "error_y": {
             "color": "#f2f5fa"
            },
            "marker": {
             "line": {
              "color": "rgb(17,17,17)",
              "width": 0.5
             },
             "pattern": {
              "fillmode": "overlay",
              "size": 10,
              "solidity": 0.2
             }
            },
            "type": "bar"
           }
          ],
          "barpolar": [
           {
            "marker": {
             "line": {
              "color": "rgb(17,17,17)",
              "width": 0.5
             },
             "pattern": {
              "fillmode": "overlay",
              "size": 10,
              "solidity": 0.2
             }
            },
            "type": "barpolar"
           }
          ],
          "carpet": [
           {
            "aaxis": {
             "endlinecolor": "#A2B1C6",
             "gridcolor": "#506784",
             "linecolor": "#506784",
             "minorgridcolor": "#506784",
             "startlinecolor": "#A2B1C6"
            },
            "baxis": {
             "endlinecolor": "#A2B1C6",
             "gridcolor": "#506784",
             "linecolor": "#506784",
             "minorgridcolor": "#506784",
             "startlinecolor": "#A2B1C6"
            },
            "type": "carpet"
           }
          ],
          "choropleth": [
           {
            "colorbar": {
             "outlinewidth": 0,
             "ticks": ""
            },
            "type": "choropleth"
           }
          ],
          "contour": [
           {
            "colorbar": {
             "outlinewidth": 0,
             "ticks": ""
            },
            "colorscale": [
             [
              0,
              "#0d0887"
             ],
             [
              0.1111111111111111,
              "#46039f"
             ],
             [
              0.2222222222222222,
              "#7201a8"
             ],
             [
              0.3333333333333333,
              "#9c179e"
             ],
             [
              0.4444444444444444,
              "#bd3786"
             ],
             [
              0.5555555555555556,
              "#d8576b"
             ],
             [
              0.6666666666666666,
              "#ed7953"
             ],
             [
              0.7777777777777778,
              "#fb9f3a"
             ],
             [
              0.8888888888888888,
              "#fdca26"
             ],
             [
              1,
              "#f0f921"
             ]
            ],
            "type": "contour"
           }
          ],
          "contourcarpet": [
           {
            "colorbar": {
             "outlinewidth": 0,
             "ticks": ""
            },
            "type": "contourcarpet"
           }
          ],
          "heatmap": [
           {
            "colorbar": {
             "outlinewidth": 0,
             "ticks": ""
            },
            "colorscale": [
             [
              0,
              "#0d0887"
             ],
             [
              0.1111111111111111,
              "#46039f"
             ],
             [
              0.2222222222222222,
              "#7201a8"
             ],
             [
              0.3333333333333333,
              "#9c179e"
             ],
             [
              0.4444444444444444,
              "#bd3786"
             ],
             [
              0.5555555555555556,
              "#d8576b"
             ],
             [
              0.6666666666666666,
              "#ed7953"
             ],
             [
              0.7777777777777778,
              "#fb9f3a"
             ],
             [
              0.8888888888888888,
              "#fdca26"
             ],
             [
              1,
              "#f0f921"
             ]
            ],
            "type": "heatmap"
           }
          ],
          "histogram": [
           {
            "marker": {
             "pattern": {
              "fillmode": "overlay",
              "size": 10,
              "solidity": 0.2
             }
            },
            "type": "histogram"
           }
          ],
          "histogram2d": [
           {
            "colorbar": {
             "outlinewidth": 0,
             "ticks": ""
            },
            "colorscale": [
             [
              0,
              "#0d0887"
             ],
             [
              0.1111111111111111,
              "#46039f"
             ],
             [
              0.2222222222222222,
              "#7201a8"
             ],
             [
              0.3333333333333333,
              "#9c179e"
             ],
             [
              0.4444444444444444,
              "#bd3786"
             ],
             [
              0.5555555555555556,
              "#d8576b"
             ],
             [
              0.6666666666666666,
              "#ed7953"
             ],
             [
              0.7777777777777778,
              "#fb9f3a"
             ],
             [
              0.8888888888888888,
              "#fdca26"
             ],
             [
              1,
              "#f0f921"
             ]
            ],
            "type": "histogram2d"
           }
          ],
          "histogram2dcontour": [
           {
            "colorbar": {
             "outlinewidth": 0,
             "ticks": ""
            },
            "colorscale": [
             [
              0,
              "#0d0887"
             ],
             [
              0.1111111111111111,
              "#46039f"
             ],
             [
              0.2222222222222222,
              "#7201a8"
             ],
             [
              0.3333333333333333,
              "#9c179e"
             ],
             [
              0.4444444444444444,
              "#bd3786"
             ],
             [
              0.5555555555555556,
              "#d8576b"
             ],
             [
              0.6666666666666666,
              "#ed7953"
             ],
             [
              0.7777777777777778,
              "#fb9f3a"
             ],
             [
              0.8888888888888888,
              "#fdca26"
             ],
             [
              1,
              "#f0f921"
             ]
            ],
            "type": "histogram2dcontour"
           }
          ],
          "mesh3d": [
           {
            "colorbar": {
             "outlinewidth": 0,
             "ticks": ""
            },
            "type": "mesh3d"
           }
          ],
          "parcoords": [
           {
            "line": {
             "colorbar": {
              "outlinewidth": 0,
              "ticks": ""
             }
            },
            "type": "parcoords"
           }
          ],
          "pie": [
           {
            "automargin": true,
            "type": "pie"
           }
          ],
          "scatter": [
           {
            "marker": {
             "line": {
              "color": "#283442"
             }
            },
            "type": "scatter"
           }
          ],
          "scatter3d": [
           {
            "line": {
             "colorbar": {
              "outlinewidth": 0,
              "ticks": ""
             }
            },
            "marker": {
             "colorbar": {
              "outlinewidth": 0,
              "ticks": ""
             }
            },
            "type": "scatter3d"
           }
          ],
          "scattercarpet": [
           {
            "marker": {
             "colorbar": {
              "outlinewidth": 0,
              "ticks": ""
             }
            },
            "type": "scattercarpet"
           }
          ],
          "scattergeo": [
           {
            "marker": {
             "colorbar": {
              "outlinewidth": 0,
              "ticks": ""
             }
            },
            "type": "scattergeo"
           }
          ],
          "scattergl": [
           {
            "marker": {
             "line": {
              "color": "#283442"
             }
            },
            "type": "scattergl"
           }
          ],
          "scattermap": [
           {
            "marker": {
             "colorbar": {
              "outlinewidth": 0,
              "ticks": ""
             }
            },
            "type": "scattermap"
           }
          ],
          "scattermapbox": [
           {
            "marker": {
             "colorbar": {
              "outlinewidth": 0,
              "ticks": ""
             }
            },
            "type": "scattermapbox"
           }
          ],
          "scatterpolar": [
           {
            "marker": {
             "colorbar": {
              "outlinewidth": 0,
              "ticks": ""
             }
            },
            "type": "scatterpolar"
           }
          ],
          "scatterpolargl": [
           {
            "marker": {
             "colorbar": {
              "outlinewidth": 0,
              "ticks": ""
             }
            },
            "type": "scatterpolargl"
           }
          ],
          "scatterternary": [
           {
            "marker": {
             "colorbar": {
              "outlinewidth": 0,
              "ticks": ""
             }
            },
            "type": "scatterternary"
           }
          ],
          "surface": [
           {
            "colorbar": {
             "outlinewidth": 0,
             "ticks": ""
            },
            "colorscale": [
             [
              0,
              "#0d0887"
             ],
             [
              0.1111111111111111,
              "#46039f"
             ],
             [
              0.2222222222222222,
              "#7201a8"
             ],
             [
              0.3333333333333333,
              "#9c179e"
             ],
             [
              0.4444444444444444,
              "#bd3786"
             ],
             [
              0.5555555555555556,
              "#d8576b"
             ],
             [
              0.6666666666666666,
              "#ed7953"
             ],
             [
              0.7777777777777778,
              "#fb9f3a"
             ],
             [
              0.8888888888888888,
              "#fdca26"
             ],
             [
              1,
              "#f0f921"
             ]
            ],
            "type": "surface"
           }
          ],
          "table": [
           {
            "cells": {
             "fill": {
              "color": "#506784"
             },
             "line": {
              "color": "rgb(17,17,17)"
             }
            },
            "header": {
             "fill": {
              "color": "#2a3f5f"
             },
             "line": {
              "color": "rgb(17,17,17)"
             }
            },
            "type": "table"
           }
          ]
         },
         "layout": {
          "annotationdefaults": {
           "arrowcolor": "#f2f5fa",
           "arrowhead": 0,
           "arrowwidth": 1
          },
          "autotypenumbers": "strict",
          "coloraxis": {
           "colorbar": {
            "outlinewidth": 0,
            "ticks": ""
           }
          },
          "colorscale": {
           "diverging": [
            [
             0,
             "#8e0152"
            ],
            [
             0.1,
             "#c51b7d"
            ],
            [
             0.2,
             "#de77ae"
            ],
            [
             0.3,
             "#f1b6da"
            ],
            [
             0.4,
             "#fde0ef"
            ],
            [
             0.5,
             "#f7f7f7"
            ],
            [
             0.6,
             "#e6f5d0"
            ],
            [
             0.7,
             "#b8e186"
            ],
            [
             0.8,
             "#7fbc41"
            ],
            [
             0.9,
             "#4d9221"
            ],
            [
             1,
             "#276419"
            ]
           ],
           "sequential": [
            [
             0,
             "#0d0887"
            ],
            [
             0.1111111111111111,
             "#46039f"
            ],
            [
             0.2222222222222222,
             "#7201a8"
            ],
            [
             0.3333333333333333,
             "#9c179e"
            ],
            [
             0.4444444444444444,
             "#bd3786"
            ],
            [
             0.5555555555555556,
             "#d8576b"
            ],
            [
             0.6666666666666666,
             "#ed7953"
            ],
            [
             0.7777777777777778,
             "#fb9f3a"
            ],
            [
             0.8888888888888888,
             "#fdca26"
            ],
            [
             1,
             "#f0f921"
            ]
           ],
           "sequentialminus": [
            [
             0,
             "#0d0887"
            ],
            [
             0.1111111111111111,
             "#46039f"
            ],
            [
             0.2222222222222222,
             "#7201a8"
            ],
            [
             0.3333333333333333,
             "#9c179e"
            ],
            [
             0.4444444444444444,
             "#bd3786"
            ],
            [
             0.5555555555555556,
             "#d8576b"
            ],
            [
             0.6666666666666666,
             "#ed7953"
            ],
            [
             0.7777777777777778,
             "#fb9f3a"
            ],
            [
             0.8888888888888888,
             "#fdca26"
            ],
            [
             1,
             "#f0f921"
            ]
           ]
          },
          "colorway": [
           "#636efa",
           "#EF553B",
           "#00cc96",
           "#ab63fa",
           "#FFA15A",
           "#19d3f3",
           "#FF6692",
           "#B6E880",
           "#FF97FF",
           "#FECB52"
          ],
          "font": {
           "color": "#f2f5fa"
          },
          "geo": {
           "bgcolor": "rgb(17,17,17)",
           "lakecolor": "rgb(17,17,17)",
           "landcolor": "rgb(17,17,17)",
           "showlakes": true,
           "showland": true,
           "subunitcolor": "#506784"
          },
          "hoverlabel": {
           "align": "left"
          },
          "hovermode": "closest",
          "mapbox": {
           "style": "dark"
          },
          "paper_bgcolor": "rgb(17,17,17)",
          "plot_bgcolor": "rgb(17,17,17)",
          "polar": {
           "angularaxis": {
            "gridcolor": "#506784",
            "linecolor": "#506784",
            "ticks": ""
           },
           "bgcolor": "rgb(17,17,17)",
           "radialaxis": {
            "gridcolor": "#506784",
            "linecolor": "#506784",
            "ticks": ""
           }
          },
          "scene": {
           "xaxis": {
            "backgroundcolor": "rgb(17,17,17)",
            "gridcolor": "#506784",
            "gridwidth": 2,
            "linecolor": "#506784",
            "showbackground": true,
            "ticks": "",
            "zerolinecolor": "#C8D4E3"
           },
           "yaxis": {
            "backgroundcolor": "rgb(17,17,17)",
            "gridcolor": "#506784",
            "gridwidth": 2,
            "linecolor": "#506784",
            "showbackground": true,
            "ticks": "",
            "zerolinecolor": "#C8D4E3"
           },
           "zaxis": {
            "backgroundcolor": "rgb(17,17,17)",
            "gridcolor": "#506784",
            "gridwidth": 2,
            "linecolor": "#506784",
            "showbackground": true,
            "ticks": "",
            "zerolinecolor": "#C8D4E3"
           }
          },
          "shapedefaults": {
           "line": {
            "color": "#f2f5fa"
           }
          },
          "sliderdefaults": {
           "bgcolor": "#C8D4E3",
           "bordercolor": "rgb(17,17,17)",
           "borderwidth": 1,
           "tickwidth": 0
          },
          "ternary": {
           "aaxis": {
            "gridcolor": "#506784",
            "linecolor": "#506784",
            "ticks": ""
           },
           "baxis": {
            "gridcolor": "#506784",
            "linecolor": "#506784",
            "ticks": ""
           },
           "bgcolor": "rgb(17,17,17)",
           "caxis": {
            "gridcolor": "#506784",
            "linecolor": "#506784",
            "ticks": ""
           }
          },
          "title": {
           "x": 0.05
          },
          "updatemenudefaults": {
           "bgcolor": "#506784",
           "borderwidth": 0
          },
          "xaxis": {
           "automargin": true,
           "gridcolor": "#283442",
           "linecolor": "#506784",
           "ticks": "",
           "title": {
            "standoff": 15
           },
           "zerolinecolor": "#283442",
           "zerolinewidth": 2
          },
          "yaxis": {
           "automargin": true,
           "gridcolor": "#283442",
           "linecolor": "#506784",
           "ticks": "",
           "title": {
            "standoff": 15
           },
           "zerolinecolor": "#283442",
           "zerolinewidth": 2
          }
         }
        },
        "title": {
         "text": "Logistic Function"
        },
        "xaxis": {
         "anchor": "y",
         "domain": [
          0,
          1
         ],
         "title": {
          "text": "x"
         }
        },
        "yaxis": {
         "anchor": "x",
         "domain": [
          0,
          1
         ],
         "title": {
          "text": "y"
         }
        }
       }
      }
     },
     "metadata": {},
     "output_type": "display_data"
    }
   ],
   "source": [
    "import numpy as np\n",
    "import plotly.express as px\n",
    "\n",
    "def sigmoid(z):\n",
    "    return 1 / (1 + np.exp(-z))\n",
    "\n",
    "z = np.linspace(-12, 12, 200)\n",
    "fig = px.line(x=z, y=sigmoid(z),title='Logistic Function',template=\"plotly_dark\")\n",
    "\n",
    "fig.show()"
   ]
  },
  {
   "cell_type": "code",
   "execution_count": 17,
   "id": "9edce292",
   "metadata": {},
   "outputs": [
    {
     "data": {
      "text/html": [
       "<div>\n",
       "<style scoped>\n",
       "    .dataframe tbody tr th:only-of-type {\n",
       "        vertical-align: middle;\n",
       "    }\n",
       "\n",
       "    .dataframe tbody tr th {\n",
       "        vertical-align: top;\n",
       "    }\n",
       "\n",
       "    .dataframe thead th {\n",
       "        text-align: right;\n",
       "    }\n",
       "</style>\n",
       "<table border=\"1\" class=\"dataframe\">\n",
       "  <thead>\n",
       "    <tr style=\"text-align: right;\">\n",
       "      <th></th>\n",
       "      <th>id</th>\n",
       "      <th>diagnosis</th>\n",
       "      <th>radius_mean</th>\n",
       "      <th>texture_mean</th>\n",
       "      <th>perimeter_mean</th>\n",
       "      <th>area_mean</th>\n",
       "      <th>smoothness_mean</th>\n",
       "      <th>compactness_mean</th>\n",
       "      <th>concavity_mean</th>\n",
       "      <th>concave points_mean</th>\n",
       "      <th>...</th>\n",
       "      <th>radius_worst</th>\n",
       "      <th>texture_worst</th>\n",
       "      <th>perimeter_worst</th>\n",
       "      <th>area_worst</th>\n",
       "      <th>smoothness_worst</th>\n",
       "      <th>compactness_worst</th>\n",
       "      <th>concavity_worst</th>\n",
       "      <th>concave points_worst</th>\n",
       "      <th>symmetry_worst</th>\n",
       "      <th>fractal_dimension_worst</th>\n",
       "    </tr>\n",
       "  </thead>\n",
       "  <tbody>\n",
       "    <tr>\n",
       "      <th>0</th>\n",
       "      <td>842302</td>\n",
       "      <td>M</td>\n",
       "      <td>17.99</td>\n",
       "      <td>10.38</td>\n",
       "      <td>122.80</td>\n",
       "      <td>1001.0</td>\n",
       "      <td>0.11840</td>\n",
       "      <td>0.27760</td>\n",
       "      <td>0.30010</td>\n",
       "      <td>0.14710</td>\n",
       "      <td>...</td>\n",
       "      <td>25.380</td>\n",
       "      <td>17.33</td>\n",
       "      <td>184.60</td>\n",
       "      <td>2019.0</td>\n",
       "      <td>0.16220</td>\n",
       "      <td>0.66560</td>\n",
       "      <td>0.7119</td>\n",
       "      <td>0.2654</td>\n",
       "      <td>0.4601</td>\n",
       "      <td>0.11890</td>\n",
       "    </tr>\n",
       "    <tr>\n",
       "      <th>1</th>\n",
       "      <td>842517</td>\n",
       "      <td>M</td>\n",
       "      <td>20.57</td>\n",
       "      <td>17.77</td>\n",
       "      <td>132.90</td>\n",
       "      <td>1326.0</td>\n",
       "      <td>0.08474</td>\n",
       "      <td>0.07864</td>\n",
       "      <td>0.08690</td>\n",
       "      <td>0.07017</td>\n",
       "      <td>...</td>\n",
       "      <td>24.990</td>\n",
       "      <td>23.41</td>\n",
       "      <td>158.80</td>\n",
       "      <td>1956.0</td>\n",
       "      <td>0.12380</td>\n",
       "      <td>0.18660</td>\n",
       "      <td>0.2416</td>\n",
       "      <td>0.1860</td>\n",
       "      <td>0.2750</td>\n",
       "      <td>0.08902</td>\n",
       "    </tr>\n",
       "    <tr>\n",
       "      <th>2</th>\n",
       "      <td>84300903</td>\n",
       "      <td>M</td>\n",
       "      <td>19.69</td>\n",
       "      <td>21.25</td>\n",
       "      <td>130.00</td>\n",
       "      <td>1203.0</td>\n",
       "      <td>0.10960</td>\n",
       "      <td>0.15990</td>\n",
       "      <td>0.19740</td>\n",
       "      <td>0.12790</td>\n",
       "      <td>...</td>\n",
       "      <td>23.570</td>\n",
       "      <td>25.53</td>\n",
       "      <td>152.50</td>\n",
       "      <td>1709.0</td>\n",
       "      <td>0.14440</td>\n",
       "      <td>0.42450</td>\n",
       "      <td>0.4504</td>\n",
       "      <td>0.2430</td>\n",
       "      <td>0.3613</td>\n",
       "      <td>0.08758</td>\n",
       "    </tr>\n",
       "    <tr>\n",
       "      <th>3</th>\n",
       "      <td>84348301</td>\n",
       "      <td>M</td>\n",
       "      <td>11.42</td>\n",
       "      <td>20.38</td>\n",
       "      <td>77.58</td>\n",
       "      <td>386.1</td>\n",
       "      <td>0.14250</td>\n",
       "      <td>0.28390</td>\n",
       "      <td>0.24140</td>\n",
       "      <td>0.10520</td>\n",
       "      <td>...</td>\n",
       "      <td>14.910</td>\n",
       "      <td>26.50</td>\n",
       "      <td>98.87</td>\n",
       "      <td>567.7</td>\n",
       "      <td>0.20980</td>\n",
       "      <td>0.86630</td>\n",
       "      <td>0.6869</td>\n",
       "      <td>0.2575</td>\n",
       "      <td>0.6638</td>\n",
       "      <td>0.17300</td>\n",
       "    </tr>\n",
       "    <tr>\n",
       "      <th>4</th>\n",
       "      <td>84358402</td>\n",
       "      <td>M</td>\n",
       "      <td>20.29</td>\n",
       "      <td>14.34</td>\n",
       "      <td>135.10</td>\n",
       "      <td>1297.0</td>\n",
       "      <td>0.10030</td>\n",
       "      <td>0.13280</td>\n",
       "      <td>0.19800</td>\n",
       "      <td>0.10430</td>\n",
       "      <td>...</td>\n",
       "      <td>22.540</td>\n",
       "      <td>16.67</td>\n",
       "      <td>152.20</td>\n",
       "      <td>1575.0</td>\n",
       "      <td>0.13740</td>\n",
       "      <td>0.20500</td>\n",
       "      <td>0.4000</td>\n",
       "      <td>0.1625</td>\n",
       "      <td>0.2364</td>\n",
       "      <td>0.07678</td>\n",
       "    </tr>\n",
       "    <tr>\n",
       "      <th>...</th>\n",
       "      <td>...</td>\n",
       "      <td>...</td>\n",
       "      <td>...</td>\n",
       "      <td>...</td>\n",
       "      <td>...</td>\n",
       "      <td>...</td>\n",
       "      <td>...</td>\n",
       "      <td>...</td>\n",
       "      <td>...</td>\n",
       "      <td>...</td>\n",
       "      <td>...</td>\n",
       "      <td>...</td>\n",
       "      <td>...</td>\n",
       "      <td>...</td>\n",
       "      <td>...</td>\n",
       "      <td>...</td>\n",
       "      <td>...</td>\n",
       "      <td>...</td>\n",
       "      <td>...</td>\n",
       "      <td>...</td>\n",
       "      <td>...</td>\n",
       "    </tr>\n",
       "    <tr>\n",
       "      <th>564</th>\n",
       "      <td>926424</td>\n",
       "      <td>M</td>\n",
       "      <td>21.56</td>\n",
       "      <td>22.39</td>\n",
       "      <td>142.00</td>\n",
       "      <td>1479.0</td>\n",
       "      <td>0.11100</td>\n",
       "      <td>0.11590</td>\n",
       "      <td>0.24390</td>\n",
       "      <td>0.13890</td>\n",
       "      <td>...</td>\n",
       "      <td>25.450</td>\n",
       "      <td>26.40</td>\n",
       "      <td>166.10</td>\n",
       "      <td>2027.0</td>\n",
       "      <td>0.14100</td>\n",
       "      <td>0.21130</td>\n",
       "      <td>0.4107</td>\n",
       "      <td>0.2216</td>\n",
       "      <td>0.2060</td>\n",
       "      <td>0.07115</td>\n",
       "    </tr>\n",
       "    <tr>\n",
       "      <th>565</th>\n",
       "      <td>926682</td>\n",
       "      <td>M</td>\n",
       "      <td>20.13</td>\n",
       "      <td>28.25</td>\n",
       "      <td>131.20</td>\n",
       "      <td>1261.0</td>\n",
       "      <td>0.09780</td>\n",
       "      <td>0.10340</td>\n",
       "      <td>0.14400</td>\n",
       "      <td>0.09791</td>\n",
       "      <td>...</td>\n",
       "      <td>23.690</td>\n",
       "      <td>38.25</td>\n",
       "      <td>155.00</td>\n",
       "      <td>1731.0</td>\n",
       "      <td>0.11660</td>\n",
       "      <td>0.19220</td>\n",
       "      <td>0.3215</td>\n",
       "      <td>0.1628</td>\n",
       "      <td>0.2572</td>\n",
       "      <td>0.06637</td>\n",
       "    </tr>\n",
       "    <tr>\n",
       "      <th>566</th>\n",
       "      <td>926954</td>\n",
       "      <td>M</td>\n",
       "      <td>16.60</td>\n",
       "      <td>28.08</td>\n",
       "      <td>108.30</td>\n",
       "      <td>858.1</td>\n",
       "      <td>0.08455</td>\n",
       "      <td>0.10230</td>\n",
       "      <td>0.09251</td>\n",
       "      <td>0.05302</td>\n",
       "      <td>...</td>\n",
       "      <td>18.980</td>\n",
       "      <td>34.12</td>\n",
       "      <td>126.70</td>\n",
       "      <td>1124.0</td>\n",
       "      <td>0.11390</td>\n",
       "      <td>0.30940</td>\n",
       "      <td>0.3403</td>\n",
       "      <td>0.1418</td>\n",
       "      <td>0.2218</td>\n",
       "      <td>0.07820</td>\n",
       "    </tr>\n",
       "    <tr>\n",
       "      <th>567</th>\n",
       "      <td>927241</td>\n",
       "      <td>M</td>\n",
       "      <td>20.60</td>\n",
       "      <td>29.33</td>\n",
       "      <td>140.10</td>\n",
       "      <td>1265.0</td>\n",
       "      <td>0.11780</td>\n",
       "      <td>0.27700</td>\n",
       "      <td>0.35140</td>\n",
       "      <td>0.15200</td>\n",
       "      <td>...</td>\n",
       "      <td>25.740</td>\n",
       "      <td>39.42</td>\n",
       "      <td>184.60</td>\n",
       "      <td>1821.0</td>\n",
       "      <td>0.16500</td>\n",
       "      <td>0.86810</td>\n",
       "      <td>0.9387</td>\n",
       "      <td>0.2650</td>\n",
       "      <td>0.4087</td>\n",
       "      <td>0.12400</td>\n",
       "    </tr>\n",
       "    <tr>\n",
       "      <th>568</th>\n",
       "      <td>92751</td>\n",
       "      <td>B</td>\n",
       "      <td>7.76</td>\n",
       "      <td>24.54</td>\n",
       "      <td>47.92</td>\n",
       "      <td>181.0</td>\n",
       "      <td>0.05263</td>\n",
       "      <td>0.04362</td>\n",
       "      <td>0.00000</td>\n",
       "      <td>0.00000</td>\n",
       "      <td>...</td>\n",
       "      <td>9.456</td>\n",
       "      <td>30.37</td>\n",
       "      <td>59.16</td>\n",
       "      <td>268.6</td>\n",
       "      <td>0.08996</td>\n",
       "      <td>0.06444</td>\n",
       "      <td>0.0000</td>\n",
       "      <td>0.0000</td>\n",
       "      <td>0.2871</td>\n",
       "      <td>0.07039</td>\n",
       "    </tr>\n",
       "  </tbody>\n",
       "</table>\n",
       "<p>569 rows × 32 columns</p>\n",
       "</div>"
      ],
      "text/plain": [
       "           id diagnosis  radius_mean  texture_mean  perimeter_mean  area_mean  \\\n",
       "0      842302         M        17.99         10.38          122.80     1001.0   \n",
       "1      842517         M        20.57         17.77          132.90     1326.0   \n",
       "2    84300903         M        19.69         21.25          130.00     1203.0   \n",
       "3    84348301         M        11.42         20.38           77.58      386.1   \n",
       "4    84358402         M        20.29         14.34          135.10     1297.0   \n",
       "..        ...       ...          ...           ...             ...        ...   \n",
       "564    926424         M        21.56         22.39          142.00     1479.0   \n",
       "565    926682         M        20.13         28.25          131.20     1261.0   \n",
       "566    926954         M        16.60         28.08          108.30      858.1   \n",
       "567    927241         M        20.60         29.33          140.10     1265.0   \n",
       "568     92751         B         7.76         24.54           47.92      181.0   \n",
       "\n",
       "     smoothness_mean  compactness_mean  concavity_mean  concave points_mean  \\\n",
       "0            0.11840           0.27760         0.30010              0.14710   \n",
       "1            0.08474           0.07864         0.08690              0.07017   \n",
       "2            0.10960           0.15990         0.19740              0.12790   \n",
       "3            0.14250           0.28390         0.24140              0.10520   \n",
       "4            0.10030           0.13280         0.19800              0.10430   \n",
       "..               ...               ...             ...                  ...   \n",
       "564          0.11100           0.11590         0.24390              0.13890   \n",
       "565          0.09780           0.10340         0.14400              0.09791   \n",
       "566          0.08455           0.10230         0.09251              0.05302   \n",
       "567          0.11780           0.27700         0.35140              0.15200   \n",
       "568          0.05263           0.04362         0.00000              0.00000   \n",
       "\n",
       "     ...  radius_worst  texture_worst  perimeter_worst  area_worst  \\\n",
       "0    ...        25.380          17.33           184.60      2019.0   \n",
       "1    ...        24.990          23.41           158.80      1956.0   \n",
       "2    ...        23.570          25.53           152.50      1709.0   \n",
       "3    ...        14.910          26.50            98.87       567.7   \n",
       "4    ...        22.540          16.67           152.20      1575.0   \n",
       "..   ...           ...            ...              ...         ...   \n",
       "564  ...        25.450          26.40           166.10      2027.0   \n",
       "565  ...        23.690          38.25           155.00      1731.0   \n",
       "566  ...        18.980          34.12           126.70      1124.0   \n",
       "567  ...        25.740          39.42           184.60      1821.0   \n",
       "568  ...         9.456          30.37            59.16       268.6   \n",
       "\n",
       "     smoothness_worst  compactness_worst  concavity_worst  \\\n",
       "0             0.16220            0.66560           0.7119   \n",
       "1             0.12380            0.18660           0.2416   \n",
       "2             0.14440            0.42450           0.4504   \n",
       "3             0.20980            0.86630           0.6869   \n",
       "4             0.13740            0.20500           0.4000   \n",
       "..                ...                ...              ...   \n",
       "564           0.14100            0.21130           0.4107   \n",
       "565           0.11660            0.19220           0.3215   \n",
       "566           0.11390            0.30940           0.3403   \n",
       "567           0.16500            0.86810           0.9387   \n",
       "568           0.08996            0.06444           0.0000   \n",
       "\n",
       "     concave points_worst  symmetry_worst  fractal_dimension_worst  \n",
       "0                  0.2654          0.4601                  0.11890  \n",
       "1                  0.1860          0.2750                  0.08902  \n",
       "2                  0.2430          0.3613                  0.08758  \n",
       "3                  0.2575          0.6638                  0.17300  \n",
       "4                  0.1625          0.2364                  0.07678  \n",
       "..                    ...             ...                      ...  \n",
       "564                0.2216          0.2060                  0.07115  \n",
       "565                0.1628          0.2572                  0.06637  \n",
       "566                0.1418          0.2218                  0.07820  \n",
       "567                0.2650          0.4087                  0.12400  \n",
       "568                0.0000          0.2871                  0.07039  \n",
       "\n",
       "[569 rows x 32 columns]"
      ]
     },
     "execution_count": 17,
     "metadata": {},
     "output_type": "execute_result"
    }
   ],
   "source": [
    "import pandas as pd\n",
    "from pathlib import Path\n",
    "import sys\n",
    "df = pd.read_csv(\"../data/breast-cancer.csv\")\n",
    "df"
   ]
  },
  {
   "cell_type": "code",
   "execution_count": null,
   "id": "2d02a88b",
   "metadata": {},
   "outputs": [
    {
     "data": {
      "application/vnd.plotly.v1+json": {
       "config": {
        "plotlyServerURL": "https://plot.ly"
       },
       "data": [
        {
         "bingroup": "x",
         "hovertemplate": "diagnosis=%{x}<br>count=%{y}<extra></extra>",
         "legendgroup": "M",
         "marker": {
          "color": "#636efa",
          "pattern": {
           "shape": ""
          }
         },
         "name": "M",
         "orientation": "v",
         "showlegend": true,
         "type": "histogram",
         "x": [
          "M",
          "M",
          "M",
          "M",
          "M",
          "M",
          "M",
          "M",
          "M",
          "M",
          "M",
          "M",
          "M",
          "M",
          "M",
          "M",
          "M",
          "M",
          "M",
          "M",
          "M",
          "M",
          "M",
          "M",
          "M",
          "M",
          "M",
          "M",
          "M",
          "M",
          "M",
          "M",
          "M",
          "M",
          "M",
          "M",
          "M",
          "M",
          "M",
          "M",
          "M",
          "M",
          "M",
          "M",
          "M",
          "M",
          "M",
          "M",
          "M",
          "M",
          "M",
          "M",
          "M",
          "M",
          "M",
          "M",
          "M",
          "M",
          "M",
          "M",
          "M",
          "M",
          "M",
          "M",
          "M",
          "M",
          "M",
          "M",
          "M",
          "M",
          "M",
          "M",
          "M",
          "M",
          "M",
          "M",
          "M",
          "M",
          "M",
          "M",
          "M",
          "M",
          "M",
          "M",
          "M",
          "M",
          "M",
          "M",
          "M",
          "M",
          "M",
          "M",
          "M",
          "M",
          "M",
          "M",
          "M",
          "M",
          "M",
          "M",
          "M",
          "M",
          "M",
          "M",
          "M",
          "M",
          "M",
          "M",
          "M",
          "M",
          "M",
          "M",
          "M",
          "M",
          "M",
          "M",
          "M",
          "M",
          "M",
          "M",
          "M",
          "M",
          "M",
          "M",
          "M",
          "M",
          "M",
          "M",
          "M",
          "M",
          "M",
          "M",
          "M",
          "M",
          "M",
          "M",
          "M",
          "M",
          "M",
          "M",
          "M",
          "M",
          "M",
          "M",
          "M",
          "M",
          "M",
          "M",
          "M",
          "M",
          "M",
          "M",
          "M",
          "M",
          "M",
          "M",
          "M",
          "M",
          "M",
          "M",
          "M",
          "M",
          "M",
          "M",
          "M",
          "M",
          "M",
          "M",
          "M",
          "M",
          "M",
          "M",
          "M",
          "M",
          "M",
          "M",
          "M",
          "M",
          "M",
          "M",
          "M",
          "M",
          "M",
          "M",
          "M",
          "M",
          "M",
          "M",
          "M",
          "M",
          "M",
          "M",
          "M",
          "M",
          "M",
          "M",
          "M",
          "M",
          "M",
          "M",
          "M",
          "M",
          "M",
          "M",
          "M",
          "M",
          "M",
          "M",
          "M",
          "M",
          "M",
          "M"
         ],
         "xaxis": "x",
         "yaxis": "y"
        },
        {
         "bingroup": "x",
         "hovertemplate": "diagnosis=%{x}<br>count=%{y}<extra></extra>",
         "legendgroup": "B",
         "marker": {
          "color": "#EF553B",
          "pattern": {
           "shape": ""
          }
         },
         "name": "B",
         "orientation": "v",
         "showlegend": true,
         "type": "histogram",
         "x": [
          "B",
          "B",
          "B",
          "B",
          "B",
          "B",
          "B",
          "B",
          "B",
          "B",
          "B",
          "B",
          "B",
          "B",
          "B",
          "B",
          "B",
          "B",
          "B",
          "B",
          "B",
          "B",
          "B",
          "B",
          "B",
          "B",
          "B",
          "B",
          "B",
          "B",
          "B",
          "B",
          "B",
          "B",
          "B",
          "B",
          "B",
          "B",
          "B",
          "B",
          "B",
          "B",
          "B",
          "B",
          "B",
          "B",
          "B",
          "B",
          "B",
          "B",
          "B",
          "B",
          "B",
          "B",
          "B",
          "B",
          "B",
          "B",
          "B",
          "B",
          "B",
          "B",
          "B",
          "B",
          "B",
          "B",
          "B",
          "B",
          "B",
          "B",
          "B",
          "B",
          "B",
          "B",
          "B",
          "B",
          "B",
          "B",
          "B",
          "B",
          "B",
          "B",
          "B",
          "B",
          "B",
          "B",
          "B",
          "B",
          "B",
          "B",
          "B",
          "B",
          "B",
          "B",
          "B",
          "B",
          "B",
          "B",
          "B",
          "B",
          "B",
          "B",
          "B",
          "B",
          "B",
          "B",
          "B",
          "B",
          "B",
          "B",
          "B",
          "B",
          "B",
          "B",
          "B",
          "B",
          "B",
          "B",
          "B",
          "B",
          "B",
          "B",
          "B",
          "B",
          "B",
          "B",
          "B",
          "B",
          "B",
          "B",
          "B",
          "B",
          "B",
          "B",
          "B",
          "B",
          "B",
          "B",
          "B",
          "B",
          "B",
          "B",
          "B",
          "B",
          "B",
          "B",
          "B",
          "B",
          "B",
          "B",
          "B",
          "B",
          "B",
          "B",
          "B",
          "B",
          "B",
          "B",
          "B",
          "B",
          "B",
          "B",
          "B",
          "B",
          "B",
          "B",
          "B",
          "B",
          "B",
          "B",
          "B",
          "B",
          "B",
          "B",
          "B",
          "B",
          "B",
          "B",
          "B",
          "B",
          "B",
          "B",
          "B",
          "B",
          "B",
          "B",
          "B",
          "B",
          "B",
          "B",
          "B",
          "B",
          "B",
          "B",
          "B",
          "B",
          "B",
          "B",
          "B",
          "B",
          "B",
          "B",
          "B",
          "B",
          "B",
          "B",
          "B",
          "B",
          "B",
          "B",
          "B",
          "B",
          "B",
          "B",
          "B",
          "B",
          "B",
          "B",
          "B",
          "B",
          "B",
          "B",
          "B",
          "B",
          "B",
          "B",
          "B",
          "B",
          "B",
          "B",
          "B",
          "B",
          "B",
          "B",
          "B",
          "B",
          "B",
          "B",
          "B",
          "B",
          "B",
          "B",
          "B",
          "B",
          "B",
          "B",
          "B",
          "B",
          "B",
          "B",
          "B",
          "B",
          "B",
          "B",
          "B",
          "B",
          "B",
          "B",
          "B",
          "B",
          "B",
          "B",
          "B",
          "B",
          "B",
          "B",
          "B",
          "B",
          "B",
          "B",
          "B",
          "B",
          "B",
          "B",
          "B",
          "B",
          "B",
          "B",
          "B",
          "B",
          "B",
          "B",
          "B",
          "B",
          "B",
          "B",
          "B",
          "B",
          "B",
          "B",
          "B",
          "B",
          "B",
          "B",
          "B",
          "B",
          "B",
          "B",
          "B",
          "B",
          "B",
          "B",
          "B",
          "B",
          "B",
          "B",
          "B",
          "B",
          "B",
          "B",
          "B",
          "B",
          "B",
          "B",
          "B",
          "B",
          "B",
          "B",
          "B",
          "B",
          "B",
          "B",
          "B",
          "B",
          "B",
          "B",
          "B",
          "B",
          "B",
          "B",
          "B",
          "B",
          "B",
          "B",
          "B",
          "B",
          "B",
          "B",
          "B",
          "B",
          "B",
          "B",
          "B",
          "B",
          "B",
          "B",
          "B",
          "B",
          "B",
          "B",
          "B",
          "B",
          "B",
          "B",
          "B",
          "B",
          "B"
         ],
         "xaxis": "x",
         "yaxis": "y"
        }
       ],
       "layout": {
        "barmode": "relative",
        "legend": {
         "title": {
          "text": "diagnosis"
         },
         "tracegroupgap": 0
        },
        "margin": {
         "t": 60
        },
        "template": {
         "data": {
          "bar": [
           {
            "error_x": {
             "color": "#f2f5fa"
            },
            "error_y": {
             "color": "#f2f5fa"
            },
            "marker": {
             "line": {
              "color": "rgb(17,17,17)",
              "width": 0.5
             },
             "pattern": {
              "fillmode": "overlay",
              "size": 10,
              "solidity": 0.2
             }
            },
            "type": "bar"
           }
          ],
          "barpolar": [
           {
            "marker": {
             "line": {
              "color": "rgb(17,17,17)",
              "width": 0.5
             },
             "pattern": {
              "fillmode": "overlay",
              "size": 10,
              "solidity": 0.2
             }
            },
            "type": "barpolar"
           }
          ],
          "carpet": [
           {
            "aaxis": {
             "endlinecolor": "#A2B1C6",
             "gridcolor": "#506784",
             "linecolor": "#506784",
             "minorgridcolor": "#506784",
             "startlinecolor": "#A2B1C6"
            },
            "baxis": {
             "endlinecolor": "#A2B1C6",
             "gridcolor": "#506784",
             "linecolor": "#506784",
             "minorgridcolor": "#506784",
             "startlinecolor": "#A2B1C6"
            },
            "type": "carpet"
           }
          ],
          "choropleth": [
           {
            "colorbar": {
             "outlinewidth": 0,
             "ticks": ""
            },
            "type": "choropleth"
           }
          ],
          "contour": [
           {
            "colorbar": {
             "outlinewidth": 0,
             "ticks": ""
            },
            "colorscale": [
             [
              0,
              "#0d0887"
             ],
             [
              0.1111111111111111,
              "#46039f"
             ],
             [
              0.2222222222222222,
              "#7201a8"
             ],
             [
              0.3333333333333333,
              "#9c179e"
             ],
             [
              0.4444444444444444,
              "#bd3786"
             ],
             [
              0.5555555555555556,
              "#d8576b"
             ],
             [
              0.6666666666666666,
              "#ed7953"
             ],
             [
              0.7777777777777778,
              "#fb9f3a"
             ],
             [
              0.8888888888888888,
              "#fdca26"
             ],
             [
              1,
              "#f0f921"
             ]
            ],
            "type": "contour"
           }
          ],
          "contourcarpet": [
           {
            "colorbar": {
             "outlinewidth": 0,
             "ticks": ""
            },
            "type": "contourcarpet"
           }
          ],
          "heatmap": [
           {
            "colorbar": {
             "outlinewidth": 0,
             "ticks": ""
            },
            "colorscale": [
             [
              0,
              "#0d0887"
             ],
             [
              0.1111111111111111,
              "#46039f"
             ],
             [
              0.2222222222222222,
              "#7201a8"
             ],
             [
              0.3333333333333333,
              "#9c179e"
             ],
             [
              0.4444444444444444,
              "#bd3786"
             ],
             [
              0.5555555555555556,
              "#d8576b"
             ],
             [
              0.6666666666666666,
              "#ed7953"
             ],
             [
              0.7777777777777778,
              "#fb9f3a"
             ],
             [
              0.8888888888888888,
              "#fdca26"
             ],
             [
              1,
              "#f0f921"
             ]
            ],
            "type": "heatmap"
           }
          ],
          "histogram": [
           {
            "marker": {
             "pattern": {
              "fillmode": "overlay",
              "size": 10,
              "solidity": 0.2
             }
            },
            "type": "histogram"
           }
          ],
          "histogram2d": [
           {
            "colorbar": {
             "outlinewidth": 0,
             "ticks": ""
            },
            "colorscale": [
             [
              0,
              "#0d0887"
             ],
             [
              0.1111111111111111,
              "#46039f"
             ],
             [
              0.2222222222222222,
              "#7201a8"
             ],
             [
              0.3333333333333333,
              "#9c179e"
             ],
             [
              0.4444444444444444,
              "#bd3786"
             ],
             [
              0.5555555555555556,
              "#d8576b"
             ],
             [
              0.6666666666666666,
              "#ed7953"
             ],
             [
              0.7777777777777778,
              "#fb9f3a"
             ],
             [
              0.8888888888888888,
              "#fdca26"
             ],
             [
              1,
              "#f0f921"
             ]
            ],
            "type": "histogram2d"
           }
          ],
          "histogram2dcontour": [
           {
            "colorbar": {
             "outlinewidth": 0,
             "ticks": ""
            },
            "colorscale": [
             [
              0,
              "#0d0887"
             ],
             [
              0.1111111111111111,
              "#46039f"
             ],
             [
              0.2222222222222222,
              "#7201a8"
             ],
             [
              0.3333333333333333,
              "#9c179e"
             ],
             [
              0.4444444444444444,
              "#bd3786"
             ],
             [
              0.5555555555555556,
              "#d8576b"
             ],
             [
              0.6666666666666666,
              "#ed7953"
             ],
             [
              0.7777777777777778,
              "#fb9f3a"
             ],
             [
              0.8888888888888888,
              "#fdca26"
             ],
             [
              1,
              "#f0f921"
             ]
            ],
            "type": "histogram2dcontour"
           }
          ],
          "mesh3d": [
           {
            "colorbar": {
             "outlinewidth": 0,
             "ticks": ""
            },
            "type": "mesh3d"
           }
          ],
          "parcoords": [
           {
            "line": {
             "colorbar": {
              "outlinewidth": 0,
              "ticks": ""
             }
            },
            "type": "parcoords"
           }
          ],
          "pie": [
           {
            "automargin": true,
            "type": "pie"
           }
          ],
          "scatter": [
           {
            "marker": {
             "line": {
              "color": "#283442"
             }
            },
            "type": "scatter"
           }
          ],
          "scatter3d": [
           {
            "line": {
             "colorbar": {
              "outlinewidth": 0,
              "ticks": ""
             }
            },
            "marker": {
             "colorbar": {
              "outlinewidth": 0,
              "ticks": ""
             }
            },
            "type": "scatter3d"
           }
          ],
          "scattercarpet": [
           {
            "marker": {
             "colorbar": {
              "outlinewidth": 0,
              "ticks": ""
             }
            },
            "type": "scattercarpet"
           }
          ],
          "scattergeo": [
           {
            "marker": {
             "colorbar": {
              "outlinewidth": 0,
              "ticks": ""
             }
            },
            "type": "scattergeo"
           }
          ],
          "scattergl": [
           {
            "marker": {
             "line": {
              "color": "#283442"
             }
            },
            "type": "scattergl"
           }
          ],
          "scattermap": [
           {
            "marker": {
             "colorbar": {
              "outlinewidth": 0,
              "ticks": ""
             }
            },
            "type": "scattermap"
           }
          ],
          "scattermapbox": [
           {
            "marker": {
             "colorbar": {
              "outlinewidth": 0,
              "ticks": ""
             }
            },
            "type": "scattermapbox"
           }
          ],
          "scatterpolar": [
           {
            "marker": {
             "colorbar": {
              "outlinewidth": 0,
              "ticks": ""
             }
            },
            "type": "scatterpolar"
           }
          ],
          "scatterpolargl": [
           {
            "marker": {
             "colorbar": {
              "outlinewidth": 0,
              "ticks": ""
             }
            },
            "type": "scatterpolargl"
           }
          ],
          "scatterternary": [
           {
            "marker": {
             "colorbar": {
              "outlinewidth": 0,
              "ticks": ""
             }
            },
            "type": "scatterternary"
           }
          ],
          "surface": [
           {
            "colorbar": {
             "outlinewidth": 0,
             "ticks": ""
            },
            "colorscale": [
             [
              0,
              "#0d0887"
             ],
             [
              0.1111111111111111,
              "#46039f"
             ],
             [
              0.2222222222222222,
              "#7201a8"
             ],
             [
              0.3333333333333333,
              "#9c179e"
             ],
             [
              0.4444444444444444,
              "#bd3786"
             ],
             [
              0.5555555555555556,
              "#d8576b"
             ],
             [
              0.6666666666666666,
              "#ed7953"
             ],
             [
              0.7777777777777778,
              "#fb9f3a"
             ],
             [
              0.8888888888888888,
              "#fdca26"
             ],
             [
              1,
              "#f0f921"
             ]
            ],
            "type": "surface"
           }
          ],
          "table": [
           {
            "cells": {
             "fill": {
              "color": "#506784"
             },
             "line": {
              "color": "rgb(17,17,17)"
             }
            },
            "header": {
             "fill": {
              "color": "#2a3f5f"
             },
             "line": {
              "color": "rgb(17,17,17)"
             }
            },
            "type": "table"
           }
          ]
         },
         "layout": {
          "annotationdefaults": {
           "arrowcolor": "#f2f5fa",
           "arrowhead": 0,
           "arrowwidth": 1
          },
          "autotypenumbers": "strict",
          "coloraxis": {
           "colorbar": {
            "outlinewidth": 0,
            "ticks": ""
           }
          },
          "colorscale": {
           "diverging": [
            [
             0,
             "#8e0152"
            ],
            [
             0.1,
             "#c51b7d"
            ],
            [
             0.2,
             "#de77ae"
            ],
            [
             0.3,
             "#f1b6da"
            ],
            [
             0.4,
             "#fde0ef"
            ],
            [
             0.5,
             "#f7f7f7"
            ],
            [
             0.6,
             "#e6f5d0"
            ],
            [
             0.7,
             "#b8e186"
            ],
            [
             0.8,
             "#7fbc41"
            ],
            [
             0.9,
             "#4d9221"
            ],
            [
             1,
             "#276419"
            ]
           ],
           "sequential": [
            [
             0,
             "#0d0887"
            ],
            [
             0.1111111111111111,
             "#46039f"
            ],
            [
             0.2222222222222222,
             "#7201a8"
            ],
            [
             0.3333333333333333,
             "#9c179e"
            ],
            [
             0.4444444444444444,
             "#bd3786"
            ],
            [
             0.5555555555555556,
             "#d8576b"
            ],
            [
             0.6666666666666666,
             "#ed7953"
            ],
            [
             0.7777777777777778,
             "#fb9f3a"
            ],
            [
             0.8888888888888888,
             "#fdca26"
            ],
            [
             1,
             "#f0f921"
            ]
           ],
           "sequentialminus": [
            [
             0,
             "#0d0887"
            ],
            [
             0.1111111111111111,
             "#46039f"
            ],
            [
             0.2222222222222222,
             "#7201a8"
            ],
            [
             0.3333333333333333,
             "#9c179e"
            ],
            [
             0.4444444444444444,
             "#bd3786"
            ],
            [
             0.5555555555555556,
             "#d8576b"
            ],
            [
             0.6666666666666666,
             "#ed7953"
            ],
            [
             0.7777777777777778,
             "#fb9f3a"
            ],
            [
             0.8888888888888888,
             "#fdca26"
            ],
            [
             1,
             "#f0f921"
            ]
           ]
          },
          "colorway": [
           "#636efa",
           "#EF553B",
           "#00cc96",
           "#ab63fa",
           "#FFA15A",
           "#19d3f3",
           "#FF6692",
           "#B6E880",
           "#FF97FF",
           "#FECB52"
          ],
          "font": {
           "color": "#f2f5fa"
          },
          "geo": {
           "bgcolor": "rgb(17,17,17)",
           "lakecolor": "rgb(17,17,17)",
           "landcolor": "rgb(17,17,17)",
           "showlakes": true,
           "showland": true,
           "subunitcolor": "#506784"
          },
          "hoverlabel": {
           "align": "left"
          },
          "hovermode": "closest",
          "mapbox": {
           "style": "dark"
          },
          "paper_bgcolor": "rgb(17,17,17)",
          "plot_bgcolor": "rgb(17,17,17)",
          "polar": {
           "angularaxis": {
            "gridcolor": "#506784",
            "linecolor": "#506784",
            "ticks": ""
           },
           "bgcolor": "rgb(17,17,17)",
           "radialaxis": {
            "gridcolor": "#506784",
            "linecolor": "#506784",
            "ticks": ""
           }
          },
          "scene": {
           "xaxis": {
            "backgroundcolor": "rgb(17,17,17)",
            "gridcolor": "#506784",
            "gridwidth": 2,
            "linecolor": "#506784",
            "showbackground": true,
            "ticks": "",
            "zerolinecolor": "#C8D4E3"
           },
           "yaxis": {
            "backgroundcolor": "rgb(17,17,17)",
            "gridcolor": "#506784",
            "gridwidth": 2,
            "linecolor": "#506784",
            "showbackground": true,
            "ticks": "",
            "zerolinecolor": "#C8D4E3"
           },
           "zaxis": {
            "backgroundcolor": "rgb(17,17,17)",
            "gridcolor": "#506784",
            "gridwidth": 2,
            "linecolor": "#506784",
            "showbackground": true,
            "ticks": "",
            "zerolinecolor": "#C8D4E3"
           }
          },
          "shapedefaults": {
           "line": {
            "color": "#f2f5fa"
           }
          },
          "sliderdefaults": {
           "bgcolor": "#C8D4E3",
           "bordercolor": "rgb(17,17,17)",
           "borderwidth": 1,
           "tickwidth": 0
          },
          "ternary": {
           "aaxis": {
            "gridcolor": "#506784",
            "linecolor": "#506784",
            "ticks": ""
           },
           "baxis": {
            "gridcolor": "#506784",
            "linecolor": "#506784",
            "ticks": ""
           },
           "bgcolor": "rgb(17,17,17)",
           "caxis": {
            "gridcolor": "#506784",
            "linecolor": "#506784",
            "ticks": ""
           }
          },
          "title": {
           "x": 0.05
          },
          "updatemenudefaults": {
           "bgcolor": "#506784",
           "borderwidth": 0
          },
          "xaxis": {
           "automargin": true,
           "gridcolor": "#283442",
           "linecolor": "#506784",
           "ticks": "",
           "title": {
            "standoff": 15
           },
           "zerolinecolor": "#283442",
           "zerolinewidth": 2
          },
          "yaxis": {
           "automargin": true,
           "gridcolor": "#283442",
           "linecolor": "#506784",
           "ticks": "",
           "title": {
            "standoff": 15
           },
           "zerolinecolor": "#283442",
           "zerolinewidth": 2
          }
         }
        },
        "xaxis": {
         "anchor": "y",
         "categoryarray": [
          "M",
          "B"
         ],
         "categoryorder": "array",
         "domain": [
          0,
          1
         ],
         "title": {
          "text": "diagnosis"
         }
        },
        "yaxis": {
         "anchor": "x",
         "domain": [
          0,
          1
         ],
         "title": {
          "text": "count"
         }
        }
       }
      }
     },
     "metadata": {},
     "output_type": "display_data"
    }
   ],
   "source": [
    "fig = px.histogram(\n",
    "    df,\n",
    "    x='diagnosis',\n",
    "    color='diagnosis', \n",
    "    template=\"plotly_dark\"\n",
    ")\n",
    "fig.show()"
   ]
  },
  {
   "cell_type": "code",
   "execution_count": 34,
   "id": "654cac22",
   "metadata": {},
   "outputs": [
    {
     "data": {
      "application/vnd.plotly.v1+json": {
       "config": {
        "plotlyServerURL": "https://plot.ly"
       },
       "data": [
        {
         "bingroup": "x",
         "hovertemplate": "diagnosis=M<br>area_mean=%{x}<br>count=%{y}<extra></extra>",
         "legendgroup": "M",
         "marker": {
          "color": "#636efa",
          "pattern": {
           "shape": ""
          }
         },
         "name": "M",
         "orientation": "v",
         "showlegend": true,
         "type": "histogram",
         "x": {
          "bdata": "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",
          "dtype": "f8"
         },
         "xaxis": "x",
         "yaxis": "y"
        },
        {
         "bingroup": "x",
         "hovertemplate": "diagnosis=B<br>area_mean=%{x}<br>count=%{y}<extra></extra>",
         "legendgroup": "B",
         "marker": {
          "color": "#EF553B",
          "pattern": {
           "shape": ""
          }
         },
         "name": "B",
         "orientation": "v",
         "showlegend": true,
         "type": "histogram",
         "x": {
          "bdata": "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",
          "dtype": "f8"
         },
         "xaxis": "x",
         "yaxis": "y"
        }
       ],
       "layout": {
        "barmode": "relative",
        "legend": {
         "title": {
          "text": "diagnosis"
         },
         "tracegroupgap": 0
        },
        "margin": {
         "t": 60
        },
        "template": {
         "data": {
          "bar": [
           {
            "error_x": {
             "color": "#f2f5fa"
            },
            "error_y": {
             "color": "#f2f5fa"
            },
            "marker": {
             "line": {
              "color": "rgb(17,17,17)",
              "width": 0.5
             },
             "pattern": {
              "fillmode": "overlay",
              "size": 10,
              "solidity": 0.2
             }
            },
            "type": "bar"
           }
          ],
          "barpolar": [
           {
            "marker": {
             "line": {
              "color": "rgb(17,17,17)",
              "width": 0.5
             },
             "pattern": {
              "fillmode": "overlay",
              "size": 10,
              "solidity": 0.2
             }
            },
            "type": "barpolar"
           }
          ],
          "carpet": [
           {
            "aaxis": {
             "endlinecolor": "#A2B1C6",
             "gridcolor": "#506784",
             "linecolor": "#506784",
             "minorgridcolor": "#506784",
             "startlinecolor": "#A2B1C6"
            },
            "baxis": {
             "endlinecolor": "#A2B1C6",
             "gridcolor": "#506784",
             "linecolor": "#506784",
             "minorgridcolor": "#506784",
             "startlinecolor": "#A2B1C6"
            },
            "type": "carpet"
           }
          ],
          "choropleth": [
           {
            "colorbar": {
             "outlinewidth": 0,
             "ticks": ""
            },
            "type": "choropleth"
           }
          ],
          "contour": [
           {
            "colorbar": {
             "outlinewidth": 0,
             "ticks": ""
            },
            "colorscale": [
             [
              0,
              "#0d0887"
             ],
             [
              0.1111111111111111,
              "#46039f"
             ],
             [
              0.2222222222222222,
              "#7201a8"
             ],
             [
              0.3333333333333333,
              "#9c179e"
             ],
             [
              0.4444444444444444,
              "#bd3786"
             ],
             [
              0.5555555555555556,
              "#d8576b"
             ],
             [
              0.6666666666666666,
              "#ed7953"
             ],
             [
              0.7777777777777778,
              "#fb9f3a"
             ],
             [
              0.8888888888888888,
              "#fdca26"
             ],
             [
              1,
              "#f0f921"
             ]
            ],
            "type": "contour"
           }
          ],
          "contourcarpet": [
           {
            "colorbar": {
             "outlinewidth": 0,
             "ticks": ""
            },
            "type": "contourcarpet"
           }
          ],
          "heatmap": [
           {
            "colorbar": {
             "outlinewidth": 0,
             "ticks": ""
            },
            "colorscale": [
             [
              0,
              "#0d0887"
             ],
             [
              0.1111111111111111,
              "#46039f"
             ],
             [
              0.2222222222222222,
              "#7201a8"
             ],
             [
              0.3333333333333333,
              "#9c179e"
             ],
             [
              0.4444444444444444,
              "#bd3786"
             ],
             [
              0.5555555555555556,
              "#d8576b"
             ],
             [
              0.6666666666666666,
              "#ed7953"
             ],
             [
              0.7777777777777778,
              "#fb9f3a"
             ],
             [
              0.8888888888888888,
              "#fdca26"
             ],
             [
              1,
              "#f0f921"
             ]
            ],
            "type": "heatmap"
           }
          ],
          "histogram": [
           {
            "marker": {
             "pattern": {
              "fillmode": "overlay",
              "size": 10,
              "solidity": 0.2
             }
            },
            "type": "histogram"
           }
          ],
          "histogram2d": [
           {
            "colorbar": {
             "outlinewidth": 0,
             "ticks": ""
            },
            "colorscale": [
             [
              0,
              "#0d0887"
             ],
             [
              0.1111111111111111,
              "#46039f"
             ],
             [
              0.2222222222222222,
              "#7201a8"
             ],
             [
              0.3333333333333333,
              "#9c179e"
             ],
             [
              0.4444444444444444,
              "#bd3786"
             ],
             [
              0.5555555555555556,
              "#d8576b"
             ],
             [
              0.6666666666666666,
              "#ed7953"
             ],
             [
              0.7777777777777778,
              "#fb9f3a"
             ],
             [
              0.8888888888888888,
              "#fdca26"
             ],
             [
              1,
              "#f0f921"
             ]
            ],
            "type": "histogram2d"
           }
          ],
          "histogram2dcontour": [
           {
            "colorbar": {
             "outlinewidth": 0,
             "ticks": ""
            },
            "colorscale": [
             [
              0,
              "#0d0887"
             ],
             [
              0.1111111111111111,
              "#46039f"
             ],
             [
              0.2222222222222222,
              "#7201a8"
             ],
             [
              0.3333333333333333,
              "#9c179e"
             ],
             [
              0.4444444444444444,
              "#bd3786"
             ],
             [
              0.5555555555555556,
              "#d8576b"
             ],
             [
              0.6666666666666666,
              "#ed7953"
             ],
             [
              0.7777777777777778,
              "#fb9f3a"
             ],
             [
              0.8888888888888888,
              "#fdca26"
             ],
             [
              1,
              "#f0f921"
             ]
            ],
            "type": "histogram2dcontour"
           }
          ],
          "mesh3d": [
           {
            "colorbar": {
             "outlinewidth": 0,
             "ticks": ""
            },
            "type": "mesh3d"
           }
          ],
          "parcoords": [
           {
            "line": {
             "colorbar": {
              "outlinewidth": 0,
              "ticks": ""
             }
            },
            "type": "parcoords"
           }
          ],
          "pie": [
           {
            "automargin": true,
            "type": "pie"
           }
          ],
          "scatter": [
           {
            "marker": {
             "line": {
              "color": "#283442"
             }
            },
            "type": "scatter"
           }
          ],
          "scatter3d": [
           {
            "line": {
             "colorbar": {
              "outlinewidth": 0,
              "ticks": ""
             }
            },
            "marker": {
             "colorbar": {
              "outlinewidth": 0,
              "ticks": ""
             }
            },
            "type": "scatter3d"
           }
          ],
          "scattercarpet": [
           {
            "marker": {
             "colorbar": {
              "outlinewidth": 0,
              "ticks": ""
             }
            },
            "type": "scattercarpet"
           }
          ],
          "scattergeo": [
           {
            "marker": {
             "colorbar": {
              "outlinewidth": 0,
              "ticks": ""
             }
            },
            "type": "scattergeo"
           }
          ],
          "scattergl": [
           {
            "marker": {
             "line": {
              "color": "#283442"
             }
            },
            "type": "scattergl"
           }
          ],
          "scattermap": [
           {
            "marker": {
             "colorbar": {
              "outlinewidth": 0,
              "ticks": ""
             }
            },
            "type": "scattermap"
           }
          ],
          "scattermapbox": [
           {
            "marker": {
             "colorbar": {
              "outlinewidth": 0,
              "ticks": ""
             }
            },
            "type": "scattermapbox"
           }
          ],
          "scatterpolar": [
           {
            "marker": {
             "colorbar": {
              "outlinewidth": 0,
              "ticks": ""
             }
            },
            "type": "scatterpolar"
           }
          ],
          "scatterpolargl": [
           {
            "marker": {
             "colorbar": {
              "outlinewidth": 0,
              "ticks": ""
             }
            },
            "type": "scatterpolargl"
           }
          ],
          "scatterternary": [
           {
            "marker": {
             "colorbar": {
              "outlinewidth": 0,
              "ticks": ""
             }
            },
            "type": "scatterternary"
           }
          ],
          "surface": [
           {
            "colorbar": {
             "outlinewidth": 0,
             "ticks": ""
            },
            "colorscale": [
             [
              0,
              "#0d0887"
             ],
             [
              0.1111111111111111,
              "#46039f"
             ],
             [
              0.2222222222222222,
              "#7201a8"
             ],
             [
              0.3333333333333333,
              "#9c179e"
             ],
             [
              0.4444444444444444,
              "#bd3786"
             ],
             [
              0.5555555555555556,
              "#d8576b"
             ],
             [
              0.6666666666666666,
              "#ed7953"
             ],
             [
              0.7777777777777778,
              "#fb9f3a"
             ],
             [
              0.8888888888888888,
              "#fdca26"
             ],
             [
              1,
              "#f0f921"
             ]
            ],
            "type": "surface"
           }
          ],
          "table": [
           {
            "cells": {
             "fill": {
              "color": "#506784"
             },
             "line": {
              "color": "rgb(17,17,17)"
             }
            },
            "header": {
             "fill": {
              "color": "#2a3f5f"
             },
             "line": {
              "color": "rgb(17,17,17)"
             }
            },
            "type": "table"
           }
          ]
         },
         "layout": {
          "annotationdefaults": {
           "arrowcolor": "#f2f5fa",
           "arrowhead": 0,
           "arrowwidth": 1
          },
          "autotypenumbers": "strict",
          "coloraxis": {
           "colorbar": {
            "outlinewidth": 0,
            "ticks": ""
           }
          },
          "colorscale": {
           "diverging": [
            [
             0,
             "#8e0152"
            ],
            [
             0.1,
             "#c51b7d"
            ],
            [
             0.2,
             "#de77ae"
            ],
            [
             0.3,
             "#f1b6da"
            ],
            [
             0.4,
             "#fde0ef"
            ],
            [
             0.5,
             "#f7f7f7"
            ],
            [
             0.6,
             "#e6f5d0"
            ],
            [
             0.7,
             "#b8e186"
            ],
            [
             0.8,
             "#7fbc41"
            ],
            [
             0.9,
             "#4d9221"
            ],
            [
             1,
             "#276419"
            ]
           ],
           "sequential": [
            [
             0,
             "#0d0887"
            ],
            [
             0.1111111111111111,
             "#46039f"
            ],
            [
             0.2222222222222222,
             "#7201a8"
            ],
            [
             0.3333333333333333,
             "#9c179e"
            ],
            [
             0.4444444444444444,
             "#bd3786"
            ],
            [
             0.5555555555555556,
             "#d8576b"
            ],
            [
             0.6666666666666666,
             "#ed7953"
            ],
            [
             0.7777777777777778,
             "#fb9f3a"
            ],
            [
             0.8888888888888888,
             "#fdca26"
            ],
            [
             1,
             "#f0f921"
            ]
           ],
           "sequentialminus": [
            [
             0,
             "#0d0887"
            ],
            [
             0.1111111111111111,
             "#46039f"
            ],
            [
             0.2222222222222222,
             "#7201a8"
            ],
            [
             0.3333333333333333,
             "#9c179e"
            ],
            [
             0.4444444444444444,
             "#bd3786"
            ],
            [
             0.5555555555555556,
             "#d8576b"
            ],
            [
             0.6666666666666666,
             "#ed7953"
            ],
            [
             0.7777777777777778,
             "#fb9f3a"
            ],
            [
             0.8888888888888888,
             "#fdca26"
            ],
            [
             1,
             "#f0f921"
            ]
           ]
          },
          "colorway": [
           "#636efa",
           "#EF553B",
           "#00cc96",
           "#ab63fa",
           "#FFA15A",
           "#19d3f3",
           "#FF6692",
           "#B6E880",
           "#FF97FF",
           "#FECB52"
          ],
          "font": {
           "color": "#f2f5fa"
          },
          "geo": {
           "bgcolor": "rgb(17,17,17)",
           "lakecolor": "rgb(17,17,17)",
           "landcolor": "rgb(17,17,17)",
           "showlakes": true,
           "showland": true,
           "subunitcolor": "#506784"
          },
          "hoverlabel": {
           "align": "left"
          },
          "hovermode": "closest",
          "mapbox": {
           "style": "dark"
          },
          "paper_bgcolor": "rgb(17,17,17)",
          "plot_bgcolor": "rgb(17,17,17)",
          "polar": {
           "angularaxis": {
            "gridcolor": "#506784",
            "linecolor": "#506784",
            "ticks": ""
           },
           "bgcolor": "rgb(17,17,17)",
           "radialaxis": {
            "gridcolor": "#506784",
            "linecolor": "#506784",
            "ticks": ""
           }
          },
          "scene": {
           "xaxis": {
            "backgroundcolor": "rgb(17,17,17)",
            "gridcolor": "#506784",
            "gridwidth": 2,
            "linecolor": "#506784",
            "showbackground": true,
            "ticks": "",
            "zerolinecolor": "#C8D4E3"
           },
           "yaxis": {
            "backgroundcolor": "rgb(17,17,17)",
            "gridcolor": "#506784",
            "gridwidth": 2,
            "linecolor": "#506784",
            "showbackground": true,
            "ticks": "",
            "zerolinecolor": "#C8D4E3"
           },
           "zaxis": {
            "backgroundcolor": "rgb(17,17,17)",
            "gridcolor": "#506784",
            "gridwidth": 2,
            "linecolor": "#506784",
            "showbackground": true,
            "ticks": "",
            "zerolinecolor": "#C8D4E3"
           }
          },
          "shapedefaults": {
           "line": {
            "color": "#f2f5fa"
           }
          },
          "sliderdefaults": {
           "bgcolor": "#C8D4E3",
           "bordercolor": "rgb(17,17,17)",
           "borderwidth": 1,
           "tickwidth": 0
          },
          "ternary": {
           "aaxis": {
            "gridcolor": "#506784",
            "linecolor": "#506784",
            "ticks": ""
           },
           "baxis": {
            "gridcolor": "#506784",
            "linecolor": "#506784",
            "ticks": ""
           },
           "bgcolor": "rgb(17,17,17)",
           "caxis": {
            "gridcolor": "#506784",
            "linecolor": "#506784",
            "ticks": ""
           }
          },
          "title": {
           "x": 0.05
          },
          "updatemenudefaults": {
           "bgcolor": "#506784",
           "borderwidth": 0
          },
          "xaxis": {
           "automargin": true,
           "gridcolor": "#283442",
           "linecolor": "#506784",
           "ticks": "",
           "title": {
            "standoff": 15
           },
           "zerolinecolor": "#283442",
           "zerolinewidth": 2
          },
          "yaxis": {
           "automargin": true,
           "gridcolor": "#283442",
           "linecolor": "#506784",
           "ticks": "",
           "title": {
            "standoff": 15
           },
           "zerolinecolor": "#283442",
           "zerolinewidth": 2
          }
         }
        },
        "xaxis": {
         "anchor": "y",
         "domain": [
          0,
          1
         ],
         "title": {
          "text": "area_mean"
         }
        },
        "yaxis": {
         "anchor": "x",
         "domain": [
          0,
          1
         ],
         "title": {
          "text": "count"
         }
        }
       }
      }
     },
     "metadata": {},
     "output_type": "display_data"
    }
   ],
   "source": [
    "fig = px.histogram(\n",
    "    df,\n",
    "    x='area_mean',\n",
    "    color='diagnosis',\n",
    "    template = 'plotly_dark')\n",
    "fig.show()"
   ]
  },
  {
   "cell_type": "code",
   "execution_count": 35,
   "id": "c141780c",
   "metadata": {},
   "outputs": [
    {
     "data": {
      "application/vnd.plotly.v1+json": {
       "config": {
        "plotlyServerURL": "https://plot.ly"
       },
       "data": [
        {
         "bingroup": "x",
         "hovertemplate": "diagnosis=M<br>radius_mean=%{x}<br>count=%{y}<extra></extra>",
         "legendgroup": "M",
         "marker": {
          "color": "#636efa",
          "pattern": {
           "shape": ""
          }
         },
         "name": "M",
         "orientation": "v",
         "showlegend": true,
         "type": "histogram",
         "x": {
          "bdata": "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",
          "dtype": "f8"
         },
         "xaxis": "x",
         "yaxis": "y"
        },
        {
         "bingroup": "x",
         "hovertemplate": "diagnosis=B<br>radius_mean=%{x}<br>count=%{y}<extra></extra>",
         "legendgroup": "B",
         "marker": {
          "color": "#EF553B",
          "pattern": {
           "shape": ""
          }
         },
         "name": "B",
         "orientation": "v",
         "showlegend": true,
         "type": "histogram",
         "x": {
          "bdata": "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",
          "dtype": "f8"
         },
         "xaxis": "x",
         "yaxis": "y"
        }
       ],
       "layout": {
        "barmode": "relative",
        "legend": {
         "title": {
          "text": "diagnosis"
         },
         "tracegroupgap": 0
        },
        "margin": {
         "t": 60
        },
        "template": {
         "data": {
          "bar": [
           {
            "error_x": {
             "color": "#f2f5fa"
            },
            "error_y": {
             "color": "#f2f5fa"
            },
            "marker": {
             "line": {
              "color": "rgb(17,17,17)",
              "width": 0.5
             },
             "pattern": {
              "fillmode": "overlay",
              "size": 10,
              "solidity": 0.2
             }
            },
            "type": "bar"
           }
          ],
          "barpolar": [
           {
            "marker": {
             "line": {
              "color": "rgb(17,17,17)",
              "width": 0.5
             },
             "pattern": {
              "fillmode": "overlay",
              "size": 10,
              "solidity": 0.2
             }
            },
            "type": "barpolar"
           }
          ],
          "carpet": [
           {
            "aaxis": {
             "endlinecolor": "#A2B1C6",
             "gridcolor": "#506784",
             "linecolor": "#506784",
             "minorgridcolor": "#506784",
             "startlinecolor": "#A2B1C6"
            },
            "baxis": {
             "endlinecolor": "#A2B1C6",
             "gridcolor": "#506784",
             "linecolor": "#506784",
             "minorgridcolor": "#506784",
             "startlinecolor": "#A2B1C6"
            },
            "type": "carpet"
           }
          ],
          "choropleth": [
           {
            "colorbar": {
             "outlinewidth": 0,
             "ticks": ""
            },
            "type": "choropleth"
           }
          ],
          "contour": [
           {
            "colorbar": {
             "outlinewidth": 0,
             "ticks": ""
            },
            "colorscale": [
             [
              0,
              "#0d0887"
             ],
             [
              0.1111111111111111,
              "#46039f"
             ],
             [
              0.2222222222222222,
              "#7201a8"
             ],
             [
              0.3333333333333333,
              "#9c179e"
             ],
             [
              0.4444444444444444,
              "#bd3786"
             ],
             [
              0.5555555555555556,
              "#d8576b"
             ],
             [
              0.6666666666666666,
              "#ed7953"
             ],
             [
              0.7777777777777778,
              "#fb9f3a"
             ],
             [
              0.8888888888888888,
              "#fdca26"
             ],
             [
              1,
              "#f0f921"
             ]
            ],
            "type": "contour"
           }
          ],
          "contourcarpet": [
           {
            "colorbar": {
             "outlinewidth": 0,
             "ticks": ""
            },
            "type": "contourcarpet"
           }
          ],
          "heatmap": [
           {
            "colorbar": {
             "outlinewidth": 0,
             "ticks": ""
            },
            "colorscale": [
             [
              0,
              "#0d0887"
             ],
             [
              0.1111111111111111,
              "#46039f"
             ],
             [
              0.2222222222222222,
              "#7201a8"
             ],
             [
              0.3333333333333333,
              "#9c179e"
             ],
             [
              0.4444444444444444,
              "#bd3786"
             ],
             [
              0.5555555555555556,
              "#d8576b"
             ],
             [
              0.6666666666666666,
              "#ed7953"
             ],
             [
              0.7777777777777778,
              "#fb9f3a"
             ],
             [
              0.8888888888888888,
              "#fdca26"
             ],
             [
              1,
              "#f0f921"
             ]
            ],
            "type": "heatmap"
           }
          ],
          "histogram": [
           {
            "marker": {
             "pattern": {
              "fillmode": "overlay",
              "size": 10,
              "solidity": 0.2
             }
            },
            "type": "histogram"
           }
          ],
          "histogram2d": [
           {
            "colorbar": {
             "outlinewidth": 0,
             "ticks": ""
            },
            "colorscale": [
             [
              0,
              "#0d0887"
             ],
             [
              0.1111111111111111,
              "#46039f"
             ],
             [
              0.2222222222222222,
              "#7201a8"
             ],
             [
              0.3333333333333333,
              "#9c179e"
             ],
             [
              0.4444444444444444,
              "#bd3786"
             ],
             [
              0.5555555555555556,
              "#d8576b"
             ],
             [
              0.6666666666666666,
              "#ed7953"
             ],
             [
              0.7777777777777778,
              "#fb9f3a"
             ],
             [
              0.8888888888888888,
              "#fdca26"
             ],
             [
              1,
              "#f0f921"
             ]
            ],
            "type": "histogram2d"
           }
          ],
          "histogram2dcontour": [
           {
            "colorbar": {
             "outlinewidth": 0,
             "ticks": ""
            },
            "colorscale": [
             [
              0,
              "#0d0887"
             ],
             [
              0.1111111111111111,
              "#46039f"
             ],
             [
              0.2222222222222222,
              "#7201a8"
             ],
             [
              0.3333333333333333,
              "#9c179e"
             ],
             [
              0.4444444444444444,
              "#bd3786"
             ],
             [
              0.5555555555555556,
              "#d8576b"
             ],
             [
              0.6666666666666666,
              "#ed7953"
             ],
             [
              0.7777777777777778,
              "#fb9f3a"
             ],
             [
              0.8888888888888888,
              "#fdca26"
             ],
             [
              1,
              "#f0f921"
             ]
            ],
            "type": "histogram2dcontour"
           }
          ],
          "mesh3d": [
           {
            "colorbar": {
             "outlinewidth": 0,
             "ticks": ""
            },
            "type": "mesh3d"
           }
          ],
          "parcoords": [
           {
            "line": {
             "colorbar": {
              "outlinewidth": 0,
              "ticks": ""
             }
            },
            "type": "parcoords"
           }
          ],
          "pie": [
           {
            "automargin": true,
            "type": "pie"
           }
          ],
          "scatter": [
           {
            "marker": {
             "line": {
              "color": "#283442"
             }
            },
            "type": "scatter"
           }
          ],
          "scatter3d": [
           {
            "line": {
             "colorbar": {
              "outlinewidth": 0,
              "ticks": ""
             }
            },
            "marker": {
             "colorbar": {
              "outlinewidth": 0,
              "ticks": ""
             }
            },
            "type": "scatter3d"
           }
          ],
          "scattercarpet": [
           {
            "marker": {
             "colorbar": {
              "outlinewidth": 0,
              "ticks": ""
             }
            },
            "type": "scattercarpet"
           }
          ],
          "scattergeo": [
           {
            "marker": {
             "colorbar": {
              "outlinewidth": 0,
              "ticks": ""
             }
            },
            "type": "scattergeo"
           }
          ],
          "scattergl": [
           {
            "marker": {
             "line": {
              "color": "#283442"
             }
            },
            "type": "scattergl"
           }
          ],
          "scattermap": [
           {
            "marker": {
             "colorbar": {
              "outlinewidth": 0,
              "ticks": ""
             }
            },
            "type": "scattermap"
           }
          ],
          "scattermapbox": [
           {
            "marker": {
             "colorbar": {
              "outlinewidth": 0,
              "ticks": ""
             }
            },
            "type": "scattermapbox"
           }
          ],
          "scatterpolar": [
           {
            "marker": {
             "colorbar": {
              "outlinewidth": 0,
              "ticks": ""
             }
            },
            "type": "scatterpolar"
           }
          ],
          "scatterpolargl": [
           {
            "marker": {
             "colorbar": {
              "outlinewidth": 0,
              "ticks": ""
             }
            },
            "type": "scatterpolargl"
           }
          ],
          "scatterternary": [
           {
            "marker": {
             "colorbar": {
              "outlinewidth": 0,
              "ticks": ""
             }
            },
            "type": "scatterternary"
           }
          ],
          "surface": [
           {
            "colorbar": {
             "outlinewidth": 0,
             "ticks": ""
            },
            "colorscale": [
             [
              0,
              "#0d0887"
             ],
             [
              0.1111111111111111,
              "#46039f"
             ],
             [
              0.2222222222222222,
              "#7201a8"
             ],
             [
              0.3333333333333333,
              "#9c179e"
             ],
             [
              0.4444444444444444,
              "#bd3786"
             ],
             [
              0.5555555555555556,
              "#d8576b"
             ],
             [
              0.6666666666666666,
              "#ed7953"
             ],
             [
              0.7777777777777778,
              "#fb9f3a"
             ],
             [
              0.8888888888888888,
              "#fdca26"
             ],
             [
              1,
              "#f0f921"
             ]
            ],
            "type": "surface"
           }
          ],
          "table": [
           {
            "cells": {
             "fill": {
              "color": "#506784"
             },
             "line": {
              "color": "rgb(17,17,17)"
             }
            },
            "header": {
             "fill": {
              "color": "#2a3f5f"
             },
             "line": {
              "color": "rgb(17,17,17)"
             }
            },
            "type": "table"
           }
          ]
         },
         "layout": {
          "annotationdefaults": {
           "arrowcolor": "#f2f5fa",
           "arrowhead": 0,
           "arrowwidth": 1
          },
          "autotypenumbers": "strict",
          "coloraxis": {
           "colorbar": {
            "outlinewidth": 0,
            "ticks": ""
           }
          },
          "colorscale": {
           "diverging": [
            [
             0,
             "#8e0152"
            ],
            [
             0.1,
             "#c51b7d"
            ],
            [
             0.2,
             "#de77ae"
            ],
            [
             0.3,
             "#f1b6da"
            ],
            [
             0.4,
             "#fde0ef"
            ],
            [
             0.5,
             "#f7f7f7"
            ],
            [
             0.6,
             "#e6f5d0"
            ],
            [
             0.7,
             "#b8e186"
            ],
            [
             0.8,
             "#7fbc41"
            ],
            [
             0.9,
             "#4d9221"
            ],
            [
             1,
             "#276419"
            ]
           ],
           "sequential": [
            [
             0,
             "#0d0887"
            ],
            [
             0.1111111111111111,
             "#46039f"
            ],
            [
             0.2222222222222222,
             "#7201a8"
            ],
            [
             0.3333333333333333,
             "#9c179e"
            ],
            [
             0.4444444444444444,
             "#bd3786"
            ],
            [
             0.5555555555555556,
             "#d8576b"
            ],
            [
             0.6666666666666666,
             "#ed7953"
            ],
            [
             0.7777777777777778,
             "#fb9f3a"
            ],
            [
             0.8888888888888888,
             "#fdca26"
            ],
            [
             1,
             "#f0f921"
            ]
           ],
           "sequentialminus": [
            [
             0,
             "#0d0887"
            ],
            [
             0.1111111111111111,
             "#46039f"
            ],
            [
             0.2222222222222222,
             "#7201a8"
            ],
            [
             0.3333333333333333,
             "#9c179e"
            ],
            [
             0.4444444444444444,
             "#bd3786"
            ],
            [
             0.5555555555555556,
             "#d8576b"
            ],
            [
             0.6666666666666666,
             "#ed7953"
            ],
            [
             0.7777777777777778,
             "#fb9f3a"
            ],
            [
             0.8888888888888888,
             "#fdca26"
            ],
            [
             1,
             "#f0f921"
            ]
           ]
          },
          "colorway": [
           "#636efa",
           "#EF553B",
           "#00cc96",
           "#ab63fa",
           "#FFA15A",
           "#19d3f3",
           "#FF6692",
           "#B6E880",
           "#FF97FF",
           "#FECB52"
          ],
          "font": {
           "color": "#f2f5fa"
          },
          "geo": {
           "bgcolor": "rgb(17,17,17)",
           "lakecolor": "rgb(17,17,17)",
           "landcolor": "rgb(17,17,17)",
           "showlakes": true,
           "showland": true,
           "subunitcolor": "#506784"
          },
          "hoverlabel": {
           "align": "left"
          },
          "hovermode": "closest",
          "mapbox": {
           "style": "dark"
          },
          "paper_bgcolor": "rgb(17,17,17)",
          "plot_bgcolor": "rgb(17,17,17)",
          "polar": {
           "angularaxis": {
            "gridcolor": "#506784",
            "linecolor": "#506784",
            "ticks": ""
           },
           "bgcolor": "rgb(17,17,17)",
           "radialaxis": {
            "gridcolor": "#506784",
            "linecolor": "#506784",
            "ticks": ""
           }
          },
          "scene": {
           "xaxis": {
            "backgroundcolor": "rgb(17,17,17)",
            "gridcolor": "#506784",
            "gridwidth": 2,
            "linecolor": "#506784",
            "showbackground": true,
            "ticks": "",
            "zerolinecolor": "#C8D4E3"
           },
           "yaxis": {
            "backgroundcolor": "rgb(17,17,17)",
            "gridcolor": "#506784",
            "gridwidth": 2,
            "linecolor": "#506784",
            "showbackground": true,
            "ticks": "",
            "zerolinecolor": "#C8D4E3"
           },
           "zaxis": {
            "backgroundcolor": "rgb(17,17,17)",
            "gridcolor": "#506784",
            "gridwidth": 2,
            "linecolor": "#506784",
            "showbackground": true,
            "ticks": "",
            "zerolinecolor": "#C8D4E3"
           }
          },
          "shapedefaults": {
           "line": {
            "color": "#f2f5fa"
           }
          },
          "sliderdefaults": {
           "bgcolor": "#C8D4E3",
           "bordercolor": "rgb(17,17,17)",
           "borderwidth": 1,
           "tickwidth": 0
          },
          "ternary": {
           "aaxis": {
            "gridcolor": "#506784",
            "linecolor": "#506784",
            "ticks": ""
           },
           "baxis": {
            "gridcolor": "#506784",
            "linecolor": "#506784",
            "ticks": ""
           },
           "bgcolor": "rgb(17,17,17)",
           "caxis": {
            "gridcolor": "#506784",
            "linecolor": "#506784",
            "ticks": ""
           }
          },
          "title": {
           "x": 0.05
          },
          "updatemenudefaults": {
           "bgcolor": "#506784",
           "borderwidth": 0
          },
          "xaxis": {
           "automargin": true,
           "gridcolor": "#283442",
           "linecolor": "#506784",
           "ticks": "",
           "title": {
            "standoff": 15
           },
           "zerolinecolor": "#283442",
           "zerolinewidth": 2
          },
          "yaxis": {
           "automargin": true,
           "gridcolor": "#283442",
           "linecolor": "#506784",
           "ticks": "",
           "title": {
            "standoff": 15
           },
           "zerolinecolor": "#283442",
           "zerolinewidth": 2
          }
         }
        },
        "xaxis": {
         "anchor": "y",
         "domain": [
          0,
          1
         ],
         "title": {
          "text": "radius_mean"
         }
        },
        "yaxis": {
         "anchor": "x",
         "domain": [
          0,
          1
         ],
         "title": {
          "text": "count"
         }
        }
       }
      }
     },
     "metadata": {},
     "output_type": "display_data"
    }
   ],
   "source": [
    "fig = px.histogram(\n",
    "    df,\n",
    "    x='radius_mean',\n",
    "    color='diagnosis',\n",
    "    template = 'plotly_dark')\n",
    "fig.show()"
   ]
  },
  {
   "cell_type": "code",
   "execution_count": 36,
   "id": "44ae86f9",
   "metadata": {},
   "outputs": [
    {
     "data": {
      "application/vnd.plotly.v1+json": {
       "config": {
        "plotlyServerURL": "https://plot.ly"
       },
       "data": [
        {
         "bingroup": "x",
         "hovertemplate": "diagnosis=M<br>perimeter_mean=%{x}<br>count=%{y}<extra></extra>",
         "legendgroup": "M",
         "marker": {
          "color": "#636efa",
          "pattern": {
           "shape": ""
          }
         },
         "name": "M",
         "orientation": "v",
         "showlegend": true,
         "type": "histogram",
         "x": {
          "bdata": "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",
          "dtype": "f8"
         },
         "xaxis": "x",
         "yaxis": "y"
        },
        {
         "bingroup": "x",
         "hovertemplate": "diagnosis=B<br>perimeter_mean=%{x}<br>count=%{y}<extra></extra>",
         "legendgroup": "B",
         "marker": {
          "color": "#EF553B",
          "pattern": {
           "shape": ""
          }
         },
         "name": "B",
         "orientation": "v",
         "showlegend": true,
         "type": "histogram",
         "x": {
          "bdata": "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",
          "dtype": "f8"
         },
         "xaxis": "x",
         "yaxis": "y"
        }
       ],
       "layout": {
        "barmode": "relative",
        "legend": {
         "title": {
          "text": "diagnosis"
         },
         "tracegroupgap": 0
        },
        "margin": {
         "t": 60
        },
        "template": {
         "data": {
          "bar": [
           {
            "error_x": {
             "color": "#f2f5fa"
            },
            "error_y": {
             "color": "#f2f5fa"
            },
            "marker": {
             "line": {
              "color": "rgb(17,17,17)",
              "width": 0.5
             },
             "pattern": {
              "fillmode": "overlay",
              "size": 10,
              "solidity": 0.2
             }
            },
            "type": "bar"
           }
          ],
          "barpolar": [
           {
            "marker": {
             "line": {
              "color": "rgb(17,17,17)",
              "width": 0.5
             },
             "pattern": {
              "fillmode": "overlay",
              "size": 10,
              "solidity": 0.2
             }
            },
            "type": "barpolar"
           }
          ],
          "carpet": [
           {
            "aaxis": {
             "endlinecolor": "#A2B1C6",
             "gridcolor": "#506784",
             "linecolor": "#506784",
             "minorgridcolor": "#506784",
             "startlinecolor": "#A2B1C6"
            },
            "baxis": {
             "endlinecolor": "#A2B1C6",
             "gridcolor": "#506784",
             "linecolor": "#506784",
             "minorgridcolor": "#506784",
             "startlinecolor": "#A2B1C6"
            },
            "type": "carpet"
           }
          ],
          "choropleth": [
           {
            "colorbar": {
             "outlinewidth": 0,
             "ticks": ""
            },
            "type": "choropleth"
           }
          ],
          "contour": [
           {
            "colorbar": {
             "outlinewidth": 0,
             "ticks": ""
            },
            "colorscale": [
             [
              0,
              "#0d0887"
             ],
             [
              0.1111111111111111,
              "#46039f"
             ],
             [
              0.2222222222222222,
              "#7201a8"
             ],
             [
              0.3333333333333333,
              "#9c179e"
             ],
             [
              0.4444444444444444,
              "#bd3786"
             ],
             [
              0.5555555555555556,
              "#d8576b"
             ],
             [
              0.6666666666666666,
              "#ed7953"
             ],
             [
              0.7777777777777778,
              "#fb9f3a"
             ],
             [
              0.8888888888888888,
              "#fdca26"
             ],
             [
              1,
              "#f0f921"
             ]
            ],
            "type": "contour"
           }
          ],
          "contourcarpet": [
           {
            "colorbar": {
             "outlinewidth": 0,
             "ticks": ""
            },
            "type": "contourcarpet"
           }
          ],
          "heatmap": [
           {
            "colorbar": {
             "outlinewidth": 0,
             "ticks": ""
            },
            "colorscale": [
             [
              0,
              "#0d0887"
             ],
             [
              0.1111111111111111,
              "#46039f"
             ],
             [
              0.2222222222222222,
              "#7201a8"
             ],
             [
              0.3333333333333333,
              "#9c179e"
             ],
             [
              0.4444444444444444,
              "#bd3786"
             ],
             [
              0.5555555555555556,
              "#d8576b"
             ],
             [
              0.6666666666666666,
              "#ed7953"
             ],
             [
              0.7777777777777778,
              "#fb9f3a"
             ],
             [
              0.8888888888888888,
              "#fdca26"
             ],
             [
              1,
              "#f0f921"
             ]
            ],
            "type": "heatmap"
           }
          ],
          "histogram": [
           {
            "marker": {
             "pattern": {
              "fillmode": "overlay",
              "size": 10,
              "solidity": 0.2
             }
            },
            "type": "histogram"
           }
          ],
          "histogram2d": [
           {
            "colorbar": {
             "outlinewidth": 0,
             "ticks": ""
            },
            "colorscale": [
             [
              0,
              "#0d0887"
             ],
             [
              0.1111111111111111,
              "#46039f"
             ],
             [
              0.2222222222222222,
              "#7201a8"
             ],
             [
              0.3333333333333333,
              "#9c179e"
             ],
             [
              0.4444444444444444,
              "#bd3786"
             ],
             [
              0.5555555555555556,
              "#d8576b"
             ],
             [
              0.6666666666666666,
              "#ed7953"
             ],
             [
              0.7777777777777778,
              "#fb9f3a"
             ],
             [
              0.8888888888888888,
              "#fdca26"
             ],
             [
              1,
              "#f0f921"
             ]
            ],
            "type": "histogram2d"
           }
          ],
          "histogram2dcontour": [
           {
            "colorbar": {
             "outlinewidth": 0,
             "ticks": ""
            },
            "colorscale": [
             [
              0,
              "#0d0887"
             ],
             [
              0.1111111111111111,
              "#46039f"
             ],
             [
              0.2222222222222222,
              "#7201a8"
             ],
             [
              0.3333333333333333,
              "#9c179e"
             ],
             [
              0.4444444444444444,
              "#bd3786"
             ],
             [
              0.5555555555555556,
              "#d8576b"
             ],
             [
              0.6666666666666666,
              "#ed7953"
             ],
             [
              0.7777777777777778,
              "#fb9f3a"
             ],
             [
              0.8888888888888888,
              "#fdca26"
             ],
             [
              1,
              "#f0f921"
             ]
            ],
            "type": "histogram2dcontour"
           }
          ],
          "mesh3d": [
           {
            "colorbar": {
             "outlinewidth": 0,
             "ticks": ""
            },
            "type": "mesh3d"
           }
          ],
          "parcoords": [
           {
            "line": {
             "colorbar": {
              "outlinewidth": 0,
              "ticks": ""
             }
            },
            "type": "parcoords"
           }
          ],
          "pie": [
           {
            "automargin": true,
            "type": "pie"
           }
          ],
          "scatter": [
           {
            "marker": {
             "line": {
              "color": "#283442"
             }
            },
            "type": "scatter"
           }
          ],
          "scatter3d": [
           {
            "line": {
             "colorbar": {
              "outlinewidth": 0,
              "ticks": ""
             }
            },
            "marker": {
             "colorbar": {
              "outlinewidth": 0,
              "ticks": ""
             }
            },
            "type": "scatter3d"
           }
          ],
          "scattercarpet": [
           {
            "marker": {
             "colorbar": {
              "outlinewidth": 0,
              "ticks": ""
             }
            },
            "type": "scattercarpet"
           }
          ],
          "scattergeo": [
           {
            "marker": {
             "colorbar": {
              "outlinewidth": 0,
              "ticks": ""
             }
            },
            "type": "scattergeo"
           }
          ],
          "scattergl": [
           {
            "marker": {
             "line": {
              "color": "#283442"
             }
            },
            "type": "scattergl"
           }
          ],
          "scattermap": [
           {
            "marker": {
             "colorbar": {
              "outlinewidth": 0,
              "ticks": ""
             }
            },
            "type": "scattermap"
           }
          ],
          "scattermapbox": [
           {
            "marker": {
             "colorbar": {
              "outlinewidth": 0,
              "ticks": ""
             }
            },
            "type": "scattermapbox"
           }
          ],
          "scatterpolar": [
           {
            "marker": {
             "colorbar": {
              "outlinewidth": 0,
              "ticks": ""
             }
            },
            "type": "scatterpolar"
           }
          ],
          "scatterpolargl": [
           {
            "marker": {
             "colorbar": {
              "outlinewidth": 0,
              "ticks": ""
             }
            },
            "type": "scatterpolargl"
           }
          ],
          "scatterternary": [
           {
            "marker": {
             "colorbar": {
              "outlinewidth": 0,
              "ticks": ""
             }
            },
            "type": "scatterternary"
           }
          ],
          "surface": [
           {
            "colorbar": {
             "outlinewidth": 0,
             "ticks": ""
            },
            "colorscale": [
             [
              0,
              "#0d0887"
             ],
             [
              0.1111111111111111,
              "#46039f"
             ],
             [
              0.2222222222222222,
              "#7201a8"
             ],
             [
              0.3333333333333333,
              "#9c179e"
             ],
             [
              0.4444444444444444,
              "#bd3786"
             ],
             [
              0.5555555555555556,
              "#d8576b"
             ],
             [
              0.6666666666666666,
              "#ed7953"
             ],
             [
              0.7777777777777778,
              "#fb9f3a"
             ],
             [
              0.8888888888888888,
              "#fdca26"
             ],
             [
              1,
              "#f0f921"
             ]
            ],
            "type": "surface"
           }
          ],
          "table": [
           {
            "cells": {
             "fill": {
              "color": "#506784"
             },
             "line": {
              "color": "rgb(17,17,17)"
             }
            },
            "header": {
             "fill": {
              "color": "#2a3f5f"
             },
             "line": {
              "color": "rgb(17,17,17)"
             }
            },
            "type": "table"
           }
          ]
         },
         "layout": {
          "annotationdefaults": {
           "arrowcolor": "#f2f5fa",
           "arrowhead": 0,
           "arrowwidth": 1
          },
          "autotypenumbers": "strict",
          "coloraxis": {
           "colorbar": {
            "outlinewidth": 0,
            "ticks": ""
           }
          },
          "colorscale": {
           "diverging": [
            [
             0,
             "#8e0152"
            ],
            [
             0.1,
             "#c51b7d"
            ],
            [
             0.2,
             "#de77ae"
            ],
            [
             0.3,
             "#f1b6da"
            ],
            [
             0.4,
             "#fde0ef"
            ],
            [
             0.5,
             "#f7f7f7"
            ],
            [
             0.6,
             "#e6f5d0"
            ],
            [
             0.7,
             "#b8e186"
            ],
            [
             0.8,
             "#7fbc41"
            ],
            [
             0.9,
             "#4d9221"
            ],
            [
             1,
             "#276419"
            ]
           ],
           "sequential": [
            [
             0,
             "#0d0887"
            ],
            [
             0.1111111111111111,
             "#46039f"
            ],
            [
             0.2222222222222222,
             "#7201a8"
            ],
            [
             0.3333333333333333,
             "#9c179e"
            ],
            [
             0.4444444444444444,
             "#bd3786"
            ],
            [
             0.5555555555555556,
             "#d8576b"
            ],
            [
             0.6666666666666666,
             "#ed7953"
            ],
            [
             0.7777777777777778,
             "#fb9f3a"
            ],
            [
             0.8888888888888888,
             "#fdca26"
            ],
            [
             1,
             "#f0f921"
            ]
           ],
           "sequentialminus": [
            [
             0,
             "#0d0887"
            ],
            [
             0.1111111111111111,
             "#46039f"
            ],
            [
             0.2222222222222222,
             "#7201a8"
            ],
            [
             0.3333333333333333,
             "#9c179e"
            ],
            [
             0.4444444444444444,
             "#bd3786"
            ],
            [
             0.5555555555555556,
             "#d8576b"
            ],
            [
             0.6666666666666666,
             "#ed7953"
            ],
            [
             0.7777777777777778,
             "#fb9f3a"
            ],
            [
             0.8888888888888888,
             "#fdca26"
            ],
            [
             1,
             "#f0f921"
            ]
           ]
          },
          "colorway": [
           "#636efa",
           "#EF553B",
           "#00cc96",
           "#ab63fa",
           "#FFA15A",
           "#19d3f3",
           "#FF6692",
           "#B6E880",
           "#FF97FF",
           "#FECB52"
          ],
          "font": {
           "color": "#f2f5fa"
          },
          "geo": {
           "bgcolor": "rgb(17,17,17)",
           "lakecolor": "rgb(17,17,17)",
           "landcolor": "rgb(17,17,17)",
           "showlakes": true,
           "showland": true,
           "subunitcolor": "#506784"
          },
          "hoverlabel": {
           "align": "left"
          },
          "hovermode": "closest",
          "mapbox": {
           "style": "dark"
          },
          "paper_bgcolor": "rgb(17,17,17)",
          "plot_bgcolor": "rgb(17,17,17)",
          "polar": {
           "angularaxis": {
            "gridcolor": "#506784",
            "linecolor": "#506784",
            "ticks": ""
           },
           "bgcolor": "rgb(17,17,17)",
           "radialaxis": {
            "gridcolor": "#506784",
            "linecolor": "#506784",
            "ticks": ""
           }
          },
          "scene": {
           "xaxis": {
            "backgroundcolor": "rgb(17,17,17)",
            "gridcolor": "#506784",
            "gridwidth": 2,
            "linecolor": "#506784",
            "showbackground": true,
            "ticks": "",
            "zerolinecolor": "#C8D4E3"
           },
           "yaxis": {
            "backgroundcolor": "rgb(17,17,17)",
            "gridcolor": "#506784",
            "gridwidth": 2,
            "linecolor": "#506784",
            "showbackground": true,
            "ticks": "",
            "zerolinecolor": "#C8D4E3"
           },
           "zaxis": {
            "backgroundcolor": "rgb(17,17,17)",
            "gridcolor": "#506784",
            "gridwidth": 2,
            "linecolor": "#506784",
            "showbackground": true,
            "ticks": "",
            "zerolinecolor": "#C8D4E3"
           }
          },
          "shapedefaults": {
           "line": {
            "color": "#f2f5fa"
           }
          },
          "sliderdefaults": {
           "bgcolor": "#C8D4E3",
           "bordercolor": "rgb(17,17,17)",
           "borderwidth": 1,
           "tickwidth": 0
          },
          "ternary": {
           "aaxis": {
            "gridcolor": "#506784",
            "linecolor": "#506784",
            "ticks": ""
           },
           "baxis": {
            "gridcolor": "#506784",
            "linecolor": "#506784",
            "ticks": ""
           },
           "bgcolor": "rgb(17,17,17)",
           "caxis": {
            "gridcolor": "#506784",
            "linecolor": "#506784",
            "ticks": ""
           }
          },
          "title": {
           "x": 0.05
          },
          "updatemenudefaults": {
           "bgcolor": "#506784",
           "borderwidth": 0
          },
          "xaxis": {
           "automargin": true,
           "gridcolor": "#283442",
           "linecolor": "#506784",
           "ticks": "",
           "title": {
            "standoff": 15
           },
           "zerolinecolor": "#283442",
           "zerolinewidth": 2
          },
          "yaxis": {
           "automargin": true,
           "gridcolor": "#283442",
           "linecolor": "#506784",
           "ticks": "",
           "title": {
            "standoff": 15
           },
           "zerolinecolor": "#283442",
           "zerolinewidth": 2
          }
         }
        },
        "xaxis": {
         "anchor": "y",
         "domain": [
          0,
          1
         ],
         "title": {
          "text": "perimeter_mean"
         }
        },
        "yaxis": {
         "anchor": "x",
         "domain": [
          0,
          1
         ],
         "title": {
          "text": "count"
         }
        }
       }
      }
     },
     "metadata": {},
     "output_type": "display_data"
    }
   ],
   "source": [
    "fig = px.histogram(\n",
    "    df,\n",
    "    x='perimeter_mean',\n",
    "    color='diagnosis',\n",
    "    template = 'plotly_dark')\n",
    "fig.show()"
   ]
  },
  {
   "cell_type": "code",
   "execution_count": 37,
   "id": "8a76f584",
   "metadata": {},
   "outputs": [
    {
     "data": {
      "application/vnd.plotly.v1+json": {
       "config": {
        "plotlyServerURL": "https://plot.ly"
       },
       "data": [
        {
         "bingroup": "x",
         "hovertemplate": "diagnosis=M<br>smoothness_mean=%{x}<br>count=%{y}<extra></extra>",
         "legendgroup": "M",
         "marker": {
          "color": "#636efa",
          "pattern": {
           "shape": ""
          }
         },
         "name": "M",
         "orientation": "v",
         "showlegend": true,
         "type": "histogram",
         "x": {
          "bdata": "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",
          "dtype": "f8"
         },
         "xaxis": "x",
         "yaxis": "y"
        },
        {
         "bingroup": "x",
         "hovertemplate": "diagnosis=B<br>smoothness_mean=%{x}<br>count=%{y}<extra></extra>",
         "legendgroup": "B",
         "marker": {
          "color": "#EF553B",
          "pattern": {
           "shape": ""
          }
         },
         "name": "B",
         "orientation": "v",
         "showlegend": true,
         "type": "histogram",
         "x": {
          "bdata": "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",
          "dtype": "f8"
         },
         "xaxis": "x",
         "yaxis": "y"
        }
       ],
       "layout": {
        "barmode": "relative",
        "legend": {
         "title": {
          "text": "diagnosis"
         },
         "tracegroupgap": 0
        },
        "margin": {
         "t": 60
        },
        "template": {
         "data": {
          "bar": [
           {
            "error_x": {
             "color": "#f2f5fa"
            },
            "error_y": {
             "color": "#f2f5fa"
            },
            "marker": {
             "line": {
              "color": "rgb(17,17,17)",
              "width": 0.5
             },
             "pattern": {
              "fillmode": "overlay",
              "size": 10,
              "solidity": 0.2
             }
            },
            "type": "bar"
           }
          ],
          "barpolar": [
           {
            "marker": {
             "line": {
              "color": "rgb(17,17,17)",
              "width": 0.5
             },
             "pattern": {
              "fillmode": "overlay",
              "size": 10,
              "solidity": 0.2
             }
            },
            "type": "barpolar"
           }
          ],
          "carpet": [
           {
            "aaxis": {
             "endlinecolor": "#A2B1C6",
             "gridcolor": "#506784",
             "linecolor": "#506784",
             "minorgridcolor": "#506784",
             "startlinecolor": "#A2B1C6"
            },
            "baxis": {
             "endlinecolor": "#A2B1C6",
             "gridcolor": "#506784",
             "linecolor": "#506784",
             "minorgridcolor": "#506784",
             "startlinecolor": "#A2B1C6"
            },
            "type": "carpet"
           }
          ],
          "choropleth": [
           {
            "colorbar": {
             "outlinewidth": 0,
             "ticks": ""
            },
            "type": "choropleth"
           }
          ],
          "contour": [
           {
            "colorbar": {
             "outlinewidth": 0,
             "ticks": ""
            },
            "colorscale": [
             [
              0,
              "#0d0887"
             ],
             [
              0.1111111111111111,
              "#46039f"
             ],
             [
              0.2222222222222222,
              "#7201a8"
             ],
             [
              0.3333333333333333,
              "#9c179e"
             ],
             [
              0.4444444444444444,
              "#bd3786"
             ],
             [
              0.5555555555555556,
              "#d8576b"
             ],
             [
              0.6666666666666666,
              "#ed7953"
             ],
             [
              0.7777777777777778,
              "#fb9f3a"
             ],
             [
              0.8888888888888888,
              "#fdca26"
             ],
             [
              1,
              "#f0f921"
             ]
            ],
            "type": "contour"
           }
          ],
          "contourcarpet": [
           {
            "colorbar": {
             "outlinewidth": 0,
             "ticks": ""
            },
            "type": "contourcarpet"
           }
          ],
          "heatmap": [
           {
            "colorbar": {
             "outlinewidth": 0,
             "ticks": ""
            },
            "colorscale": [
             [
              0,
              "#0d0887"
             ],
             [
              0.1111111111111111,
              "#46039f"
             ],
             [
              0.2222222222222222,
              "#7201a8"
             ],
             [
              0.3333333333333333,
              "#9c179e"
             ],
             [
              0.4444444444444444,
              "#bd3786"
             ],
             [
              0.5555555555555556,
              "#d8576b"
             ],
             [
              0.6666666666666666,
              "#ed7953"
             ],
             [
              0.7777777777777778,
              "#fb9f3a"
             ],
             [
              0.8888888888888888,
              "#fdca26"
             ],
             [
              1,
              "#f0f921"
             ]
            ],
            "type": "heatmap"
           }
          ],
          "histogram": [
           {
            "marker": {
             "pattern": {
              "fillmode": "overlay",
              "size": 10,
              "solidity": 0.2
             }
            },
            "type": "histogram"
           }
          ],
          "histogram2d": [
           {
            "colorbar": {
             "outlinewidth": 0,
             "ticks": ""
            },
            "colorscale": [
             [
              0,
              "#0d0887"
             ],
             [
              0.1111111111111111,
              "#46039f"
             ],
             [
              0.2222222222222222,
              "#7201a8"
             ],
             [
              0.3333333333333333,
              "#9c179e"
             ],
             [
              0.4444444444444444,
              "#bd3786"
             ],
             [
              0.5555555555555556,
              "#d8576b"
             ],
             [
              0.6666666666666666,
              "#ed7953"
             ],
             [
              0.7777777777777778,
              "#fb9f3a"
             ],
             [
              0.8888888888888888,
              "#fdca26"
             ],
             [
              1,
              "#f0f921"
             ]
            ],
            "type": "histogram2d"
           }
          ],
          "histogram2dcontour": [
           {
            "colorbar": {
             "outlinewidth": 0,
             "ticks": ""
            },
            "colorscale": [
             [
              0,
              "#0d0887"
             ],
             [
              0.1111111111111111,
              "#46039f"
             ],
             [
              0.2222222222222222,
              "#7201a8"
             ],
             [
              0.3333333333333333,
              "#9c179e"
             ],
             [
              0.4444444444444444,
              "#bd3786"
             ],
             [
              0.5555555555555556,
              "#d8576b"
             ],
             [
              0.6666666666666666,
              "#ed7953"
             ],
             [
              0.7777777777777778,
              "#fb9f3a"
             ],
             [
              0.8888888888888888,
              "#fdca26"
             ],
             [
              1,
              "#f0f921"
             ]
            ],
            "type": "histogram2dcontour"
           }
          ],
          "mesh3d": [
           {
            "colorbar": {
             "outlinewidth": 0,
             "ticks": ""
            },
            "type": "mesh3d"
           }
          ],
          "parcoords": [
           {
            "line": {
             "colorbar": {
              "outlinewidth": 0,
              "ticks": ""
             }
            },
            "type": "parcoords"
           }
          ],
          "pie": [
           {
            "automargin": true,
            "type": "pie"
           }
          ],
          "scatter": [
           {
            "marker": {
             "line": {
              "color": "#283442"
             }
            },
            "type": "scatter"
           }
          ],
          "scatter3d": [
           {
            "line": {
             "colorbar": {
              "outlinewidth": 0,
              "ticks": ""
             }
            },
            "marker": {
             "colorbar": {
              "outlinewidth": 0,
              "ticks": ""
             }
            },
            "type": "scatter3d"
           }
          ],
          "scattercarpet": [
           {
            "marker": {
             "colorbar": {
              "outlinewidth": 0,
              "ticks": ""
             }
            },
            "type": "scattercarpet"
           }
          ],
          "scattergeo": [
           {
            "marker": {
             "colorbar": {
              "outlinewidth": 0,
              "ticks": ""
             }
            },
            "type": "scattergeo"
           }
          ],
          "scattergl": [
           {
            "marker": {
             "line": {
              "color": "#283442"
             }
            },
            "type": "scattergl"
           }
          ],
          "scattermap": [
           {
            "marker": {
             "colorbar": {
              "outlinewidth": 0,
              "ticks": ""
             }
            },
            "type": "scattermap"
           }
          ],
          "scattermapbox": [
           {
            "marker": {
             "colorbar": {
              "outlinewidth": 0,
              "ticks": ""
             }
            },
            "type": "scattermapbox"
           }
          ],
          "scatterpolar": [
           {
            "marker": {
             "colorbar": {
              "outlinewidth": 0,
              "ticks": ""
             }
            },
            "type": "scatterpolar"
           }
          ],
          "scatterpolargl": [
           {
            "marker": {
             "colorbar": {
              "outlinewidth": 0,
              "ticks": ""
             }
            },
            "type": "scatterpolargl"
           }
          ],
          "scatterternary": [
           {
            "marker": {
             "colorbar": {
              "outlinewidth": 0,
              "ticks": ""
             }
            },
            "type": "scatterternary"
           }
          ],
          "surface": [
           {
            "colorbar": {
             "outlinewidth": 0,
             "ticks": ""
            },
            "colorscale": [
             [
              0,
              "#0d0887"
             ],
             [
              0.1111111111111111,
              "#46039f"
             ],
             [
              0.2222222222222222,
              "#7201a8"
             ],
             [
              0.3333333333333333,
              "#9c179e"
             ],
             [
              0.4444444444444444,
              "#bd3786"
             ],
             [
              0.5555555555555556,
              "#d8576b"
             ],
             [
              0.6666666666666666,
              "#ed7953"
             ],
             [
              0.7777777777777778,
              "#fb9f3a"
             ],
             [
              0.8888888888888888,
              "#fdca26"
             ],
             [
              1,
              "#f0f921"
             ]
            ],
            "type": "surface"
           }
          ],
          "table": [
           {
            "cells": {
             "fill": {
              "color": "#506784"
             },
             "line": {
              "color": "rgb(17,17,17)"
             }
            },
            "header": {
             "fill": {
              "color": "#2a3f5f"
             },
             "line": {
              "color": "rgb(17,17,17)"
             }
            },
            "type": "table"
           }
          ]
         },
         "layout": {
          "annotationdefaults": {
           "arrowcolor": "#f2f5fa",
           "arrowhead": 0,
           "arrowwidth": 1
          },
          "autotypenumbers": "strict",
          "coloraxis": {
           "colorbar": {
            "outlinewidth": 0,
            "ticks": ""
           }
          },
          "colorscale": {
           "diverging": [
            [
             0,
             "#8e0152"
            ],
            [
             0.1,
             "#c51b7d"
            ],
            [
             0.2,
             "#de77ae"
            ],
            [
             0.3,
             "#f1b6da"
            ],
            [
             0.4,
             "#fde0ef"
            ],
            [
             0.5,
             "#f7f7f7"
            ],
            [
             0.6,
             "#e6f5d0"
            ],
            [
             0.7,
             "#b8e186"
            ],
            [
             0.8,
             "#7fbc41"
            ],
            [
             0.9,
             "#4d9221"
            ],
            [
             1,
             "#276419"
            ]
           ],
           "sequential": [
            [
             0,
             "#0d0887"
            ],
            [
             0.1111111111111111,
             "#46039f"
            ],
            [
             0.2222222222222222,
             "#7201a8"
            ],
            [
             0.3333333333333333,
             "#9c179e"
            ],
            [
             0.4444444444444444,
             "#bd3786"
            ],
            [
             0.5555555555555556,
             "#d8576b"
            ],
            [
             0.6666666666666666,
             "#ed7953"
            ],
            [
             0.7777777777777778,
             "#fb9f3a"
            ],
            [
             0.8888888888888888,
             "#fdca26"
            ],
            [
             1,
             "#f0f921"
            ]
           ],
           "sequentialminus": [
            [
             0,
             "#0d0887"
            ],
            [
             0.1111111111111111,
             "#46039f"
            ],
            [
             0.2222222222222222,
             "#7201a8"
            ],
            [
             0.3333333333333333,
             "#9c179e"
            ],
            [
             0.4444444444444444,
             "#bd3786"
            ],
            [
             0.5555555555555556,
             "#d8576b"
            ],
            [
             0.6666666666666666,
             "#ed7953"
            ],
            [
             0.7777777777777778,
             "#fb9f3a"
            ],
            [
             0.8888888888888888,
             "#fdca26"
            ],
            [
             1,
             "#f0f921"
            ]
           ]
          },
          "colorway": [
           "#636efa",
           "#EF553B",
           "#00cc96",
           "#ab63fa",
           "#FFA15A",
           "#19d3f3",
           "#FF6692",
           "#B6E880",
           "#FF97FF",
           "#FECB52"
          ],
          "font": {
           "color": "#f2f5fa"
          },
          "geo": {
           "bgcolor": "rgb(17,17,17)",
           "lakecolor": "rgb(17,17,17)",
           "landcolor": "rgb(17,17,17)",
           "showlakes": true,
           "showland": true,
           "subunitcolor": "#506784"
          },
          "hoverlabel": {
           "align": "left"
          },
          "hovermode": "closest",
          "mapbox": {
           "style": "dark"
          },
          "paper_bgcolor": "rgb(17,17,17)",
          "plot_bgcolor": "rgb(17,17,17)",
          "polar": {
           "angularaxis": {
            "gridcolor": "#506784",
            "linecolor": "#506784",
            "ticks": ""
           },
           "bgcolor": "rgb(17,17,17)",
           "radialaxis": {
            "gridcolor": "#506784",
            "linecolor": "#506784",
            "ticks": ""
           }
          },
          "scene": {
           "xaxis": {
            "backgroundcolor": "rgb(17,17,17)",
            "gridcolor": "#506784",
            "gridwidth": 2,
            "linecolor": "#506784",
            "showbackground": true,
            "ticks": "",
            "zerolinecolor": "#C8D4E3"
           },
           "yaxis": {
            "backgroundcolor": "rgb(17,17,17)",
            "gridcolor": "#506784",
            "gridwidth": 2,
            "linecolor": "#506784",
            "showbackground": true,
            "ticks": "",
            "zerolinecolor": "#C8D4E3"
           },
           "zaxis": {
            "backgroundcolor": "rgb(17,17,17)",
            "gridcolor": "#506784",
            "gridwidth": 2,
            "linecolor": "#506784",
            "showbackground": true,
            "ticks": "",
            "zerolinecolor": "#C8D4E3"
           }
          },
          "shapedefaults": {
           "line": {
            "color": "#f2f5fa"
           }
          },
          "sliderdefaults": {
           "bgcolor": "#C8D4E3",
           "bordercolor": "rgb(17,17,17)",
           "borderwidth": 1,
           "tickwidth": 0
          },
          "ternary": {
           "aaxis": {
            "gridcolor": "#506784",
            "linecolor": "#506784",
            "ticks": ""
           },
           "baxis": {
            "gridcolor": "#506784",
            "linecolor": "#506784",
            "ticks": ""
           },
           "bgcolor": "rgb(17,17,17)",
           "caxis": {
            "gridcolor": "#506784",
            "linecolor": "#506784",
            "ticks": ""
           }
          },
          "title": {
           "x": 0.05
          },
          "updatemenudefaults": {
           "bgcolor": "#506784",
           "borderwidth": 0
          },
          "xaxis": {
           "automargin": true,
           "gridcolor": "#283442",
           "linecolor": "#506784",
           "ticks": "",
           "title": {
            "standoff": 15
           },
           "zerolinecolor": "#283442",
           "zerolinewidth": 2
          },
          "yaxis": {
           "automargin": true,
           "gridcolor": "#283442",
           "linecolor": "#506784",
           "ticks": "",
           "title": {
            "standoff": 15
           },
           "zerolinecolor": "#283442",
           "zerolinewidth": 2
          }
         }
        },
        "xaxis": {
         "anchor": "y",
         "domain": [
          0,
          1
         ],
         "title": {
          "text": "smoothness_mean"
         }
        },
        "yaxis": {
         "anchor": "x",
         "domain": [
          0,
          1
         ],
         "title": {
          "text": "count"
         }
        }
       }
      }
     },
     "metadata": {},
     "output_type": "display_data"
    }
   ],
   "source": [
    "fig = px.histogram(\n",
    "    df,\n",
    "    x='smoothness_mean',\n",
    "    color='diagnosis',\n",
    "    template = 'plotly_dark')\n",
    "fig.show()"
   ]
  },
  {
   "cell_type": "code",
   "execution_count": null,
   "id": "c6cd7a8b",
   "metadata": {},
   "outputs": [],
   "source": [
    "fig = px.histogram(\n",
    "    df,\n",
    "    x='texture_mean',\n",
    "    color='diagnosis',\n",
    "    template = 'plotly_dark')\n",
    "fig.show()"
   ]
  },
  {
   "cell_type": "code",
   "execution_count": 38,
   "id": "5a27163f",
   "metadata": {},
   "outputs": [
    {
     "data": {
      "application/vnd.plotly.v1+json": {
       "config": {
        "plotlyServerURL": "https://plot.ly"
       },
       "data": [
        {
         "hovertemplate": "diagnosis=M<br>symmetry_worst=%{x}<br>index=%{y}<extra></extra>",
         "legendgroup": "M",
         "marker": {
          "color": "#636efa",
          "symbol": "circle"
         },
         "mode": "markers",
         "name": "M",
         "orientation": "h",
         "showlegend": true,
         "type": "scatter",
         "x": {
          "bdata": "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",
          "dtype": "f8"
         },
         "xaxis": "x",
         "y": {
          "bdata": "AAABAAIAAwAEAAUABgAHAAgACQAKAAsADAANAA4ADwAQABEAEgAWABcAGAAZABoAGwAcAB0AHgAfACAAIQAiACMAJAAmACcAKAApACoAKwAsAC0ALwA1ADYAOAA5AD4AQABBAEYASABJAEsATQBOAFIAUwBVAFYAVwBbAF4AXwBjAGQAaQBsAHUAdgB3AHkAegB+AH8AgQCDAIQAhgCHAIoAjQCSAJwAoQCiAKQApwCoAKsArACxALQAtQC2ALgAugC+AMEAwgDEAMUAxgDHAMkAygDLAM0AzwDSANQA1QDWANcA2gDbAN8A5QDmAOkA7ADtAO8A9AD6APwA/QD+AP8AAAEBAQIBAwEEAQUBBgEHAQgBCQEQARIBFQEYARoBGwEpASwBLgE9AUEBQwFIAUkBSgFPAVEBUwFXAV8BYAFhAW0BbgFwAXEBcgF0AXUBewGBAYUBiAGJAZABmAGeAaEBrgGwAbEBswG5AbwBvgHBAcMBzAHNAdQB3wHnAekB7AHyAfMB9QH3Af0BAAICAgQCBQIJAhUCFwIYAjICMwI0AjUCNgI3Ag==",
          "dtype": "i2"
         },
         "yaxis": "y"
        },
        {
         "hovertemplate": "diagnosis=B<br>symmetry_worst=%{x}<br>index=%{y}<extra></extra>",
         "legendgroup": "B",
         "marker": {
          "color": "#EF553B",
          "symbol": "circle"
         },
         "mode": "markers",
         "name": "B",
         "orientation": "h",
         "showlegend": true,
         "type": "scatter",
         "x": {
          "bdata": "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",
          "dtype": "f8"
         },
         "xaxis": "x",
         "y": {
          "bdata": "EwAUABUAJQAuADAAMQAyADMANAA3ADoAOwA8AD0APwBCAEMARABFAEcASgBMAE8AUABRAFQAWABZAFoAXABdAGAAYQBiAGUAZgBnAGgAagBrAG0AbgBvAHAAcQByAHMAdAB4AHsAfAB9AIAAggCFAIgAiQCLAIwAjgCPAJAAkQCTAJQAlQCWAJcAmACZAJoAmwCdAJ4AnwCgAKMApQCmAKkAqgCtAK4ArwCwALIAswC3ALkAuwC8AL0AvwDAAMMAyADMAM4A0ADRANMA2ADZANwA3QDeAOAA4QDiAOMA5ADnAOgA6gDrAO4A8ADxAPIA8wD1APYA9wD4APkA+wAKAQsBDAENAQ4BDwERARMBFAEWARcBGQEcAR0BHgEfASABIQEiASMBJAElASYBJwEoASoBKwEtAS8BMAExATIBMwE0ATUBNgE3ATgBOQE6ATsBPAE+AT8BQAFCAUQBRQFGAUcBSwFMAU0BTgFQAVIBVAFVAVYBWAFZAVoBWwFcAV0BXgFiAWMBZAFlAWYBZwFoAWkBagFrAWwBbwFzAXYBdwF4AXkBegF8AX0BfgF/AYABggGDAYQBhgGHAYoBiwGMAY0BjgGPAZEBkgGTAZQBlQGWAZcBmQGaAZsBnAGdAZ8BoAGiAaMBpAGlAaYBpwGoAakBqgGrAawBrQGvAbIBtAG1AbYBtwG4AboBuwG9Ab8BwAHCAcQBxQHGAccByAHJAcoBywHOAc8B0AHRAdIB0wHVAdYB1wHYAdkB2gHbAdwB3QHeAeAB4QHiAeMB5AHlAeYB6AHqAesB7QHuAe8B8AHxAfQB9gH4AfkB+gH7AfwB/gH/AQECAwIGAgcCCAIKAgsCDAINAg4CDwIQAhECEgITAhQCFgIZAhoCGwIcAh0CHgIfAiACIQIiAiMCJAIlAiYCJwIoAikCKgIrAiwCLQIuAi8CMAIxAjgC",
          "dtype": "i2"
         },
         "yaxis": "y"
        }
       ],
       "layout": {
        "legend": {
         "title": {
          "text": "diagnosis"
         },
         "tracegroupgap": 0
        },
        "margin": {
         "t": 60
        },
        "template": {
         "data": {
          "bar": [
           {
            "error_x": {
             "color": "#f2f5fa"
            },
            "error_y": {
             "color": "#f2f5fa"
            },
            "marker": {
             "line": {
              "color": "rgb(17,17,17)",
              "width": 0.5
             },
             "pattern": {
              "fillmode": "overlay",
              "size": 10,
              "solidity": 0.2
             }
            },
            "type": "bar"
           }
          ],
          "barpolar": [
           {
            "marker": {
             "line": {
              "color": "rgb(17,17,17)",
              "width": 0.5
             },
             "pattern": {
              "fillmode": "overlay",
              "size": 10,
              "solidity": 0.2
             }
            },
            "type": "barpolar"
           }
          ],
          "carpet": [
           {
            "aaxis": {
             "endlinecolor": "#A2B1C6",
             "gridcolor": "#506784",
             "linecolor": "#506784",
             "minorgridcolor": "#506784",
             "startlinecolor": "#A2B1C6"
            },
            "baxis": {
             "endlinecolor": "#A2B1C6",
             "gridcolor": "#506784",
             "linecolor": "#506784",
             "minorgridcolor": "#506784",
             "startlinecolor": "#A2B1C6"
            },
            "type": "carpet"
           }
          ],
          "choropleth": [
           {
            "colorbar": {
             "outlinewidth": 0,
             "ticks": ""
            },
            "type": "choropleth"
           }
          ],
          "contour": [
           {
            "colorbar": {
             "outlinewidth": 0,
             "ticks": ""
            },
            "colorscale": [
             [
              0,
              "#0d0887"
             ],
             [
              0.1111111111111111,
              "#46039f"
             ],
             [
              0.2222222222222222,
              "#7201a8"
             ],
             [
              0.3333333333333333,
              "#9c179e"
             ],
             [
              0.4444444444444444,
              "#bd3786"
             ],
             [
              0.5555555555555556,
              "#d8576b"
             ],
             [
              0.6666666666666666,
              "#ed7953"
             ],
             [
              0.7777777777777778,
              "#fb9f3a"
             ],
             [
              0.8888888888888888,
              "#fdca26"
             ],
             [
              1,
              "#f0f921"
             ]
            ],
            "type": "contour"
           }
          ],
          "contourcarpet": [
           {
            "colorbar": {
             "outlinewidth": 0,
             "ticks": ""
            },
            "type": "contourcarpet"
           }
          ],
          "heatmap": [
           {
            "colorbar": {
             "outlinewidth": 0,
             "ticks": ""
            },
            "colorscale": [
             [
              0,
              "#0d0887"
             ],
             [
              0.1111111111111111,
              "#46039f"
             ],
             [
              0.2222222222222222,
              "#7201a8"
             ],
             [
              0.3333333333333333,
              "#9c179e"
             ],
             [
              0.4444444444444444,
              "#bd3786"
             ],
             [
              0.5555555555555556,
              "#d8576b"
             ],
             [
              0.6666666666666666,
              "#ed7953"
             ],
             [
              0.7777777777777778,
              "#fb9f3a"
             ],
             [
              0.8888888888888888,
              "#fdca26"
             ],
             [
              1,
              "#f0f921"
             ]
            ],
            "type": "heatmap"
           }
          ],
          "histogram": [
           {
            "marker": {
             "pattern": {
              "fillmode": "overlay",
              "size": 10,
              "solidity": 0.2
             }
            },
            "type": "histogram"
           }
          ],
          "histogram2d": [
           {
            "colorbar": {
             "outlinewidth": 0,
             "ticks": ""
            },
            "colorscale": [
             [
              0,
              "#0d0887"
             ],
             [
              0.1111111111111111,
              "#46039f"
             ],
             [
              0.2222222222222222,
              "#7201a8"
             ],
             [
              0.3333333333333333,
              "#9c179e"
             ],
             [
              0.4444444444444444,
              "#bd3786"
             ],
             [
              0.5555555555555556,
              "#d8576b"
             ],
             [
              0.6666666666666666,
              "#ed7953"
             ],
             [
              0.7777777777777778,
              "#fb9f3a"
             ],
             [
              0.8888888888888888,
              "#fdca26"
             ],
             [
              1,
              "#f0f921"
             ]
            ],
            "type": "histogram2d"
           }
          ],
          "histogram2dcontour": [
           {
            "colorbar": {
             "outlinewidth": 0,
             "ticks": ""
            },
            "colorscale": [
             [
              0,
              "#0d0887"
             ],
             [
              0.1111111111111111,
              "#46039f"
             ],
             [
              0.2222222222222222,
              "#7201a8"
             ],
             [
              0.3333333333333333,
              "#9c179e"
             ],
             [
              0.4444444444444444,
              "#bd3786"
             ],
             [
              0.5555555555555556,
              "#d8576b"
             ],
             [
              0.6666666666666666,
              "#ed7953"
             ],
             [
              0.7777777777777778,
              "#fb9f3a"
             ],
             [
              0.8888888888888888,
              "#fdca26"
             ],
             [
              1,
              "#f0f921"
             ]
            ],
            "type": "histogram2dcontour"
           }
          ],
          "mesh3d": [
           {
            "colorbar": {
             "outlinewidth": 0,
             "ticks": ""
            },
            "type": "mesh3d"
           }
          ],
          "parcoords": [
           {
            "line": {
             "colorbar": {
              "outlinewidth": 0,
              "ticks": ""
             }
            },
            "type": "parcoords"
           }
          ],
          "pie": [
           {
            "automargin": true,
            "type": "pie"
           }
          ],
          "scatter": [
           {
            "marker": {
             "line": {
              "color": "#283442"
             }
            },
            "type": "scatter"
           }
          ],
          "scatter3d": [
           {
            "line": {
             "colorbar": {
              "outlinewidth": 0,
              "ticks": ""
             }
            },
            "marker": {
             "colorbar": {
              "outlinewidth": 0,
              "ticks": ""
             }
            },
            "type": "scatter3d"
           }
          ],
          "scattercarpet": [
           {
            "marker": {
             "colorbar": {
              "outlinewidth": 0,
              "ticks": ""
             }
            },
            "type": "scattercarpet"
           }
          ],
          "scattergeo": [
           {
            "marker": {
             "colorbar": {
              "outlinewidth": 0,
              "ticks": ""
             }
            },
            "type": "scattergeo"
           }
          ],
          "scattergl": [
           {
            "marker": {
             "line": {
              "color": "#283442"
             }
            },
            "type": "scattergl"
           }
          ],
          "scattermap": [
           {
            "marker": {
             "colorbar": {
              "outlinewidth": 0,
              "ticks": ""
             }
            },
            "type": "scattermap"
           }
          ],
          "scattermapbox": [
           {
            "marker": {
             "colorbar": {
              "outlinewidth": 0,
              "ticks": ""
             }
            },
            "type": "scattermapbox"
           }
          ],
          "scatterpolar": [
           {
            "marker": {
             "colorbar": {
              "outlinewidth": 0,
              "ticks": ""
             }
            },
            "type": "scatterpolar"
           }
          ],
          "scatterpolargl": [
           {
            "marker": {
             "colorbar": {
              "outlinewidth": 0,
              "ticks": ""
             }
            },
            "type": "scatterpolargl"
           }
          ],
          "scatterternary": [
           {
            "marker": {
             "colorbar": {
              "outlinewidth": 0,
              "ticks": ""
             }
            },
            "type": "scatterternary"
           }
          ],
          "surface": [
           {
            "colorbar": {
             "outlinewidth": 0,
             "ticks": ""
            },
            "colorscale": [
             [
              0,
              "#0d0887"
             ],
             [
              0.1111111111111111,
              "#46039f"
             ],
             [
              0.2222222222222222,
              "#7201a8"
             ],
             [
              0.3333333333333333,
              "#9c179e"
             ],
             [
              0.4444444444444444,
              "#bd3786"
             ],
             [
              0.5555555555555556,
              "#d8576b"
             ],
             [
              0.6666666666666666,
              "#ed7953"
             ],
             [
              0.7777777777777778,
              "#fb9f3a"
             ],
             [
              0.8888888888888888,
              "#fdca26"
             ],
             [
              1,
              "#f0f921"
             ]
            ],
            "type": "surface"
           }
          ],
          "table": [
           {
            "cells": {
             "fill": {
              "color": "#506784"
             },
             "line": {
              "color": "rgb(17,17,17)"
             }
            },
            "header": {
             "fill": {
              "color": "#2a3f5f"
             },
             "line": {
              "color": "rgb(17,17,17)"
             }
            },
            "type": "table"
           }
          ]
         },
         "layout": {
          "annotationdefaults": {
           "arrowcolor": "#f2f5fa",
           "arrowhead": 0,
           "arrowwidth": 1
          },
          "autotypenumbers": "strict",
          "coloraxis": {
           "colorbar": {
            "outlinewidth": 0,
            "ticks": ""
           }
          },
          "colorscale": {
           "diverging": [
            [
             0,
             "#8e0152"
            ],
            [
             0.1,
             "#c51b7d"
            ],
            [
             0.2,
             "#de77ae"
            ],
            [
             0.3,
             "#f1b6da"
            ],
            [
             0.4,
             "#fde0ef"
            ],
            [
             0.5,
             "#f7f7f7"
            ],
            [
             0.6,
             "#e6f5d0"
            ],
            [
             0.7,
             "#b8e186"
            ],
            [
             0.8,
             "#7fbc41"
            ],
            [
             0.9,
             "#4d9221"
            ],
            [
             1,
             "#276419"
            ]
           ],
           "sequential": [
            [
             0,
             "#0d0887"
            ],
            [
             0.1111111111111111,
             "#46039f"
            ],
            [
             0.2222222222222222,
             "#7201a8"
            ],
            [
             0.3333333333333333,
             "#9c179e"
            ],
            [
             0.4444444444444444,
             "#bd3786"
            ],
            [
             0.5555555555555556,
             "#d8576b"
            ],
            [
             0.6666666666666666,
             "#ed7953"
            ],
            [
             0.7777777777777778,
             "#fb9f3a"
            ],
            [
             0.8888888888888888,
             "#fdca26"
            ],
            [
             1,
             "#f0f921"
            ]
           ],
           "sequentialminus": [
            [
             0,
             "#0d0887"
            ],
            [
             0.1111111111111111,
             "#46039f"
            ],
            [
             0.2222222222222222,
             "#7201a8"
            ],
            [
             0.3333333333333333,
             "#9c179e"
            ],
            [
             0.4444444444444444,
             "#bd3786"
            ],
            [
             0.5555555555555556,
             "#d8576b"
            ],
            [
             0.6666666666666666,
             "#ed7953"
            ],
            [
             0.7777777777777778,
             "#fb9f3a"
            ],
            [
             0.8888888888888888,
             "#fdca26"
            ],
            [
             1,
             "#f0f921"
            ]
           ]
          },
          "colorway": [
           "#636efa",
           "#EF553B",
           "#00cc96",
           "#ab63fa",
           "#FFA15A",
           "#19d3f3",
           "#FF6692",
           "#B6E880",
           "#FF97FF",
           "#FECB52"
          ],
          "font": {
           "color": "#f2f5fa"
          },
          "geo": {
           "bgcolor": "rgb(17,17,17)",
           "lakecolor": "rgb(17,17,17)",
           "landcolor": "rgb(17,17,17)",
           "showlakes": true,
           "showland": true,
           "subunitcolor": "#506784"
          },
          "hoverlabel": {
           "align": "left"
          },
          "hovermode": "closest",
          "mapbox": {
           "style": "dark"
          },
          "paper_bgcolor": "rgb(17,17,17)",
          "plot_bgcolor": "rgb(17,17,17)",
          "polar": {
           "angularaxis": {
            "gridcolor": "#506784",
            "linecolor": "#506784",
            "ticks": ""
           },
           "bgcolor": "rgb(17,17,17)",
           "radialaxis": {
            "gridcolor": "#506784",
            "linecolor": "#506784",
            "ticks": ""
           }
          },
          "scene": {
           "xaxis": {
            "backgroundcolor": "rgb(17,17,17)",
            "gridcolor": "#506784",
            "gridwidth": 2,
            "linecolor": "#506784",
            "showbackground": true,
            "ticks": "",
            "zerolinecolor": "#C8D4E3"
           },
           "yaxis": {
            "backgroundcolor": "rgb(17,17,17)",
            "gridcolor": "#506784",
            "gridwidth": 2,
            "linecolor": "#506784",
            "showbackground": true,
            "ticks": "",
            "zerolinecolor": "#C8D4E3"
           },
           "zaxis": {
            "backgroundcolor": "rgb(17,17,17)",
            "gridcolor": "#506784",
            "gridwidth": 2,
            "linecolor": "#506784",
            "showbackground": true,
            "ticks": "",
            "zerolinecolor": "#C8D4E3"
           }
          },
          "shapedefaults": {
           "line": {
            "color": "#f2f5fa"
           }
          },
          "sliderdefaults": {
           "bgcolor": "#C8D4E3",
           "bordercolor": "rgb(17,17,17)",
           "borderwidth": 1,
           "tickwidth": 0
          },
          "ternary": {
           "aaxis": {
            "gridcolor": "#506784",
            "linecolor": "#506784",
            "ticks": ""
           },
           "baxis": {
            "gridcolor": "#506784",
            "linecolor": "#506784",
            "ticks": ""
           },
           "bgcolor": "rgb(17,17,17)",
           "caxis": {
            "gridcolor": "#506784",
            "linecolor": "#506784",
            "ticks": ""
           }
          },
          "title": {
           "x": 0.05
          },
          "updatemenudefaults": {
           "bgcolor": "#506784",
           "borderwidth": 0
          },
          "xaxis": {
           "automargin": true,
           "gridcolor": "#283442",
           "linecolor": "#506784",
           "ticks": "",
           "title": {
            "standoff": 15
           },
           "zerolinecolor": "#283442",
           "zerolinewidth": 2
          },
          "yaxis": {
           "automargin": true,
           "gridcolor": "#283442",
           "linecolor": "#506784",
           "ticks": "",
           "title": {
            "standoff": 15
           },
           "zerolinecolor": "#283442",
           "zerolinewidth": 2
          }
         }
        },
        "xaxis": {
         "anchor": "y",
         "domain": [
          0,
          1
         ],
         "title": {
          "text": "symmetry_worst"
         }
        },
        "yaxis": {
         "anchor": "x",
         "domain": [
          0,
          1
         ],
         "title": {
          "text": "index"
         }
        }
       }
      }
     },
     "metadata": {},
     "output_type": "display_data"
    }
   ],
   "source": [
    "fig = px.scatter(\n",
    "    df,\n",
    "    x='symmetry_worst',\n",
    "    color='diagnosis',\n",
    "    template = 'plotly_dark')\n",
    "fig.show()"
   ]
  },
  {
   "cell_type": "code",
   "execution_count": 39,
   "id": "d17df023",
   "metadata": {},
   "outputs": [
    {
     "data": {
      "application/vnd.plotly.v1+json": {
       "config": {
        "plotlyServerURL": "https://plot.ly"
       },
       "data": [
        {
         "hovertemplate": "diagnosis=M<br>concavity_worst=%{x}<br>index=%{y}<extra></extra>",
         "legendgroup": "M",
         "marker": {
          "color": "#636efa",
          "symbol": "circle"
         },
         "mode": "markers",
         "name": "M",
         "orientation": "h",
         "showlegend": true,
         "type": "scatter",
         "x": {
          "bdata": "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",
          "dtype": "f8"
         },
         "xaxis": "x",
         "y": {
          "bdata": "AAABAAIAAwAEAAUABgAHAAgACQAKAAsADAANAA4ADwAQABEAEgAWABcAGAAZABoAGwAcAB0AHgAfACAAIQAiACMAJAAmACcAKAApACoAKwAsAC0ALwA1ADYAOAA5AD4AQABBAEYASABJAEsATQBOAFIAUwBVAFYAVwBbAF4AXwBjAGQAaQBsAHUAdgB3AHkAegB+AH8AgQCDAIQAhgCHAIoAjQCSAJwAoQCiAKQApwCoAKsArACxALQAtQC2ALgAugC+AMEAwgDEAMUAxgDHAMkAygDLAM0AzwDSANQA1QDWANcA2gDbAN8A5QDmAOkA7ADtAO8A9AD6APwA/QD+AP8AAAEBAQIBAwEEAQUBBgEHAQgBCQEQARIBFQEYARoBGwEpASwBLgE9AUEBQwFIAUkBSgFPAVEBUwFXAV8BYAFhAW0BbgFwAXEBcgF0AXUBewGBAYUBiAGJAZABmAGeAaEBrgGwAbEBswG5AbwBvgHBAcMBzAHNAdQB3wHnAekB7AHyAfMB9QH3Af0BAAICAgQCBQIJAhUCFwIYAjICMwI0AjUCNgI3Ag==",
          "dtype": "i2"
         },
         "yaxis": "y"
        },
        {
         "hovertemplate": "diagnosis=B<br>concavity_worst=%{x}<br>index=%{y}<extra></extra>",
         "legendgroup": "B",
         "marker": {
          "color": "#EF553B",
          "symbol": "circle"
         },
         "mode": "markers",
         "name": "B",
         "orientation": "h",
         "showlegend": true,
         "type": "scatter",
         "x": {
          "bdata": "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",
          "dtype": "f8"
         },
         "xaxis": "x",
         "y": {
          "bdata": "EwAUABUAJQAuADAAMQAyADMANAA3ADoAOwA8AD0APwBCAEMARABFAEcASgBMAE8AUABRAFQAWABZAFoAXABdAGAAYQBiAGUAZgBnAGgAagBrAG0AbgBvAHAAcQByAHMAdAB4AHsAfAB9AIAAggCFAIgAiQCLAIwAjgCPAJAAkQCTAJQAlQCWAJcAmACZAJoAmwCdAJ4AnwCgAKMApQCmAKkAqgCtAK4ArwCwALIAswC3ALkAuwC8AL0AvwDAAMMAyADMAM4A0ADRANMA2ADZANwA3QDeAOAA4QDiAOMA5ADnAOgA6gDrAO4A8ADxAPIA8wD1APYA9wD4APkA+wAKAQsBDAENAQ4BDwERARMBFAEWARcBGQEcAR0BHgEfASABIQEiASMBJAElASYBJwEoASoBKwEtAS8BMAExATIBMwE0ATUBNgE3ATgBOQE6ATsBPAE+AT8BQAFCAUQBRQFGAUcBSwFMAU0BTgFQAVIBVAFVAVYBWAFZAVoBWwFcAV0BXgFiAWMBZAFlAWYBZwFoAWkBagFrAWwBbwFzAXYBdwF4AXkBegF8AX0BfgF/AYABggGDAYQBhgGHAYoBiwGMAY0BjgGPAZEBkgGTAZQBlQGWAZcBmQGaAZsBnAGdAZ8BoAGiAaMBpAGlAaYBpwGoAakBqgGrAawBrQGvAbIBtAG1AbYBtwG4AboBuwG9Ab8BwAHCAcQBxQHGAccByAHJAcoBywHOAc8B0AHRAdIB0wHVAdYB1wHYAdkB2gHbAdwB3QHeAeAB4QHiAeMB5AHlAeYB6AHqAesB7QHuAe8B8AHxAfQB9gH4AfkB+gH7AfwB/gH/AQECAwIGAgcCCAIKAgsCDAINAg4CDwIQAhECEgITAhQCFgIZAhoCGwIcAh0CHgIfAiACIQIiAiMCJAIlAiYCJwIoAikCKgIrAiwCLQIuAi8CMAIxAjgC",
          "dtype": "i2"
         },
         "yaxis": "y"
        }
       ],
       "layout": {
        "legend": {
         "title": {
          "text": "diagnosis"
         },
         "tracegroupgap": 0
        },
        "margin": {
         "t": 60
        },
        "template": {
         "data": {
          "bar": [
           {
            "error_x": {
             "color": "#f2f5fa"
            },
            "error_y": {
             "color": "#f2f5fa"
            },
            "marker": {
             "line": {
              "color": "rgb(17,17,17)",
              "width": 0.5
             },
             "pattern": {
              "fillmode": "overlay",
              "size": 10,
              "solidity": 0.2
             }
            },
            "type": "bar"
           }
          ],
          "barpolar": [
           {
            "marker": {
             "line": {
              "color": "rgb(17,17,17)",
              "width": 0.5
             },
             "pattern": {
              "fillmode": "overlay",
              "size": 10,
              "solidity": 0.2
             }
            },
            "type": "barpolar"
           }
          ],
          "carpet": [
           {
            "aaxis": {
             "endlinecolor": "#A2B1C6",
             "gridcolor": "#506784",
             "linecolor": "#506784",
             "minorgridcolor": "#506784",
             "startlinecolor": "#A2B1C6"
            },
            "baxis": {
             "endlinecolor": "#A2B1C6",
             "gridcolor": "#506784",
             "linecolor": "#506784",
             "minorgridcolor": "#506784",
             "startlinecolor": "#A2B1C6"
            },
            "type": "carpet"
           }
          ],
          "choropleth": [
           {
            "colorbar": {
             "outlinewidth": 0,
             "ticks": ""
            },
            "type": "choropleth"
           }
          ],
          "contour": [
           {
            "colorbar": {
             "outlinewidth": 0,
             "ticks": ""
            },
            "colorscale": [
             [
              0,
              "#0d0887"
             ],
             [
              0.1111111111111111,
              "#46039f"
             ],
             [
              0.2222222222222222,
              "#7201a8"
             ],
             [
              0.3333333333333333,
              "#9c179e"
             ],
             [
              0.4444444444444444,
              "#bd3786"
             ],
             [
              0.5555555555555556,
              "#d8576b"
             ],
             [
              0.6666666666666666,
              "#ed7953"
             ],
             [
              0.7777777777777778,
              "#fb9f3a"
             ],
             [
              0.8888888888888888,
              "#fdca26"
             ],
             [
              1,
              "#f0f921"
             ]
            ],
            "type": "contour"
           }
          ],
          "contourcarpet": [
           {
            "colorbar": {
             "outlinewidth": 0,
             "ticks": ""
            },
            "type": "contourcarpet"
           }
          ],
          "heatmap": [
           {
            "colorbar": {
             "outlinewidth": 0,
             "ticks": ""
            },
            "colorscale": [
             [
              0,
              "#0d0887"
             ],
             [
              0.1111111111111111,
              "#46039f"
             ],
             [
              0.2222222222222222,
              "#7201a8"
             ],
             [
              0.3333333333333333,
              "#9c179e"
             ],
             [
              0.4444444444444444,
              "#bd3786"
             ],
             [
              0.5555555555555556,
              "#d8576b"
             ],
             [
              0.6666666666666666,
              "#ed7953"
             ],
             [
              0.7777777777777778,
              "#fb9f3a"
             ],
             [
              0.8888888888888888,
              "#fdca26"
             ],
             [
              1,
              "#f0f921"
             ]
            ],
            "type": "heatmap"
           }
          ],
          "histogram": [
           {
            "marker": {
             "pattern": {
              "fillmode": "overlay",
              "size": 10,
              "solidity": 0.2
             }
            },
            "type": "histogram"
           }
          ],
          "histogram2d": [
           {
            "colorbar": {
             "outlinewidth": 0,
             "ticks": ""
            },
            "colorscale": [
             [
              0,
              "#0d0887"
             ],
             [
              0.1111111111111111,
              "#46039f"
             ],
             [
              0.2222222222222222,
              "#7201a8"
             ],
             [
              0.3333333333333333,
              "#9c179e"
             ],
             [
              0.4444444444444444,
              "#bd3786"
             ],
             [
              0.5555555555555556,
              "#d8576b"
             ],
             [
              0.6666666666666666,
              "#ed7953"
             ],
             [
              0.7777777777777778,
              "#fb9f3a"
             ],
             [
              0.8888888888888888,
              "#fdca26"
             ],
             [
              1,
              "#f0f921"
             ]
            ],
            "type": "histogram2d"
           }
          ],
          "histogram2dcontour": [
           {
            "colorbar": {
             "outlinewidth": 0,
             "ticks": ""
            },
            "colorscale": [
             [
              0,
              "#0d0887"
             ],
             [
              0.1111111111111111,
              "#46039f"
             ],
             [
              0.2222222222222222,
              "#7201a8"
             ],
             [
              0.3333333333333333,
              "#9c179e"
             ],
             [
              0.4444444444444444,
              "#bd3786"
             ],
             [
              0.5555555555555556,
              "#d8576b"
             ],
             [
              0.6666666666666666,
              "#ed7953"
             ],
             [
              0.7777777777777778,
              "#fb9f3a"
             ],
             [
              0.8888888888888888,
              "#fdca26"
             ],
             [
              1,
              "#f0f921"
             ]
            ],
            "type": "histogram2dcontour"
           }
          ],
          "mesh3d": [
           {
            "colorbar": {
             "outlinewidth": 0,
             "ticks": ""
            },
            "type": "mesh3d"
           }
          ],
          "parcoords": [
           {
            "line": {
             "colorbar": {
              "outlinewidth": 0,
              "ticks": ""
             }
            },
            "type": "parcoords"
           }
          ],
          "pie": [
           {
            "automargin": true,
            "type": "pie"
           }
          ],
          "scatter": [
           {
            "marker": {
             "line": {
              "color": "#283442"
             }
            },
            "type": "scatter"
           }
          ],
          "scatter3d": [
           {
            "line": {
             "colorbar": {
              "outlinewidth": 0,
              "ticks": ""
             }
            },
            "marker": {
             "colorbar": {
              "outlinewidth": 0,
              "ticks": ""
             }
            },
            "type": "scatter3d"
           }
          ],
          "scattercarpet": [
           {
            "marker": {
             "colorbar": {
              "outlinewidth": 0,
              "ticks": ""
             }
            },
            "type": "scattercarpet"
           }
          ],
          "scattergeo": [
           {
            "marker": {
             "colorbar": {
              "outlinewidth": 0,
              "ticks": ""
             }
            },
            "type": "scattergeo"
           }
          ],
          "scattergl": [
           {
            "marker": {
             "line": {
              "color": "#283442"
             }
            },
            "type": "scattergl"
           }
          ],
          "scattermap": [
           {
            "marker": {
             "colorbar": {
              "outlinewidth": 0,
              "ticks": ""
             }
            },
            "type": "scattermap"
           }
          ],
          "scattermapbox": [
           {
            "marker": {
             "colorbar": {
              "outlinewidth": 0,
              "ticks": ""
             }
            },
            "type": "scattermapbox"
           }
          ],
          "scatterpolar": [
           {
            "marker": {
             "colorbar": {
              "outlinewidth": 0,
              "ticks": ""
             }
            },
            "type": "scatterpolar"
           }
          ],
          "scatterpolargl": [
           {
            "marker": {
             "colorbar": {
              "outlinewidth": 0,
              "ticks": ""
             }
            },
            "type": "scatterpolargl"
           }
          ],
          "scatterternary": [
           {
            "marker": {
             "colorbar": {
              "outlinewidth": 0,
              "ticks": ""
             }
            },
            "type": "scatterternary"
           }
          ],
          "surface": [
           {
            "colorbar": {
             "outlinewidth": 0,
             "ticks": ""
            },
            "colorscale": [
             [
              0,
              "#0d0887"
             ],
             [
              0.1111111111111111,
              "#46039f"
             ],
             [
              0.2222222222222222,
              "#7201a8"
             ],
             [
              0.3333333333333333,
              "#9c179e"
             ],
             [
              0.4444444444444444,
              "#bd3786"
             ],
             [
              0.5555555555555556,
              "#d8576b"
             ],
             [
              0.6666666666666666,
              "#ed7953"
             ],
             [
              0.7777777777777778,
              "#fb9f3a"
             ],
             [
              0.8888888888888888,
              "#fdca26"
             ],
             [
              1,
              "#f0f921"
             ]
            ],
            "type": "surface"
           }
          ],
          "table": [
           {
            "cells": {
             "fill": {
              "color": "#506784"
             },
             "line": {
              "color": "rgb(17,17,17)"
             }
            },
            "header": {
             "fill": {
              "color": "#2a3f5f"
             },
             "line": {
              "color": "rgb(17,17,17)"
             }
            },
            "type": "table"
           }
          ]
         },
         "layout": {
          "annotationdefaults": {
           "arrowcolor": "#f2f5fa",
           "arrowhead": 0,
           "arrowwidth": 1
          },
          "autotypenumbers": "strict",
          "coloraxis": {
           "colorbar": {
            "outlinewidth": 0,
            "ticks": ""
           }
          },
          "colorscale": {
           "diverging": [
            [
             0,
             "#8e0152"
            ],
            [
             0.1,
             "#c51b7d"
            ],
            [
             0.2,
             "#de77ae"
            ],
            [
             0.3,
             "#f1b6da"
            ],
            [
             0.4,
             "#fde0ef"
            ],
            [
             0.5,
             "#f7f7f7"
            ],
            [
             0.6,
             "#e6f5d0"
            ],
            [
             0.7,
             "#b8e186"
            ],
            [
             0.8,
             "#7fbc41"
            ],
            [
             0.9,
             "#4d9221"
            ],
            [
             1,
             "#276419"
            ]
           ],
           "sequential": [
            [
             0,
             "#0d0887"
            ],
            [
             0.1111111111111111,
             "#46039f"
            ],
            [
             0.2222222222222222,
             "#7201a8"
            ],
            [
             0.3333333333333333,
             "#9c179e"
            ],
            [
             0.4444444444444444,
             "#bd3786"
            ],
            [
             0.5555555555555556,
             "#d8576b"
            ],
            [
             0.6666666666666666,
             "#ed7953"
            ],
            [
             0.7777777777777778,
             "#fb9f3a"
            ],
            [
             0.8888888888888888,
             "#fdca26"
            ],
            [
             1,
             "#f0f921"
            ]
           ],
           "sequentialminus": [
            [
             0,
             "#0d0887"
            ],
            [
             0.1111111111111111,
             "#46039f"
            ],
            [
             0.2222222222222222,
             "#7201a8"
            ],
            [
             0.3333333333333333,
             "#9c179e"
            ],
            [
             0.4444444444444444,
             "#bd3786"
            ],
            [
             0.5555555555555556,
             "#d8576b"
            ],
            [
             0.6666666666666666,
             "#ed7953"
            ],
            [
             0.7777777777777778,
             "#fb9f3a"
            ],
            [
             0.8888888888888888,
             "#fdca26"
            ],
            [
             1,
             "#f0f921"
            ]
           ]
          },
          "colorway": [
           "#636efa",
           "#EF553B",
           "#00cc96",
           "#ab63fa",
           "#FFA15A",
           "#19d3f3",
           "#FF6692",
           "#B6E880",
           "#FF97FF",
           "#FECB52"
          ],
          "font": {
           "color": "#f2f5fa"
          },
          "geo": {
           "bgcolor": "rgb(17,17,17)",
           "lakecolor": "rgb(17,17,17)",
           "landcolor": "rgb(17,17,17)",
           "showlakes": true,
           "showland": true,
           "subunitcolor": "#506784"
          },
          "hoverlabel": {
           "align": "left"
          },
          "hovermode": "closest",
          "mapbox": {
           "style": "dark"
          },
          "paper_bgcolor": "rgb(17,17,17)",
          "plot_bgcolor": "rgb(17,17,17)",
          "polar": {
           "angularaxis": {
            "gridcolor": "#506784",
            "linecolor": "#506784",
            "ticks": ""
           },
           "bgcolor": "rgb(17,17,17)",
           "radialaxis": {
            "gridcolor": "#506784",
            "linecolor": "#506784",
            "ticks": ""
           }
          },
          "scene": {
           "xaxis": {
            "backgroundcolor": "rgb(17,17,17)",
            "gridcolor": "#506784",
            "gridwidth": 2,
            "linecolor": "#506784",
            "showbackground": true,
            "ticks": "",
            "zerolinecolor": "#C8D4E3"
           },
           "yaxis": {
            "backgroundcolor": "rgb(17,17,17)",
            "gridcolor": "#506784",
            "gridwidth": 2,
            "linecolor": "#506784",
            "showbackground": true,
            "ticks": "",
            "zerolinecolor": "#C8D4E3"
           },
           "zaxis": {
            "backgroundcolor": "rgb(17,17,17)",
            "gridcolor": "#506784",
            "gridwidth": 2,
            "linecolor": "#506784",
            "showbackground": true,
            "ticks": "",
            "zerolinecolor": "#C8D4E3"
           }
          },
          "shapedefaults": {
           "line": {
            "color": "#f2f5fa"
           }
          },
          "sliderdefaults": {
           "bgcolor": "#C8D4E3",
           "bordercolor": "rgb(17,17,17)",
           "borderwidth": 1,
           "tickwidth": 0
          },
          "ternary": {
           "aaxis": {
            "gridcolor": "#506784",
            "linecolor": "#506784",
            "ticks": ""
           },
           "baxis": {
            "gridcolor": "#506784",
            "linecolor": "#506784",
            "ticks": ""
           },
           "bgcolor": "rgb(17,17,17)",
           "caxis": {
            "gridcolor": "#506784",
            "linecolor": "#506784",
            "ticks": ""
           }
          },
          "title": {
           "x": 0.05
          },
          "updatemenudefaults": {
           "bgcolor": "#506784",
           "borderwidth": 0
          },
          "xaxis": {
           "automargin": true,
           "gridcolor": "#283442",
           "linecolor": "#506784",
           "ticks": "",
           "title": {
            "standoff": 15
           },
           "zerolinecolor": "#283442",
           "zerolinewidth": 2
          },
          "yaxis": {
           "automargin": true,
           "gridcolor": "#283442",
           "linecolor": "#506784",
           "ticks": "",
           "title": {
            "standoff": 15
           },
           "zerolinecolor": "#283442",
           "zerolinewidth": 2
          }
         }
        },
        "xaxis": {
         "anchor": "y",
         "domain": [
          0,
          1
         ],
         "title": {
          "text": "concavity_worst"
         }
        },
        "yaxis": {
         "anchor": "x",
         "domain": [
          0,
          1
         ],
         "title": {
          "text": "index"
         }
        }
       }
      }
     },
     "metadata": {},
     "output_type": "display_data"
    }
   ],
   "source": [
    "fig = px.scatter(\n",
    "    df,\n",
    "    x='concavity_worst',\n",
    "    color='diagnosis',\n",
    "    template = 'plotly_dark')\n",
    "fig.show()"
   ]
  },
  {
   "cell_type": "code",
   "execution_count": 40,
   "id": "f5676f00",
   "metadata": {},
   "outputs": [
    {
     "data": {
      "application/vnd.plotly.v1+json": {
       "config": {
        "plotlyServerURL": "https://plot.ly"
       },
       "data": [
        {
         "hovertemplate": "diagnosis=M<br>fractal_dimension_worst=%{x}<br>index=%{y}<extra></extra>",
         "legendgroup": "M",
         "marker": {
          "color": "#636efa",
          "symbol": "circle"
         },
         "mode": "markers",
         "name": "M",
         "orientation": "h",
         "showlegend": true,
         "type": "scatter",
         "x": {
          "bdata": "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",
          "dtype": "f8"
         },
         "xaxis": "x",
         "y": {
          "bdata": "AAABAAIAAwAEAAUABgAHAAgACQAKAAsADAANAA4ADwAQABEAEgAWABcAGAAZABoAGwAcAB0AHgAfACAAIQAiACMAJAAmACcAKAApACoAKwAsAC0ALwA1ADYAOAA5AD4AQABBAEYASABJAEsATQBOAFIAUwBVAFYAVwBbAF4AXwBjAGQAaQBsAHUAdgB3AHkAegB+AH8AgQCDAIQAhgCHAIoAjQCSAJwAoQCiAKQApwCoAKsArACxALQAtQC2ALgAugC+AMEAwgDEAMUAxgDHAMkAygDLAM0AzwDSANQA1QDWANcA2gDbAN8A5QDmAOkA7ADtAO8A9AD6APwA/QD+AP8AAAEBAQIBAwEEAQUBBgEHAQgBCQEQARIBFQEYARoBGwEpASwBLgE9AUEBQwFIAUkBSgFPAVEBUwFXAV8BYAFhAW0BbgFwAXEBcgF0AXUBewGBAYUBiAGJAZABmAGeAaEBrgGwAbEBswG5AbwBvgHBAcMBzAHNAdQB3wHnAekB7AHyAfMB9QH3Af0BAAICAgQCBQIJAhUCFwIYAjICMwI0AjUCNgI3Ag==",
          "dtype": "i2"
         },
         "yaxis": "y"
        },
        {
         "hovertemplate": "diagnosis=B<br>fractal_dimension_worst=%{x}<br>index=%{y}<extra></extra>",
         "legendgroup": "B",
         "marker": {
          "color": "#EF553B",
          "symbol": "circle"
         },
         "mode": "markers",
         "name": "B",
         "orientation": "h",
         "showlegend": true,
         "type": "scatter",
         "x": {
          "bdata": "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",
          "dtype": "f8"
         },
         "xaxis": "x",
         "y": {
          "bdata": "EwAUABUAJQAuADAAMQAyADMANAA3ADoAOwA8AD0APwBCAEMARABFAEcASgBMAE8AUABRAFQAWABZAFoAXABdAGAAYQBiAGUAZgBnAGgAagBrAG0AbgBvAHAAcQByAHMAdAB4AHsAfAB9AIAAggCFAIgAiQCLAIwAjgCPAJAAkQCTAJQAlQCWAJcAmACZAJoAmwCdAJ4AnwCgAKMApQCmAKkAqgCtAK4ArwCwALIAswC3ALkAuwC8AL0AvwDAAMMAyADMAM4A0ADRANMA2ADZANwA3QDeAOAA4QDiAOMA5ADnAOgA6gDrAO4A8ADxAPIA8wD1APYA9wD4APkA+wAKAQsBDAENAQ4BDwERARMBFAEWARcBGQEcAR0BHgEfASABIQEiASMBJAElASYBJwEoASoBKwEtAS8BMAExATIBMwE0ATUBNgE3ATgBOQE6ATsBPAE+AT8BQAFCAUQBRQFGAUcBSwFMAU0BTgFQAVIBVAFVAVYBWAFZAVoBWwFcAV0BXgFiAWMBZAFlAWYBZwFoAWkBagFrAWwBbwFzAXYBdwF4AXkBegF8AX0BfgF/AYABggGDAYQBhgGHAYoBiwGMAY0BjgGPAZEBkgGTAZQBlQGWAZcBmQGaAZsBnAGdAZ8BoAGiAaMBpAGlAaYBpwGoAakBqgGrAawBrQGvAbIBtAG1AbYBtwG4AboBuwG9Ab8BwAHCAcQBxQHGAccByAHJAcoBywHOAc8B0AHRAdIB0wHVAdYB1wHYAdkB2gHbAdwB3QHeAeAB4QHiAeMB5AHlAeYB6AHqAesB7QHuAe8B8AHxAfQB9gH4AfkB+gH7AfwB/gH/AQECAwIGAgcCCAIKAgsCDAINAg4CDwIQAhECEgITAhQCFgIZAhoCGwIcAh0CHgIfAiACIQIiAiMCJAIlAiYCJwIoAikCKgIrAiwCLQIuAi8CMAIxAjgC",
          "dtype": "i2"
         },
         "yaxis": "y"
        }
       ],
       "layout": {
        "legend": {
         "title": {
          "text": "diagnosis"
         },
         "tracegroupgap": 0
        },
        "margin": {
         "t": 60
        },
        "template": {
         "data": {
          "bar": [
           {
            "error_x": {
             "color": "#f2f5fa"
            },
            "error_y": {
             "color": "#f2f5fa"
            },
            "marker": {
             "line": {
              "color": "rgb(17,17,17)",
              "width": 0.5
             },
             "pattern": {
              "fillmode": "overlay",
              "size": 10,
              "solidity": 0.2
             }
            },
            "type": "bar"
           }
          ],
          "barpolar": [
           {
            "marker": {
             "line": {
              "color": "rgb(17,17,17)",
              "width": 0.5
             },
             "pattern": {
              "fillmode": "overlay",
              "size": 10,
              "solidity": 0.2
             }
            },
            "type": "barpolar"
           }
          ],
          "carpet": [
           {
            "aaxis": {
             "endlinecolor": "#A2B1C6",
             "gridcolor": "#506784",
             "linecolor": "#506784",
             "minorgridcolor": "#506784",
             "startlinecolor": "#A2B1C6"
            },
            "baxis": {
             "endlinecolor": "#A2B1C6",
             "gridcolor": "#506784",
             "linecolor": "#506784",
             "minorgridcolor": "#506784",
             "startlinecolor": "#A2B1C6"
            },
            "type": "carpet"
           }
          ],
          "choropleth": [
           {
            "colorbar": {
             "outlinewidth": 0,
             "ticks": ""
            },
            "type": "choropleth"
           }
          ],
          "contour": [
           {
            "colorbar": {
             "outlinewidth": 0,
             "ticks": ""
            },
            "colorscale": [
             [
              0,
              "#0d0887"
             ],
             [
              0.1111111111111111,
              "#46039f"
             ],
             [
              0.2222222222222222,
              "#7201a8"
             ],
             [
              0.3333333333333333,
              "#9c179e"
             ],
             [
              0.4444444444444444,
              "#bd3786"
             ],
             [
              0.5555555555555556,
              "#d8576b"
             ],
             [
              0.6666666666666666,
              "#ed7953"
             ],
             [
              0.7777777777777778,
              "#fb9f3a"
             ],
             [
              0.8888888888888888,
              "#fdca26"
             ],
             [
              1,
              "#f0f921"
             ]
            ],
            "type": "contour"
           }
          ],
          "contourcarpet": [
           {
            "colorbar": {
             "outlinewidth": 0,
             "ticks": ""
            },
            "type": "contourcarpet"
           }
          ],
          "heatmap": [
           {
            "colorbar": {
             "outlinewidth": 0,
             "ticks": ""
            },
            "colorscale": [
             [
              0,
              "#0d0887"
             ],
             [
              0.1111111111111111,
              "#46039f"
             ],
             [
              0.2222222222222222,
              "#7201a8"
             ],
             [
              0.3333333333333333,
              "#9c179e"
             ],
             [
              0.4444444444444444,
              "#bd3786"
             ],
             [
              0.5555555555555556,
              "#d8576b"
             ],
             [
              0.6666666666666666,
              "#ed7953"
             ],
             [
              0.7777777777777778,
              "#fb9f3a"
             ],
             [
              0.8888888888888888,
              "#fdca26"
             ],
             [
              1,
              "#f0f921"
             ]
            ],
            "type": "heatmap"
           }
          ],
          "histogram": [
           {
            "marker": {
             "pattern": {
              "fillmode": "overlay",
              "size": 10,
              "solidity": 0.2
             }
            },
            "type": "histogram"
           }
          ],
          "histogram2d": [
           {
            "colorbar": {
             "outlinewidth": 0,
             "ticks": ""
            },
            "colorscale": [
             [
              0,
              "#0d0887"
             ],
             [
              0.1111111111111111,
              "#46039f"
             ],
             [
              0.2222222222222222,
              "#7201a8"
             ],
             [
              0.3333333333333333,
              "#9c179e"
             ],
             [
              0.4444444444444444,
              "#bd3786"
             ],
             [
              0.5555555555555556,
              "#d8576b"
             ],
             [
              0.6666666666666666,
              "#ed7953"
             ],
             [
              0.7777777777777778,
              "#fb9f3a"
             ],
             [
              0.8888888888888888,
              "#fdca26"
             ],
             [
              1,
              "#f0f921"
             ]
            ],
            "type": "histogram2d"
           }
          ],
          "histogram2dcontour": [
           {
            "colorbar": {
             "outlinewidth": 0,
             "ticks": ""
            },
            "colorscale": [
             [
              0,
              "#0d0887"
             ],
             [
              0.1111111111111111,
              "#46039f"
             ],
             [
              0.2222222222222222,
              "#7201a8"
             ],
             [
              0.3333333333333333,
              "#9c179e"
             ],
             [
              0.4444444444444444,
              "#bd3786"
             ],
             [
              0.5555555555555556,
              "#d8576b"
             ],
             [
              0.6666666666666666,
              "#ed7953"
             ],
             [
              0.7777777777777778,
              "#fb9f3a"
             ],
             [
              0.8888888888888888,
              "#fdca26"
             ],
             [
              1,
              "#f0f921"
             ]
            ],
            "type": "histogram2dcontour"
           }
          ],
          "mesh3d": [
           {
            "colorbar": {
             "outlinewidth": 0,
             "ticks": ""
            },
            "type": "mesh3d"
           }
          ],
          "parcoords": [
           {
            "line": {
             "colorbar": {
              "outlinewidth": 0,
              "ticks": ""
             }
            },
            "type": "parcoords"
           }
          ],
          "pie": [
           {
            "automargin": true,
            "type": "pie"
           }
          ],
          "scatter": [
           {
            "marker": {
             "line": {
              "color": "#283442"
             }
            },
            "type": "scatter"
           }
          ],
          "scatter3d": [
           {
            "line": {
             "colorbar": {
              "outlinewidth": 0,
              "ticks": ""
             }
            },
            "marker": {
             "colorbar": {
              "outlinewidth": 0,
              "ticks": ""
             }
            },
            "type": "scatter3d"
           }
          ],
          "scattercarpet": [
           {
            "marker": {
             "colorbar": {
              "outlinewidth": 0,
              "ticks": ""
             }
            },
            "type": "scattercarpet"
           }
          ],
          "scattergeo": [
           {
            "marker": {
             "colorbar": {
              "outlinewidth": 0,
              "ticks": ""
             }
            },
            "type": "scattergeo"
           }
          ],
          "scattergl": [
           {
            "marker": {
             "line": {
              "color": "#283442"
             }
            },
            "type": "scattergl"
           }
          ],
          "scattermap": [
           {
            "marker": {
             "colorbar": {
              "outlinewidth": 0,
              "ticks": ""
             }
            },
            "type": "scattermap"
           }
          ],
          "scattermapbox": [
           {
            "marker": {
             "colorbar": {
              "outlinewidth": 0,
              "ticks": ""
             }
            },
            "type": "scattermapbox"
           }
          ],
          "scatterpolar": [
           {
            "marker": {
             "colorbar": {
              "outlinewidth": 0,
              "ticks": ""
             }
            },
            "type": "scatterpolar"
           }
          ],
          "scatterpolargl": [
           {
            "marker": {
             "colorbar": {
              "outlinewidth": 0,
              "ticks": ""
             }
            },
            "type": "scatterpolargl"
           }
          ],
          "scatterternary": [
           {
            "marker": {
             "colorbar": {
              "outlinewidth": 0,
              "ticks": ""
             }
            },
            "type": "scatterternary"
           }
          ],
          "surface": [
           {
            "colorbar": {
             "outlinewidth": 0,
             "ticks": ""
            },
            "colorscale": [
             [
              0,
              "#0d0887"
             ],
             [
              0.1111111111111111,
              "#46039f"
             ],
             [
              0.2222222222222222,
              "#7201a8"
             ],
             [
              0.3333333333333333,
              "#9c179e"
             ],
             [
              0.4444444444444444,
              "#bd3786"
             ],
             [
              0.5555555555555556,
              "#d8576b"
             ],
             [
              0.6666666666666666,
              "#ed7953"
             ],
             [
              0.7777777777777778,
              "#fb9f3a"
             ],
             [
              0.8888888888888888,
              "#fdca26"
             ],
             [
              1,
              "#f0f921"
             ]
            ],
            "type": "surface"
           }
          ],
          "table": [
           {
            "cells": {
             "fill": {
              "color": "#506784"
             },
             "line": {
              "color": "rgb(17,17,17)"
             }
            },
            "header": {
             "fill": {
              "color": "#2a3f5f"
             },
             "line": {
              "color": "rgb(17,17,17)"
             }
            },
            "type": "table"
           }
          ]
         },
         "layout": {
          "annotationdefaults": {
           "arrowcolor": "#f2f5fa",
           "arrowhead": 0,
           "arrowwidth": 1
          },
          "autotypenumbers": "strict",
          "coloraxis": {
           "colorbar": {
            "outlinewidth": 0,
            "ticks": ""
           }
          },
          "colorscale": {
           "diverging": [
            [
             0,
             "#8e0152"
            ],
            [
             0.1,
             "#c51b7d"
            ],
            [
             0.2,
             "#de77ae"
            ],
            [
             0.3,
             "#f1b6da"
            ],
            [
             0.4,
             "#fde0ef"
            ],
            [
             0.5,
             "#f7f7f7"
            ],
            [
             0.6,
             "#e6f5d0"
            ],
            [
             0.7,
             "#b8e186"
            ],
            [
             0.8,
             "#7fbc41"
            ],
            [
             0.9,
             "#4d9221"
            ],
            [
             1,
             "#276419"
            ]
           ],
           "sequential": [
            [
             0,
             "#0d0887"
            ],
            [
             0.1111111111111111,
             "#46039f"
            ],
            [
             0.2222222222222222,
             "#7201a8"
            ],
            [
             0.3333333333333333,
             "#9c179e"
            ],
            [
             0.4444444444444444,
             "#bd3786"
            ],
            [
             0.5555555555555556,
             "#d8576b"
            ],
            [
             0.6666666666666666,
             "#ed7953"
            ],
            [
             0.7777777777777778,
             "#fb9f3a"
            ],
            [
             0.8888888888888888,
             "#fdca26"
            ],
            [
             1,
             "#f0f921"
            ]
           ],
           "sequentialminus": [
            [
             0,
             "#0d0887"
            ],
            [
             0.1111111111111111,
             "#46039f"
            ],
            [
             0.2222222222222222,
             "#7201a8"
            ],
            [
             0.3333333333333333,
             "#9c179e"
            ],
            [
             0.4444444444444444,
             "#bd3786"
            ],
            [
             0.5555555555555556,
             "#d8576b"
            ],
            [
             0.6666666666666666,
             "#ed7953"
            ],
            [
             0.7777777777777778,
             "#fb9f3a"
            ],
            [
             0.8888888888888888,
             "#fdca26"
            ],
            [
             1,
             "#f0f921"
            ]
           ]
          },
          "colorway": [
           "#636efa",
           "#EF553B",
           "#00cc96",
           "#ab63fa",
           "#FFA15A",
           "#19d3f3",
           "#FF6692",
           "#B6E880",
           "#FF97FF",
           "#FECB52"
          ],
          "font": {
           "color": "#f2f5fa"
          },
          "geo": {
           "bgcolor": "rgb(17,17,17)",
           "lakecolor": "rgb(17,17,17)",
           "landcolor": "rgb(17,17,17)",
           "showlakes": true,
           "showland": true,
           "subunitcolor": "#506784"
          },
          "hoverlabel": {
           "align": "left"
          },
          "hovermode": "closest",
          "mapbox": {
           "style": "dark"
          },
          "paper_bgcolor": "rgb(17,17,17)",
          "plot_bgcolor": "rgb(17,17,17)",
          "polar": {
           "angularaxis": {
            "gridcolor": "#506784",
            "linecolor": "#506784",
            "ticks": ""
           },
           "bgcolor": "rgb(17,17,17)",
           "radialaxis": {
            "gridcolor": "#506784",
            "linecolor": "#506784",
            "ticks": ""
           }
          },
          "scene": {
           "xaxis": {
            "backgroundcolor": "rgb(17,17,17)",
            "gridcolor": "#506784",
            "gridwidth": 2,
            "linecolor": "#506784",
            "showbackground": true,
            "ticks": "",
            "zerolinecolor": "#C8D4E3"
           },
           "yaxis": {
            "backgroundcolor": "rgb(17,17,17)",
            "gridcolor": "#506784",
            "gridwidth": 2,
            "linecolor": "#506784",
            "showbackground": true,
            "ticks": "",
            "zerolinecolor": "#C8D4E3"
           },
           "zaxis": {
            "backgroundcolor": "rgb(17,17,17)",
            "gridcolor": "#506784",
            "gridwidth": 2,
            "linecolor": "#506784",
            "showbackground": true,
            "ticks": "",
            "zerolinecolor": "#C8D4E3"
           }
          },
          "shapedefaults": {
           "line": {
            "color": "#f2f5fa"
           }
          },
          "sliderdefaults": {
           "bgcolor": "#C8D4E3",
           "bordercolor": "rgb(17,17,17)",
           "borderwidth": 1,
           "tickwidth": 0
          },
          "ternary": {
           "aaxis": {
            "gridcolor": "#506784",
            "linecolor": "#506784",
            "ticks": ""
           },
           "baxis": {
            "gridcolor": "#506784",
            "linecolor": "#506784",
            "ticks": ""
           },
           "bgcolor": "rgb(17,17,17)",
           "caxis": {
            "gridcolor": "#506784",
            "linecolor": "#506784",
            "ticks": ""
           }
          },
          "title": {
           "x": 0.05
          },
          "updatemenudefaults": {
           "bgcolor": "#506784",
           "borderwidth": 0
          },
          "xaxis": {
           "automargin": true,
           "gridcolor": "#283442",
           "linecolor": "#506784",
           "ticks": "",
           "title": {
            "standoff": 15
           },
           "zerolinecolor": "#283442",
           "zerolinewidth": 2
          },
          "yaxis": {
           "automargin": true,
           "gridcolor": "#283442",
           "linecolor": "#506784",
           "ticks": "",
           "title": {
            "standoff": 15
           },
           "zerolinecolor": "#283442",
           "zerolinewidth": 2
          }
         }
        },
        "xaxis": {
         "anchor": "y",
         "domain": [
          0,
          1
         ],
         "title": {
          "text": "fractal_dimension_worst"
         }
        },
        "yaxis": {
         "anchor": "x",
         "domain": [
          0,
          1
         ],
         "title": {
          "text": "index"
         }
        }
       }
      }
     },
     "metadata": {},
     "output_type": "display_data"
    }
   ],
   "source": [
    "fig = px.scatter(\n",
    "    df,\n",
    "    x='fractal_dimension_worst',\n",
    "    color='diagnosis',\n",
    "    template = 'plotly_dark')\n",
    "fig.show()"
   ]
  },
  {
   "cell_type": "markdown",
   "id": "3647ebc6",
   "metadata": {},
   "source": [
    "<a id=\"4\"></a>\n",
    "<h1 style='background:#00EFFF;border:0; color:black;\n",
    "    box-shadow: 10px 10px 5px 0px rgba(0,0,0,0.75);\n",
    "    transform: rotateX(10deg);\n",
    "    '><center style='color: #000000;'>Data Preprocessing</center></h1>\n",
    "\n",
    "# Data Preprocessing"
   ]
  }
 ],
 "metadata": {
  "kernelspec": {
   "display_name": "Python (.venv mlfs)",
   "language": "python",
   "name": "mlfs_venv"
  },
  "language_info": {
   "codemirror_mode": {
    "name": "ipython",
    "version": 3
   },
   "file_extension": ".py",
   "mimetype": "text/x-python",
   "name": "python",
   "nbconvert_exporter": "python",
   "pygments_lexer": "ipython3",
   "version": "3.13.1"
  }
 },
 "nbformat": 4,
 "nbformat_minor": 5
}
